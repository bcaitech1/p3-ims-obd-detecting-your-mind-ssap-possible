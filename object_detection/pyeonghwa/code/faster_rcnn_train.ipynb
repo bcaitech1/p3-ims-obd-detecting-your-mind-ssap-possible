{
 "cells": [
  {
   "cell_type": "code",
   "execution_count": 1,
   "metadata": {
    "pycharm": {
     "name": "#%%\n"
    }
   },
   "outputs": [
    {
     "name": "stderr",
     "output_type": "stream",
     "text": [
      "/opt/conda/lib/python3.7/site-packages/mmcv/utils/registry.py:250: UserWarning: The old API of register_module(module, force=False) is deprecated and will be removed, please use the new API register_module(name=None, force=False, module=None) instead.\n",
      "  'The old API of register_module(module, force=False) '\n"
     ]
    }
   ],
   "source": [
    "from mmcv import Config\n",
    "from mmdet.datasets import build_dataset\n",
    "from mmdet.models import build_detector\n",
    "from mmdet.apis import train_detector\n",
    "from mmdet.datasets import (build_dataloader, build_dataset,\n",
    "                            replace_ImageToTensor)\n",
    "from ipywidgets import FloatProgress\n",
    "import wandb"
   ]
  },
  {
   "cell_type": "code",
   "execution_count": 2,
   "metadata": {
    "pycharm": {
     "name": "#%%\n"
    }
   },
   "outputs": [],
   "source": [
    "classes = (\"UNKNOWN\", \"General trash\", \"Paper\", \"Paper pack\", \"Metal\", \"Glass\", \n",
    "           \"Plastic\", \"Styrofoam\", \"Plastic bag\", \"Battery\", \"Clothing\")\n",
    "# config file 들고오기\n",
    "cfg = Config.fromfile('./configs/scnet/scnet_s101_fpn_carafe.py')\n",
    "\n",
    "PREFIX = '../../input/data/'\n",
    "\n",
    "# wandb.init()\n",
    "# wandb.run.name = 'faster_rcnn_x101_32x4d_fpn_1x_coco'\n",
    "# wandb.run.save()\n",
    "# dataset 바꾸기\n",
    "cfg.data.train.classes = classes\n",
    "cfg.data.train.img_prefix = PREFIX\n",
    "cfg.data.train.ann_file = PREFIX + 'train.json'\n",
    "cfg.data.train.pipeline[2]['img_scale'] = (512, 512)\n",
    "\n",
    "cfg.data.val.classes = classes\n",
    "cfg.data.val.img_prefix = PREFIX\n",
    "cfg.data.val.ann_file = PREFIX + 'val.json'\n",
    "cfg.data.val.pipeline[1]['img_scale'] = (512, 512)\n",
    "\n",
    "cfg.data.test.classes = classes\n",
    "cfg.data.test.img_prefix = PREFIX\n",
    "cfg.data.test.ann_file = PREFIX + 'test.json'\n",
    "cfg.data.test.pipeline[1]['img_scale'] = (512, 512)\n",
    "\n",
    "cfg.data.samples_per_gpu = 4\n",
    "\n",
    "cfg.seed=2020\n",
    "cfg.gpu_ids = [0]\n",
    "cfg.work_dir = './work_dirs/scnet_s101_pan_carafe'\n",
    "# cfg.model.roi_head.bbox_head.num_classes = 11\n",
    "# cfg.model.bbox_head.num_classes = 11\n",
    "# print(cfg.model.roi_head.bbox_head)\n",
    "# cfg.model.roi_head.mask_head.num_classes=11\n",
    "\n",
    "\n",
    "cfg.optimizer_config.grad_clip = dict(max_norm=35, norm_type=2)"
   ]
  },
  {
   "cell_type": "code",
   "execution_count": 3,
   "metadata": {
    "pycharm": {
     "name": "#%%\n"
    }
   },
   "outputs": [
    {
     "name": "stderr",
     "output_type": "stream",
     "text": [
      "2021-05-20 09:22:34,616 - mmdet - INFO - load model from: open-mmlab://resnest101\n",
      "2021-05-20 09:22:34,617 - mmdet - INFO - Use load_from_openmmlab loader\n"
     ]
    }
   ],
   "source": [
    "model = build_detector(cfg.model)"
   ]
  },
  {
   "cell_type": "code",
   "execution_count": 4,
   "metadata": {
    "pycharm": {
     "name": "#%%\n"
    }
   },
   "outputs": [
    {
     "name": "stdout",
     "output_type": "stream",
     "text": [
      "loading annotations into memory...\n",
      "Done (t=3.20s)\n",
      "creating index...\n",
      "index created!\n"
     ]
    }
   ],
   "source": [
    "datasets = [build_dataset(cfg.data.train)]"
   ]
  },
  {
   "cell_type": "code",
   "execution_count": 5,
   "metadata": {
    "pycharm": {
     "name": "#%%\n"
    }
   },
   "outputs": [
    {
     "name": "stdout",
     "output_type": "stream",
     "text": [
      "loading annotations into memory...\n"
     ]
    },
    {
     "name": "stderr",
     "output_type": "stream",
     "text": [
      "2021-05-20 09:22:44,493 - mmdet - INFO - Start running, host: root@3806084d759c, work_dir: /opt/ml/code/mmdetection_trash/work_dirs/scnet_s101_pan_carafe\n",
      "2021-05-20 09:22:44,494 - mmdet - INFO - workflow: [('train', 1)], max: 25 epochs\n"
     ]
    },
    {
     "name": "stdout",
     "output_type": "stream",
     "text": [
      "Done (t=1.13s)\n",
      "creating index...\n",
      "index created!\n"
     ]
    },
    {
     "name": "stderr",
     "output_type": "stream",
     "text": [
      "\u001b[34m\u001b[1mwandb\u001b[0m: Currently logged in as: \u001b[33mpingbby\u001b[0m (use `wandb login --relogin` to force relogin)\n"
     ]
    },
    {
     "data": {
      "text/html": [
       "\n",
       "                Tracking run with wandb version 0.10.30<br/>\n",
       "                Syncing run <strong style=\"color:#cdcd00\">scnet_s101_pan_carafe_1x_coco</strong> to <a href=\"https://wandb.ai\" target=\"_blank\">Weights & Biases</a> <a href=\"https://docs.wandb.com/integrations/jupyter.html\" target=\"_blank\">(Documentation)</a>.<br/>\n",
       "                Project page: <a href=\"https://wandb.ai/pingbby/mmdetection\" target=\"_blank\">https://wandb.ai/pingbby/mmdetection</a><br/>\n",
       "                Run page: <a href=\"https://wandb.ai/pingbby/mmdetection/runs/3madwr7r\" target=\"_blank\">https://wandb.ai/pingbby/mmdetection/runs/3madwr7r</a><br/>\n",
       "                Run data is saved locally in <code>/opt/ml/code/mmdetection_trash/wandb/run-20210520_092244-3madwr7r</code><br/><br/>\n",
       "            "
      ],
      "text/plain": [
       "<IPython.core.display.HTML object>"
      ]
     },
     "metadata": {},
     "output_type": "display_data"
    },
    {
     "name": "stderr",
     "output_type": "stream",
     "text": [
      "2021-05-20 09:23:33,353 - mmdet - INFO - Epoch [1][50/655]\tlr: 4.945e-06, eta: 4:00:44, time: 0.885, data_time: 0.065, memory: 5377, loss_rpn_cls: 0.7104, loss_rpn_bbox: 0.0865, loss_glbctx: 1.9636, s0.loss_cls: 0.9265, s0.acc: 86.8311, s0.loss_bbox: 0.0710, s1.loss_cls: 0.3977, s1.acc: 91.1260, s1.loss_bbox: 0.0199, s2.loss_cls: 0.3634, s2.acc: 62.5186, s2.loss_bbox: 0.0026, loss_mask: 6.2966, loss: 10.8382, grad_norm: 179.4175\n",
      "2021-05-20 09:24:18,553 - mmdet - INFO - Epoch [1][100/655]\tlr: 9.940e-06, eta: 4:02:36, time: 0.904, data_time: 0.021, memory: 5547, loss_rpn_cls: 0.6088, loss_rpn_bbox: 0.0749, loss_glbctx: 1.6478, s0.loss_cls: 0.3777, s0.acc: 92.9824, s0.loss_bbox: 0.1553, s1.loss_cls: 0.1074, s1.acc: 96.6465, s1.loss_bbox: 0.0449, s2.loss_cls: 0.0514, s2.acc: 98.0361, s2.loss_bbox: 0.0063, loss_mask: 4.0243, loss: 7.0989, grad_norm: 122.4378\n",
      "2021-05-20 09:25:04,810 - mmdet - INFO - Epoch [1][150/655]\tlr: 1.494e-05, eta: 4:04:37, time: 0.925, data_time: 0.020, memory: 5547, loss_rpn_cls: 0.4340, loss_rpn_bbox: 0.0697, loss_glbctx: 1.3568, s0.loss_cls: 0.3775, s0.acc: 91.3164, s0.loss_bbox: 0.1987, s1.loss_cls: 0.1064, s1.acc: 96.0771, s1.loss_bbox: 0.0590, s2.loss_cls: 0.0380, s2.acc: 97.8945, s2.loss_bbox: 0.0086, loss_mask: 3.1001, loss: 5.7490, grad_norm: 78.8886\n",
      "2021-05-20 09:25:50,850 - mmdet - INFO - Epoch [1][200/655]\tlr: 1.993e-05, eta: 4:04:57, time: 0.921, data_time: 0.020, memory: 5547, loss_rpn_cls: 0.3165, loss_rpn_bbox: 0.0716, loss_glbctx: 1.2894, s0.loss_cls: 0.3606, s0.acc: 90.9785, s0.loss_bbox: 0.2035, s1.loss_cls: 0.1057, s1.acc: 95.7637, s1.loss_bbox: 0.0611, s2.loss_cls: 0.0382, s2.acc: 97.7129, s2.loss_bbox: 0.0080, loss_mask: 2.4737, loss: 4.9282, grad_norm: 57.9185\n",
      "2021-05-20 09:26:37,103 - mmdet - INFO - Epoch [1][250/655]\tlr: 2.493e-05, eta: 4:05:05, time: 0.925, data_time: 0.022, memory: 5547, loss_rpn_cls: 0.3002, loss_rpn_bbox: 0.0786, loss_glbctx: 1.2465, s0.loss_cls: 0.3988, s0.acc: 89.8779, s0.loss_bbox: 0.2273, s1.loss_cls: 0.1139, s1.acc: 95.3359, s1.loss_bbox: 0.0697, s2.loss_cls: 0.0401, s2.acc: 97.5078, s2.loss_bbox: 0.0099, loss_mask: 2.2151, loss: 4.7000, grad_norm: 47.3200\n",
      "2021-05-20 09:27:22,674 - mmdet - INFO - Epoch [1][300/655]\tlr: 2.992e-05, eta: 4:04:18, time: 0.911, data_time: 0.021, memory: 5547, loss_rpn_cls: 0.2404, loss_rpn_bbox: 0.0655, loss_glbctx: 1.1754, s0.loss_cls: 0.3908, s0.acc: 89.8555, s0.loss_bbox: 0.2314, s1.loss_cls: 0.1078, s1.acc: 95.5566, s1.loss_bbox: 0.0678, s2.loss_cls: 0.0366, s2.acc: 97.7002, s2.loss_bbox: 0.0097, loss_mask: 1.9402, loss: 4.2655, grad_norm: 36.5648\n",
      "2021-05-20 09:28:09,144 - mmdet - INFO - Epoch [1][350/655]\tlr: 3.492e-05, eta: 4:04:12, time: 0.929, data_time: 0.021, memory: 5580, loss_rpn_cls: 0.2426, loss_rpn_bbox: 0.0750, loss_glbctx: 1.2349, s0.loss_cls: 0.4553, s0.acc: 88.2236, s0.loss_bbox: 0.2799, s1.loss_cls: 0.1287, s1.acc: 94.5576, s1.loss_bbox: 0.0862, s2.loss_cls: 0.0415, s2.acc: 97.2988, s2.loss_bbox: 0.0117, loss_mask: 1.7230, loss: 4.2788, grad_norm: 28.3423\n",
      "2021-05-20 09:28:55,670 - mmdet - INFO - Epoch [1][400/655]\tlr: 3.991e-05, eta: 4:03:59, time: 0.931, data_time: 0.021, memory: 5580, loss_rpn_cls: 0.2031, loss_rpn_bbox: 0.0702, loss_glbctx: 1.1525, s0.loss_cls: 0.4346, s0.acc: 88.4990, s0.loss_bbox: 0.2746, s1.loss_cls: 0.1288, s1.acc: 94.3936, s1.loss_bbox: 0.0895, s2.loss_cls: 0.0438, s2.acc: 97.1572, s2.loss_bbox: 0.0136, loss_mask: 1.5428, loss: 3.9537, grad_norm: 23.8315\n",
      "2021-05-20 09:29:41,826 - mmdet - INFO - Epoch [1][450/655]\tlr: 4.491e-05, eta: 4:03:25, time: 0.923, data_time: 0.021, memory: 5618, loss_rpn_cls: 0.1745, loss_rpn_bbox: 0.0649, loss_glbctx: 1.1234, s0.loss_cls: 0.4167, s0.acc: 89.1064, s0.loss_bbox: 0.2588, s1.loss_cls: 0.1215, s1.acc: 94.5029, s1.loss_bbox: 0.0913, s2.loss_cls: 0.0392, s2.acc: 97.3643, s2.loss_bbox: 0.0134, loss_mask: 1.4190, loss: 3.7228, grad_norm: 21.3395\n",
      "2021-05-20 09:30:28,116 - mmdet - INFO - Epoch [1][500/655]\tlr: 4.990e-05, eta: 4:02:53, time: 0.926, data_time: 0.021, memory: 5618, loss_rpn_cls: 0.1583, loss_rpn_bbox: 0.0656, loss_glbctx: 1.1096, s0.loss_cls: 0.4262, s0.acc: 88.5830, s0.loss_bbox: 0.2671, s1.loss_cls: 0.1334, s1.acc: 93.6006, s1.loss_bbox: 0.1075, s2.loss_cls: 0.0448, s2.acc: 96.9287, s2.loss_bbox: 0.0176, loss_mask: 1.2856, loss: 3.6158, grad_norm: 19.8560\n",
      "2021-05-20 09:31:14,353 - mmdet - INFO - Epoch [1][550/655]\tlr: 5.000e-05, eta: 4:02:17, time: 0.925, data_time: 0.019, memory: 5623, loss_rpn_cls: 0.1396, loss_rpn_bbox: 0.0629, loss_glbctx: 1.0821, s0.loss_cls: 0.3945, s0.acc: 89.5176, s0.loss_bbox: 0.2463, s1.loss_cls: 0.1291, s1.acc: 93.7148, s1.loss_bbox: 0.1090, s2.loss_cls: 0.0435, s2.acc: 96.7100, s2.loss_bbox: 0.0207, loss_mask: 1.2427, loss: 3.4704, grad_norm: 19.8262\n",
      "2021-05-20 09:32:01,715 - mmdet - INFO - Epoch [1][600/655]\tlr: 5.000e-05, eta: 4:02:08, time: 0.947, data_time: 0.019, memory: 5714, loss_rpn_cls: 0.1261, loss_rpn_bbox: 0.0545, loss_glbctx: 0.9823, s0.loss_cls: 0.3626, s0.acc: 89.8223, s0.loss_bbox: 0.2333, s1.loss_cls: 0.1283, s1.acc: 93.0791, s1.loss_bbox: 0.1176, s2.loss_cls: 0.0472, s2.acc: 96.0342, s2.loss_bbox: 0.0282, loss_mask: 1.1005, loss: 3.1808, grad_norm: 18.5687\n",
      "2021-05-20 09:32:50,055 - mmdet - INFO - Epoch [1][650/655]\tlr: 5.000e-05, eta: 4:02:18, time: 0.967, data_time: 0.024, memory: 5814, loss_rpn_cls: 0.1426, loss_rpn_bbox: 0.0656, loss_glbctx: 1.0851, s0.loss_cls: 0.4185, s0.acc: 88.1895, s0.loss_bbox: 0.2784, s1.loss_cls: 0.1496, s1.acc: 91.7676, s1.loss_bbox: 0.1407, s2.loss_cls: 0.0537, s2.acc: 95.1777, s2.loss_bbox: 0.0346, loss_mask: 1.0220, loss: 3.3909, grad_norm: 15.4056\n",
      "2021-05-20 09:32:54,964 - mmdet - INFO - Saving checkpoint at 1 epochs\n"
     ]
    },
    {
     "name": "stdout",
     "output_type": "stream",
     "text": [
      "[>>>>>>>>>>>>>>>>>>>>>>>>>>>>>] 655/655, 4.1 task/s, elapsed: 161s, ETA:     0s"
     ]
    },
    {
     "name": "stderr",
     "output_type": "stream",
     "text": [
      "2021-05-20 09:35:43,562 - mmdet - INFO - Evaluating bbox...\n"
     ]
    },
    {
     "name": "stdout",
     "output_type": "stream",
     "text": [
      "Loading and preparing results...\n",
      "DONE (t=0.71s)\n",
      "creating index...\n",
      "index created!\n",
      "Running per image evaluation...\n",
      "Evaluate annotation type *bbox*\n",
      "DONE (t=8.80s).\n",
      "Accumulating evaluation results...\n"
     ]
    },
    {
     "name": "stderr",
     "output_type": "stream",
     "text": [
      "2021-05-20 09:35:54,748 - mmdet - INFO - Evaluating segm...\n"
     ]
    },
    {
     "name": "stdout",
     "output_type": "stream",
     "text": [
      "DONE (t=1.63s).\n",
      "Average Precision  (AP) @[ IoU=0.50:0.95 | area=   all | maxDets=100 ] = 0.034\n",
      "Average Precision  (AP) @[ IoU=0.50      | area=   all | maxDets=1000 ] = 0.088\n",
      "Average Precision  (AP) @[ IoU=0.75      | area=   all | maxDets=1000 ] = 0.017\n",
      "Average Precision  (AP) @[ IoU=0.50:0.95 | area= small | maxDets=1000 ] = 0.002\n",
      "Average Precision  (AP) @[ IoU=0.50:0.95 | area=medium | maxDets=1000 ] = 0.033\n",
      "Average Precision  (AP) @[ IoU=0.50:0.95 | area= large | maxDets=1000 ] = 0.079\n",
      "Average Recall     (AR) @[ IoU=0.50:0.95 | area=   all | maxDets=100 ] = 0.120\n",
      "Average Recall     (AR) @[ IoU=0.50:0.95 | area=   all | maxDets=300 ] = 0.120\n",
      "Average Recall     (AR) @[ IoU=0.50:0.95 | area=   all | maxDets=1000 ] = 0.120\n",
      "Average Recall     (AR) @[ IoU=0.50:0.95 | area= small | maxDets=1000 ] = 0.017\n",
      "Average Recall     (AR) @[ IoU=0.50:0.95 | area=medium | maxDets=1000 ] = 0.067\n",
      "Average Recall     (AR) @[ IoU=0.50:0.95 | area= large | maxDets=1000 ] = 0.292\n",
      "Loading and preparing results...\n",
      "DONE (t=1.45s)\n",
      "creating index...\n",
      "index created!\n",
      "Running per image evaluation...\n",
      "Evaluate annotation type *segm*\n",
      "DONE (t=10.92s).\n",
      "Accumulating evaluation results...\n"
     ]
    },
    {
     "name": "stderr",
     "output_type": "stream",
     "text": [
      "2021-05-20 09:36:08,998 - mmdet - INFO - Epoch(val) [1][655]\tbbox_mAP: 0.0340, bbox_mAP_50: 0.0880, bbox_mAP_75: 0.0170, bbox_mAP_s: 0.0020, bbox_mAP_m: 0.0330, bbox_mAP_l: 0.0790, bbox_mAP_copypaste: 0.034 0.088 0.017 0.002 0.033 0.079, segm_mAP: 0.0310, segm_mAP_50: 0.0670, segm_mAP_75: 0.0250, segm_mAP_s: 0.0010, segm_mAP_m: 0.0160, segm_mAP_l: 0.0820, segm_mAP_copypaste: 0.031 0.067 0.025 0.001 0.016 0.082\n"
     ]
    },
    {
     "name": "stdout",
     "output_type": "stream",
     "text": [
      "DONE (t=1.57s).\n",
      "Average Precision  (AP) @[ IoU=0.50:0.95 | area=   all | maxDets=100 ] = 0.031\n",
      "Average Precision  (AP) @[ IoU=0.50      | area=   all | maxDets=1000 ] = 0.067\n",
      "Average Precision  (AP) @[ IoU=0.75      | area=   all | maxDets=1000 ] = 0.025\n",
      "Average Precision  (AP) @[ IoU=0.50:0.95 | area= small | maxDets=1000 ] = 0.001\n",
      "Average Precision  (AP) @[ IoU=0.50:0.95 | area=medium | maxDets=1000 ] = 0.016\n",
      "Average Precision  (AP) @[ IoU=0.50:0.95 | area= large | maxDets=1000 ] = 0.082\n",
      "Average Recall     (AR) @[ IoU=0.50:0.95 | area=   all | maxDets=100 ] = 0.098\n",
      "Average Recall     (AR) @[ IoU=0.50:0.95 | area=   all | maxDets=300 ] = 0.098\n",
      "Average Recall     (AR) @[ IoU=0.50:0.95 | area=   all | maxDets=1000 ] = 0.098\n",
      "Average Recall     (AR) @[ IoU=0.50:0.95 | area= small | maxDets=1000 ] = 0.007\n",
      "Average Recall     (AR) @[ IoU=0.50:0.95 | area=medium | maxDets=1000 ] = 0.037\n",
      "Average Recall     (AR) @[ IoU=0.50:0.95 | area= large | maxDets=1000 ] = 0.270\n"
     ]
    },
    {
     "name": "stderr",
     "output_type": "stream",
     "text": [
      "2021-05-20 09:37:00,797 - mmdet - INFO - Epoch [2][50/655]\tlr: 5.000e-05, eta: 4:01:47, time: 1.035, data_time: 0.067, memory: 6001, loss_rpn_cls: 0.1378, loss_rpn_bbox: 0.0593, loss_glbctx: 0.9781, s0.loss_cls: 0.3989, s0.acc: 88.7617, s0.loss_bbox: 0.2547, s1.loss_cls: 0.1521, s1.acc: 91.5625, s1.loss_bbox: 0.1463, s2.loss_cls: 0.0600, s2.acc: 93.8467, s2.loss_bbox: 0.0492, loss_mask: 0.8447, loss: 3.0811, grad_norm: 14.3059\n",
      "2021-05-20 09:37:50,784 - mmdet - INFO - Epoch [2][100/655]\tlr: 5.000e-05, eta: 4:02:17, time: 1.000, data_time: 0.021, memory: 6299, loss_rpn_cls: 0.1128, loss_rpn_bbox: 0.0508, loss_glbctx: 1.0008, s0.loss_cls: 0.3957, s0.acc: 88.8145, s0.loss_bbox: 0.2469, s1.loss_cls: 0.1539, s1.acc: 91.5088, s1.loss_bbox: 0.1469, s2.loss_cls: 0.0593, s2.acc: 93.7383, s2.loss_bbox: 0.0550, loss_mask: 0.8324, loss: 3.0546, grad_norm: 15.1730\n",
      "2021-05-20 09:38:41,216 - mmdet - INFO - Epoch [2][150/655]\tlr: 5.000e-05, eta: 4:02:46, time: 1.009, data_time: 0.021, memory: 6308, loss_rpn_cls: 0.1263, loss_rpn_bbox: 0.0579, loss_glbctx: 1.0034, s0.loss_cls: 0.3904, s0.acc: 89.0127, s0.loss_bbox: 0.2418, s1.loss_cls: 0.1527, s1.acc: 91.4580, s1.loss_bbox: 0.1510, s2.loss_cls: 0.0633, s2.acc: 93.4521, s2.loss_bbox: 0.0577, loss_mask: 0.8416, loss: 3.0863, grad_norm: 14.9742\n",
      "2021-05-20 09:39:33,056 - mmdet - INFO - Epoch [2][200/655]\tlr: 5.000e-05, eta: 4:03:31, time: 1.037, data_time: 0.024, memory: 6384, loss_rpn_cls: 0.1244, loss_rpn_bbox: 0.0605, loss_glbctx: 1.0057, s0.loss_cls: 0.4099, s0.acc: 88.0469, s0.loss_bbox: 0.2666, s1.loss_cls: 0.1632, s1.acc: 90.7275, s1.loss_bbox: 0.1613, s2.loss_cls: 0.0674, s2.acc: 93.0469, s2.loss_bbox: 0.0628, loss_mask: 0.8584, loss: 3.1803, grad_norm: 14.7813\n",
      "2021-05-20 09:40:24,958 - mmdet - INFO - Epoch [2][250/655]\tlr: 5.000e-05, eta: 4:04:07, time: 1.038, data_time: 0.021, memory: 6403, loss_rpn_cls: 0.1145, loss_rpn_bbox: 0.0501, loss_glbctx: 1.0491, s0.loss_cls: 0.4026, s0.acc: 88.5098, s0.loss_bbox: 0.2452, s1.loss_cls: 0.1614, s1.acc: 90.9355, s1.loss_bbox: 0.1561, s2.loss_cls: 0.0658, s2.acc: 93.1016, s2.loss_bbox: 0.0645, loss_mask: 0.7896, loss: 3.0988, grad_norm: 14.3518\n",
      "2021-05-20 09:41:18,634 - mmdet - INFO - Epoch [2][300/655]\tlr: 5.000e-05, eta: 4:05:02, time: 1.074, data_time: 0.025, memory: 6848, loss_rpn_cls: 0.1106, loss_rpn_bbox: 0.0561, loss_glbctx: 1.0229, s0.loss_cls: 0.4119, s0.acc: 87.9189, s0.loss_bbox: 0.2667, s1.loss_cls: 0.1729, s1.acc: 90.1082, s1.loss_bbox: 0.1811, s2.loss_cls: 0.0732, s2.acc: 91.9432, s2.loss_bbox: 0.0766, loss_mask: 0.7348, loss: 3.1067, grad_norm: 12.9871\n",
      "2021-05-20 09:42:11,873 - mmdet - INFO - Epoch [2][350/655]\tlr: 5.000e-05, eta: 4:05:39, time: 1.065, data_time: 0.023, memory: 6848, loss_rpn_cls: 0.1039, loss_rpn_bbox: 0.0534, loss_glbctx: 0.9922, s0.loss_cls: 0.4167, s0.acc: 88.0537, s0.loss_bbox: 0.2595, s1.loss_cls: 0.1728, s1.acc: 90.2953, s1.loss_bbox: 0.1784, s2.loss_cls: 0.0710, s2.acc: 92.1803, s2.loss_bbox: 0.0770, loss_mask: 0.7700, loss: 3.0950, grad_norm: 14.8093\n",
      "2021-05-20 09:43:04,534 - mmdet - INFO - Epoch [2][400/655]\tlr: 5.000e-05, eta: 4:06:00, time: 1.053, data_time: 0.021, memory: 6848, loss_rpn_cls: 0.1041, loss_rpn_bbox: 0.0538, loss_glbctx: 0.9326, s0.loss_cls: 0.3748, s0.acc: 89.1436, s0.loss_bbox: 0.2233, s1.loss_cls: 0.1575, s1.acc: 90.9185, s1.loss_bbox: 0.1570, s2.loss_cls: 0.0670, s2.acc: 92.5932, s2.loss_bbox: 0.0737, loss_mask: 0.6606, loss: 2.8044, grad_norm: 13.7555\n",
      "2021-05-20 09:43:57,975 - mmdet - INFO - Epoch [2][450/655]\tlr: 5.000e-05, eta: 4:06:24, time: 1.069, data_time: 0.021, memory: 6848, loss_rpn_cls: 0.0996, loss_rpn_bbox: 0.0500, loss_glbctx: 0.9547, s0.loss_cls: 0.3774, s0.acc: 89.0371, s0.loss_bbox: 0.2256, s1.loss_cls: 0.1643, s1.acc: 90.5422, s1.loss_bbox: 0.1600, s2.loss_cls: 0.0702, s2.acc: 91.8509, s2.loss_bbox: 0.0737, loss_mask: 0.6823, loss: 2.8578, grad_norm: 13.9265\n",
      "2021-05-20 09:44:52,063 - mmdet - INFO - Epoch [2][500/655]\tlr: 5.000e-05, eta: 4:06:51, time: 1.082, data_time: 0.023, memory: 6887, loss_rpn_cls: 0.1022, loss_rpn_bbox: 0.0578, loss_glbctx: 0.9173, s0.loss_cls: 0.3871, s0.acc: 88.5557, s0.loss_bbox: 0.2387, s1.loss_cls: 0.1674, s1.acc: 90.2041, s1.loss_bbox: 0.1750, s2.loss_cls: 0.0731, s2.acc: 91.8358, s2.loss_bbox: 0.0787, loss_mask: 0.6886, loss: 2.8859, grad_norm: 13.5624\n",
      "2021-05-20 09:45:45,992 - mmdet - INFO - Epoch [2][550/655]\tlr: 5.000e-05, eta: 4:07:08, time: 1.079, data_time: 0.021, memory: 6887, loss_rpn_cls: 0.0991, loss_rpn_bbox: 0.0573, loss_glbctx: 1.0094, s0.loss_cls: 0.3759, s0.acc: 88.8955, s0.loss_bbox: 0.2250, s1.loss_cls: 0.1623, s1.acc: 90.5432, s1.loss_bbox: 0.1660, s2.loss_cls: 0.0723, s2.acc: 91.8941, s2.loss_bbox: 0.0776, loss_mask: 0.6817, loss: 2.9267, grad_norm: 13.6252\n",
      "2021-05-20 09:46:39,958 - mmdet - INFO - Epoch [2][600/655]\tlr: 5.000e-05, eta: 4:07:21, time: 1.079, data_time: 0.020, memory: 6887, loss_rpn_cls: 0.0871, loss_rpn_bbox: 0.0451, loss_glbctx: 0.9453, s0.loss_cls: 0.3474, s0.acc: 89.6602, s0.loss_bbox: 0.2052, s1.loss_cls: 0.1513, s1.acc: 90.8575, s1.loss_bbox: 0.1542, s2.loss_cls: 0.0695, s2.acc: 91.8236, s2.loss_bbox: 0.0755, loss_mask: 0.6786, loss: 2.7592, grad_norm: 14.0723\n",
      "2021-05-20 09:47:35,193 - mmdet - INFO - Epoch [2][650/655]\tlr: 5.000e-05, eta: 4:07:43, time: 1.105, data_time: 0.022, memory: 6892, loss_rpn_cls: 0.0859, loss_rpn_bbox: 0.0457, loss_glbctx: 0.8986, s0.loss_cls: 0.3685, s0.acc: 88.9551, s0.loss_bbox: 0.2217, s1.loss_cls: 0.1612, s1.acc: 90.2015, s1.loss_bbox: 0.1659, s2.loss_cls: 0.0701, s2.acc: 91.6636, s2.loss_bbox: 0.0778, loss_mask: 0.6533, loss: 2.7488, grad_norm: 14.3452\n",
      "2021-05-20 09:47:40,538 - mmdet - INFO - Saving checkpoint at 2 epochs\n"
     ]
    },
    {
     "name": "stdout",
     "output_type": "stream",
     "text": [
      "[>>>>>>>>>>>>>>>>>>>>>>>>>>>>>] 655/655, 4.1 task/s, elapsed: 160s, ETA:     0s"
     ]
    },
    {
     "name": "stderr",
     "output_type": "stream",
     "text": [
      "2021-05-20 09:50:27,904 - mmdet - INFO - Evaluating bbox...\n"
     ]
    },
    {
     "name": "stdout",
     "output_type": "stream",
     "text": [
      "Loading and preparing results...\n",
      "DONE (t=0.67s)\n",
      "creating index...\n",
      "index created!\n",
      "Running per image evaluation...\n",
      "Evaluate annotation type *bbox*\n",
      "DONE (t=7.81s).\n",
      "Accumulating evaluation results...\n"
     ]
    },
    {
     "name": "stderr",
     "output_type": "stream",
     "text": [
      "2021-05-20 09:50:37,945 - mmdet - INFO - Evaluating segm...\n"
     ]
    },
    {
     "name": "stdout",
     "output_type": "stream",
     "text": [
      "DONE (t=1.51s).\n",
      "Average Precision  (AP) @[ IoU=0.50:0.95 | area=   all | maxDets=100 ] = 0.101\n",
      "Average Precision  (AP) @[ IoU=0.50      | area=   all | maxDets=1000 ] = 0.202\n",
      "Average Precision  (AP) @[ IoU=0.75      | area=   all | maxDets=1000 ] = 0.091\n",
      "Average Precision  (AP) @[ IoU=0.50:0.95 | area= small | maxDets=1000 ] = 0.018\n",
      "Average Precision  (AP) @[ IoU=0.50:0.95 | area=medium | maxDets=1000 ] = 0.085\n",
      "Average Precision  (AP) @[ IoU=0.50:0.95 | area= large | maxDets=1000 ] = 0.234\n",
      "Average Recall     (AR) @[ IoU=0.50:0.95 | area=   all | maxDets=100 ] = 0.246\n",
      "Average Recall     (AR) @[ IoU=0.50:0.95 | area=   all | maxDets=300 ] = 0.246\n",
      "Average Recall     (AR) @[ IoU=0.50:0.95 | area=   all | maxDets=1000 ] = 0.246\n",
      "Average Recall     (AR) @[ IoU=0.50:0.95 | area= small | maxDets=1000 ] = 0.068\n",
      "Average Recall     (AR) @[ IoU=0.50:0.95 | area=medium | maxDets=1000 ] = 0.200\n",
      "Average Recall     (AR) @[ IoU=0.50:0.95 | area= large | maxDets=1000 ] = 0.503\n",
      "Loading and preparing results...\n",
      "DONE (t=1.14s)\n",
      "creating index...\n",
      "index created!\n",
      "Running per image evaluation...\n",
      "Evaluate annotation type *segm*\n",
      "DONE (t=9.40s).\n",
      "Accumulating evaluation results...\n"
     ]
    },
    {
     "name": "stderr",
     "output_type": "stream",
     "text": [
      "2021-05-20 09:50:50,222 - mmdet - INFO - Epoch(val) [2][655]\tbbox_mAP: 0.1010, bbox_mAP_50: 0.2020, bbox_mAP_75: 0.0910, bbox_mAP_s: 0.0180, bbox_mAP_m: 0.0850, bbox_mAP_l: 0.2340, bbox_mAP_copypaste: 0.101 0.202 0.091 0.018 0.085 0.234, segm_mAP: 0.0920, segm_mAP_50: 0.1670, segm_mAP_75: 0.0940, segm_mAP_s: 0.0110, segm_mAP_m: 0.0680, segm_mAP_l: 0.2240, segm_mAP_copypaste: 0.092 0.167 0.094 0.011 0.068 0.224\n"
     ]
    },
    {
     "name": "stdout",
     "output_type": "stream",
     "text": [
      "DONE (t=1.45s).\n",
      "Average Precision  (AP) @[ IoU=0.50:0.95 | area=   all | maxDets=100 ] = 0.092\n",
      "Average Precision  (AP) @[ IoU=0.50      | area=   all | maxDets=1000 ] = 0.167\n",
      "Average Precision  (AP) @[ IoU=0.75      | area=   all | maxDets=1000 ] = 0.094\n",
      "Average Precision  (AP) @[ IoU=0.50:0.95 | area= small | maxDets=1000 ] = 0.011\n",
      "Average Precision  (AP) @[ IoU=0.50:0.95 | area=medium | maxDets=1000 ] = 0.068\n",
      "Average Precision  (AP) @[ IoU=0.50:0.95 | area= large | maxDets=1000 ] = 0.224\n",
      "Average Recall     (AR) @[ IoU=0.50:0.95 | area=   all | maxDets=100 ] = 0.210\n",
      "Average Recall     (AR) @[ IoU=0.50:0.95 | area=   all | maxDets=300 ] = 0.210\n",
      "Average Recall     (AR) @[ IoU=0.50:0.95 | area=   all | maxDets=1000 ] = 0.210\n",
      "Average Recall     (AR) @[ IoU=0.50:0.95 | area= small | maxDets=1000 ] = 0.038\n",
      "Average Recall     (AR) @[ IoU=0.50:0.95 | area=medium | maxDets=1000 ] = 0.154\n",
      "Average Recall     (AR) @[ IoU=0.50:0.95 | area= large | maxDets=1000 ] = 0.471\n"
     ]
    },
    {
     "name": "stderr",
     "output_type": "stream",
     "text": [
      "2021-05-20 09:51:47,915 - mmdet - INFO - Epoch [3][50/655]\tlr: 5.000e-05, eta: 4:07:26, time: 1.153, data_time: 0.071, memory: 6892, loss_rpn_cls: 0.0840, loss_rpn_bbox: 0.0521, loss_glbctx: 0.8796, s0.loss_cls: 0.3547, s0.acc: 89.2930, s0.loss_bbox: 0.2143, s1.loss_cls: 0.1546, s1.acc: 90.6489, s1.loss_bbox: 0.1659, s2.loss_cls: 0.0694, s2.acc: 91.6004, s2.loss_bbox: 0.0819, loss_mask: 0.5955, loss: 2.6521, grad_norm: 12.8516\n",
      "2021-05-20 09:52:42,670 - mmdet - INFO - Epoch [3][100/655]\tlr: 5.000e-05, eta: 4:07:33, time: 1.095, data_time: 0.021, memory: 6931, loss_rpn_cls: 0.0859, loss_rpn_bbox: 0.0462, loss_glbctx: 0.9284, s0.loss_cls: 0.3478, s0.acc: 89.6074, s0.loss_bbox: 0.2029, s1.loss_cls: 0.1505, s1.acc: 91.0221, s1.loss_bbox: 0.1563, s2.loss_cls: 0.0685, s2.acc: 92.0298, s2.loss_bbox: 0.0764, loss_mask: 0.5779, loss: 2.6408, grad_norm: 13.0639\n",
      "2021-05-20 09:53:37,918 - mmdet - INFO - Epoch [3][150/655]\tlr: 5.000e-05, eta: 4:07:41, time: 1.105, data_time: 0.021, memory: 7222, loss_rpn_cls: 0.0843, loss_rpn_bbox: 0.0451, loss_glbctx: 0.8374, s0.loss_cls: 0.3362, s0.acc: 89.6396, s0.loss_bbox: 0.2060, s1.loss_cls: 0.1500, s1.acc: 90.9171, s1.loss_bbox: 0.1598, s2.loss_cls: 0.0678, s2.acc: 92.0466, s2.loss_bbox: 0.0800, loss_mask: 0.5679, loss: 2.5343, grad_norm: 14.4146\n",
      "2021-05-20 09:54:33,894 - mmdet - INFO - Epoch [3][200/655]\tlr: 5.000e-05, eta: 4:07:52, time: 1.120, data_time: 0.022, memory: 7244, loss_rpn_cls: 0.0807, loss_rpn_bbox: 0.0489, loss_glbctx: 0.8162, s0.loss_cls: 0.3564, s0.acc: 89.0137, s0.loss_bbox: 0.2176, s1.loss_cls: 0.1574, s1.acc: 90.3857, s1.loss_bbox: 0.1731, s2.loss_cls: 0.0721, s2.acc: 91.2525, s2.loss_bbox: 0.0856, loss_mask: 0.5553, loss: 2.5634, grad_norm: 13.9156\n",
      "2021-05-20 09:55:28,681 - mmdet - INFO - Epoch [3][250/655]\tlr: 5.000e-05, eta: 4:07:47, time: 1.096, data_time: 0.020, memory: 7244, loss_rpn_cls: 0.0724, loss_rpn_bbox: 0.0424, loss_glbctx: 0.7868, s0.loss_cls: 0.3145, s0.acc: 90.4414, s0.loss_bbox: 0.1785, s1.loss_cls: 0.1385, s1.acc: 91.5261, s1.loss_bbox: 0.1462, s2.loss_cls: 0.0624, s2.acc: 92.4292, s2.loss_bbox: 0.0765, loss_mask: 0.4979, loss: 2.3159, grad_norm: 13.1396\n",
      "2021-05-20 09:56:23,917 - mmdet - INFO - Epoch [3][300/655]\tlr: 5.000e-05, eta: 4:07:43, time: 1.105, data_time: 0.021, memory: 7244, loss_rpn_cls: 0.0706, loss_rpn_bbox: 0.0465, loss_glbctx: 0.8178, s0.loss_cls: 0.3356, s0.acc: 89.9385, s0.loss_bbox: 0.1989, s1.loss_cls: 0.1468, s1.acc: 91.2507, s1.loss_bbox: 0.1620, s2.loss_cls: 0.0650, s2.acc: 92.3178, s2.loss_bbox: 0.0806, loss_mask: 0.5406, loss: 2.4644, grad_norm: 14.1715\n",
      "2021-05-20 09:57:18,922 - mmdet - INFO - Epoch [3][350/655]\tlr: 5.000e-05, eta: 4:07:34, time: 1.100, data_time: 0.021, memory: 7244, loss_rpn_cls: 0.0829, loss_rpn_bbox: 0.0485, loss_glbctx: 0.8262, s0.loss_cls: 0.3533, s0.acc: 89.0518, s0.loss_bbox: 0.2092, s1.loss_cls: 0.1568, s1.acc: 90.2011, s1.loss_bbox: 0.1676, s2.loss_cls: 0.0695, s2.acc: 91.6462, s2.loss_bbox: 0.0811, loss_mask: 0.5486, loss: 2.5437, grad_norm: 14.0512\n",
      "2021-05-20 09:58:14,363 - mmdet - INFO - Epoch [3][400/655]\tlr: 5.000e-05, eta: 4:07:26, time: 1.109, data_time: 0.023, memory: 7244, loss_rpn_cls: 0.0786, loss_rpn_bbox: 0.0503, loss_glbctx: 0.8173, s0.loss_cls: 0.3542, s0.acc: 89.0156, s0.loss_bbox: 0.2124, s1.loss_cls: 0.1584, s1.acc: 90.1204, s1.loss_bbox: 0.1715, s2.loss_cls: 0.0704, s2.acc: 91.6748, s2.loss_bbox: 0.0793, loss_mask: 0.5638, loss: 2.5562, grad_norm: 13.5913\n",
      "2021-05-20 09:59:09,464 - mmdet - INFO - Epoch [3][450/655]\tlr: 5.000e-05, eta: 4:07:13, time: 1.102, data_time: 0.020, memory: 7244, loss_rpn_cls: 0.0801, loss_rpn_bbox: 0.0454, loss_glbctx: 0.8304, s0.loss_cls: 0.3285, s0.acc: 89.6465, s0.loss_bbox: 0.1983, s1.loss_cls: 0.1501, s1.acc: 90.6533, s1.loss_bbox: 0.1634, s2.loss_cls: 0.0663, s2.acc: 91.9035, s2.loss_bbox: 0.0797, loss_mask: 0.4839, loss: 2.4260, grad_norm: 13.2024\n",
      "\u001b[34m\u001b[1mwandb\u001b[0m: Network error resolved after 0:00:45.906822, resuming normal operation.\n",
      "2021-05-20 10:00:04,221 - mmdet - INFO - Epoch [3][500/655]\tlr: 5.000e-05, eta: 4:06:55, time: 1.095, data_time: 0.020, memory: 7244, loss_rpn_cls: 0.0759, loss_rpn_bbox: 0.0435, loss_glbctx: 0.8248, s0.loss_cls: 0.3251, s0.acc: 90.2344, s0.loss_bbox: 0.1859, s1.loss_cls: 0.1430, s1.acc: 91.4327, s1.loss_bbox: 0.1522, s2.loss_cls: 0.0627, s2.acc: 92.3928, s2.loss_bbox: 0.0746, loss_mask: 0.5407, loss: 2.4283, grad_norm: 13.0596\n",
      "2021-05-20 10:01:00,172 - mmdet - INFO - Epoch [3][550/655]\tlr: 5.000e-05, eta: 4:06:43, time: 1.119, data_time: 0.022, memory: 7244, loss_rpn_cls: 0.0786, loss_rpn_bbox: 0.0432, loss_glbctx: 0.8155, s0.loss_cls: 0.3567, s0.acc: 89.0635, s0.loss_bbox: 0.2025, s1.loss_cls: 0.1590, s1.acc: 90.2382, s1.loss_bbox: 0.1667, s2.loss_cls: 0.0728, s2.acc: 91.2212, s2.loss_bbox: 0.0796, loss_mask: 0.5022, loss: 2.4770, grad_norm: 14.0243\n",
      "2021-05-20 10:01:56,622 - mmdet - INFO - Epoch [3][600/655]\tlr: 5.000e-05, eta: 4:06:34, time: 1.129, data_time: 0.023, memory: 7244, loss_rpn_cls: 0.0887, loss_rpn_bbox: 0.0535, loss_glbctx: 0.8350, s0.loss_cls: 0.3579, s0.acc: 89.0049, s0.loss_bbox: 0.2086, s1.loss_cls: 0.1622, s1.acc: 89.9342, s1.loss_bbox: 0.1700, s2.loss_cls: 0.0728, s2.acc: 91.2221, s2.loss_bbox: 0.0813, loss_mask: 0.5831, loss: 2.6132, grad_norm: 13.8598\n",
      "2021-05-20 10:02:51,575 - mmdet - INFO - Epoch [3][650/655]\tlr: 5.000e-05, eta: 4:06:11, time: 1.099, data_time: 0.020, memory: 7244, loss_rpn_cls: 0.0636, loss_rpn_bbox: 0.0365, loss_glbctx: 0.8478, s0.loss_cls: 0.3209, s0.acc: 90.1572, s0.loss_bbox: 0.1827, s1.loss_cls: 0.1436, s1.acc: 91.1893, s1.loss_bbox: 0.1532, s2.loss_cls: 0.0646, s2.acc: 92.1515, s2.loss_bbox: 0.0767, loss_mask: 0.5030, loss: 2.3926, grad_norm: 12.7991\n",
      "2021-05-20 10:02:57,179 - mmdet - INFO - Saving checkpoint at 3 epochs\n"
     ]
    },
    {
     "name": "stdout",
     "output_type": "stream",
     "text": [
      "[>>>>>>>>>>>>>>>>>>>>>>>>>>>>>] 655/655, 4.1 task/s, elapsed: 159s, ETA:     0s"
     ]
    },
    {
     "name": "stderr",
     "output_type": "stream",
     "text": [
      "2021-05-20 10:05:43,274 - mmdet - INFO - Evaluating bbox...\n"
     ]
    },
    {
     "name": "stdout",
     "output_type": "stream",
     "text": [
      "Loading and preparing results...\n",
      "DONE (t=0.68s)\n",
      "creating index...\n",
      "index created!\n",
      "Running per image evaluation...\n",
      "Evaluate annotation type *bbox*\n",
      "DONE (t=7.66s).\n",
      "Accumulating evaluation results...\n"
     ]
    },
    {
     "name": "stderr",
     "output_type": "stream",
     "text": [
      "2021-05-20 10:05:53,306 - mmdet - INFO - Evaluating segm...\n"
     ]
    },
    {
     "name": "stdout",
     "output_type": "stream",
     "text": [
      "DONE (t=1.63s).\n",
      "Average Precision  (AP) @[ IoU=0.50:0.95 | area=   all | maxDets=100 ] = 0.143\n",
      "Average Precision  (AP) @[ IoU=0.50      | area=   all | maxDets=1000 ] = 0.273\n",
      "Average Precision  (AP) @[ IoU=0.75      | area=   all | maxDets=1000 ] = 0.139\n",
      "Average Precision  (AP) @[ IoU=0.50:0.95 | area= small | maxDets=1000 ] = 0.024\n",
      "Average Precision  (AP) @[ IoU=0.50:0.95 | area=medium | maxDets=1000 ] = 0.126\n",
      "Average Precision  (AP) @[ IoU=0.50:0.95 | area= large | maxDets=1000 ] = 0.292\n",
      "Average Recall     (AR) @[ IoU=0.50:0.95 | area=   all | maxDets=100 ] = 0.299\n",
      "Average Recall     (AR) @[ IoU=0.50:0.95 | area=   all | maxDets=300 ] = 0.299\n",
      "Average Recall     (AR) @[ IoU=0.50:0.95 | area=   all | maxDets=1000 ] = 0.299\n",
      "Average Recall     (AR) @[ IoU=0.50:0.95 | area= small | maxDets=1000 ] = 0.077\n",
      "Average Recall     (AR) @[ IoU=0.50:0.95 | area=medium | maxDets=1000 ] = 0.270\n",
      "Average Recall     (AR) @[ IoU=0.50:0.95 | area= large | maxDets=1000 ] = 0.542\n",
      "Loading and preparing results...\n",
      "DONE (t=1.68s)\n",
      "creating index...\n",
      "index created!\n",
      "Running per image evaluation...\n",
      "Evaluate annotation type *segm*\n",
      "DONE (t=8.76s).\n",
      "Accumulating evaluation results...\n"
     ]
    },
    {
     "name": "stderr",
     "output_type": "stream",
     "text": [
      "2021-05-20 10:06:05,618 - mmdet - INFO - Epoch(val) [3][655]\tbbox_mAP: 0.1430, bbox_mAP_50: 0.2730, bbox_mAP_75: 0.1390, bbox_mAP_s: 0.0240, bbox_mAP_m: 0.1260, bbox_mAP_l: 0.2920, bbox_mAP_copypaste: 0.143 0.273 0.139 0.024 0.126 0.292, segm_mAP: 0.1340, segm_mAP_50: 0.2260, segm_mAP_75: 0.1370, segm_mAP_s: 0.0160, segm_mAP_m: 0.1100, segm_mAP_l: 0.2850, segm_mAP_copypaste: 0.134 0.226 0.137 0.016 0.110 0.285\n"
     ]
    },
    {
     "name": "stdout",
     "output_type": "stream",
     "text": [
      "DONE (t=1.59s).\n",
      "Average Precision  (AP) @[ IoU=0.50:0.95 | area=   all | maxDets=100 ] = 0.134\n",
      "Average Precision  (AP) @[ IoU=0.50      | area=   all | maxDets=1000 ] = 0.226\n",
      "Average Precision  (AP) @[ IoU=0.75      | area=   all | maxDets=1000 ] = 0.137\n",
      "Average Precision  (AP) @[ IoU=0.50:0.95 | area= small | maxDets=1000 ] = 0.016\n",
      "Average Precision  (AP) @[ IoU=0.50:0.95 | area=medium | maxDets=1000 ] = 0.110\n",
      "Average Precision  (AP) @[ IoU=0.50:0.95 | area= large | maxDets=1000 ] = 0.285\n",
      "Average Recall     (AR) @[ IoU=0.50:0.95 | area=   all | maxDets=100 ] = 0.280\n",
      "Average Recall     (AR) @[ IoU=0.50:0.95 | area=   all | maxDets=300 ] = 0.280\n",
      "Average Recall     (AR) @[ IoU=0.50:0.95 | area=   all | maxDets=1000 ] = 0.280\n",
      "Average Recall     (AR) @[ IoU=0.50:0.95 | area= small | maxDets=1000 ] = 0.052\n",
      "Average Recall     (AR) @[ IoU=0.50:0.95 | area=medium | maxDets=1000 ] = 0.242\n",
      "Average Recall     (AR) @[ IoU=0.50:0.95 | area= large | maxDets=1000 ] = 0.555\n"
     ]
    },
    {
     "name": "stderr",
     "output_type": "stream",
     "text": [
      "2021-05-20 10:07:05,109 - mmdet - INFO - Epoch [4][50/655]\tlr: 5.000e-05, eta: 4:05:36, time: 1.189, data_time: 0.070, memory: 7244, loss_rpn_cls: 0.0645, loss_rpn_bbox: 0.0447, loss_glbctx: 0.7020, s0.loss_cls: 0.3135, s0.acc: 90.0654, s0.loss_bbox: 0.1843, s1.loss_cls: 0.1415, s1.acc: 91.0900, s1.loss_bbox: 0.1576, s2.loss_cls: 0.0663, s2.acc: 91.9820, s2.loss_bbox: 0.0828, loss_mask: 0.4498, loss: 2.2070, grad_norm: 12.1188\n",
      "2021-05-20 10:08:01,445 - mmdet - INFO - Epoch [4][100/655]\tlr: 5.000e-05, eta: 4:05:20, time: 1.127, data_time: 0.025, memory: 7244, loss_rpn_cls: 0.0631, loss_rpn_bbox: 0.0530, loss_glbctx: 0.6985, s0.loss_cls: 0.3245, s0.acc: 89.8818, s0.loss_bbox: 0.1925, s1.loss_cls: 0.1456, s1.acc: 90.9482, s1.loss_bbox: 0.1583, s2.loss_cls: 0.0643, s2.acc: 92.2703, s2.loss_bbox: 0.0777, loss_mask: 0.4764, loss: 2.2540, grad_norm: 13.5839\n",
      "2021-05-20 10:08:57,806 - mmdet - INFO - Epoch [4][150/655]\tlr: 5.000e-05, eta: 4:05:02, time: 1.127, data_time: 0.022, memory: 7244, loss_rpn_cls: 0.0671, loss_rpn_bbox: 0.0428, loss_glbctx: 0.6964, s0.loss_cls: 0.3179, s0.acc: 90.2549, s0.loss_bbox: 0.1886, s1.loss_cls: 0.1395, s1.acc: 91.4146, s1.loss_bbox: 0.1546, s2.loss_cls: 0.0625, s2.acc: 92.5321, s2.loss_bbox: 0.0793, loss_mask: 0.4725, loss: 2.2213, grad_norm: 14.1840\n",
      "2021-05-20 10:09:54,364 - mmdet - INFO - Epoch [4][200/655]\tlr: 5.000e-05, eta: 4:04:43, time: 1.131, data_time: 0.022, memory: 7244, loss_rpn_cls: 0.0684, loss_rpn_bbox: 0.0381, loss_glbctx: 0.7170, s0.loss_cls: 0.3225, s0.acc: 89.9209, s0.loss_bbox: 0.1910, s1.loss_cls: 0.1443, s1.acc: 91.0113, s1.loss_bbox: 0.1594, s2.loss_cls: 0.0658, s2.acc: 91.8178, s2.loss_bbox: 0.0843, loss_mask: 0.4490, loss: 2.2398, grad_norm: 13.4650\n",
      "2021-05-20 10:10:50,092 - mmdet - INFO - Epoch [4][250/655]\tlr: 5.000e-05, eta: 4:04:17, time: 1.115, data_time: 0.021, memory: 7244, loss_rpn_cls: 0.0654, loss_rpn_bbox: 0.0425, loss_glbctx: 0.7120, s0.loss_cls: 0.3019, s0.acc: 90.5332, s0.loss_bbox: 0.1697, s1.loss_cls: 0.1327, s1.acc: 91.6837, s1.loss_bbox: 0.1393, s2.loss_cls: 0.0619, s2.acc: 92.4299, s2.loss_bbox: 0.0733, loss_mask: 0.5049, loss: 2.2035, grad_norm: 13.6871\n",
      "2021-05-20 10:11:46,537 - mmdet - INFO - Epoch [4][300/655]\tlr: 5.000e-05, eta: 4:03:55, time: 1.129, data_time: 0.020, memory: 7244, loss_rpn_cls: 0.0670, loss_rpn_bbox: 0.0431, loss_glbctx: 0.6655, s0.loss_cls: 0.3126, s0.acc: 90.0059, s0.loss_bbox: 0.1876, s1.loss_cls: 0.1390, s1.acc: 91.0933, s1.loss_bbox: 0.1557, s2.loss_cls: 0.0650, s2.acc: 91.8205, s2.loss_bbox: 0.0802, loss_mask: 0.5009, loss: 2.2166, grad_norm: 14.2055\n",
      "2021-05-20 10:12:42,942 - mmdet - INFO - Epoch [4][350/655]\tlr: 5.000e-05, eta: 4:03:30, time: 1.128, data_time: 0.022, memory: 7244, loss_rpn_cls: 0.0644, loss_rpn_bbox: 0.0384, loss_glbctx: 0.7377, s0.loss_cls: 0.3203, s0.acc: 90.1299, s0.loss_bbox: 0.1791, s1.loss_cls: 0.1436, s1.acc: 91.2267, s1.loss_bbox: 0.1539, s2.loss_cls: 0.0673, s2.acc: 91.8426, s2.loss_bbox: 0.0796, loss_mask: 0.4572, loss: 2.2414, grad_norm: 13.1777\n",
      "2021-05-20 10:13:38,639 - mmdet - INFO - Epoch [4][400/655]\tlr: 5.000e-05, eta: 4:03:01, time: 1.114, data_time: 0.022, memory: 7244, loss_rpn_cls: 0.0689, loss_rpn_bbox: 0.0440, loss_glbctx: 0.6853, s0.loss_cls: 0.2969, s0.acc: 90.5010, s0.loss_bbox: 0.1730, s1.loss_cls: 0.1313, s1.acc: 91.6613, s1.loss_bbox: 0.1447, s2.loss_cls: 0.0615, s2.acc: 92.3784, s2.loss_bbox: 0.0749, loss_mask: 0.4512, loss: 2.1317, grad_norm: 14.1885\n",
      "2021-05-20 10:14:34,224 - mmdet - INFO - Epoch [4][450/655]\tlr: 5.000e-05, eta: 4:02:29, time: 1.112, data_time: 0.022, memory: 7244, loss_rpn_cls: 0.0581, loss_rpn_bbox: 0.0413, loss_glbctx: 0.7009, s0.loss_cls: 0.2934, s0.acc: 90.7803, s0.loss_bbox: 0.1643, s1.loss_cls: 0.1335, s1.acc: 91.5711, s1.loss_bbox: 0.1400, s2.loss_cls: 0.0627, s2.acc: 92.3013, s2.loss_bbox: 0.0739, loss_mask: 0.4505, loss: 2.1184, grad_norm: 13.9651\n",
      "2021-05-20 10:15:30,187 - mmdet - INFO - Epoch [4][500/655]\tlr: 5.000e-05, eta: 4:01:59, time: 1.119, data_time: 0.022, memory: 7244, loss_rpn_cls: 0.0594, loss_rpn_bbox: 0.0402, loss_glbctx: 0.6850, s0.loss_cls: 0.3131, s0.acc: 90.1357, s0.loss_bbox: 0.1882, s1.loss_cls: 0.1376, s1.acc: 91.2475, s1.loss_bbox: 0.1553, s2.loss_cls: 0.0626, s2.acc: 92.1323, s2.loss_bbox: 0.0771, loss_mask: 0.4485, loss: 2.1670, grad_norm: 14.0558\n",
      "2021-05-20 10:16:25,928 - mmdet - INFO - Epoch [4][550/655]\tlr: 5.000e-05, eta: 4:01:26, time: 1.115, data_time: 0.022, memory: 7244, loss_rpn_cls: 0.0625, loss_rpn_bbox: 0.0383, loss_glbctx: 0.6733, s0.loss_cls: 0.2996, s0.acc: 90.5264, s0.loss_bbox: 0.1740, s1.loss_cls: 0.1334, s1.acc: 91.7791, s1.loss_bbox: 0.1418, s2.loss_cls: 0.0603, s2.acc: 92.6752, s2.loss_bbox: 0.0747, loss_mask: 0.4364, loss: 2.0945, grad_norm: 14.0875\n",
      "2021-05-20 10:17:22,949 - mmdet - INFO - Epoch [4][600/655]\tlr: 5.000e-05, eta: 4:00:59, time: 1.140, data_time: 0.023, memory: 7282, loss_rpn_cls: 0.0704, loss_rpn_bbox: 0.0447, loss_glbctx: 0.7214, s0.loss_cls: 0.3380, s0.acc: 89.5605, s0.loss_bbox: 0.1902, s1.loss_cls: 0.1510, s1.acc: 90.8266, s1.loss_bbox: 0.1642, s2.loss_cls: 0.0683, s2.acc: 91.7844, s2.loss_bbox: 0.0834, loss_mask: 0.4784, loss: 2.3099, grad_norm: 14.8531\n",
      "2021-05-20 10:18:20,211 - mmdet - INFO - Epoch [4][650/655]\tlr: 5.000e-05, eta: 4:00:33, time: 1.145, data_time: 0.022, memory: 7282, loss_rpn_cls: 0.0584, loss_rpn_bbox: 0.0426, loss_glbctx: 0.6826, s0.loss_cls: 0.2837, s0.acc: 90.8945, s0.loss_bbox: 0.1727, s1.loss_cls: 0.1310, s1.acc: 91.7672, s1.loss_bbox: 0.1466, s2.loss_cls: 0.0607, s2.acc: 92.4368, s2.loss_bbox: 0.0771, loss_mask: 0.4183, loss: 2.0739, grad_norm: 13.4978\n",
      "2021-05-20 10:18:25,974 - mmdet - INFO - Saving checkpoint at 4 epochs\n"
     ]
    },
    {
     "name": "stdout",
     "output_type": "stream",
     "text": [
      "[>>>>>>>>>>>>>>>>>>>>>>>>>>>>>] 655/655, 4.5 task/s, elapsed: 146s, ETA:     0s"
     ]
    },
    {
     "name": "stderr",
     "output_type": "stream",
     "text": [
      "2021-05-20 10:20:58,017 - mmdet - INFO - Evaluating bbox...\n"
     ]
    },
    {
     "name": "stdout",
     "output_type": "stream",
     "text": [
      "Loading and preparing results...\n",
      "DONE (t=1.03s)\n",
      "creating index...\n",
      "index created!\n",
      "Running per image evaluation...\n",
      "Evaluate annotation type *bbox*\n",
      "DONE (t=7.54s).\n",
      "Accumulating evaluation results...\n"
     ]
    },
    {
     "name": "stderr",
     "output_type": "stream",
     "text": [
      "2021-05-20 10:21:08,014 - mmdet - INFO - Evaluating segm...\n"
     ]
    },
    {
     "name": "stdout",
     "output_type": "stream",
     "text": [
      "DONE (t=1.38s).\n",
      "Average Precision  (AP) @[ IoU=0.50:0.95 | area=   all | maxDets=100 ] = 0.190\n",
      "Average Precision  (AP) @[ IoU=0.50      | area=   all | maxDets=1000 ] = 0.322\n",
      "Average Precision  (AP) @[ IoU=0.75      | area=   all | maxDets=1000 ] = 0.198\n",
      "Average Precision  (AP) @[ IoU=0.50:0.95 | area= small | maxDets=1000 ] = 0.040\n",
      "Average Precision  (AP) @[ IoU=0.50:0.95 | area=medium | maxDets=1000 ] = 0.147\n",
      "Average Precision  (AP) @[ IoU=0.50:0.95 | area= large | maxDets=1000 ] = 0.400\n",
      "Average Recall     (AR) @[ IoU=0.50:0.95 | area=   all | maxDets=100 ] = 0.354\n",
      "Average Recall     (AR) @[ IoU=0.50:0.95 | area=   all | maxDets=300 ] = 0.354\n",
      "Average Recall     (AR) @[ IoU=0.50:0.95 | area=   all | maxDets=1000 ] = 0.354\n",
      "Average Recall     (AR) @[ IoU=0.50:0.95 | area= small | maxDets=1000 ] = 0.109\n",
      "Average Recall     (AR) @[ IoU=0.50:0.95 | area=medium | maxDets=1000 ] = 0.323\n",
      "Average Recall     (AR) @[ IoU=0.50:0.95 | area= large | maxDets=1000 ] = 0.601\n",
      "Loading and preparing results...\n",
      "DONE (t=0.96s)\n",
      "creating index...\n",
      "index created!\n",
      "Running per image evaluation...\n",
      "Evaluate annotation type *segm*\n",
      "DONE (t=8.28s).\n",
      "Accumulating evaluation results...\n"
     ]
    },
    {
     "name": "stderr",
     "output_type": "stream",
     "text": [
      "2021-05-20 10:21:18,877 - mmdet - INFO - Epoch(val) [4][655]\tbbox_mAP: 0.1900, bbox_mAP_50: 0.3220, bbox_mAP_75: 0.1980, bbox_mAP_s: 0.0400, bbox_mAP_m: 0.1470, bbox_mAP_l: 0.4000, bbox_mAP_copypaste: 0.190 0.322 0.198 0.040 0.147 0.400, segm_mAP: 0.1750, segm_mAP_50: 0.2800, segm_mAP_75: 0.1780, segm_mAP_s: 0.0280, segm_mAP_m: 0.1260, segm_mAP_l: 0.4120, segm_mAP_copypaste: 0.175 0.280 0.178 0.028 0.126 0.412\n"
     ]
    },
    {
     "name": "stdout",
     "output_type": "stream",
     "text": [
      "DONE (t=1.36s).\n",
      "Average Precision  (AP) @[ IoU=0.50:0.95 | area=   all | maxDets=100 ] = 0.175\n",
      "Average Precision  (AP) @[ IoU=0.50      | area=   all | maxDets=1000 ] = 0.280\n",
      "Average Precision  (AP) @[ IoU=0.75      | area=   all | maxDets=1000 ] = 0.178\n",
      "Average Precision  (AP) @[ IoU=0.50:0.95 | area= small | maxDets=1000 ] = 0.028\n",
      "Average Precision  (AP) @[ IoU=0.50:0.95 | area=medium | maxDets=1000 ] = 0.126\n",
      "Average Precision  (AP) @[ IoU=0.50:0.95 | area= large | maxDets=1000 ] = 0.412\n",
      "Average Recall     (AR) @[ IoU=0.50:0.95 | area=   all | maxDets=100 ] = 0.323\n",
      "Average Recall     (AR) @[ IoU=0.50:0.95 | area=   all | maxDets=300 ] = 0.323\n",
      "Average Recall     (AR) @[ IoU=0.50:0.95 | area=   all | maxDets=1000 ] = 0.323\n",
      "Average Recall     (AR) @[ IoU=0.50:0.95 | area= small | maxDets=1000 ] = 0.083\n",
      "Average Recall     (AR) @[ IoU=0.50:0.95 | area=medium | maxDets=1000 ] = 0.282\n",
      "Average Recall     (AR) @[ IoU=0.50:0.95 | area= large | maxDets=1000 ] = 0.614\n"
     ]
    },
    {
     "name": "stderr",
     "output_type": "stream",
     "text": [
      "2021-05-20 10:22:18,726 - mmdet - INFO - Epoch [5][50/655]\tlr: 5.000e-05, eta: 3:59:46, time: 1.196, data_time: 0.068, memory: 7282, loss_rpn_cls: 0.0551, loss_rpn_bbox: 0.0435, loss_glbctx: 0.5942, s0.loss_cls: 0.2899, s0.acc: 90.3154, s0.loss_bbox: 0.1825, s1.loss_cls: 0.1286, s1.acc: 91.5177, s1.loss_bbox: 0.1544, s2.loss_cls: 0.0595, s2.acc: 92.2774, s2.loss_bbox: 0.0831, loss_mask: 0.4019, loss: 1.9926, grad_norm: 12.9388\n",
      "2021-05-20 10:23:15,588 - mmdet - INFO - Epoch [5][100/655]\tlr: 5.000e-05, eta: 3:59:16, time: 1.137, data_time: 0.022, memory: 7282, loss_rpn_cls: 0.0583, loss_rpn_bbox: 0.0402, loss_glbctx: 0.5066, s0.loss_cls: 0.2919, s0.acc: 90.5498, s0.loss_bbox: 0.1709, s1.loss_cls: 0.1271, s1.acc: 91.7993, s1.loss_bbox: 0.1467, s2.loss_cls: 0.0581, s2.acc: 92.6001, s2.loss_bbox: 0.0786, loss_mask: 0.4325, loss: 1.9110, grad_norm: 13.2212\n",
      "2021-05-20 10:24:12,604 - mmdet - INFO - Epoch [5][150/655]\tlr: 5.000e-05, eta: 3:58:45, time: 1.140, data_time: 0.021, memory: 7282, loss_rpn_cls: 0.0564, loss_rpn_bbox: 0.0407, loss_glbctx: 0.5518, s0.loss_cls: 0.2890, s0.acc: 90.7256, s0.loss_bbox: 0.1741, s1.loss_cls: 0.1296, s1.acc: 91.6944, s1.loss_bbox: 0.1469, s2.loss_cls: 0.0604, s2.acc: 92.5863, s2.loss_bbox: 0.0779, loss_mask: 0.4458, loss: 1.9725, grad_norm: 13.8476\n",
      "2021-05-20 10:25:09,211 - mmdet - INFO - Epoch [5][200/655]\tlr: 5.000e-05, eta: 3:58:11, time: 1.132, data_time: 0.021, memory: 7282, loss_rpn_cls: 0.0534, loss_rpn_bbox: 0.0389, loss_glbctx: 0.5768, s0.loss_cls: 0.2853, s0.acc: 90.7676, s0.loss_bbox: 0.1706, s1.loss_cls: 0.1271, s1.acc: 91.7648, s1.loss_bbox: 0.1472, s2.loss_cls: 0.0594, s2.acc: 92.4749, s2.loss_bbox: 0.0770, loss_mask: 0.4336, loss: 1.9693, grad_norm: 13.0388\n",
      "2021-05-20 10:26:06,366 - mmdet - INFO - Epoch [5][250/655]\tlr: 5.000e-05, eta: 3:57:39, time: 1.143, data_time: 0.021, memory: 7282, loss_rpn_cls: 0.0575, loss_rpn_bbox: 0.0421, loss_glbctx: 0.6371, s0.loss_cls: 0.2916, s0.acc: 90.7744, s0.loss_bbox: 0.1733, s1.loss_cls: 0.1290, s1.acc: 91.9571, s1.loss_bbox: 0.1477, s2.loss_cls: 0.0597, s2.acc: 92.6171, s2.loss_bbox: 0.0776, loss_mask: 0.3872, loss: 2.0028, grad_norm: 13.5151\n",
      "2021-05-20 10:27:03,021 - mmdet - INFO - Epoch [5][300/655]\tlr: 5.000e-05, eta: 3:57:04, time: 1.133, data_time: 0.020, memory: 7282, loss_rpn_cls: 0.0576, loss_rpn_bbox: 0.0429, loss_glbctx: 0.5814, s0.loss_cls: 0.2757, s0.acc: 91.1494, s0.loss_bbox: 0.1635, s1.loss_cls: 0.1267, s1.acc: 91.9287, s1.loss_bbox: 0.1401, s2.loss_cls: 0.0594, s2.acc: 92.4806, s2.loss_bbox: 0.0739, loss_mask: 0.4309, loss: 1.9520, grad_norm: 13.7620\n",
      "2021-05-20 10:28:00,922 - mmdet - INFO - Epoch [5][350/655]\tlr: 5.000e-05, eta: 3:56:34, time: 1.158, data_time: 0.018, memory: 7282, loss_rpn_cls: 0.0481, loss_rpn_bbox: 0.0333, loss_glbctx: 0.5358, s0.loss_cls: 0.2771, s0.acc: 91.1475, s0.loss_bbox: 0.1670, s1.loss_cls: 0.1237, s1.acc: 92.1255, s1.loss_bbox: 0.1414, s2.loss_cls: 0.0579, s2.acc: 92.7634, s2.loss_bbox: 0.0770, loss_mask: 0.4307, loss: 1.8921, grad_norm: 14.4234\n",
      "2021-05-20 10:28:57,631 - mmdet - INFO - Epoch [5][400/655]\tlr: 5.000e-05, eta: 3:55:58, time: 1.134, data_time: 0.019, memory: 7282, loss_rpn_cls: 0.0533, loss_rpn_bbox: 0.0350, loss_glbctx: 0.5237, s0.loss_cls: 0.2646, s0.acc: 91.5225, s0.loss_bbox: 0.1519, s1.loss_cls: 0.1163, s1.acc: 92.6800, s1.loss_bbox: 0.1296, s2.loss_cls: 0.0542, s2.acc: 93.3918, s2.loss_bbox: 0.0732, loss_mask: 0.3879, loss: 1.7896, grad_norm: 13.6482\n",
      "2021-05-20 10:29:56,170 - mmdet - INFO - Epoch [5][450/655]\tlr: 5.000e-05, eta: 3:55:29, time: 1.171, data_time: 0.021, memory: 7328, loss_rpn_cls: 0.0590, loss_rpn_bbox: 0.0401, loss_glbctx: 0.6056, s0.loss_cls: 0.3062, s0.acc: 90.1768, s0.loss_bbox: 0.1801, s1.loss_cls: 0.1348, s1.acc: 91.5178, s1.loss_bbox: 0.1553, s2.loss_cls: 0.0627, s2.acc: 92.2116, s2.loss_bbox: 0.0836, loss_mask: 0.4121, loss: 2.0396, grad_norm: 13.7121\n",
      "2021-05-20 10:30:53,198 - mmdet - INFO - Epoch [5][500/655]\tlr: 5.000e-05, eta: 3:54:53, time: 1.141, data_time: 0.021, memory: 7328, loss_rpn_cls: 0.0589, loss_rpn_bbox: 0.0460, loss_glbctx: 0.5324, s0.loss_cls: 0.2946, s0.acc: 90.5342, s0.loss_bbox: 0.1728, s1.loss_cls: 0.1336, s1.acc: 91.4553, s1.loss_bbox: 0.1432, s2.loss_cls: 0.0624, s2.acc: 91.9523, s2.loss_bbox: 0.0752, loss_mask: 0.4297, loss: 1.9488, grad_norm: 13.4682\n",
      "2021-05-20 10:31:50,476 - mmdet - INFO - Epoch [5][550/655]\tlr: 5.000e-05, eta: 3:54:17, time: 1.146, data_time: 0.022, memory: 7328, loss_rpn_cls: 0.0604, loss_rpn_bbox: 0.0448, loss_glbctx: 0.5792, s0.loss_cls: 0.2888, s0.acc: 90.8896, s0.loss_bbox: 0.1685, s1.loss_cls: 0.1296, s1.acc: 91.8998, s1.loss_bbox: 0.1455, s2.loss_cls: 0.0612, s2.acc: 92.1124, s2.loss_bbox: 0.0761, loss_mask: 0.4499, loss: 2.0040, grad_norm: 14.6029\n",
      "2021-05-20 10:32:45,758 - mmdet - INFO - Epoch [5][600/655]\tlr: 5.000e-05, eta: 3:53:32, time: 1.106, data_time: 0.018, memory: 7328, loss_rpn_cls: 0.0539, loss_rpn_bbox: 0.0345, loss_glbctx: 0.5425, s0.loss_cls: 0.2514, s0.acc: 91.9033, s0.loss_bbox: 0.1448, s1.loss_cls: 0.1125, s1.acc: 92.7172, s1.loss_bbox: 0.1284, s2.loss_cls: 0.0539, s2.acc: 93.2441, s2.loss_bbox: 0.0670, loss_mask: 0.4062, loss: 1.7951, grad_norm: 14.8390\n",
      "2021-05-20 10:33:41,923 - mmdet - INFO - Epoch [5][650/655]\tlr: 5.000e-05, eta: 3:52:50, time: 1.123, data_time: 0.018, memory: 7371, loss_rpn_cls: 0.0494, loss_rpn_bbox: 0.0345, loss_glbctx: 0.5857, s0.loss_cls: 0.2712, s0.acc: 91.5303, s0.loss_bbox: 0.1524, s1.loss_cls: 0.1251, s1.acc: 92.1311, s1.loss_bbox: 0.1372, s2.loss_cls: 0.0589, s2.acc: 92.5286, s2.loss_bbox: 0.0745, loss_mask: 0.4024, loss: 1.8911, grad_norm: 14.7232\n",
      "2021-05-20 10:33:47,673 - mmdet - INFO - Saving checkpoint at 5 epochs\n"
     ]
    },
    {
     "name": "stdout",
     "output_type": "stream",
     "text": [
      "[>>>>>>>>>>>>>>>>>>>>>>>>>>>>>] 655/655, 4.3 task/s, elapsed: 151s, ETA:     0s"
     ]
    },
    {
     "name": "stderr",
     "output_type": "stream",
     "text": [
      "2021-05-20 10:36:25,998 - mmdet - INFO - Evaluating bbox...\n"
     ]
    },
    {
     "name": "stdout",
     "output_type": "stream",
     "text": [
      "Loading and preparing results...\n",
      "DONE (t=0.67s)\n",
      "creating index...\n",
      "index created!\n",
      "Running per image evaluation...\n",
      "Evaluate annotation type *bbox*\n",
      "DONE (t=7.80s).\n",
      "Accumulating evaluation results...\n"
     ]
    },
    {
     "name": "stderr",
     "output_type": "stream",
     "text": [
      "2021-05-20 10:36:35,952 - mmdet - INFO - Evaluating segm...\n"
     ]
    },
    {
     "name": "stdout",
     "output_type": "stream",
     "text": [
      "DONE (t=1.44s).\n",
      "Average Precision  (AP) @[ IoU=0.50:0.95 | area=   all | maxDets=100 ] = 0.209\n",
      "Average Precision  (AP) @[ IoU=0.50      | area=   all | maxDets=1000 ] = 0.352\n",
      "Average Precision  (AP) @[ IoU=0.75      | area=   all | maxDets=1000 ] = 0.222\n",
      "Average Precision  (AP) @[ IoU=0.50:0.95 | area= small | maxDets=1000 ] = 0.031\n",
      "Average Precision  (AP) @[ IoU=0.50:0.95 | area=medium | maxDets=1000 ] = 0.184\n",
      "Average Precision  (AP) @[ IoU=0.50:0.95 | area= large | maxDets=1000 ] = 0.393\n",
      "Average Recall     (AR) @[ IoU=0.50:0.95 | area=   all | maxDets=100 ] = 0.351\n",
      "Average Recall     (AR) @[ IoU=0.50:0.95 | area=   all | maxDets=300 ] = 0.351\n",
      "Average Recall     (AR) @[ IoU=0.50:0.95 | area=   all | maxDets=1000 ] = 0.351\n",
      "Average Recall     (AR) @[ IoU=0.50:0.95 | area= small | maxDets=1000 ] = 0.109\n",
      "Average Recall     (AR) @[ IoU=0.50:0.95 | area=medium | maxDets=1000 ] = 0.330\n",
      "Average Recall     (AR) @[ IoU=0.50:0.95 | area= large | maxDets=1000 ] = 0.589\n",
      "Loading and preparing results...\n",
      "DONE (t=0.99s)\n",
      "creating index...\n",
      "index created!\n",
      "Running per image evaluation...\n",
      "Evaluate annotation type *segm*\n",
      "DONE (t=9.10s).\n",
      "Accumulating evaluation results...\n"
     ]
    },
    {
     "name": "stderr",
     "output_type": "stream",
     "text": [
      "2021-05-20 10:36:47,727 - mmdet - INFO - Epoch(val) [5][655]\tbbox_mAP: 0.2090, bbox_mAP_50: 0.3520, bbox_mAP_75: 0.2220, bbox_mAP_s: 0.0310, bbox_mAP_m: 0.1840, bbox_mAP_l: 0.3930, bbox_mAP_copypaste: 0.209 0.352 0.222 0.031 0.184 0.393, segm_mAP: 0.1890, segm_mAP_50: 0.3010, segm_mAP_75: 0.2010, segm_mAP_s: 0.0230, segm_mAP_m: 0.1570, segm_mAP_l: 0.3750, segm_mAP_copypaste: 0.189 0.301 0.201 0.023 0.157 0.375\n"
     ]
    },
    {
     "name": "stdout",
     "output_type": "stream",
     "text": [
      "DONE (t=1.42s).\n",
      "Average Precision  (AP) @[ IoU=0.50:0.95 | area=   all | maxDets=100 ] = 0.189\n",
      "Average Precision  (AP) @[ IoU=0.50      | area=   all | maxDets=1000 ] = 0.301\n",
      "Average Precision  (AP) @[ IoU=0.75      | area=   all | maxDets=1000 ] = 0.201\n",
      "Average Precision  (AP) @[ IoU=0.50:0.95 | area= small | maxDets=1000 ] = 0.023\n",
      "Average Precision  (AP) @[ IoU=0.50:0.95 | area=medium | maxDets=1000 ] = 0.157\n",
      "Average Precision  (AP) @[ IoU=0.50:0.95 | area= large | maxDets=1000 ] = 0.375\n",
      "Average Recall     (AR) @[ IoU=0.50:0.95 | area=   all | maxDets=100 ] = 0.320\n",
      "Average Recall     (AR) @[ IoU=0.50:0.95 | area=   all | maxDets=300 ] = 0.320\n",
      "Average Recall     (AR) @[ IoU=0.50:0.95 | area=   all | maxDets=1000 ] = 0.320\n",
      "Average Recall     (AR) @[ IoU=0.50:0.95 | area= small | maxDets=1000 ] = 0.083\n",
      "Average Recall     (AR) @[ IoU=0.50:0.95 | area=medium | maxDets=1000 ] = 0.285\n",
      "Average Recall     (AR) @[ IoU=0.50:0.95 | area= large | maxDets=1000 ] = 0.593\n"
     ]
    },
    {
     "name": "stderr",
     "output_type": "stream",
     "text": [
      "2021-05-20 10:37:47,078 - mmdet - INFO - Epoch [6][50/655]\tlr: 5.000e-05, eta: 3:51:54, time: 1.187, data_time: 0.067, memory: 7452, loss_rpn_cls: 0.0500, loss_rpn_bbox: 0.0362, loss_glbctx: 0.4503, s0.loss_cls: 0.2510, s0.acc: 91.6738, s0.loss_bbox: 0.1549, s1.loss_cls: 0.1128, s1.acc: 92.6622, s1.loss_bbox: 0.1350, s2.loss_cls: 0.0533, s2.acc: 93.1587, s2.loss_bbox: 0.0738, loss_mask: 0.4046, loss: 1.7220, grad_norm: 12.7062\n",
      "2021-05-20 10:38:43,368 - mmdet - INFO - Epoch [6][100/655]\tlr: 5.000e-05, eta: 3:51:12, time: 1.126, data_time: 0.019, memory: 7452, loss_rpn_cls: 0.0446, loss_rpn_bbox: 0.0329, loss_glbctx: 0.4376, s0.loss_cls: 0.2527, s0.acc: 91.8525, s0.loss_bbox: 0.1499, s1.loss_cls: 0.1099, s1.acc: 92.8787, s1.loss_bbox: 0.1289, s2.loss_cls: 0.0515, s2.acc: 93.3569, s2.loss_bbox: 0.0709, loss_mask: 0.4021, loss: 1.6809, grad_norm: 14.3157\n",
      "2021-05-20 10:39:41,449 - mmdet - INFO - Epoch [6][150/655]\tlr: 5.000e-05, eta: 3:50:37, time: 1.162, data_time: 0.022, memory: 7452, loss_rpn_cls: 0.0564, loss_rpn_bbox: 0.0392, loss_glbctx: 0.4907, s0.loss_cls: 0.2789, s0.acc: 90.7119, s0.loss_bbox: 0.1626, s1.loss_cls: 0.1242, s1.acc: 91.7045, s1.loss_bbox: 0.1404, s2.loss_cls: 0.0591, s2.acc: 92.3081, s2.loss_bbox: 0.0773, loss_mask: 0.3877, loss: 1.8167, grad_norm: 13.7829\n",
      "2021-05-20 10:40:40,038 - mmdet - INFO - Epoch [6][200/655]\tlr: 5.000e-05, eta: 3:50:03, time: 1.172, data_time: 0.022, memory: 7452, loss_rpn_cls: 0.0536, loss_rpn_bbox: 0.0390, loss_glbctx: 0.4208, s0.loss_cls: 0.2636, s0.acc: 91.3086, s0.loss_bbox: 0.1641, s1.loss_cls: 0.1151, s1.acc: 92.4349, s1.loss_bbox: 0.1415, s2.loss_cls: 0.0549, s2.acc: 92.7590, s2.loss_bbox: 0.0789, loss_mask: 0.3748, loss: 1.7064, grad_norm: 13.1841\n",
      "2021-05-20 10:41:36,091 - mmdet - INFO - Epoch [6][250/655]\tlr: 5.000e-05, eta: 3:49:18, time: 1.121, data_time: 0.020, memory: 7452, loss_rpn_cls: 0.0446, loss_rpn_bbox: 0.0385, loss_glbctx: 0.3902, s0.loss_cls: 0.2347, s0.acc: 92.2471, s0.loss_bbox: 0.1396, s1.loss_cls: 0.1035, s1.acc: 93.2338, s1.loss_bbox: 0.1199, s2.loss_cls: 0.0486, s2.acc: 93.7701, s2.loss_bbox: 0.0681, loss_mask: 0.3595, loss: 1.5471, grad_norm: 12.9639\n",
      "2021-05-20 10:42:32,607 - mmdet - INFO - Epoch [6][300/655]\tlr: 5.000e-05, eta: 3:48:36, time: 1.130, data_time: 0.021, memory: 7452, loss_rpn_cls: 0.0467, loss_rpn_bbox: 0.0333, loss_glbctx: 0.4759, s0.loss_cls: 0.2624, s0.acc: 91.6504, s0.loss_bbox: 0.1382, s1.loss_cls: 0.1189, s1.acc: 92.4908, s1.loss_bbox: 0.1207, s2.loss_cls: 0.0579, s2.acc: 92.6955, s2.loss_bbox: 0.0673, loss_mask: 0.3632, loss: 1.6846, grad_norm: 14.9122\n",
      "2021-05-20 10:43:29,612 - mmdet - INFO - Epoch [6][350/655]\tlr: 5.000e-05, eta: 3:47:54, time: 1.140, data_time: 0.020, memory: 7452, loss_rpn_cls: 0.0472, loss_rpn_bbox: 0.0394, loss_glbctx: 0.4380, s0.loss_cls: 0.2555, s0.acc: 91.4707, s0.loss_bbox: 0.1561, s1.loss_cls: 0.1146, s1.acc: 92.3830, s1.loss_bbox: 0.1380, s2.loss_cls: 0.0549, s2.acc: 92.8053, s2.loss_bbox: 0.0735, loss_mask: 0.3951, loss: 1.7122, grad_norm: 13.6944\n",
      "2021-05-20 10:44:27,009 - mmdet - INFO - Epoch [6][400/655]\tlr: 5.000e-05, eta: 3:47:13, time: 1.148, data_time: 0.020, memory: 7452, loss_rpn_cls: 0.0504, loss_rpn_bbox: 0.0389, loss_glbctx: 0.4505, s0.loss_cls: 0.2733, s0.acc: 91.0186, s0.loss_bbox: 0.1676, s1.loss_cls: 0.1238, s1.acc: 92.1075, s1.loss_bbox: 0.1470, s2.loss_cls: 0.0574, s2.acc: 92.6835, s2.loss_bbox: 0.0793, loss_mask: 0.3750, loss: 1.7632, grad_norm: 13.9370\n",
      "2021-05-20 10:45:25,685 - mmdet - INFO - Epoch [6][450/655]\tlr: 5.000e-05, eta: 3:46:37, time: 1.174, data_time: 0.023, memory: 7452, loss_rpn_cls: 0.0499, loss_rpn_bbox: 0.0446, loss_glbctx: 0.4871, s0.loss_cls: 0.2677, s0.acc: 91.2383, s0.loss_bbox: 0.1636, s1.loss_cls: 0.1182, s1.acc: 92.4634, s1.loss_bbox: 0.1418, s2.loss_cls: 0.0565, s2.acc: 92.8784, s2.loss_bbox: 0.0803, loss_mask: 0.3677, loss: 1.7773, grad_norm: 13.6366\n",
      "2021-05-20 10:46:22,873 - mmdet - INFO - Epoch [6][500/655]\tlr: 5.000e-05, eta: 3:45:54, time: 1.144, data_time: 0.020, memory: 7452, loss_rpn_cls: 0.0465, loss_rpn_bbox: 0.0362, loss_glbctx: 0.4670, s0.loss_cls: 0.2586, s0.acc: 91.5449, s0.loss_bbox: 0.1541, s1.loss_cls: 0.1164, s1.acc: 92.4525, s1.loss_bbox: 0.1379, s2.loss_cls: 0.0559, s2.acc: 92.8272, s2.loss_bbox: 0.0755, loss_mask: 0.3678, loss: 1.7158, grad_norm: 15.0255\n",
      "2021-05-20 10:47:20,809 - mmdet - INFO - Epoch [6][550/655]\tlr: 5.000e-05, eta: 3:45:14, time: 1.159, data_time: 0.021, memory: 7452, loss_rpn_cls: 0.0545, loss_rpn_bbox: 0.0384, loss_glbctx: 0.4575, s0.loss_cls: 0.2690, s0.acc: 91.1172, s0.loss_bbox: 0.1618, s1.loss_cls: 0.1184, s1.acc: 92.2229, s1.loss_bbox: 0.1415, s2.loss_cls: 0.0556, s2.acc: 92.7761, s2.loss_bbox: 0.0782, loss_mask: 0.3834, loss: 1.7582, grad_norm: 13.7401\n",
      "2021-05-20 10:48:18,396 - mmdet - INFO - Epoch [6][600/655]\tlr: 5.000e-05, eta: 3:44:33, time: 1.152, data_time: 0.020, memory: 7452, loss_rpn_cls: 0.0457, loss_rpn_bbox: 0.0356, loss_glbctx: 0.4032, s0.loss_cls: 0.2648, s0.acc: 91.4238, s0.loss_bbox: 0.1520, s1.loss_cls: 0.1145, s1.acc: 92.6057, s1.loss_bbox: 0.1327, s2.loss_cls: 0.0540, s2.acc: 92.8301, s2.loss_bbox: 0.0755, loss_mask: 0.4037, loss: 1.6819, grad_norm: 15.1735\n",
      "2021-05-20 10:49:15,610 - mmdet - INFO - Epoch [6][650/655]\tlr: 5.000e-05, eta: 3:43:49, time: 1.144, data_time: 0.022, memory: 7452, loss_rpn_cls: 0.0507, loss_rpn_bbox: 0.0387, loss_glbctx: 0.5037, s0.loss_cls: 0.2698, s0.acc: 91.2842, s0.loss_bbox: 0.1602, s1.loss_cls: 0.1204, s1.acc: 92.2678, s1.loss_bbox: 0.1376, s2.loss_cls: 0.0562, s2.acc: 92.6927, s2.loss_bbox: 0.0757, loss_mask: 0.3780, loss: 1.7910, grad_norm: 15.4704\n",
      "2021-05-20 10:49:21,330 - mmdet - INFO - Saving checkpoint at 6 epochs\n"
     ]
    },
    {
     "name": "stdout",
     "output_type": "stream",
     "text": [
      "[>>>>>>>>>>>>>>>>>>>>>>>>>>>>>] 655/655, 4.4 task/s, elapsed: 150s, ETA:     0s"
     ]
    },
    {
     "name": "stderr",
     "output_type": "stream",
     "text": [
      "2021-05-20 10:51:58,009 - mmdet - INFO - Evaluating bbox...\n"
     ]
    },
    {
     "name": "stdout",
     "output_type": "stream",
     "text": [
      "Loading and preparing results...\n",
      "DONE (t=0.66s)\n",
      "creating index...\n",
      "index created!\n",
      "Running per image evaluation...\n",
      "Evaluate annotation type *bbox*\n",
      "DONE (t=7.57s).\n",
      "Accumulating evaluation results...\n"
     ]
    },
    {
     "name": "stderr",
     "output_type": "stream",
     "text": [
      "2021-05-20 10:52:07,758 - mmdet - INFO - Evaluating segm...\n"
     ]
    },
    {
     "name": "stdout",
     "output_type": "stream",
     "text": [
      "DONE (t=1.47s).\n",
      "Average Precision  (AP) @[ IoU=0.50:0.95 | area=   all | maxDets=100 ] = 0.215\n",
      "Average Precision  (AP) @[ IoU=0.50      | area=   all | maxDets=1000 ] = 0.367\n",
      "Average Precision  (AP) @[ IoU=0.75      | area=   all | maxDets=1000 ] = 0.213\n",
      "Average Precision  (AP) @[ IoU=0.50:0.95 | area= small | maxDets=1000 ] = 0.035\n",
      "Average Precision  (AP) @[ IoU=0.50:0.95 | area=medium | maxDets=1000 ] = 0.185\n",
      "Average Precision  (AP) @[ IoU=0.50:0.95 | area= large | maxDets=1000 ] = 0.410\n",
      "Average Recall     (AR) @[ IoU=0.50:0.95 | area=   all | maxDets=100 ] = 0.376\n",
      "Average Recall     (AR) @[ IoU=0.50:0.95 | area=   all | maxDets=300 ] = 0.376\n",
      "Average Recall     (AR) @[ IoU=0.50:0.95 | area=   all | maxDets=1000 ] = 0.376\n",
      "Average Recall     (AR) @[ IoU=0.50:0.95 | area= small | maxDets=1000 ] = 0.123\n",
      "Average Recall     (AR) @[ IoU=0.50:0.95 | area=medium | maxDets=1000 ] = 0.351\n",
      "Average Recall     (AR) @[ IoU=0.50:0.95 | area= large | maxDets=1000 ] = 0.624\n",
      "Loading and preparing results...\n",
      "DONE (t=1.00s)\n",
      "creating index...\n",
      "index created!\n",
      "Running per image evaluation...\n",
      "Evaluate annotation type *segm*\n",
      "DONE (t=8.45s).\n",
      "Accumulating evaluation results...\n"
     ]
    },
    {
     "name": "stderr",
     "output_type": "stream",
     "text": [
      "2021-05-20 10:52:18,945 - mmdet - INFO - Epoch(val) [6][655]\tbbox_mAP: 0.2150, bbox_mAP_50: 0.3670, bbox_mAP_75: 0.2130, bbox_mAP_s: 0.0350, bbox_mAP_m: 0.1850, bbox_mAP_l: 0.4100, bbox_mAP_copypaste: 0.215 0.367 0.213 0.035 0.185 0.410, segm_mAP: 0.1940, segm_mAP_50: 0.3380, segm_mAP_75: 0.1910, segm_mAP_s: 0.0260, segm_mAP_m: 0.1660, segm_mAP_l: 0.3850, segm_mAP_copypaste: 0.194 0.338 0.191 0.026 0.166 0.385\n"
     ]
    },
    {
     "name": "stdout",
     "output_type": "stream",
     "text": [
      "DONE (t=1.46s).\n",
      "Average Precision  (AP) @[ IoU=0.50:0.95 | area=   all | maxDets=100 ] = 0.194\n",
      "Average Precision  (AP) @[ IoU=0.50      | area=   all | maxDets=1000 ] = 0.338\n",
      "Average Precision  (AP) @[ IoU=0.75      | area=   all | maxDets=1000 ] = 0.191\n",
      "Average Precision  (AP) @[ IoU=0.50:0.95 | area= small | maxDets=1000 ] = 0.026\n",
      "Average Precision  (AP) @[ IoU=0.50:0.95 | area=medium | maxDets=1000 ] = 0.166\n",
      "Average Precision  (AP) @[ IoU=0.50:0.95 | area= large | maxDets=1000 ] = 0.385\n",
      "Average Recall     (AR) @[ IoU=0.50:0.95 | area=   all | maxDets=100 ] = 0.344\n",
      "Average Recall     (AR) @[ IoU=0.50:0.95 | area=   all | maxDets=300 ] = 0.344\n",
      "Average Recall     (AR) @[ IoU=0.50:0.95 | area=   all | maxDets=1000 ] = 0.344\n",
      "Average Recall     (AR) @[ IoU=0.50:0.95 | area= small | maxDets=1000 ] = 0.088\n",
      "Average Recall     (AR) @[ IoU=0.50:0.95 | area=medium | maxDets=1000 ] = 0.311\n",
      "Average Recall     (AR) @[ IoU=0.50:0.95 | area= large | maxDets=1000 ] = 0.623\n"
     ]
    },
    {
     "name": "stderr",
     "output_type": "stream",
     "text": [
      "2021-05-20 10:53:19,990 - mmdet - INFO - Epoch [7][50/655]\tlr: 5.000e-05, eta: 3:42:55, time: 1.220, data_time: 0.069, memory: 7452, loss_rpn_cls: 0.0525, loss_rpn_bbox: 0.0397, loss_glbctx: 0.3355, s0.loss_cls: 0.2796, s0.acc: 90.5713, s0.loss_bbox: 0.1749, s1.loss_cls: 0.1238, s1.acc: 91.7666, s1.loss_bbox: 0.1518, s2.loss_cls: 0.0563, s2.acc: 92.7524, s2.loss_bbox: 0.0808, loss_mask: 0.3906, loss: 1.6853, grad_norm: 13.3367\n",
      "2021-05-20 10:54:17,619 - mmdet - INFO - Epoch [7][100/655]\tlr: 5.000e-05, eta: 3:42:12, time: 1.153, data_time: 0.021, memory: 7458, loss_rpn_cls: 0.0466, loss_rpn_bbox: 0.0364, loss_glbctx: 0.2812, s0.loss_cls: 0.2513, s0.acc: 91.6113, s0.loss_bbox: 0.1483, s1.loss_cls: 0.1089, s1.acc: 92.9170, s1.loss_bbox: 0.1237, s2.loss_cls: 0.0516, s2.acc: 93.3072, s2.loss_bbox: 0.0697, loss_mask: 0.3632, loss: 1.4807, grad_norm: 12.4560\n",
      "2021-05-20 10:55:15,189 - mmdet - INFO - Epoch [7][150/655]\tlr: 5.000e-05, eta: 3:41:29, time: 1.151, data_time: 0.022, memory: 7458, loss_rpn_cls: 0.0387, loss_rpn_bbox: 0.0331, loss_glbctx: 0.2991, s0.loss_cls: 0.2358, s0.acc: 92.1475, s0.loss_bbox: 0.1465, s1.loss_cls: 0.1041, s1.acc: 93.2185, s1.loss_bbox: 0.1279, s2.loss_cls: 0.0493, s2.acc: 93.4801, s2.loss_bbox: 0.0728, loss_mask: 0.3800, loss: 1.4873, grad_norm: 13.2384\n",
      "2021-05-20 10:56:12,687 - mmdet - INFO - Epoch [7][200/655]\tlr: 5.000e-05, eta: 3:40:45, time: 1.150, data_time: 0.022, memory: 7458, loss_rpn_cls: 0.0431, loss_rpn_bbox: 0.0378, loss_glbctx: 0.3310, s0.loss_cls: 0.2459, s0.acc: 91.8750, s0.loss_bbox: 0.1567, s1.loss_cls: 0.1091, s1.acc: 92.8329, s1.loss_bbox: 0.1374, s2.loss_cls: 0.0519, s2.acc: 93.2162, s2.loss_bbox: 0.0770, loss_mask: 0.3885, loss: 1.5783, grad_norm: 14.5793\n",
      "2021-05-20 10:57:10,197 - mmdet - INFO - Epoch [7][250/655]\tlr: 5.000e-05, eta: 3:40:01, time: 1.150, data_time: 0.021, memory: 7458, loss_rpn_cls: 0.0430, loss_rpn_bbox: 0.0356, loss_glbctx: 0.3364, s0.loss_cls: 0.2504, s0.acc: 91.8125, s0.loss_bbox: 0.1490, s1.loss_cls: 0.1092, s1.acc: 92.8375, s1.loss_bbox: 0.1295, s2.loss_cls: 0.0526, s2.acc: 93.1571, s2.loss_bbox: 0.0733, loss_mask: 0.3530, loss: 1.5319, grad_norm: 13.8610\n",
      "2021-05-20 10:58:07,688 - mmdet - INFO - Epoch [7][300/655]\tlr: 5.000e-05, eta: 3:39:17, time: 1.150, data_time: 0.020, memory: 7458, loss_rpn_cls: 0.0490, loss_rpn_bbox: 0.0357, loss_glbctx: 0.3258, s0.loss_cls: 0.2502, s0.acc: 91.7959, s0.loss_bbox: 0.1494, s1.loss_cls: 0.1102, s1.acc: 92.7443, s1.loss_bbox: 0.1315, s2.loss_cls: 0.0518, s2.acc: 93.1608, s2.loss_bbox: 0.0755, loss_mask: 0.4278, loss: 1.6068, grad_norm: 14.7877\n",
      "2021-05-20 10:59:05,736 - mmdet - INFO - Epoch [7][350/655]\tlr: 5.000e-05, eta: 3:38:34, time: 1.161, data_time: 0.021, memory: 7458, loss_rpn_cls: 0.0448, loss_rpn_bbox: 0.0348, loss_glbctx: 0.3383, s0.loss_cls: 0.2444, s0.acc: 91.7021, s0.loss_bbox: 0.1491, s1.loss_cls: 0.1051, s1.acc: 92.8394, s1.loss_bbox: 0.1308, s2.loss_cls: 0.0500, s2.acc: 93.2235, s2.loss_bbox: 0.0727, loss_mask: 0.3851, loss: 1.5551, grad_norm: 13.3068\n",
      "2021-05-20 11:00:02,684 - mmdet - INFO - Epoch [7][400/655]\tlr: 5.000e-05, eta: 3:37:47, time: 1.139, data_time: 0.020, memory: 7458, loss_rpn_cls: 0.0413, loss_rpn_bbox: 0.0323, loss_glbctx: 0.3183, s0.loss_cls: 0.2253, s0.acc: 92.2607, s0.loss_bbox: 0.1344, s1.loss_cls: 0.1022, s1.acc: 92.9891, s1.loss_bbox: 0.1196, s2.loss_cls: 0.0489, s2.acc: 93.3762, s2.loss_bbox: 0.0689, loss_mask: 0.3440, loss: 1.4353, grad_norm: 14.5971\n",
      "2021-05-20 11:01:00,166 - mmdet - INFO - Epoch [7][450/655]\tlr: 5.000e-05, eta: 3:37:02, time: 1.150, data_time: 0.023, memory: 7458, loss_rpn_cls: 0.0474, loss_rpn_bbox: 0.0422, loss_glbctx: 0.3633, s0.loss_cls: 0.2529, s0.acc: 91.8457, s0.loss_bbox: 0.1491, s1.loss_cls: 0.1116, s1.acc: 92.8637, s1.loss_bbox: 0.1315, s2.loss_cls: 0.0524, s2.acc: 93.2934, s2.loss_bbox: 0.0745, loss_mask: 0.3892, loss: 1.6140, grad_norm: 14.5109\n",
      "2021-05-20 11:01:57,583 - mmdet - INFO - Epoch [7][500/655]\tlr: 5.000e-05, eta: 3:36:16, time: 1.148, data_time: 0.020, memory: 7458, loss_rpn_cls: 0.0435, loss_rpn_bbox: 0.0340, loss_glbctx: 0.3071, s0.loss_cls: 0.2374, s0.acc: 92.0352, s0.loss_bbox: 0.1461, s1.loss_cls: 0.1037, s1.acc: 93.1055, s1.loss_bbox: 0.1258, s2.loss_cls: 0.0485, s2.acc: 93.6705, s2.loss_bbox: 0.0702, loss_mask: 0.3423, loss: 1.4586, grad_norm: 13.4840\n",
      "2021-05-20 11:02:55,128 - mmdet - INFO - Epoch [7][550/655]\tlr: 5.000e-05, eta: 3:35:30, time: 1.151, data_time: 0.021, memory: 7458, loss_rpn_cls: 0.0407, loss_rpn_bbox: 0.0348, loss_glbctx: 0.3379, s0.loss_cls: 0.2390, s0.acc: 92.1572, s0.loss_bbox: 0.1372, s1.loss_cls: 0.1050, s1.acc: 93.2213, s1.loss_bbox: 0.1212, s2.loss_cls: 0.0483, s2.acc: 93.8426, s2.loss_bbox: 0.0713, loss_mask: 0.3502, loss: 1.4858, grad_norm: 14.7154\n",
      "2021-05-20 11:03:52,198 - mmdet - INFO - Epoch [7][600/655]\tlr: 5.000e-05, eta: 3:34:43, time: 1.141, data_time: 0.020, memory: 7458, loss_rpn_cls: 0.0436, loss_rpn_bbox: 0.0345, loss_glbctx: 0.3697, s0.loss_cls: 0.2438, s0.acc: 91.9424, s0.loss_bbox: 0.1448, s1.loss_cls: 0.1072, s1.acc: 92.9977, s1.loss_bbox: 0.1288, s2.loss_cls: 0.0517, s2.acc: 93.1841, s2.loss_bbox: 0.0716, loss_mask: 0.3636, loss: 1.5592, grad_norm: 15.2637\n",
      "2021-05-20 11:04:49,671 - mmdet - INFO - Epoch [7][650/655]\tlr: 5.000e-05, eta: 3:33:56, time: 1.149, data_time: 0.021, memory: 7458, loss_rpn_cls: 0.0469, loss_rpn_bbox: 0.0352, loss_glbctx: 0.3747, s0.loss_cls: 0.2401, s0.acc: 92.1543, s0.loss_bbox: 0.1420, s1.loss_cls: 0.1088, s1.acc: 93.0378, s1.loss_bbox: 0.1235, s2.loss_cls: 0.0523, s2.acc: 93.2713, s2.loss_bbox: 0.0704, loss_mask: 0.3718, loss: 1.5658, grad_norm: 15.4422\n",
      "2021-05-20 11:04:55,194 - mmdet - INFO - Saving checkpoint at 7 epochs\n"
     ]
    },
    {
     "name": "stdout",
     "output_type": "stream",
     "text": [
      "[>>>>>>>>>>>>>>>>>>>>>>>>>>>>>] 655/655, 4.4 task/s, elapsed: 149s, ETA:     0s"
     ]
    },
    {
     "name": "stderr",
     "output_type": "stream",
     "text": [
      "2021-05-20 11:07:30,992 - mmdet - INFO - Evaluating bbox...\n"
     ]
    },
    {
     "name": "stdout",
     "output_type": "stream",
     "text": [
      "Loading and preparing results...\n",
      "DONE (t=0.65s)\n",
      "creating index...\n",
      "index created!\n",
      "Running per image evaluation...\n",
      "Evaluate annotation type *bbox*\n",
      "DONE (t=7.51s).\n",
      "Accumulating evaluation results...\n"
     ]
    },
    {
     "name": "stderr",
     "output_type": "stream",
     "text": [
      "2021-05-20 11:07:40,577 - mmdet - INFO - Evaluating segm...\n"
     ]
    },
    {
     "name": "stdout",
     "output_type": "stream",
     "text": [
      "DONE (t=1.38s).\n",
      "Average Precision  (AP) @[ IoU=0.50:0.95 | area=   all | maxDets=100 ] = 0.220\n",
      "Average Precision  (AP) @[ IoU=0.50      | area=   all | maxDets=1000 ] = 0.355\n",
      "Average Precision  (AP) @[ IoU=0.75      | area=   all | maxDets=1000 ] = 0.237\n",
      "Average Precision  (AP) @[ IoU=0.50:0.95 | area= small | maxDets=1000 ] = 0.035\n",
      "Average Precision  (AP) @[ IoU=0.50:0.95 | area=medium | maxDets=1000 ] = 0.181\n",
      "Average Precision  (AP) @[ IoU=0.50:0.95 | area= large | maxDets=1000 ] = 0.442\n",
      "Average Recall     (AR) @[ IoU=0.50:0.95 | area=   all | maxDets=100 ] = 0.376\n",
      "Average Recall     (AR) @[ IoU=0.50:0.95 | area=   all | maxDets=300 ] = 0.376\n",
      "Average Recall     (AR) @[ IoU=0.50:0.95 | area=   all | maxDets=1000 ] = 0.376\n",
      "Average Recall     (AR) @[ IoU=0.50:0.95 | area= small | maxDets=1000 ] = 0.129\n",
      "Average Recall     (AR) @[ IoU=0.50:0.95 | area=medium | maxDets=1000 ] = 0.342\n",
      "Average Recall     (AR) @[ IoU=0.50:0.95 | area= large | maxDets=1000 ] = 0.612\n",
      "Loading and preparing results...\n",
      "DONE (t=0.97s)\n",
      "creating index...\n",
      "index created!\n",
      "Running per image evaluation...\n",
      "Evaluate annotation type *segm*\n",
      "DONE (t=7.67s).\n",
      "Accumulating evaluation results...\n"
     ]
    },
    {
     "name": "stderr",
     "output_type": "stream",
     "text": [
      "2021-05-20 11:07:50,888 - mmdet - INFO - Epoch(val) [7][655]\tbbox_mAP: 0.2200, bbox_mAP_50: 0.3550, bbox_mAP_75: 0.2370, bbox_mAP_s: 0.0350, bbox_mAP_m: 0.1810, bbox_mAP_l: 0.4420, bbox_mAP_copypaste: 0.220 0.355 0.237 0.035 0.181 0.442, segm_mAP: 0.2130, segm_mAP_50: 0.3350, segm_mAP_75: 0.2200, segm_mAP_s: 0.0280, segm_mAP_m: 0.1700, segm_mAP_l: 0.4500, segm_mAP_copypaste: 0.213 0.335 0.220 0.028 0.170 0.450\n"
     ]
    },
    {
     "name": "stdout",
     "output_type": "stream",
     "text": [
      "DONE (t=1.40s).\n",
      "Average Precision  (AP) @[ IoU=0.50:0.95 | area=   all | maxDets=100 ] = 0.213\n",
      "Average Precision  (AP) @[ IoU=0.50      | area=   all | maxDets=1000 ] = 0.335\n",
      "Average Precision  (AP) @[ IoU=0.75      | area=   all | maxDets=1000 ] = 0.220\n",
      "Average Precision  (AP) @[ IoU=0.50:0.95 | area= small | maxDets=1000 ] = 0.028\n",
      "Average Precision  (AP) @[ IoU=0.50:0.95 | area=medium | maxDets=1000 ] = 0.170\n",
      "Average Precision  (AP) @[ IoU=0.50:0.95 | area= large | maxDets=1000 ] = 0.450\n",
      "Average Recall     (AR) @[ IoU=0.50:0.95 | area=   all | maxDets=100 ] = 0.354\n",
      "Average Recall     (AR) @[ IoU=0.50:0.95 | area=   all | maxDets=300 ] = 0.354\n",
      "Average Recall     (AR) @[ IoU=0.50:0.95 | area=   all | maxDets=1000 ] = 0.354\n",
      "Average Recall     (AR) @[ IoU=0.50:0.95 | area= small | maxDets=1000 ] = 0.104\n",
      "Average Recall     (AR) @[ IoU=0.50:0.95 | area=medium | maxDets=1000 ] = 0.314\n",
      "Average Recall     (AR) @[ IoU=0.50:0.95 | area= large | maxDets=1000 ] = 0.617\n"
     ]
    },
    {
     "name": "stderr",
     "output_type": "stream",
     "text": [
      "2021-05-20 11:08:50,871 - mmdet - INFO - Epoch [8][50/655]\tlr: 5.000e-05, eta: 3:32:57, time: 1.199, data_time: 0.069, memory: 7458, loss_rpn_cls: 0.0381, loss_rpn_bbox: 0.0358, loss_glbctx: 0.2503, s0.loss_cls: 0.2298, s0.acc: 92.4141, s0.loss_bbox: 0.1388, s1.loss_cls: 0.0964, s1.acc: 93.5672, s1.loss_bbox: 0.1192, s2.loss_cls: 0.0463, s2.acc: 93.9280, s2.loss_bbox: 0.0671, loss_mask: 0.3373, loss: 1.3591, grad_norm: 12.1122\n",
      "2021-05-20 11:09:49,744 - mmdet - INFO - Epoch [8][100/655]\tlr: 5.000e-05, eta: 3:32:13, time: 1.177, data_time: 0.021, memory: 7458, loss_rpn_cls: 0.0382, loss_rpn_bbox: 0.0372, loss_glbctx: 0.2574, s0.loss_cls: 0.2485, s0.acc: 91.2891, s0.loss_bbox: 0.1544, s1.loss_cls: 0.1074, s1.acc: 92.5968, s1.loss_bbox: 0.1359, s2.loss_cls: 0.0518, s2.acc: 92.9106, s2.loss_bbox: 0.0758, loss_mask: 0.3556, loss: 1.4622, grad_norm: 13.1572\n",
      "2021-05-20 11:10:47,230 - mmdet - INFO - Epoch [8][150/655]\tlr: 5.000e-05, eta: 3:31:26, time: 1.150, data_time: 0.020, memory: 7458, loss_rpn_cls: 0.0401, loss_rpn_bbox: 0.0330, loss_glbctx: 0.2386, s0.loss_cls: 0.2195, s0.acc: 92.5371, s0.loss_bbox: 0.1377, s1.loss_cls: 0.0942, s1.acc: 93.7883, s1.loss_bbox: 0.1203, s2.loss_cls: 0.0455, s2.acc: 93.9890, s2.loss_bbox: 0.0685, loss_mask: 0.3284, loss: 1.3258, grad_norm: 12.8290\n",
      "2021-05-20 11:11:44,718 - mmdet - INFO - Epoch [8][200/655]\tlr: 5.000e-05, eta: 3:30:39, time: 1.150, data_time: 0.018, memory: 7458, loss_rpn_cls: 0.0353, loss_rpn_bbox: 0.0325, loss_glbctx: 0.2362, s0.loss_cls: 0.2247, s0.acc: 92.4121, s0.loss_bbox: 0.1380, s1.loss_cls: 0.0935, s1.acc: 93.6698, s1.loss_bbox: 0.1195, s2.loss_cls: 0.0453, s2.acc: 93.8470, s2.loss_bbox: 0.0700, loss_mask: 0.3406, loss: 1.3358, grad_norm: 13.6201\n",
      "2021-05-20 11:12:42,477 - mmdet - INFO - Epoch [8][250/655]\tlr: 5.000e-05, eta: 3:29:52, time: 1.155, data_time: 0.021, memory: 7458, loss_rpn_cls: 0.0364, loss_rpn_bbox: 0.0323, loss_glbctx: 0.2462, s0.loss_cls: 0.2175, s0.acc: 92.3955, s0.loss_bbox: 0.1392, s1.loss_cls: 0.0937, s1.acc: 93.5872, s1.loss_bbox: 0.1198, s2.loss_cls: 0.0448, s2.acc: 93.9311, s2.loss_bbox: 0.0675, loss_mask: 0.3305, loss: 1.3279, grad_norm: 13.0765\n",
      "2021-05-20 11:13:42,424 - mmdet - INFO - Epoch [8][300/655]\tlr: 5.000e-05, eta: 3:29:10, time: 1.199, data_time: 0.024, memory: 7458, loss_rpn_cls: 0.0545, loss_rpn_bbox: 0.0424, loss_glbctx: 0.2919, s0.loss_cls: 0.2616, s0.acc: 91.4170, s0.loss_bbox: 0.1560, s1.loss_cls: 0.1139, s1.acc: 92.5663, s1.loss_bbox: 0.1330, s2.loss_cls: 0.0543, s2.acc: 93.0044, s2.loss_bbox: 0.0765, loss_mask: 0.3466, loss: 1.5307, grad_norm: 13.7605\n",
      "2021-05-20 11:14:39,174 - mmdet - INFO - Epoch [8][350/655]\tlr: 5.000e-05, eta: 3:28:21, time: 1.135, data_time: 0.021, memory: 7458, loss_rpn_cls: 0.0414, loss_rpn_bbox: 0.0335, loss_glbctx: 0.2508, s0.loss_cls: 0.2239, s0.acc: 92.4473, s0.loss_bbox: 0.1382, s1.loss_cls: 0.0987, s1.acc: 93.4847, s1.loss_bbox: 0.1182, s2.loss_cls: 0.0471, s2.acc: 93.9479, s2.loss_bbox: 0.0650, loss_mask: 0.3205, loss: 1.3371, grad_norm: 12.6624\n",
      "2021-05-20 11:15:36,503 - mmdet - INFO - Epoch [8][400/655]\tlr: 5.000e-05, eta: 3:27:32, time: 1.147, data_time: 0.020, memory: 7458, loss_rpn_cls: 0.0359, loss_rpn_bbox: 0.0304, loss_glbctx: 0.2084, s0.loss_cls: 0.2270, s0.acc: 92.2549, s0.loss_bbox: 0.1433, s1.loss_cls: 0.0978, s1.acc: 93.3920, s1.loss_bbox: 0.1258, s2.loss_cls: 0.0467, s2.acc: 93.8598, s2.loss_bbox: 0.0714, loss_mask: 0.3303, loss: 1.3170, grad_norm: 13.2351\n",
      "2021-05-20 11:16:34,509 - mmdet - INFO - Epoch [8][450/655]\tlr: 5.000e-05, eta: 3:26:45, time: 1.160, data_time: 0.020, memory: 7458, loss_rpn_cls: 0.0372, loss_rpn_bbox: 0.0301, loss_glbctx: 0.2227, s0.loss_cls: 0.2161, s0.acc: 92.5713, s0.loss_bbox: 0.1398, s1.loss_cls: 0.0928, s1.acc: 93.5940, s1.loss_bbox: 0.1237, s2.loss_cls: 0.0443, s2.acc: 94.0372, s2.loss_bbox: 0.0714, loss_mask: 0.3581, loss: 1.3361, grad_norm: 14.9808\n",
      "2021-05-20 11:17:33,074 - mmdet - INFO - Epoch [8][500/655]\tlr: 5.000e-05, eta: 3:25:59, time: 1.171, data_time: 0.021, memory: 7458, loss_rpn_cls: 0.0405, loss_rpn_bbox: 0.0326, loss_glbctx: 0.2437, s0.loss_cls: 0.2310, s0.acc: 92.1201, s0.loss_bbox: 0.1391, s1.loss_cls: 0.1033, s1.acc: 93.0089, s1.loss_bbox: 0.1245, s2.loss_cls: 0.0504, s2.acc: 93.3464, s2.loss_bbox: 0.0757, loss_mask: 0.3486, loss: 1.3894, grad_norm: 14.9431\n",
      "2021-05-20 11:18:31,038 - mmdet - INFO - Epoch [8][550/655]\tlr: 5.000e-05, eta: 3:25:11, time: 1.159, data_time: 0.021, memory: 7458, loss_rpn_cls: 0.0374, loss_rpn_bbox: 0.0365, loss_glbctx: 0.2362, s0.loss_cls: 0.2415, s0.acc: 91.8789, s0.loss_bbox: 0.1409, s1.loss_cls: 0.1087, s1.acc: 92.6903, s1.loss_bbox: 0.1223, s2.loss_cls: 0.0522, s2.acc: 93.1331, s2.loss_bbox: 0.0730, loss_mask: 0.3392, loss: 1.3878, grad_norm: 13.9578\n",
      "2021-05-20 11:19:27,352 - mmdet - INFO - Epoch [8][600/655]\tlr: 5.000e-05, eta: 3:24:20, time: 1.126, data_time: 0.021, memory: 7458, loss_rpn_cls: 0.0378, loss_rpn_bbox: 0.0356, loss_glbctx: 0.2517, s0.loss_cls: 0.2164, s0.acc: 92.6699, s0.loss_bbox: 0.1339, s1.loss_cls: 0.0968, s1.acc: 93.3916, s1.loss_bbox: 0.1163, s2.loss_cls: 0.0467, s2.acc: 93.5681, s2.loss_bbox: 0.0635, loss_mask: 0.3575, loss: 1.3561, grad_norm: 14.6274\n",
      "2021-05-20 11:20:26,208 - mmdet - INFO - Epoch [8][650/655]\tlr: 5.000e-05, eta: 3:23:34, time: 1.177, data_time: 0.020, memory: 7458, loss_rpn_cls: 0.0396, loss_rpn_bbox: 0.0337, loss_glbctx: 0.2579, s0.loss_cls: 0.2494, s0.acc: 91.7197, s0.loss_bbox: 0.1478, s1.loss_cls: 0.1086, s1.acc: 92.7666, s1.loss_bbox: 0.1282, s2.loss_cls: 0.0522, s2.acc: 93.1374, s2.loss_bbox: 0.0733, loss_mask: 0.3565, loss: 1.4472, grad_norm: 14.1222\n",
      "2021-05-20 11:20:32,646 - mmdet - INFO - Saving checkpoint at 8 epochs\n"
     ]
    },
    {
     "name": "stdout",
     "output_type": "stream",
     "text": [
      "[>>>>>>>>>>>>>>>>>>>>>>>>>>>>>] 655/655, 4.4 task/s, elapsed: 149s, ETA:     0s"
     ]
    },
    {
     "name": "stderr",
     "output_type": "stream",
     "text": [
      "2021-05-20 11:23:08,751 - mmdet - INFO - Evaluating bbox...\n"
     ]
    },
    {
     "name": "stdout",
     "output_type": "stream",
     "text": [
      "Loading and preparing results...\n",
      "DONE (t=0.68s)\n",
      "creating index...\n",
      "index created!\n",
      "Running per image evaluation...\n",
      "Evaluate annotation type *bbox*\n",
      "DONE (t=6.88s).\n",
      "Accumulating evaluation results...\n"
     ]
    },
    {
     "name": "stderr",
     "output_type": "stream",
     "text": [
      "2021-05-20 11:23:17,788 - mmdet - INFO - Evaluating segm...\n"
     ]
    },
    {
     "name": "stdout",
     "output_type": "stream",
     "text": [
      "DONE (t=1.42s).\n",
      "Average Precision  (AP) @[ IoU=0.50:0.95 | area=   all | maxDets=100 ] = 0.219\n",
      "Average Precision  (AP) @[ IoU=0.50      | area=   all | maxDets=1000 ] = 0.372\n",
      "Average Precision  (AP) @[ IoU=0.75      | area=   all | maxDets=1000 ] = 0.219\n",
      "Average Precision  (AP) @[ IoU=0.50:0.95 | area= small | maxDets=1000 ] = 0.035\n",
      "Average Precision  (AP) @[ IoU=0.50:0.95 | area=medium | maxDets=1000 ] = 0.192\n",
      "Average Precision  (AP) @[ IoU=0.50:0.95 | area= large | maxDets=1000 ] = 0.396\n",
      "Average Recall     (AR) @[ IoU=0.50:0.95 | area=   all | maxDets=100 ] = 0.389\n",
      "Average Recall     (AR) @[ IoU=0.50:0.95 | area=   all | maxDets=300 ] = 0.389\n",
      "Average Recall     (AR) @[ IoU=0.50:0.95 | area=   all | maxDets=1000 ] = 0.389\n",
      "Average Recall     (AR) @[ IoU=0.50:0.95 | area= small | maxDets=1000 ] = 0.131\n",
      "Average Recall     (AR) @[ IoU=0.50:0.95 | area=medium | maxDets=1000 ] = 0.375\n",
      "Average Recall     (AR) @[ IoU=0.50:0.95 | area= large | maxDets=1000 ] = 0.674\n",
      "Loading and preparing results...\n",
      "DONE (t=0.95s)\n",
      "creating index...\n",
      "index created!\n",
      "Running per image evaluation...\n",
      "Evaluate annotation type *segm*\n",
      "DONE (t=7.62s).\n",
      "Accumulating evaluation results...\n"
     ]
    },
    {
     "name": "stderr",
     "output_type": "stream",
     "text": [
      "2021-05-20 11:23:28,033 - mmdet - INFO - Epoch(val) [8][655]\tbbox_mAP: 0.2190, bbox_mAP_50: 0.3720, bbox_mAP_75: 0.2190, bbox_mAP_s: 0.0350, bbox_mAP_m: 0.1920, bbox_mAP_l: 0.3960, bbox_mAP_copypaste: 0.219 0.372 0.219 0.035 0.192 0.396, segm_mAP: 0.2020, segm_mAP_50: 0.3260, segm_mAP_75: 0.2030, segm_mAP_s: 0.0270, segm_mAP_m: 0.1730, segm_mAP_l: 0.3840, segm_mAP_copypaste: 0.202 0.326 0.203 0.027 0.173 0.384\n"
     ]
    },
    {
     "name": "stdout",
     "output_type": "stream",
     "text": [
      "DONE (t=1.41s).\n",
      "Average Precision  (AP) @[ IoU=0.50:0.95 | area=   all | maxDets=100 ] = 0.202\n",
      "Average Precision  (AP) @[ IoU=0.50      | area=   all | maxDets=1000 ] = 0.326\n",
      "Average Precision  (AP) @[ IoU=0.75      | area=   all | maxDets=1000 ] = 0.203\n",
      "Average Precision  (AP) @[ IoU=0.50:0.95 | area= small | maxDets=1000 ] = 0.027\n",
      "Average Precision  (AP) @[ IoU=0.50:0.95 | area=medium | maxDets=1000 ] = 0.173\n",
      "Average Precision  (AP) @[ IoU=0.50:0.95 | area= large | maxDets=1000 ] = 0.384\n",
      "Average Recall     (AR) @[ IoU=0.50:0.95 | area=   all | maxDets=100 ] = 0.357\n",
      "Average Recall     (AR) @[ IoU=0.50:0.95 | area=   all | maxDets=300 ] = 0.357\n",
      "Average Recall     (AR) @[ IoU=0.50:0.95 | area=   all | maxDets=1000 ] = 0.357\n",
      "Average Recall     (AR) @[ IoU=0.50:0.95 | area= small | maxDets=1000 ] = 0.101\n",
      "Average Recall     (AR) @[ IoU=0.50:0.95 | area=medium | maxDets=1000 ] = 0.330\n",
      "Average Recall     (AR) @[ IoU=0.50:0.95 | area= large | maxDets=1000 ] = 0.642\n"
     ]
    },
    {
     "name": "stderr",
     "output_type": "stream",
     "text": [
      "2021-05-20 11:24:28,725 - mmdet - INFO - Epoch [9][50/655]\tlr: 5.000e-05, eta: 3:22:34, time: 1.213, data_time: 0.066, memory: 7458, loss_rpn_cls: 0.0342, loss_rpn_bbox: 0.0335, loss_glbctx: 0.1812, s0.loss_cls: 0.2187, s0.acc: 92.4258, s0.loss_bbox: 0.1366, s1.loss_cls: 0.0965, s1.acc: 93.3992, s1.loss_bbox: 0.1244, s2.loss_cls: 0.0472, s2.acc: 93.6311, s2.loss_bbox: 0.0721, loss_mask: 0.3260, loss: 1.2704, grad_norm: 13.1730\n",
      "2021-05-20 11:25:27,922 - mmdet - INFO - Epoch [9][100/655]\tlr: 5.000e-05, eta: 3:21:48, time: 1.184, data_time: 0.022, memory: 7458, loss_rpn_cls: 0.0334, loss_rpn_bbox: 0.0326, loss_glbctx: 0.1874, s0.loss_cls: 0.2216, s0.acc: 92.3594, s0.loss_bbox: 0.1459, s1.loss_cls: 0.0981, s1.acc: 93.3993, s1.loss_bbox: 0.1297, s2.loss_cls: 0.0468, s2.acc: 93.7230, s2.loss_bbox: 0.0734, loss_mask: 0.3391, loss: 1.3080, grad_norm: 12.5784\n",
      "2021-05-20 11:26:26,078 - mmdet - INFO - Epoch [9][150/655]\tlr: 5.000e-05, eta: 3:21:00, time: 1.163, data_time: 0.023, memory: 7458, loss_rpn_cls: 0.0420, loss_rpn_bbox: 0.0377, loss_glbctx: 0.1997, s0.loss_cls: 0.2373, s0.acc: 92.1416, s0.loss_bbox: 0.1438, s1.loss_cls: 0.1045, s1.acc: 93.2284, s1.loss_bbox: 0.1256, s2.loss_cls: 0.0505, s2.acc: 93.4857, s2.loss_bbox: 0.0709, loss_mask: 0.3501, loss: 1.3621, grad_norm: 13.0998\n",
      "2021-05-20 11:27:24,430 - mmdet - INFO - Epoch [9][200/655]\tlr: 5.000e-05, eta: 3:20:12, time: 1.167, data_time: 0.021, memory: 7458, loss_rpn_cls: 0.0377, loss_rpn_bbox: 0.0368, loss_glbctx: 0.1881, s0.loss_cls: 0.2278, s0.acc: 92.0693, s0.loss_bbox: 0.1418, s1.loss_cls: 0.0975, s1.acc: 93.5576, s1.loss_bbox: 0.1225, s2.loss_cls: 0.0475, s2.acc: 93.6880, s2.loss_bbox: 0.0741, loss_mask: 0.3354, loss: 1.3091, grad_norm: 12.2208\n",
      "2021-05-20 11:28:21,515 - mmdet - INFO - Epoch [9][250/655]\tlr: 5.000e-05, eta: 3:19:22, time: 1.142, data_time: 0.020, memory: 7458, loss_rpn_cls: 0.0371, loss_rpn_bbox: 0.0309, loss_glbctx: 0.1630, s0.loss_cls: 0.1961, s0.acc: 93.1621, s0.loss_bbox: 0.1249, s1.loss_cls: 0.0865, s1.acc: 94.0998, s1.loss_bbox: 0.1122, s2.loss_cls: 0.0418, s2.acc: 94.4885, s2.loss_bbox: 0.0679, loss_mask: 0.3013, loss: 1.1617, grad_norm: 11.3657\n",
      "2021-05-20 11:29:19,148 - mmdet - INFO - Epoch [9][300/655]\tlr: 5.000e-05, eta: 3:18:32, time: 1.153, data_time: 0.022, memory: 7458, loss_rpn_cls: 0.0366, loss_rpn_bbox: 0.0372, loss_glbctx: 0.1648, s0.loss_cls: 0.2064, s0.acc: 92.8799, s0.loss_bbox: 0.1201, s1.loss_cls: 0.0890, s1.acc: 94.0405, s1.loss_bbox: 0.1049, s2.loss_cls: 0.0433, s2.acc: 94.2936, s2.loss_bbox: 0.0635, loss_mask: 0.3012, loss: 1.1670, grad_norm: 11.1859\n",
      "2021-05-20 11:30:16,444 - mmdet - INFO - Epoch [9][350/655]\tlr: 5.000e-05, eta: 3:17:41, time: 1.146, data_time: 0.019, memory: 7458, loss_rpn_cls: 0.0291, loss_rpn_bbox: 0.0260, loss_glbctx: 0.1730, s0.loss_cls: 0.1928, s0.acc: 93.4258, s0.loss_bbox: 0.1229, s1.loss_cls: 0.0833, s1.acc: 94.3325, s1.loss_bbox: 0.1061, s2.loss_cls: 0.0393, s2.acc: 94.7663, s2.loss_bbox: 0.0610, loss_mask: 0.3023, loss: 1.1359, grad_norm: 12.6756\n",
      "2021-05-20 11:31:14,328 - mmdet - INFO - Epoch [9][400/655]\tlr: 5.000e-05, eta: 3:16:52, time: 1.158, data_time: 0.020, memory: 7458, loss_rpn_cls: 0.0384, loss_rpn_bbox: 0.0328, loss_glbctx: 0.1684, s0.loss_cls: 0.2124, s0.acc: 92.8125, s0.loss_bbox: 0.1339, s1.loss_cls: 0.0907, s1.acc: 93.9930, s1.loss_bbox: 0.1193, s2.loss_cls: 0.0441, s2.acc: 94.2543, s2.loss_bbox: 0.0701, loss_mask: 0.3265, loss: 1.2365, grad_norm: 13.2259\n",
      "2021-05-20 11:32:12,007 - mmdet - INFO - Epoch [9][450/655]\tlr: 5.000e-05, eta: 3:16:02, time: 1.154, data_time: 0.022, memory: 7458, loss_rpn_cls: 0.0373, loss_rpn_bbox: 0.0347, loss_glbctx: 0.2021, s0.loss_cls: 0.2211, s0.acc: 92.4277, s0.loss_bbox: 0.1375, s1.loss_cls: 0.0996, s1.acc: 93.3409, s1.loss_bbox: 0.1204, s2.loss_cls: 0.0482, s2.acc: 93.5365, s2.loss_bbox: 0.0698, loss_mask: 0.3411, loss: 1.3119, grad_norm: 14.1347\n",
      "2021-05-20 11:33:09,948 - mmdet - INFO - Epoch [9][500/655]\tlr: 5.000e-05, eta: 3:15:12, time: 1.159, data_time: 0.021, memory: 7458, loss_rpn_cls: 0.0369, loss_rpn_bbox: 0.0293, loss_glbctx: 0.2289, s0.loss_cls: 0.2155, s0.acc: 92.6992, s0.loss_bbox: 0.1330, s1.loss_cls: 0.0935, s1.acc: 93.7249, s1.loss_bbox: 0.1209, s2.loss_cls: 0.0458, s2.acc: 93.9389, s2.loss_bbox: 0.0695, loss_mask: 0.3291, loss: 1.3024, grad_norm: 14.9576\n",
      "2021-05-20 11:34:08,535 - mmdet - INFO - Epoch [9][550/655]\tlr: 5.000e-05, eta: 3:14:24, time: 1.172, data_time: 0.022, memory: 7458, loss_rpn_cls: 0.0369, loss_rpn_bbox: 0.0335, loss_glbctx: 0.1879, s0.loss_cls: 0.2265, s0.acc: 92.3545, s0.loss_bbox: 0.1306, s1.loss_cls: 0.0987, s1.acc: 93.2309, s1.loss_bbox: 0.1157, s2.loss_cls: 0.0478, s2.acc: 93.8296, s2.loss_bbox: 0.0696, loss_mask: 0.3058, loss: 1.2531, grad_norm: 13.4782\n",
      "2021-05-20 11:35:06,344 - mmdet - INFO - Epoch [9][600/655]\tlr: 5.000e-05, eta: 3:13:33, time: 1.156, data_time: 0.023, memory: 7458, loss_rpn_cls: 0.0412, loss_rpn_bbox: 0.0340, loss_glbctx: 0.1723, s0.loss_cls: 0.2066, s0.acc: 92.8232, s0.loss_bbox: 0.1283, s1.loss_cls: 0.0893, s1.acc: 93.8607, s1.loss_bbox: 0.1098, s2.loss_cls: 0.0434, s2.acc: 94.2321, s2.loss_bbox: 0.0646, loss_mask: 0.3211, loss: 1.2107, grad_norm: 12.1044\n",
      "2021-05-20 11:36:04,096 - mmdet - INFO - Epoch [9][650/655]\tlr: 5.000e-05, eta: 3:12:43, time: 1.155, data_time: 0.021, memory: 7458, loss_rpn_cls: 0.0328, loss_rpn_bbox: 0.0289, loss_glbctx: 0.1807, s0.loss_cls: 0.2005, s0.acc: 93.0137, s0.loss_bbox: 0.1304, s1.loss_cls: 0.0868, s1.acc: 94.0489, s1.loss_bbox: 0.1145, s2.loss_cls: 0.0431, s2.acc: 94.1839, s2.loss_bbox: 0.0669, loss_mask: 0.3115, loss: 1.1960, grad_norm: 13.1734\n",
      "2021-05-20 11:36:10,314 - mmdet - INFO - Saving checkpoint at 9 epochs\n"
     ]
    },
    {
     "name": "stdout",
     "output_type": "stream",
     "text": [
      "[>>>>>>>>>>>>>>>>>>>>>>>>>>>>>] 655/655, 4.6 task/s, elapsed: 141s, ETA:     0s"
     ]
    },
    {
     "name": "stderr",
     "output_type": "stream",
     "text": [
      "2021-05-20 11:38:38,913 - mmdet - INFO - Evaluating bbox...\n"
     ]
    },
    {
     "name": "stdout",
     "output_type": "stream",
     "text": [
      "Loading and preparing results...\n",
      "DONE (t=0.68s)\n",
      "creating index...\n",
      "index created!\n",
      "Running per image evaluation...\n",
      "Evaluate annotation type *bbox*\n",
      "DONE (t=6.85s).\n",
      "Accumulating evaluation results...\n"
     ]
    },
    {
     "name": "stderr",
     "output_type": "stream",
     "text": [
      "2021-05-20 11:38:47,781 - mmdet - INFO - Evaluating segm...\n"
     ]
    },
    {
     "name": "stdout",
     "output_type": "stream",
     "text": [
      "DONE (t=1.29s).\n",
      "Average Precision  (AP) @[ IoU=0.50:0.95 | area=   all | maxDets=100 ] = 0.226\n",
      "Average Precision  (AP) @[ IoU=0.50      | area=   all | maxDets=1000 ] = 0.371\n",
      "Average Precision  (AP) @[ IoU=0.75      | area=   all | maxDets=1000 ] = 0.221\n",
      "Average Precision  (AP) @[ IoU=0.50:0.95 | area= small | maxDets=1000 ] = 0.037\n",
      "Average Precision  (AP) @[ IoU=0.50:0.95 | area=medium | maxDets=1000 ] = 0.196\n",
      "Average Precision  (AP) @[ IoU=0.50:0.95 | area= large | maxDets=1000 ] = 0.397\n",
      "Average Recall     (AR) @[ IoU=0.50:0.95 | area=   all | maxDets=100 ] = 0.397\n",
      "Average Recall     (AR) @[ IoU=0.50:0.95 | area=   all | maxDets=300 ] = 0.397\n",
      "Average Recall     (AR) @[ IoU=0.50:0.95 | area=   all | maxDets=1000 ] = 0.397\n",
      "Average Recall     (AR) @[ IoU=0.50:0.95 | area= small | maxDets=1000 ] = 0.130\n",
      "Average Recall     (AR) @[ IoU=0.50:0.95 | area=medium | maxDets=1000 ] = 0.382\n",
      "Average Recall     (AR) @[ IoU=0.50:0.95 | area= large | maxDets=1000 ] = 0.650\n",
      "Loading and preparing results...\n",
      "DONE (t=0.90s)\n",
      "creating index...\n",
      "index created!\n",
      "Running per image evaluation...\n",
      "Evaluate annotation type *segm*\n",
      "DONE (t=7.45s).\n",
      "Accumulating evaluation results...\n"
     ]
    },
    {
     "name": "stderr",
     "output_type": "stream",
     "text": [
      "2021-05-20 11:38:57,656 - mmdet - INFO - Epoch(val) [9][655]\tbbox_mAP: 0.2260, bbox_mAP_50: 0.3710, bbox_mAP_75: 0.2210, bbox_mAP_s: 0.0370, bbox_mAP_m: 0.1960, bbox_mAP_l: 0.3970, bbox_mAP_copypaste: 0.226 0.371 0.221 0.037 0.196 0.397, segm_mAP: 0.2080, segm_mAP_50: 0.3340, segm_mAP_75: 0.2100, segm_mAP_s: 0.0310, segm_mAP_m: 0.1770, segm_mAP_l: 0.3900, segm_mAP_copypaste: 0.208 0.334 0.210 0.031 0.177 0.390\n"
     ]
    },
    {
     "name": "stdout",
     "output_type": "stream",
     "text": [
      "DONE (t=1.28s).\n",
      "Average Precision  (AP) @[ IoU=0.50:0.95 | area=   all | maxDets=100 ] = 0.208\n",
      "Average Precision  (AP) @[ IoU=0.50      | area=   all | maxDets=1000 ] = 0.334\n",
      "Average Precision  (AP) @[ IoU=0.75      | area=   all | maxDets=1000 ] = 0.210\n",
      "Average Precision  (AP) @[ IoU=0.50:0.95 | area= small | maxDets=1000 ] = 0.031\n",
      "Average Precision  (AP) @[ IoU=0.50:0.95 | area=medium | maxDets=1000 ] = 0.177\n",
      "Average Precision  (AP) @[ IoU=0.50:0.95 | area= large | maxDets=1000 ] = 0.390\n",
      "Average Recall     (AR) @[ IoU=0.50:0.95 | area=   all | maxDets=100 ] = 0.371\n",
      "Average Recall     (AR) @[ IoU=0.50:0.95 | area=   all | maxDets=300 ] = 0.371\n",
      "Average Recall     (AR) @[ IoU=0.50:0.95 | area=   all | maxDets=1000 ] = 0.371\n",
      "Average Recall     (AR) @[ IoU=0.50:0.95 | area= small | maxDets=1000 ] = 0.108\n",
      "Average Recall     (AR) @[ IoU=0.50:0.95 | area=medium | maxDets=1000 ] = 0.339\n",
      "Average Recall     (AR) @[ IoU=0.50:0.95 | area= large | maxDets=1000 ] = 0.659\n"
     ]
    },
    {
     "name": "stderr",
     "output_type": "stream",
     "text": [
      "2021-05-20 11:39:59,208 - mmdet - INFO - Epoch [10][50/655]\tlr: 5.000e-05, eta: 3:11:44, time: 1.231, data_time: 0.072, memory: 7459, loss_rpn_cls: 0.0329, loss_rpn_bbox: 0.0352, loss_glbctx: 0.1482, s0.loss_cls: 0.2208, s0.acc: 92.3711, s0.loss_bbox: 0.1441, s1.loss_cls: 0.0961, s1.acc: 93.5081, s1.loss_bbox: 0.1260, s2.loss_cls: 0.0474, s2.acc: 93.4914, s2.loss_bbox: 0.0716, loss_mask: 0.3230, loss: 1.2452, grad_norm: 11.7094\n",
      "2021-05-20 11:40:56,969 - mmdet - INFO - Epoch [10][100/655]\tlr: 5.000e-05, eta: 3:10:53, time: 1.155, data_time: 0.021, memory: 7459, loss_rpn_cls: 0.0338, loss_rpn_bbox: 0.0316, loss_glbctx: 0.1231, s0.loss_cls: 0.1935, s0.acc: 93.3096, s0.loss_bbox: 0.1178, s1.loss_cls: 0.0847, s1.acc: 94.2113, s1.loss_bbox: 0.1040, s2.loss_cls: 0.0410, s2.acc: 94.6622, s2.loss_bbox: 0.0644, loss_mask: 0.2926, loss: 1.0864, grad_norm: 11.7146\n",
      "2021-05-20 11:41:55,229 - mmdet - INFO - Epoch [10][150/655]\tlr: 5.000e-05, eta: 3:10:03, time: 1.165, data_time: 0.023, memory: 7459, loss_rpn_cls: 0.0355, loss_rpn_bbox: 0.0322, loss_glbctx: 0.1229, s0.loss_cls: 0.2000, s0.acc: 92.9092, s0.loss_bbox: 0.1294, s1.loss_cls: 0.0846, s1.acc: 94.1401, s1.loss_bbox: 0.1141, s2.loss_cls: 0.0418, s2.acc: 94.2203, s2.loss_bbox: 0.0656, loss_mask: 0.2992, loss: 1.1252, grad_norm: 10.6703\n",
      "2021-05-20 11:42:53,761 - mmdet - INFO - Epoch [10][200/655]\tlr: 5.000e-05, eta: 3:09:14, time: 1.171, data_time: 0.019, memory: 7459, loss_rpn_cls: 0.0288, loss_rpn_bbox: 0.0276, loss_glbctx: 0.1535, s0.loss_cls: 0.1924, s0.acc: 93.3838, s0.loss_bbox: 0.1161, s1.loss_cls: 0.0834, s1.acc: 94.4073, s1.loss_bbox: 0.1073, s2.loss_cls: 0.0402, s2.acc: 94.8512, s2.loss_bbox: 0.0671, loss_mask: 0.2988, loss: 1.1151, grad_norm: 12.2294\n",
      "2021-05-20 11:43:52,802 - mmdet - INFO - Epoch [10][250/655]\tlr: 5.000e-05, eta: 3:08:25, time: 1.181, data_time: 0.022, memory: 7459, loss_rpn_cls: 0.0319, loss_rpn_bbox: 0.0319, loss_glbctx: 0.1748, s0.loss_cls: 0.2173, s0.acc: 92.3730, s0.loss_bbox: 0.1383, s1.loss_cls: 0.0930, s1.acc: 93.6229, s1.loss_bbox: 0.1224, s2.loss_cls: 0.0446, s2.acc: 93.8828, s2.loss_bbox: 0.0693, loss_mask: 0.3052, loss: 1.2287, grad_norm: 12.5773\n",
      "2021-05-20 11:44:52,504 - mmdet - INFO - Epoch [10][300/655]\tlr: 5.000e-05, eta: 3:07:37, time: 1.194, data_time: 0.023, memory: 7459, loss_rpn_cls: 0.0395, loss_rpn_bbox: 0.0375, loss_glbctx: 0.1756, s0.loss_cls: 0.2365, s0.acc: 91.9922, s0.loss_bbox: 0.1453, s1.loss_cls: 0.0986, s1.acc: 93.3030, s1.loss_bbox: 0.1259, s2.loss_cls: 0.0474, s2.acc: 93.7431, s2.loss_bbox: 0.0752, loss_mask: 0.3193, loss: 1.3008, grad_norm: 12.9397\n",
      "2021-05-20 11:45:50,792 - mmdet - INFO - Epoch [10][350/655]\tlr: 5.000e-05, eta: 3:06:47, time: 1.166, data_time: 0.022, memory: 7459, loss_rpn_cls: 0.0311, loss_rpn_bbox: 0.0319, loss_glbctx: 0.1477, s0.loss_cls: 0.2083, s0.acc: 92.8477, s0.loss_bbox: 0.1288, s1.loss_cls: 0.0916, s1.acc: 93.8460, s1.loss_bbox: 0.1123, s2.loss_cls: 0.0442, s2.acc: 94.0837, s2.loss_bbox: 0.0642, loss_mask: 0.3915, loss: 1.2515, grad_norm: 13.6890\n",
      "2021-05-20 11:46:49,730 - mmdet - INFO - Epoch [10][400/655]\tlr: 5.000e-05, eta: 3:05:57, time: 1.179, data_time: 0.022, memory: 7459, loss_rpn_cls: 0.0335, loss_rpn_bbox: 0.0321, loss_glbctx: 0.1445, s0.loss_cls: 0.2134, s0.acc: 92.6611, s0.loss_bbox: 0.1351, s1.loss_cls: 0.0924, s1.acc: 93.7077, s1.loss_bbox: 0.1202, s2.loss_cls: 0.0460, s2.acc: 93.9059, s2.loss_bbox: 0.0722, loss_mask: 0.3111, loss: 1.2004, grad_norm: 11.9159\n",
      "2021-05-20 11:47:46,957 - mmdet - INFO - Epoch [10][450/655]\tlr: 5.000e-05, eta: 3:05:05, time: 1.145, data_time: 0.019, memory: 7459, loss_rpn_cls: 0.0328, loss_rpn_bbox: 0.0282, loss_glbctx: 0.1196, s0.loss_cls: 0.2008, s0.acc: 93.1377, s0.loss_bbox: 0.1180, s1.loss_cls: 0.0874, s1.acc: 94.2056, s1.loss_bbox: 0.1077, s2.loss_cls: 0.0419, s2.acc: 94.5420, s2.loss_bbox: 0.0671, loss_mask: 0.3110, loss: 1.1146, grad_norm: 12.0273\n",
      "2021-05-20 11:48:45,265 - mmdet - INFO - Epoch [10][500/655]\tlr: 5.000e-05, eta: 3:04:14, time: 1.166, data_time: 0.024, memory: 7459, loss_rpn_cls: 0.0362, loss_rpn_bbox: 0.0324, loss_glbctx: 0.1596, s0.loss_cls: 0.2178, s0.acc: 92.8242, s0.loss_bbox: 0.1260, s1.loss_cls: 0.0940, s1.acc: 93.9118, s1.loss_bbox: 0.1126, s2.loss_cls: 0.0459, s2.acc: 94.0308, s2.loss_bbox: 0.0659, loss_mask: 0.3285, loss: 1.2188, grad_norm: 13.4538\n",
      "2021-05-20 11:49:44,452 - mmdet - INFO - Epoch [10][550/655]\tlr: 5.000e-05, eta: 3:03:24, time: 1.184, data_time: 0.022, memory: 7459, loss_rpn_cls: 0.0314, loss_rpn_bbox: 0.0322, loss_glbctx: 0.1388, s0.loss_cls: 0.2099, s0.acc: 92.7246, s0.loss_bbox: 0.1330, s1.loss_cls: 0.0894, s1.acc: 93.9350, s1.loss_bbox: 0.1190, s2.loss_cls: 0.0440, s2.acc: 94.1268, s2.loss_bbox: 0.0712, loss_mask: 0.3237, loss: 1.1928, grad_norm: 12.8317\n",
      "2021-05-20 11:50:40,890 - mmdet - INFO - Epoch [10][600/655]\tlr: 5.000e-05, eta: 3:02:31, time: 1.129, data_time: 0.019, memory: 7459, loss_rpn_cls: 0.0276, loss_rpn_bbox: 0.0251, loss_glbctx: 0.1441, s0.loss_cls: 0.1795, s0.acc: 93.8018, s0.loss_bbox: 0.1065, s1.loss_cls: 0.0785, s1.acc: 94.6053, s1.loss_bbox: 0.0968, s2.loss_cls: 0.0392, s2.acc: 94.7341, s2.loss_bbox: 0.0608, loss_mask: 0.2894, loss: 1.0477, grad_norm: 12.0628\n",
      "2021-05-20 11:51:38,641 - mmdet - INFO - Epoch [10][650/655]\tlr: 5.000e-05, eta: 3:01:39, time: 1.155, data_time: 0.020, memory: 7459, loss_rpn_cls: 0.0292, loss_rpn_bbox: 0.0313, loss_glbctx: 0.1804, s0.loss_cls: 0.1952, s0.acc: 93.2021, s0.loss_bbox: 0.1215, s1.loss_cls: 0.0845, s1.acc: 94.2786, s1.loss_bbox: 0.1109, s2.loss_cls: 0.0407, s2.acc: 94.6070, s2.loss_bbox: 0.0642, loss_mask: 0.3259, loss: 1.1838, grad_norm: 13.1385\n",
      "2021-05-20 11:51:44,925 - mmdet - INFO - Saving checkpoint at 10 epochs\n"
     ]
    },
    {
     "name": "stdout",
     "output_type": "stream",
     "text": [
      "[>>>>>>>>>>>>>>>>>>>>>>>>>>>>>] 655/655, 4.6 task/s, elapsed: 144s, ETA:     0s"
     ]
    },
    {
     "name": "stderr",
     "output_type": "stream",
     "text": [
      "2021-05-20 11:54:17,253 - mmdet - INFO - Evaluating bbox...\n"
     ]
    },
    {
     "name": "stdout",
     "output_type": "stream",
     "text": [
      "Loading and preparing results...\n",
      "DONE (t=0.66s)\n",
      "creating index...\n",
      "index created!\n",
      "Running per image evaluation...\n",
      "Evaluate annotation type *bbox*\n",
      "DONE (t=7.09s).\n",
      "Accumulating evaluation results...\n"
     ]
    },
    {
     "name": "stderr",
     "output_type": "stream",
     "text": [
      "2021-05-20 11:54:26,364 - mmdet - INFO - Evaluating segm...\n"
     ]
    },
    {
     "name": "stdout",
     "output_type": "stream",
     "text": [
      "DONE (t=1.32s).\n",
      "Average Precision  (AP) @[ IoU=0.50:0.95 | area=   all | maxDets=100 ] = 0.229\n",
      "Average Precision  (AP) @[ IoU=0.50      | area=   all | maxDets=1000 ] = 0.382\n",
      "Average Precision  (AP) @[ IoU=0.75      | area=   all | maxDets=1000 ] = 0.231\n",
      "Average Precision  (AP) @[ IoU=0.50:0.95 | area= small | maxDets=1000 ] = 0.037\n",
      "Average Precision  (AP) @[ IoU=0.50:0.95 | area=medium | maxDets=1000 ] = 0.205\n",
      "Average Precision  (AP) @[ IoU=0.50:0.95 | area= large | maxDets=1000 ] = 0.407\n",
      "Average Recall     (AR) @[ IoU=0.50:0.95 | area=   all | maxDets=100 ] = 0.377\n",
      "Average Recall     (AR) @[ IoU=0.50:0.95 | area=   all | maxDets=300 ] = 0.377\n",
      "Average Recall     (AR) @[ IoU=0.50:0.95 | area=   all | maxDets=1000 ] = 0.377\n",
      "Average Recall     (AR) @[ IoU=0.50:0.95 | area= small | maxDets=1000 ] = 0.126\n",
      "Average Recall     (AR) @[ IoU=0.50:0.95 | area=medium | maxDets=1000 ] = 0.370\n",
      "Average Recall     (AR) @[ IoU=0.50:0.95 | area= large | maxDets=1000 ] = 0.615\n",
      "Loading and preparing results...\n",
      "DONE (t=0.92s)\n",
      "creating index...\n",
      "index created!\n",
      "Running per image evaluation...\n",
      "Evaluate annotation type *segm*\n",
      "DONE (t=7.67s).\n",
      "Accumulating evaluation results...\n"
     ]
    },
    {
     "name": "stderr",
     "output_type": "stream",
     "text": [
      "2021-05-20 11:54:36,515 - mmdet - INFO - Epoch(val) [10][655]\tbbox_mAP: 0.2290, bbox_mAP_50: 0.3820, bbox_mAP_75: 0.2310, bbox_mAP_s: 0.0370, bbox_mAP_m: 0.2050, bbox_mAP_l: 0.4070, bbox_mAP_copypaste: 0.229 0.382 0.231 0.037 0.205 0.407, segm_mAP: 0.2190, segm_mAP_50: 0.3550, segm_mAP_75: 0.2260, segm_mAP_s: 0.0290, segm_mAP_m: 0.1920, segm_mAP_l: 0.4100, segm_mAP_copypaste: 0.219 0.355 0.226 0.029 0.192 0.410\n"
     ]
    },
    {
     "name": "stdout",
     "output_type": "stream",
     "text": [
      "DONE (t=1.32s).\n",
      "Average Precision  (AP) @[ IoU=0.50:0.95 | area=   all | maxDets=100 ] = 0.219\n",
      "Average Precision  (AP) @[ IoU=0.50      | area=   all | maxDets=1000 ] = 0.355\n",
      "Average Precision  (AP) @[ IoU=0.75      | area=   all | maxDets=1000 ] = 0.226\n",
      "Average Precision  (AP) @[ IoU=0.50:0.95 | area= small | maxDets=1000 ] = 0.029\n",
      "Average Precision  (AP) @[ IoU=0.50:0.95 | area=medium | maxDets=1000 ] = 0.192\n",
      "Average Precision  (AP) @[ IoU=0.50:0.95 | area= large | maxDets=1000 ] = 0.410\n",
      "Average Recall     (AR) @[ IoU=0.50:0.95 | area=   all | maxDets=100 ] = 0.364\n",
      "Average Recall     (AR) @[ IoU=0.50:0.95 | area=   all | maxDets=300 ] = 0.364\n",
      "Average Recall     (AR) @[ IoU=0.50:0.95 | area=   all | maxDets=1000 ] = 0.364\n",
      "Average Recall     (AR) @[ IoU=0.50:0.95 | area= small | maxDets=1000 ] = 0.100\n",
      "Average Recall     (AR) @[ IoU=0.50:0.95 | area=medium | maxDets=1000 ] = 0.339\n",
      "Average Recall     (AR) @[ IoU=0.50:0.95 | area= large | maxDets=1000 ] = 0.631\n"
     ]
    },
    {
     "name": "stderr",
     "output_type": "stream",
     "text": [
      "2021-05-20 11:55:38,118 - mmdet - INFO - Epoch [11][50/655]\tlr: 5.000e-05, eta: 3:00:38, time: 1.232, data_time: 0.068, memory: 7459, loss_rpn_cls: 0.0296, loss_rpn_bbox: 0.0316, loss_glbctx: 0.1179, s0.loss_cls: 0.2052, s0.acc: 92.8857, s0.loss_bbox: 0.1283, s1.loss_cls: 0.0851, s1.acc: 94.1435, s1.loss_bbox: 0.1129, s2.loss_cls: 0.0406, s2.acc: 94.4208, s2.loss_bbox: 0.0678, loss_mask: 0.3106, loss: 1.1296, grad_norm: 11.5631\n",
      "2021-05-20 11:56:36,247 - mmdet - INFO - Epoch [11][100/655]\tlr: 5.000e-05, eta: 2:59:47, time: 1.163, data_time: 0.022, memory: 7459, loss_rpn_cls: 0.0274, loss_rpn_bbox: 0.0310, loss_glbctx: 0.1350, s0.loss_cls: 0.1959, s0.acc: 93.1768, s0.loss_bbox: 0.1193, s1.loss_cls: 0.0843, s1.acc: 94.1538, s1.loss_bbox: 0.1038, s2.loss_cls: 0.0422, s2.acc: 94.2534, s2.loss_bbox: 0.0641, loss_mask: 0.3040, loss: 1.1070, grad_norm: 12.2105\n",
      "2021-05-20 11:57:35,955 - mmdet - INFO - Epoch [11][150/655]\tlr: 5.000e-05, eta: 2:58:58, time: 1.194, data_time: 0.023, memory: 7459, loss_rpn_cls: 0.0309, loss_rpn_bbox: 0.0334, loss_glbctx: 0.1152, s0.loss_cls: 0.2099, s0.acc: 92.6221, s0.loss_bbox: 0.1316, s1.loss_cls: 0.0869, s1.acc: 94.0181, s1.loss_bbox: 0.1183, s2.loss_cls: 0.0427, s2.acc: 94.3576, s2.loss_bbox: 0.0711, loss_mask: 0.3055, loss: 1.1455, grad_norm: 11.0133\n",
      "2021-05-20 11:58:34,139 - mmdet - INFO - Epoch [11][200/655]\tlr: 5.000e-05, eta: 2:58:06, time: 1.164, data_time: 0.024, memory: 7459, loss_rpn_cls: 0.0311, loss_rpn_bbox: 0.0305, loss_glbctx: 0.0801, s0.loss_cls: 0.2022, s0.acc: 92.9785, s0.loss_bbox: 0.1239, s1.loss_cls: 0.0874, s1.acc: 94.0006, s1.loss_bbox: 0.1109, s2.loss_cls: 0.0438, s2.acc: 94.1543, s2.loss_bbox: 0.0671, loss_mask: 0.3043, loss: 1.0814, grad_norm: 10.5679\n",
      "2021-05-20 11:59:33,244 - mmdet - INFO - Epoch [11][250/655]\tlr: 5.000e-05, eta: 2:57:16, time: 1.182, data_time: 0.020, memory: 7459, loss_rpn_cls: 0.0330, loss_rpn_bbox: 0.0320, loss_glbctx: 0.1027, s0.loss_cls: 0.1985, s0.acc: 93.1074, s0.loss_bbox: 0.1226, s1.loss_cls: 0.0856, s1.acc: 94.1941, s1.loss_bbox: 0.1100, s2.loss_cls: 0.0437, s2.acc: 94.0190, s2.loss_bbox: 0.0676, loss_mask: 0.2962, loss: 1.0920, grad_norm: 11.6391\n",
      "2021-05-20 12:00:30,929 - mmdet - INFO - Epoch [11][300/655]\tlr: 5.000e-05, eta: 2:56:23, time: 1.154, data_time: 0.019, memory: 7459, loss_rpn_cls: 0.0237, loss_rpn_bbox: 0.0290, loss_glbctx: 0.1031, s0.loss_cls: 0.1693, s0.acc: 94.1738, s0.loss_bbox: 0.1062, s1.loss_cls: 0.0720, s1.acc: 95.1432, s1.loss_bbox: 0.0959, s2.loss_cls: 0.0343, s2.acc: 95.3831, s2.loss_bbox: 0.0583, loss_mask: 0.2913, loss: 0.9832, grad_norm: 11.2453\n",
      "2021-05-20 12:01:29,019 - mmdet - INFO - Epoch [11][350/655]\tlr: 5.000e-05, eta: 2:55:31, time: 1.162, data_time: 0.019, memory: 7459, loss_rpn_cls: 0.0275, loss_rpn_bbox: 0.0303, loss_glbctx: 0.1641, s0.loss_cls: 0.1965, s0.acc: 93.1865, s0.loss_bbox: 0.1149, s1.loss_cls: 0.0861, s1.acc: 94.2536, s1.loss_bbox: 0.1040, s2.loss_cls: 0.0418, s2.acc: 94.6206, s2.loss_bbox: 0.0635, loss_mask: 0.2862, loss: 1.1151, grad_norm: 12.8373\n",
      "2021-05-20 12:02:26,236 - mmdet - INFO - Epoch [11][400/655]\tlr: 5.000e-05, eta: 2:54:38, time: 1.144, data_time: 0.019, memory: 7459, loss_rpn_cls: 0.0274, loss_rpn_bbox: 0.0272, loss_glbctx: 0.1068, s0.loss_cls: 0.1805, s0.acc: 93.7129, s0.loss_bbox: 0.1115, s1.loss_cls: 0.0794, s1.acc: 94.5495, s1.loss_bbox: 0.0993, s2.loss_cls: 0.0380, s2.acc: 94.8523, s2.loss_bbox: 0.0607, loss_mask: 0.2950, loss: 1.0257, grad_norm: 10.8960\n",
      "2021-05-20 12:03:24,930 - mmdet - INFO - Epoch [11][450/655]\tlr: 5.000e-05, eta: 2:53:46, time: 1.174, data_time: 0.020, memory: 7459, loss_rpn_cls: 0.0283, loss_rpn_bbox: 0.0278, loss_glbctx: 0.1306, s0.loss_cls: 0.1827, s0.acc: 93.5107, s0.loss_bbox: 0.1222, s1.loss_cls: 0.0798, s1.acc: 94.6021, s1.loss_bbox: 0.1099, s2.loss_cls: 0.0393, s2.acc: 94.6390, s2.loss_bbox: 0.0679, loss_mask: 0.3078, loss: 1.0962, grad_norm: 12.1321\n",
      "2021-05-20 12:04:23,135 - mmdet - INFO - Epoch [11][500/655]\tlr: 5.000e-05, eta: 2:52:54, time: 1.164, data_time: 0.022, memory: 7459, loss_rpn_cls: 0.0287, loss_rpn_bbox: 0.0293, loss_glbctx: 0.0920, s0.loss_cls: 0.1816, s0.acc: 93.5293, s0.loss_bbox: 0.1224, s1.loss_cls: 0.0794, s1.acc: 94.4185, s1.loss_bbox: 0.1096, s2.loss_cls: 0.0390, s2.acc: 94.6301, s2.loss_bbox: 0.0664, loss_mask: 0.3110, loss: 1.0595, grad_norm: 11.2031\n",
      "2021-05-20 12:05:21,335 - mmdet - INFO - Epoch [11][550/655]\tlr: 5.000e-05, eta: 2:52:02, time: 1.164, data_time: 0.020, memory: 7459, loss_rpn_cls: 0.0316, loss_rpn_bbox: 0.0312, loss_glbctx: 0.1293, s0.loss_cls: 0.1922, s0.acc: 93.3008, s0.loss_bbox: 0.1205, s1.loss_cls: 0.0841, s1.acc: 94.2012, s1.loss_bbox: 0.1082, s2.loss_cls: 0.0402, s2.acc: 94.5243, s2.loss_bbox: 0.0649, loss_mask: 0.2950, loss: 1.0973, grad_norm: 12.8723\n",
      "2021-05-20 12:06:19,753 - mmdet - INFO - Epoch [11][600/655]\tlr: 5.000e-05, eta: 2:51:10, time: 1.168, data_time: 0.019, memory: 7459, loss_rpn_cls: 0.0293, loss_rpn_bbox: 0.0281, loss_glbctx: 0.1348, s0.loss_cls: 0.2041, s0.acc: 92.9463, s0.loss_bbox: 0.1307, s1.loss_cls: 0.0903, s1.acc: 93.7370, s1.loss_bbox: 0.1168, s2.loss_cls: 0.0440, s2.acc: 94.0082, s2.loss_bbox: 0.0716, loss_mask: 0.3076, loss: 1.1572, grad_norm: 13.8322\n",
      "2021-05-20 12:07:18,670 - mmdet - INFO - Epoch [11][650/655]\tlr: 5.000e-05, eta: 2:50:18, time: 1.178, data_time: 0.021, memory: 7459, loss_rpn_cls: 0.0303, loss_rpn_bbox: 0.0305, loss_glbctx: 0.1540, s0.loss_cls: 0.1957, s0.acc: 93.1963, s0.loss_bbox: 0.1244, s1.loss_cls: 0.0847, s1.acc: 94.2342, s1.loss_bbox: 0.1135, s2.loss_cls: 0.0421, s2.acc: 94.4222, s2.loss_bbox: 0.0675, loss_mask: 0.2831, loss: 1.1257, grad_norm: 12.4879\n",
      "2021-05-20 12:07:24,784 - mmdet - INFO - Saving checkpoint at 11 epochs\n"
     ]
    },
    {
     "name": "stdout",
     "output_type": "stream",
     "text": [
      "[>>>>>>>>>>>>>>>>>>>>>>>>>>>>>] 655/655, 4.7 task/s, elapsed: 138s, ETA:     0s"
     ]
    },
    {
     "name": "stderr",
     "output_type": "stream",
     "text": [
      "2021-05-20 12:09:50,670 - mmdet - INFO - Evaluating bbox...\n"
     ]
    },
    {
     "name": "stdout",
     "output_type": "stream",
     "text": [
      "Loading and preparing results...\n",
      "DONE (t=0.65s)\n",
      "creating index...\n",
      "index created!\n",
      "Running per image evaluation...\n",
      "Evaluate annotation type *bbox*\n",
      "DONE (t=6.45s).\n",
      "Accumulating evaluation results...\n"
     ]
    },
    {
     "name": "stderr",
     "output_type": "stream",
     "text": [
      "2021-05-20 12:09:59,079 - mmdet - INFO - Evaluating segm...\n"
     ]
    },
    {
     "name": "stdout",
     "output_type": "stream",
     "text": [
      "DONE (t=1.26s).\n",
      "Average Precision  (AP) @[ IoU=0.50:0.95 | area=   all | maxDets=100 ] = 0.229\n",
      "Average Precision  (AP) @[ IoU=0.50      | area=   all | maxDets=1000 ] = 0.373\n",
      "Average Precision  (AP) @[ IoU=0.75      | area=   all | maxDets=1000 ] = 0.225\n",
      "Average Precision  (AP) @[ IoU=0.50:0.95 | area= small | maxDets=1000 ] = 0.049\n",
      "Average Precision  (AP) @[ IoU=0.50:0.95 | area=medium | maxDets=1000 ] = 0.205\n",
      "Average Precision  (AP) @[ IoU=0.50:0.95 | area= large | maxDets=1000 ] = 0.428\n",
      "Average Recall     (AR) @[ IoU=0.50:0.95 | area=   all | maxDets=100 ] = 0.394\n",
      "Average Recall     (AR) @[ IoU=0.50:0.95 | area=   all | maxDets=300 ] = 0.394\n",
      "Average Recall     (AR) @[ IoU=0.50:0.95 | area=   all | maxDets=1000 ] = 0.394\n",
      "Average Recall     (AR) @[ IoU=0.50:0.95 | area= small | maxDets=1000 ] = 0.140\n",
      "Average Recall     (AR) @[ IoU=0.50:0.95 | area=medium | maxDets=1000 ] = 0.386\n",
      "Average Recall     (AR) @[ IoU=0.50:0.95 | area= large | maxDets=1000 ] = 0.623\n",
      "Loading and preparing results...\n",
      "DONE (t=0.90s)\n",
      "creating index...\n",
      "index created!\n",
      "Running per image evaluation...\n",
      "Evaluate annotation type *segm*\n",
      "DONE (t=7.18s).\n",
      "Accumulating evaluation results...\n"
     ]
    },
    {
     "name": "stderr",
     "output_type": "stream",
     "text": [
      "2021-05-20 12:10:08,652 - mmdet - INFO - Epoch(val) [11][655]\tbbox_mAP: 0.2290, bbox_mAP_50: 0.3730, bbox_mAP_75: 0.2250, bbox_mAP_s: 0.0490, bbox_mAP_m: 0.2050, bbox_mAP_l: 0.4280, bbox_mAP_copypaste: 0.229 0.373 0.225 0.049 0.205 0.428, segm_mAP: 0.2300, segm_mAP_50: 0.3550, segm_mAP_75: 0.2320, segm_mAP_s: 0.0410, segm_mAP_m: 0.2010, segm_mAP_l: 0.4430, segm_mAP_copypaste: 0.230 0.355 0.232 0.041 0.201 0.443\n"
     ]
    },
    {
     "name": "stdout",
     "output_type": "stream",
     "text": [
      "DONE (t=1.23s).\n",
      "Average Precision  (AP) @[ IoU=0.50:0.95 | area=   all | maxDets=100 ] = 0.230\n",
      "Average Precision  (AP) @[ IoU=0.50      | area=   all | maxDets=1000 ] = 0.355\n",
      "Average Precision  (AP) @[ IoU=0.75      | area=   all | maxDets=1000 ] = 0.232\n",
      "Average Precision  (AP) @[ IoU=0.50:0.95 | area= small | maxDets=1000 ] = 0.041\n",
      "Average Precision  (AP) @[ IoU=0.50:0.95 | area=medium | maxDets=1000 ] = 0.201\n",
      "Average Precision  (AP) @[ IoU=0.50:0.95 | area= large | maxDets=1000 ] = 0.443\n",
      "Average Recall     (AR) @[ IoU=0.50:0.95 | area=   all | maxDets=100 ] = 0.385\n",
      "Average Recall     (AR) @[ IoU=0.50:0.95 | area=   all | maxDets=300 ] = 0.385\n",
      "Average Recall     (AR) @[ IoU=0.50:0.95 | area=   all | maxDets=1000 ] = 0.385\n",
      "Average Recall     (AR) @[ IoU=0.50:0.95 | area= small | maxDets=1000 ] = 0.114\n",
      "Average Recall     (AR) @[ IoU=0.50:0.95 | area=medium | maxDets=1000 ] = 0.370\n",
      "Average Recall     (AR) @[ IoU=0.50:0.95 | area= large | maxDets=1000 ] = 0.644\n"
     ]
    },
    {
     "name": "stderr",
     "output_type": "stream",
     "text": [
      "2021-05-20 12:11:09,219 - mmdet - INFO - Epoch [12][50/655]\tlr: 5.000e-05, eta: 2:49:16, time: 1.211, data_time: 0.072, memory: 7459, loss_rpn_cls: 0.0239, loss_rpn_bbox: 0.0313, loss_glbctx: 0.1090, s0.loss_cls: 0.1851, s0.acc: 93.4131, s0.loss_bbox: 0.1160, s1.loss_cls: 0.0797, s1.acc: 94.4671, s1.loss_bbox: 0.1046, s2.loss_cls: 0.0393, s2.acc: 94.6138, s2.loss_bbox: 0.0644, loss_mask: 0.2851, loss: 1.0384, grad_norm: 11.9794\n",
      "2021-05-20 12:12:08,332 - mmdet - INFO - Epoch [12][100/655]\tlr: 5.000e-05, eta: 2:48:25, time: 1.182, data_time: 0.024, memory: 7459, loss_rpn_cls: 0.0284, loss_rpn_bbox: 0.0302, loss_glbctx: 0.1164, s0.loss_cls: 0.1955, s0.acc: 93.2246, s0.loss_bbox: 0.1196, s1.loss_cls: 0.0819, s1.acc: 94.4565, s1.loss_bbox: 0.1078, s2.loss_cls: 0.0395, s2.acc: 94.7015, s2.loss_bbox: 0.0652, loss_mask: 0.2815, loss: 1.0658, grad_norm: 11.6898\n",
      "2021-05-20 12:13:06,757 - mmdet - INFO - Epoch [12][150/655]\tlr: 5.000e-05, eta: 2:47:32, time: 1.169, data_time: 0.021, memory: 7459, loss_rpn_cls: 0.0242, loss_rpn_bbox: 0.0279, loss_glbctx: 0.1232, s0.loss_cls: 0.1723, s0.acc: 94.0107, s0.loss_bbox: 0.1077, s1.loss_cls: 0.0715, s1.acc: 95.3033, s1.loss_bbox: 0.0967, s2.loss_cls: 0.0349, s2.acc: 95.3201, s2.loss_bbox: 0.0616, loss_mask: 0.2835, loss: 1.0036, grad_norm: 12.2435\n",
      "2021-05-20 12:14:04,816 - mmdet - INFO - Epoch [12][200/655]\tlr: 5.000e-05, eta: 2:46:39, time: 1.161, data_time: 0.022, memory: 7459, loss_rpn_cls: 0.0289, loss_rpn_bbox: 0.0280, loss_glbctx: 0.1048, s0.loss_cls: 0.1797, s0.acc: 93.7598, s0.loss_bbox: 0.1132, s1.loss_cls: 0.0783, s1.acc: 94.5812, s1.loss_bbox: 0.1012, s2.loss_cls: 0.0376, s2.acc: 94.8066, s2.loss_bbox: 0.0598, loss_mask: 0.2917, loss: 1.0232, grad_norm: 11.8546\n",
      "2021-05-20 12:15:02,346 - mmdet - INFO - Epoch [12][250/655]\tlr: 5.000e-05, eta: 2:45:46, time: 1.151, data_time: 0.020, memory: 7459, loss_rpn_cls: 0.0236, loss_rpn_bbox: 0.0288, loss_glbctx: 0.1021, s0.loss_cls: 0.1634, s0.acc: 94.0342, s0.loss_bbox: 0.1082, s1.loss_cls: 0.0694, s1.acc: 94.9713, s1.loss_bbox: 0.1004, s2.loss_cls: 0.0346, s2.acc: 95.0244, s2.loss_bbox: 0.0591, loss_mask: 0.2901, loss: 0.9795, grad_norm: 10.9638\n",
      "2021-05-20 12:16:00,403 - mmdet - INFO - Epoch [12][300/655]\tlr: 5.000e-05, eta: 2:44:53, time: 1.161, data_time: 0.021, memory: 7459, loss_rpn_cls: 0.0256, loss_rpn_bbox: 0.0287, loss_glbctx: 0.0845, s0.loss_cls: 0.1750, s0.acc: 93.8184, s0.loss_bbox: 0.1169, s1.loss_cls: 0.0759, s1.acc: 94.7018, s1.loss_bbox: 0.1068, s2.loss_cls: 0.0379, s2.acc: 94.9941, s2.loss_bbox: 0.0652, loss_mask: 0.2948, loss: 1.0115, grad_norm: 10.1467\n",
      "2021-05-20 12:16:58,567 - mmdet - INFO - Epoch [12][350/655]\tlr: 5.000e-05, eta: 2:44:00, time: 1.163, data_time: 0.020, memory: 7459, loss_rpn_cls: 0.0257, loss_rpn_bbox: 0.0285, loss_glbctx: 0.0948, s0.loss_cls: 0.1763, s0.acc: 93.8018, s0.loss_bbox: 0.1132, s1.loss_cls: 0.0721, s1.acc: 94.9854, s1.loss_bbox: 0.0999, s2.loss_cls: 0.0356, s2.acc: 95.1403, s2.loss_bbox: 0.0619, loss_mask: 0.2760, loss: 0.9841, grad_norm: 11.0352\n",
      "2021-05-20 12:17:58,350 - mmdet - INFO - Epoch [12][400/655]\tlr: 5.000e-05, eta: 2:43:08, time: 1.196, data_time: 0.022, memory: 7459, loss_rpn_cls: 0.0276, loss_rpn_bbox: 0.0284, loss_glbctx: 0.1018, s0.loss_cls: 0.1908, s0.acc: 93.2812, s0.loss_bbox: 0.1223, s1.loss_cls: 0.0794, s1.acc: 94.6405, s1.loss_bbox: 0.1113, s2.loss_cls: 0.0408, s2.acc: 94.6037, s2.loss_bbox: 0.0671, loss_mask: 0.2907, loss: 1.0602, grad_norm: 11.5239\n",
      "2021-05-20 12:18:56,124 - mmdet - INFO - Epoch [12][450/655]\tlr: 5.000e-05, eta: 2:42:15, time: 1.155, data_time: 0.021, memory: 7459, loss_rpn_cls: 0.0286, loss_rpn_bbox: 0.0295, loss_glbctx: 0.0774, s0.loss_cls: 0.1769, s0.acc: 93.7939, s0.loss_bbox: 0.1158, s1.loss_cls: 0.0744, s1.acc: 94.9193, s1.loss_bbox: 0.1039, s2.loss_cls: 0.0368, s2.acc: 95.0094, s2.loss_bbox: 0.0618, loss_mask: 0.2779, loss: 0.9829, grad_norm: 10.7520\n",
      "2021-05-20 12:19:55,173 - mmdet - INFO - Epoch [12][500/655]\tlr: 5.000e-05, eta: 2:41:23, time: 1.181, data_time: 0.021, memory: 7459, loss_rpn_cls: 0.0283, loss_rpn_bbox: 0.0293, loss_glbctx: 0.0936, s0.loss_cls: 0.1984, s0.acc: 92.9531, s0.loss_bbox: 0.1279, s1.loss_cls: 0.0852, s1.acc: 94.1841, s1.loss_bbox: 0.1142, s2.loss_cls: 0.0416, s2.acc: 94.3869, s2.loss_bbox: 0.0684, loss_mask: 0.3008, loss: 1.0877, grad_norm: 12.1527\n",
      "2021-05-20 12:20:54,893 - mmdet - INFO - Epoch [12][550/655]\tlr: 5.000e-05, eta: 2:40:31, time: 1.194, data_time: 0.022, memory: 7459, loss_rpn_cls: 0.0266, loss_rpn_bbox: 0.0299, loss_glbctx: 0.1035, s0.loss_cls: 0.2069, s0.acc: 92.7070, s0.loss_bbox: 0.1245, s1.loss_cls: 0.0890, s1.acc: 93.8195, s1.loss_bbox: 0.1135, s2.loss_cls: 0.0430, s2.acc: 94.1217, s2.loss_bbox: 0.0705, loss_mask: 0.2856, loss: 1.0930, grad_norm: 12.0775\n",
      "2021-05-20 12:21:52,943 - mmdet - INFO - Epoch [12][600/655]\tlr: 5.000e-05, eta: 2:39:38, time: 1.161, data_time: 0.023, memory: 7459, loss_rpn_cls: 0.0299, loss_rpn_bbox: 0.0312, loss_glbctx: 0.1283, s0.loss_cls: 0.1959, s0.acc: 93.1211, s0.loss_bbox: 0.1236, s1.loss_cls: 0.0842, s1.acc: 94.1966, s1.loss_bbox: 0.1079, s2.loss_cls: 0.0425, s2.acc: 94.2470, s2.loss_bbox: 0.0633, loss_mask: 0.2891, loss: 1.0959, grad_norm: 13.0251\n",
      "2021-05-20 12:22:51,149 - mmdet - INFO - Epoch [12][650/655]\tlr: 5.000e-05, eta: 2:38:44, time: 1.164, data_time: 0.020, memory: 7459, loss_rpn_cls: 0.0268, loss_rpn_bbox: 0.0300, loss_glbctx: 0.1345, s0.loss_cls: 0.1944, s0.acc: 93.3291, s0.loss_bbox: 0.1169, s1.loss_cls: 0.0838, s1.acc: 94.3356, s1.loss_bbox: 0.1033, s2.loss_cls: 0.0411, s2.acc: 94.6117, s2.loss_bbox: 0.0641, loss_mask: 0.3007, loss: 1.0957, grad_norm: 12.7791\n",
      "2021-05-20 12:22:57,034 - mmdet - INFO - Saving checkpoint at 12 epochs\n"
     ]
    },
    {
     "name": "stdout",
     "output_type": "stream",
     "text": [
      "[>>>>>>>>>>>>>>>>>>>>>>>>>>>>>] 655/655, 4.9 task/s, elapsed: 133s, ETA:     0s"
     ]
    },
    {
     "name": "stderr",
     "output_type": "stream",
     "text": [
      "2021-05-20 12:25:17,339 - mmdet - INFO - Evaluating bbox...\n"
     ]
    },
    {
     "name": "stdout",
     "output_type": "stream",
     "text": [
      "Loading and preparing results...\n",
      "DONE (t=0.60s)\n",
      "creating index...\n",
      "index created!\n",
      "Running per image evaluation...\n",
      "Evaluate annotation type *bbox*\n",
      "DONE (t=7.42s).\n",
      "Accumulating evaluation results...\n"
     ]
    },
    {
     "name": "stderr",
     "output_type": "stream",
     "text": [
      "2021-05-20 12:25:26,592 - mmdet - INFO - Evaluating segm...\n"
     ]
    },
    {
     "name": "stdout",
     "output_type": "stream",
     "text": [
      "DONE (t=1.19s).\n",
      "Average Precision  (AP) @[ IoU=0.50:0.95 | area=   all | maxDets=100 ] = 0.237\n",
      "Average Precision  (AP) @[ IoU=0.50      | area=   all | maxDets=1000 ] = 0.379\n",
      "Average Precision  (AP) @[ IoU=0.75      | area=   all | maxDets=1000 ] = 0.242\n",
      "Average Precision  (AP) @[ IoU=0.50:0.95 | area= small | maxDets=1000 ] = 0.037\n",
      "Average Precision  (AP) @[ IoU=0.50:0.95 | area=medium | maxDets=1000 ] = 0.206\n",
      "Average Precision  (AP) @[ IoU=0.50:0.95 | area= large | maxDets=1000 ] = 0.430\n",
      "Average Recall     (AR) @[ IoU=0.50:0.95 | area=   all | maxDets=100 ] = 0.387\n",
      "Average Recall     (AR) @[ IoU=0.50:0.95 | area=   all | maxDets=300 ] = 0.387\n",
      "Average Recall     (AR) @[ IoU=0.50:0.95 | area=   all | maxDets=1000 ] = 0.387\n",
      "Average Recall     (AR) @[ IoU=0.50:0.95 | area= small | maxDets=1000 ] = 0.133\n",
      "Average Recall     (AR) @[ IoU=0.50:0.95 | area=medium | maxDets=1000 ] = 0.369\n",
      "Average Recall     (AR) @[ IoU=0.50:0.95 | area= large | maxDets=1000 ] = 0.616\n",
      "Loading and preparing results...\n",
      "DONE (t=0.36s)\n",
      "creating index...\n",
      "index created!\n",
      "Running per image evaluation...\n",
      "Evaluate annotation type *segm*\n",
      "DONE (t=7.87s).\n",
      "Accumulating evaluation results...\n"
     ]
    },
    {
     "name": "stderr",
     "output_type": "stream",
     "text": [
      "2021-05-20 12:25:36,243 - mmdet - INFO - Epoch(val) [12][655]\tbbox_mAP: 0.2370, bbox_mAP_50: 0.3790, bbox_mAP_75: 0.2420, bbox_mAP_s: 0.0370, bbox_mAP_m: 0.2060, bbox_mAP_l: 0.4300, bbox_mAP_copypaste: 0.237 0.379 0.242 0.037 0.206 0.430, segm_mAP: 0.2220, segm_mAP_50: 0.3400, segm_mAP_75: 0.2290, segm_mAP_s: 0.0310, segm_mAP_m: 0.1870, segm_mAP_l: 0.4270, segm_mAP_copypaste: 0.222 0.340 0.229 0.031 0.187 0.427\n"
     ]
    },
    {
     "name": "stdout",
     "output_type": "stream",
     "text": [
      "DONE (t=1.19s).\n",
      "Average Precision  (AP) @[ IoU=0.50:0.95 | area=   all | maxDets=100 ] = 0.222\n",
      "Average Precision  (AP) @[ IoU=0.50      | area=   all | maxDets=1000 ] = 0.340\n",
      "Average Precision  (AP) @[ IoU=0.75      | area=   all | maxDets=1000 ] = 0.229\n",
      "Average Precision  (AP) @[ IoU=0.50:0.95 | area= small | maxDets=1000 ] = 0.031\n",
      "Average Precision  (AP) @[ IoU=0.50:0.95 | area=medium | maxDets=1000 ] = 0.187\n",
      "Average Precision  (AP) @[ IoU=0.50:0.95 | area= large | maxDets=1000 ] = 0.427\n",
      "Average Recall     (AR) @[ IoU=0.50:0.95 | area=   all | maxDets=100 ] = 0.372\n",
      "Average Recall     (AR) @[ IoU=0.50:0.95 | area=   all | maxDets=300 ] = 0.372\n",
      "Average Recall     (AR) @[ IoU=0.50:0.95 | area=   all | maxDets=1000 ] = 0.372\n",
      "Average Recall     (AR) @[ IoU=0.50:0.95 | area= small | maxDets=1000 ] = 0.109\n",
      "Average Recall     (AR) @[ IoU=0.50:0.95 | area=medium | maxDets=1000 ] = 0.334\n",
      "Average Recall     (AR) @[ IoU=0.50:0.95 | area= large | maxDets=1000 ] = 0.648\n"
     ]
    },
    {
     "name": "stderr",
     "output_type": "stream",
     "text": [
      "2021-05-20 12:26:37,845 - mmdet - INFO - Epoch [13][50/655]\tlr: 5.000e-05, eta: 2:37:43, time: 1.232, data_time: 0.072, memory: 7459, loss_rpn_cls: 0.0195, loss_rpn_bbox: 0.0265, loss_glbctx: 0.0999, s0.loss_cls: 0.1860, s0.acc: 93.4922, s0.loss_bbox: 0.1132, s1.loss_cls: 0.0798, s1.acc: 94.6815, s1.loss_bbox: 0.1034, s2.loss_cls: 0.0376, s2.acc: 95.0276, s2.loss_bbox: 0.0660, loss_mask: 0.2890, loss: 1.0210, grad_norm: 11.9611\n",
      "2021-05-20 12:27:36,400 - mmdet - INFO - Epoch [13][100/655]\tlr: 5.000e-05, eta: 2:36:50, time: 1.171, data_time: 0.020, memory: 7459, loss_rpn_cls: 0.0241, loss_rpn_bbox: 0.0259, loss_glbctx: 0.0751, s0.loss_cls: 0.1772, s0.acc: 93.6914, s0.loss_bbox: 0.1099, s1.loss_cls: 0.0751, s1.acc: 94.8489, s1.loss_bbox: 0.1000, s2.loss_cls: 0.0371, s2.acc: 95.0397, s2.loss_bbox: 0.0612, loss_mask: 0.2649, loss: 0.9504, grad_norm: 10.3878\n",
      "2021-05-20 12:28:35,198 - mmdet - INFO - Epoch [13][150/655]\tlr: 5.000e-05, eta: 2:35:57, time: 1.176, data_time: 0.020, memory: 7459, loss_rpn_cls: 0.0280, loss_rpn_bbox: 0.0269, loss_glbctx: 0.0895, s0.loss_cls: 0.1794, s0.acc: 93.5635, s0.loss_bbox: 0.1137, s1.loss_cls: 0.0759, s1.acc: 94.8429, s1.loss_bbox: 0.1017, s2.loss_cls: 0.0381, s2.acc: 94.7768, s2.loss_bbox: 0.0642, loss_mask: 0.3042, loss: 1.0215, grad_norm: 11.1352\n",
      "2021-05-20 12:29:34,531 - mmdet - INFO - Epoch [13][200/655]\tlr: 5.000e-05, eta: 2:35:05, time: 1.187, data_time: 0.022, memory: 7459, loss_rpn_cls: 0.0277, loss_rpn_bbox: 0.0316, loss_glbctx: 0.0725, s0.loss_cls: 0.1882, s0.acc: 93.4238, s0.loss_bbox: 0.1211, s1.loss_cls: 0.0767, s1.acc: 94.7047, s1.loss_bbox: 0.1056, s2.loss_cls: 0.0383, s2.acc: 94.7002, s2.loss_bbox: 0.0655, loss_mask: 0.2856, loss: 1.0127, grad_norm: 10.4812\n",
      "2021-05-20 12:30:32,906 - mmdet - INFO - Epoch [13][250/655]\tlr: 5.000e-05, eta: 2:34:11, time: 1.167, data_time: 0.020, memory: 7459, loss_rpn_cls: 0.0221, loss_rpn_bbox: 0.0260, loss_glbctx: 0.0888, s0.loss_cls: 0.1627, s0.acc: 94.1729, s0.loss_bbox: 0.1100, s1.loss_cls: 0.0667, s1.acc: 95.3229, s1.loss_bbox: 0.0966, s2.loss_cls: 0.0337, s2.acc: 95.3700, s2.loss_bbox: 0.0587, loss_mask: 0.2656, loss: 0.9308, grad_norm: 10.8619\n",
      "2021-05-20 12:31:31,395 - mmdet - INFO - Epoch [13][300/655]\tlr: 5.000e-05, eta: 2:33:18, time: 1.170, data_time: 0.022, memory: 7459, loss_rpn_cls: 0.0264, loss_rpn_bbox: 0.0287, loss_glbctx: 0.0636, s0.loss_cls: 0.1814, s0.acc: 93.5869, s0.loss_bbox: 0.1127, s1.loss_cls: 0.0781, s1.acc: 94.5902, s1.loss_bbox: 0.1018, s2.loss_cls: 0.0390, s2.acc: 94.6098, s2.loss_bbox: 0.0618, loss_mask: 0.2960, loss: 0.9894, grad_norm: 10.9498\n",
      "2021-05-20 12:32:31,419 - mmdet - INFO - Epoch [13][350/655]\tlr: 5.000e-05, eta: 2:32:26, time: 1.200, data_time: 0.021, memory: 7459, loss_rpn_cls: 0.0262, loss_rpn_bbox: 0.0295, loss_glbctx: 0.0604, s0.loss_cls: 0.1807, s0.acc: 93.4072, s0.loss_bbox: 0.1161, s1.loss_cls: 0.0769, s1.acc: 94.5796, s1.loss_bbox: 0.1045, s2.loss_cls: 0.0381, s2.acc: 94.6175, s2.loss_bbox: 0.0633, loss_mask: 0.2768, loss: 0.9726, grad_norm: 9.9368\n",
      "2021-05-20 12:33:30,291 - mmdet - INFO - Epoch [13][400/655]\tlr: 5.000e-05, eta: 2:31:32, time: 1.177, data_time: 0.019, memory: 7459, loss_rpn_cls: 0.0237, loss_rpn_bbox: 0.0274, loss_glbctx: 0.0726, s0.loss_cls: 0.1573, s0.acc: 94.2822, s0.loss_bbox: 0.1049, s1.loss_cls: 0.0653, s1.acc: 95.3461, s1.loss_bbox: 0.0963, s2.loss_cls: 0.0323, s2.acc: 95.4018, s2.loss_bbox: 0.0593, loss_mask: 0.2640, loss: 0.9031, grad_norm: 10.7879\n",
      "2021-05-20 12:34:28,782 - mmdet - INFO - Epoch [13][450/655]\tlr: 5.000e-05, eta: 2:30:39, time: 1.170, data_time: 0.020, memory: 7459, loss_rpn_cls: 0.0238, loss_rpn_bbox: 0.0294, loss_glbctx: 0.0819, s0.loss_cls: 0.1709, s0.acc: 93.9600, s0.loss_bbox: 0.1104, s1.loss_cls: 0.0711, s1.acc: 94.9419, s1.loss_bbox: 0.0986, s2.loss_cls: 0.0349, s2.acc: 95.0934, s2.loss_bbox: 0.0604, loss_mask: 0.2792, loss: 0.9607, grad_norm: 11.4686\n",
      "2021-05-20 12:35:27,196 - mmdet - INFO - Epoch [13][500/655]\tlr: 5.000e-05, eta: 2:29:45, time: 1.168, data_time: 0.020, memory: 7459, loss_rpn_cls: 0.0216, loss_rpn_bbox: 0.0255, loss_glbctx: 0.0744, s0.loss_cls: 0.1616, s0.acc: 94.1787, s0.loss_bbox: 0.1077, s1.loss_cls: 0.0672, s1.acc: 95.2272, s1.loss_bbox: 0.0982, s2.loss_cls: 0.0336, s2.acc: 95.3547, s2.loss_bbox: 0.0614, loss_mask: 0.2818, loss: 0.9331, grad_norm: 10.3279\n",
      "2021-05-20 12:36:25,507 - mmdet - INFO - Epoch [13][550/655]\tlr: 5.000e-05, eta: 2:28:51, time: 1.166, data_time: 0.017, memory: 7459, loss_rpn_cls: 0.0211, loss_rpn_bbox: 0.0270, loss_glbctx: 0.0669, s0.loss_cls: 0.1560, s0.acc: 94.3662, s0.loss_bbox: 0.1036, s1.loss_cls: 0.0642, s1.acc: 95.3045, s1.loss_bbox: 0.0911, s2.loss_cls: 0.0305, s2.acc: 95.6821, s2.loss_bbox: 0.0592, loss_mask: 0.2667, loss: 0.8862, grad_norm: 10.4367\n",
      "2021-05-20 12:37:24,750 - mmdet - INFO - Epoch [13][600/655]\tlr: 5.000e-05, eta: 2:27:58, time: 1.185, data_time: 0.021, memory: 7459, loss_rpn_cls: 0.0293, loss_rpn_bbox: 0.0287, loss_glbctx: 0.1066, s0.loss_cls: 0.1897, s0.acc: 93.4922, s0.loss_bbox: 0.1201, s1.loss_cls: 0.0783, s1.acc: 94.7074, s1.loss_bbox: 0.1066, s2.loss_cls: 0.0381, s2.acc: 94.8218, s2.loss_bbox: 0.0658, loss_mask: 0.2926, loss: 1.0557, grad_norm: 13.0390\n",
      "2021-05-20 12:38:24,072 - mmdet - INFO - Epoch [13][650/655]\tlr: 5.000e-05, eta: 2:27:05, time: 1.186, data_time: 0.021, memory: 7459, loss_rpn_cls: 0.0272, loss_rpn_bbox: 0.0338, loss_glbctx: 0.0859, s0.loss_cls: 0.1818, s0.acc: 93.4756, s0.loss_bbox: 0.1202, s1.loss_cls: 0.0779, s1.acc: 94.4483, s1.loss_bbox: 0.1087, s2.loss_cls: 0.0381, s2.acc: 94.5995, s2.loss_bbox: 0.0666, loss_mask: 0.2870, loss: 1.0273, grad_norm: 12.1385\n",
      "2021-05-20 12:38:29,907 - mmdet - INFO - Saving checkpoint at 13 epochs\n"
     ]
    },
    {
     "name": "stdout",
     "output_type": "stream",
     "text": [
      "[>>>>>>>>>>>>>>>>>>>>>>>>>>>>>] 655/655, 5.0 task/s, elapsed: 132s, ETA:     0s"
     ]
    },
    {
     "name": "stderr",
     "output_type": "stream",
     "text": [
      "2021-05-20 12:40:48,915 - mmdet - INFO - Evaluating bbox...\n"
     ]
    },
    {
     "name": "stdout",
     "output_type": "stream",
     "text": [
      "Loading and preparing results...\n",
      "DONE (t=0.58s)\n",
      "creating index...\n",
      "index created!\n",
      "Running per image evaluation...\n",
      "Evaluate annotation type *bbox*\n",
      "DONE (t=6.98s).\n",
      "Accumulating evaluation results...\n"
     ]
    },
    {
     "name": "stderr",
     "output_type": "stream",
     "text": [
      "2021-05-20 12:40:57,677 - mmdet - INFO - Evaluating segm...\n"
     ]
    },
    {
     "name": "stdout",
     "output_type": "stream",
     "text": [
      "DONE (t=1.16s).\n",
      "Average Precision  (AP) @[ IoU=0.50:0.95 | area=   all | maxDets=100 ] = 0.247\n",
      "Average Precision  (AP) @[ IoU=0.50      | area=   all | maxDets=1000 ] = 0.386\n",
      "Average Precision  (AP) @[ IoU=0.75      | area=   all | maxDets=1000 ] = 0.256\n",
      "Average Precision  (AP) @[ IoU=0.50:0.95 | area= small | maxDets=1000 ] = 0.041\n",
      "Average Precision  (AP) @[ IoU=0.50:0.95 | area=medium | maxDets=1000 ] = 0.214\n",
      "Average Precision  (AP) @[ IoU=0.50:0.95 | area= large | maxDets=1000 ] = 0.414\n",
      "Average Recall     (AR) @[ IoU=0.50:0.95 | area=   all | maxDets=100 ] = 0.395\n",
      "Average Recall     (AR) @[ IoU=0.50:0.95 | area=   all | maxDets=300 ] = 0.395\n",
      "Average Recall     (AR) @[ IoU=0.50:0.95 | area=   all | maxDets=1000 ] = 0.395\n",
      "Average Recall     (AR) @[ IoU=0.50:0.95 | area= small | maxDets=1000 ] = 0.137\n",
      "Average Recall     (AR) @[ IoU=0.50:0.95 | area=medium | maxDets=1000 ] = 0.375\n",
      "Average Recall     (AR) @[ IoU=0.50:0.95 | area= large | maxDets=1000 ] = 0.577\n",
      "Loading and preparing results...\n",
      "DONE (t=0.32s)\n",
      "creating index...\n",
      "index created!\n",
      "Running per image evaluation...\n",
      "Evaluate annotation type *segm*\n",
      "DONE (t=7.85s).\n",
      "Accumulating evaluation results...\n"
     ]
    },
    {
     "name": "stderr",
     "output_type": "stream",
     "text": [
      "2021-05-20 12:41:07,270 - mmdet - INFO - Epoch(val) [13][655]\tbbox_mAP: 0.2470, bbox_mAP_50: 0.3860, bbox_mAP_75: 0.2560, bbox_mAP_s: 0.0410, bbox_mAP_m: 0.2140, bbox_mAP_l: 0.4140, bbox_mAP_copypaste: 0.247 0.386 0.256 0.041 0.214 0.414, segm_mAP: 0.2460, segm_mAP_50: 0.3680, segm_mAP_75: 0.2500, segm_mAP_s: 0.0350, segm_mAP_m: 0.1980, segm_mAP_l: 0.4250, segm_mAP_copypaste: 0.246 0.368 0.250 0.035 0.198 0.425\n"
     ]
    },
    {
     "name": "stdout",
     "output_type": "stream",
     "text": [
      "DONE (t=1.20s).\n",
      "Average Precision  (AP) @[ IoU=0.50:0.95 | area=   all | maxDets=100 ] = 0.246\n",
      "Average Precision  (AP) @[ IoU=0.50      | area=   all | maxDets=1000 ] = 0.368\n",
      "Average Precision  (AP) @[ IoU=0.75      | area=   all | maxDets=1000 ] = 0.250\n",
      "Average Precision  (AP) @[ IoU=0.50:0.95 | area= small | maxDets=1000 ] = 0.035\n",
      "Average Precision  (AP) @[ IoU=0.50:0.95 | area=medium | maxDets=1000 ] = 0.198\n",
      "Average Precision  (AP) @[ IoU=0.50:0.95 | area= large | maxDets=1000 ] = 0.425\n",
      "Average Recall     (AR) @[ IoU=0.50:0.95 | area=   all | maxDets=100 ] = 0.377\n",
      "Average Recall     (AR) @[ IoU=0.50:0.95 | area=   all | maxDets=300 ] = 0.377\n",
      "Average Recall     (AR) @[ IoU=0.50:0.95 | area=   all | maxDets=1000 ] = 0.377\n",
      "Average Recall     (AR) @[ IoU=0.50:0.95 | area= small | maxDets=1000 ] = 0.112\n",
      "Average Recall     (AR) @[ IoU=0.50:0.95 | area=medium | maxDets=1000 ] = 0.337\n",
      "Average Recall     (AR) @[ IoU=0.50:0.95 | area= large | maxDets=1000 ] = 0.590\n"
     ]
    },
    {
     "name": "stderr",
     "output_type": "stream",
     "text": [
      "2021-05-20 12:42:08,674 - mmdet - INFO - Epoch [14][50/655]\tlr: 5.000e-05, eta: 2:26:03, time: 1.227, data_time: 0.071, memory: 7459, loss_rpn_cls: 0.0224, loss_rpn_bbox: 0.0302, loss_glbctx: 0.0716, s0.loss_cls: 0.1648, s0.acc: 94.0576, s0.loss_bbox: 0.1073, s1.loss_cls: 0.0675, s1.acc: 95.2929, s1.loss_bbox: 0.0947, s2.loss_cls: 0.0331, s2.acc: 95.3400, s2.loss_bbox: 0.0591, loss_mask: 0.2686, loss: 0.9194, grad_norm: 10.9487\n",
      "2021-05-20 12:43:07,963 - mmdet - INFO - Epoch [14][100/655]\tlr: 5.000e-05, eta: 2:25:10, time: 1.186, data_time: 0.023, memory: 7459, loss_rpn_cls: 0.0214, loss_rpn_bbox: 0.0239, loss_glbctx: 0.0615, s0.loss_cls: 0.1576, s0.acc: 94.2480, s0.loss_bbox: 0.1023, s1.loss_cls: 0.0636, s1.acc: 95.5257, s1.loss_bbox: 0.0974, s2.loss_cls: 0.0337, s2.acc: 95.3086, s2.loss_bbox: 0.0641, loss_mask: 0.2658, loss: 0.8914, grad_norm: 10.1023\n",
      "2021-05-20 12:44:05,718 - mmdet - INFO - Epoch [14][150/655]\tlr: 5.000e-05, eta: 2:24:15, time: 1.155, data_time: 0.019, memory: 7459, loss_rpn_cls: 0.0156, loss_rpn_bbox: 0.0206, loss_glbctx: 0.0684, s0.loss_cls: 0.1416, s0.acc: 94.8213, s0.loss_bbox: 0.0917, s1.loss_cls: 0.0589, s1.acc: 95.7563, s1.loss_bbox: 0.0878, s2.loss_cls: 0.0312, s2.acc: 95.7277, s2.loss_bbox: 0.0586, loss_mask: 0.2591, loss: 0.8334, grad_norm: 11.1770\n",
      "2021-05-20 12:45:04,001 - mmdet - INFO - Epoch [14][200/655]\tlr: 5.000e-05, eta: 2:23:21, time: 1.166, data_time: 0.020, memory: 7459, loss_rpn_cls: 0.0158, loss_rpn_bbox: 0.0232, loss_glbctx: 0.0539, s0.loss_cls: 0.1557, s0.acc: 94.4854, s0.loss_bbox: 0.0970, s1.loss_cls: 0.0648, s1.acc: 95.4376, s1.loss_bbox: 0.0904, s2.loss_cls: 0.0316, s2.acc: 95.7819, s2.loss_bbox: 0.0580, loss_mask: 0.2708, loss: 0.8611, grad_norm: 9.7002\n",
      "2021-05-20 12:46:00,803 - mmdet - INFO - Epoch [14][250/655]\tlr: 5.000e-05, eta: 2:22:25, time: 1.136, data_time: 0.019, memory: 7459, loss_rpn_cls: 0.0143, loss_rpn_bbox: 0.0206, loss_glbctx: 0.0611, s0.loss_cls: 0.1247, s0.acc: 95.4795, s0.loss_bbox: 0.0833, s1.loss_cls: 0.0487, s1.acc: 96.5271, s1.loss_bbox: 0.0757, s2.loss_cls: 0.0255, s2.acc: 96.4390, s2.loss_bbox: 0.0509, loss_mask: 0.2446, loss: 0.7496, grad_norm: 9.8683\n",
      "2021-05-20 12:47:01,026 - mmdet - INFO - Epoch [14][300/655]\tlr: 5.000e-05, eta: 2:21:33, time: 1.204, data_time: 0.026, memory: 7459, loss_rpn_cls: 0.0261, loss_rpn_bbox: 0.0331, loss_glbctx: 0.0596, s0.loss_cls: 0.1849, s0.acc: 93.3809, s0.loss_bbox: 0.1260, s1.loss_cls: 0.0770, s1.acc: 94.5680, s1.loss_bbox: 0.1096, s2.loss_cls: 0.0385, s2.acc: 94.8046, s2.loss_bbox: 0.0676, loss_mask: 0.2922, loss: 1.0147, grad_norm: 10.0632\n",
      "2021-05-20 12:47:59,933 - mmdet - INFO - Epoch [14][350/655]\tlr: 5.000e-05, eta: 2:20:39, time: 1.178, data_time: 0.023, memory: 7459, loss_rpn_cls: 0.0264, loss_rpn_bbox: 0.0314, loss_glbctx: 0.0584, s0.loss_cls: 0.1846, s0.acc: 93.5332, s0.loss_bbox: 0.1116, s1.loss_cls: 0.0767, s1.acc: 94.7630, s1.loss_bbox: 0.0995, s2.loss_cls: 0.0379, s2.acc: 94.8413, s2.loss_bbox: 0.0619, loss_mask: 0.2805, loss: 0.9687, grad_norm: 9.7853\n",
      "2021-05-20 12:48:59,750 - mmdet - INFO - Epoch [14][400/655]\tlr: 5.000e-05, eta: 2:19:46, time: 1.196, data_time: 0.021, memory: 7459, loss_rpn_cls: 0.0205, loss_rpn_bbox: 0.0285, loss_glbctx: 0.0598, s0.loss_cls: 0.1743, s0.acc: 93.7393, s0.loss_bbox: 0.1145, s1.loss_cls: 0.0726, s1.acc: 94.8010, s1.loss_bbox: 0.1045, s2.loss_cls: 0.0364, s2.acc: 94.8893, s2.loss_bbox: 0.0646, loss_mask: 0.2798, loss: 0.9555, grad_norm: 10.2423\n",
      "2021-05-20 12:49:58,193 - mmdet - INFO - Epoch [14][450/655]\tlr: 5.000e-05, eta: 2:18:51, time: 1.169, data_time: 0.021, memory: 7459, loss_rpn_cls: 0.0228, loss_rpn_bbox: 0.0263, loss_glbctx: 0.0619, s0.loss_cls: 0.1563, s0.acc: 94.4355, s0.loss_bbox: 0.1014, s1.loss_cls: 0.0633, s1.acc: 95.6552, s1.loss_bbox: 0.0924, s2.loss_cls: 0.0317, s2.acc: 95.6290, s2.loss_bbox: 0.0586, loss_mask: 0.2757, loss: 0.8905, grad_norm: 9.5077\n",
      "2021-05-20 12:50:56,101 - mmdet - INFO - Epoch [14][500/655]\tlr: 5.000e-05, eta: 2:17:56, time: 1.158, data_time: 0.021, memory: 7459, loss_rpn_cls: 0.0207, loss_rpn_bbox: 0.0277, loss_glbctx: 0.1012, s0.loss_cls: 0.1578, s0.acc: 94.3301, s0.loss_bbox: 0.1003, s1.loss_cls: 0.0678, s1.acc: 95.3613, s1.loss_bbox: 0.0911, s2.loss_cls: 0.0335, s2.acc: 95.4965, s2.loss_bbox: 0.0569, loss_mask: 0.2710, loss: 0.9280, grad_norm: 12.9155\n",
      "2021-05-20 12:51:53,720 - mmdet - INFO - Epoch [14][550/655]\tlr: 5.000e-05, eta: 2:17:01, time: 1.152, data_time: 0.020, memory: 7459, loss_rpn_cls: 0.0221, loss_rpn_bbox: 0.0268, loss_glbctx: 0.0510, s0.loss_cls: 0.1597, s0.acc: 94.2256, s0.loss_bbox: 0.1107, s1.loss_cls: 0.0658, s1.acc: 95.3861, s1.loss_bbox: 0.1000, s2.loss_cls: 0.0335, s2.acc: 95.2852, s2.loss_bbox: 0.0631, loss_mask: 0.2758, loss: 0.9086, grad_norm: 10.2620\n",
      "2021-05-20 12:52:53,853 - mmdet - INFO - Epoch [14][600/655]\tlr: 5.000e-05, eta: 2:16:08, time: 1.203, data_time: 0.021, memory: 7459, loss_rpn_cls: 0.0244, loss_rpn_bbox: 0.0274, loss_glbctx: 0.0487, s0.loss_cls: 0.1702, s0.acc: 93.9111, s0.loss_bbox: 0.1152, s1.loss_cls: 0.0701, s1.acc: 95.1449, s1.loss_bbox: 0.1031, s2.loss_cls: 0.0346, s2.acc: 95.3837, s2.loss_bbox: 0.0647, loss_mask: 0.2699, loss: 0.9284, grad_norm: 9.4985\n",
      "2021-05-20 12:53:54,039 - mmdet - INFO - Epoch [14][650/655]\tlr: 5.000e-05, eta: 2:15:15, time: 1.204, data_time: 0.023, memory: 7459, loss_rpn_cls: 0.0272, loss_rpn_bbox: 0.0364, loss_glbctx: 0.0771, s0.loss_cls: 0.1896, s0.acc: 93.1768, s0.loss_bbox: 0.1240, s1.loss_cls: 0.0779, s1.acc: 94.7149, s1.loss_bbox: 0.1085, s2.loss_cls: 0.0385, s2.acc: 94.7793, s2.loss_bbox: 0.0670, loss_mask: 0.2777, loss: 1.0240, grad_norm: 11.7328\n",
      "2021-05-20 12:54:00,203 - mmdet - INFO - Saving checkpoint at 14 epochs\n"
     ]
    },
    {
     "name": "stdout",
     "output_type": "stream",
     "text": [
      "[>>>>>>>>>>>>>>>>>>>>>>>>>>>>>] 655/655, 4.9 task/s, elapsed: 134s, ETA:     0s"
     ]
    },
    {
     "name": "stderr",
     "output_type": "stream",
     "text": [
      "2021-05-20 12:56:21,646 - mmdet - INFO - Evaluating bbox...\n"
     ]
    },
    {
     "name": "stdout",
     "output_type": "stream",
     "text": [
      "Loading and preparing results...\n",
      "DONE (t=0.19s)\n",
      "creating index...\n",
      "index created!\n",
      "Running per image evaluation...\n",
      "Evaluate annotation type *bbox*\n",
      "DONE (t=7.12s).\n",
      "Accumulating evaluation results...\n"
     ]
    },
    {
     "name": "stderr",
     "output_type": "stream",
     "text": [
      "2021-05-20 12:56:30,199 - mmdet - INFO - Evaluating segm...\n"
     ]
    },
    {
     "name": "stdout",
     "output_type": "stream",
     "text": [
      "DONE (t=1.19s).\n",
      "Average Precision  (AP) @[ IoU=0.50:0.95 | area=   all | maxDets=100 ] = 0.244\n",
      "Average Precision  (AP) @[ IoU=0.50      | area=   all | maxDets=1000 ] = 0.375\n",
      "Average Precision  (AP) @[ IoU=0.75      | area=   all | maxDets=1000 ] = 0.255\n",
      "Average Precision  (AP) @[ IoU=0.50:0.95 | area= small | maxDets=1000 ] = 0.043\n",
      "Average Precision  (AP) @[ IoU=0.50:0.95 | area=medium | maxDets=1000 ] = 0.215\n",
      "Average Precision  (AP) @[ IoU=0.50:0.95 | area= large | maxDets=1000 ] = 0.416\n",
      "Average Recall     (AR) @[ IoU=0.50:0.95 | area=   all | maxDets=100 ] = 0.409\n",
      "Average Recall     (AR) @[ IoU=0.50:0.95 | area=   all | maxDets=300 ] = 0.409\n",
      "Average Recall     (AR) @[ IoU=0.50:0.95 | area=   all | maxDets=1000 ] = 0.409\n",
      "Average Recall     (AR) @[ IoU=0.50:0.95 | area= small | maxDets=1000 ] = 0.139\n",
      "Average Recall     (AR) @[ IoU=0.50:0.95 | area=medium | maxDets=1000 ] = 0.395\n",
      "Average Recall     (AR) @[ IoU=0.50:0.95 | area= large | maxDets=1000 ] = 0.621\n",
      "Loading and preparing results...\n",
      "DONE (t=0.86s)\n",
      "creating index...\n",
      "index created!\n",
      "Running per image evaluation...\n",
      "Evaluate annotation type *segm*\n",
      "DONE (t=7.13s).\n",
      "Accumulating evaluation results...\n"
     ]
    },
    {
     "name": "stderr",
     "output_type": "stream",
     "text": [
      "2021-05-20 12:56:39,619 - mmdet - INFO - Epoch(val) [14][655]\tbbox_mAP: 0.2440, bbox_mAP_50: 0.3750, bbox_mAP_75: 0.2550, bbox_mAP_s: 0.0430, bbox_mAP_m: 0.2150, bbox_mAP_l: 0.4160, bbox_mAP_copypaste: 0.244 0.375 0.255 0.043 0.215 0.416, segm_mAP: 0.2370, segm_mAP_50: 0.3590, segm_mAP_75: 0.2400, segm_mAP_s: 0.0370, segm_mAP_m: 0.2050, segm_mAP_l: 0.4190, segm_mAP_copypaste: 0.237 0.359 0.240 0.037 0.205 0.419\n"
     ]
    },
    {
     "name": "stdout",
     "output_type": "stream",
     "text": [
      "DONE (t=1.21s).\n",
      "Average Precision  (AP) @[ IoU=0.50:0.95 | area=   all | maxDets=100 ] = 0.237\n",
      "Average Precision  (AP) @[ IoU=0.50      | area=   all | maxDets=1000 ] = 0.359\n",
      "Average Precision  (AP) @[ IoU=0.75      | area=   all | maxDets=1000 ] = 0.240\n",
      "Average Precision  (AP) @[ IoU=0.50:0.95 | area= small | maxDets=1000 ] = 0.037\n",
      "Average Precision  (AP) @[ IoU=0.50:0.95 | area=medium | maxDets=1000 ] = 0.205\n",
      "Average Precision  (AP) @[ IoU=0.50:0.95 | area= large | maxDets=1000 ] = 0.419\n",
      "Average Recall     (AR) @[ IoU=0.50:0.95 | area=   all | maxDets=100 ] = 0.396\n",
      "Average Recall     (AR) @[ IoU=0.50:0.95 | area=   all | maxDets=300 ] = 0.396\n",
      "Average Recall     (AR) @[ IoU=0.50:0.95 | area=   all | maxDets=1000 ] = 0.396\n",
      "Average Recall     (AR) @[ IoU=0.50:0.95 | area= small | maxDets=1000 ] = 0.115\n",
      "Average Recall     (AR) @[ IoU=0.50:0.95 | area=medium | maxDets=1000 ] = 0.374\n",
      "Average Recall     (AR) @[ IoU=0.50:0.95 | area= large | maxDets=1000 ] = 0.646\n"
     ]
    },
    {
     "name": "stderr",
     "output_type": "stream",
     "text": [
      "2021-05-20 12:57:40,285 - mmdet - INFO - Epoch [15][50/655]\tlr: 5.000e-05, eta: 2:14:12, time: 1.213, data_time: 0.069, memory: 7459, loss_rpn_cls: 0.0201, loss_rpn_bbox: 0.0276, loss_glbctx: 0.0627, s0.loss_cls: 0.1512, s0.acc: 94.5381, s0.loss_bbox: 0.1005, s1.loss_cls: 0.0622, s1.acc: 95.6114, s1.loss_bbox: 0.0910, s2.loss_cls: 0.0311, s2.acc: 95.7523, s2.loss_bbox: 0.0565, loss_mask: 0.2504, loss: 0.8533, grad_norm: 9.6667\n",
      "2021-05-20 12:58:39,287 - mmdet - INFO - Epoch [15][100/655]\tlr: 5.000e-05, eta: 2:13:18, time: 1.180, data_time: 0.022, memory: 7459, loss_rpn_cls: 0.0243, loss_rpn_bbox: 0.0298, loss_glbctx: 0.0705, s0.loss_cls: 0.1669, s0.acc: 94.0586, s0.loss_bbox: 0.1083, s1.loss_cls: 0.0698, s1.acc: 95.1850, s1.loss_bbox: 0.0970, s2.loss_cls: 0.0352, s2.acc: 95.1159, s2.loss_bbox: 0.0617, loss_mask: 0.2687, loss: 0.9322, grad_norm: 10.1253\n",
      "2021-05-20 12:59:38,606 - mmdet - INFO - Epoch [15][150/655]\tlr: 5.000e-05, eta: 2:12:24, time: 1.186, data_time: 0.023, memory: 7459, loss_rpn_cls: 0.0185, loss_rpn_bbox: 0.0287, loss_glbctx: 0.0624, s0.loss_cls: 0.1613, s0.acc: 94.1768, s0.loss_bbox: 0.1095, s1.loss_cls: 0.0668, s1.acc: 95.2414, s1.loss_bbox: 0.0956, s2.loss_cls: 0.0338, s2.acc: 95.2585, s2.loss_bbox: 0.0606, loss_mask: 0.2811, loss: 0.9184, grad_norm: 10.4035\n",
      "2021-05-20 13:00:37,308 - mmdet - INFO - Epoch [15][200/655]\tlr: 5.000e-05, eta: 2:11:29, time: 1.174, data_time: 0.020, memory: 7459, loss_rpn_cls: 0.0223, loss_rpn_bbox: 0.0277, loss_glbctx: 0.0497, s0.loss_cls: 0.1552, s0.acc: 94.3174, s0.loss_bbox: 0.1061, s1.loss_cls: 0.0640, s1.acc: 95.3593, s1.loss_bbox: 0.0940, s2.loss_cls: 0.0320, s2.acc: 95.5512, s2.loss_bbox: 0.0590, loss_mask: 0.2610, loss: 0.8710, grad_norm: 9.4517\n",
      "2021-05-20 13:01:36,570 - mmdet - INFO - Epoch [15][250/655]\tlr: 5.000e-05, eta: 2:10:35, time: 1.185, data_time: 0.025, memory: 7459, loss_rpn_cls: 0.0233, loss_rpn_bbox: 0.0256, loss_glbctx: 0.0482, s0.loss_cls: 0.1537, s0.acc: 94.4600, s0.loss_bbox: 0.1013, s1.loss_cls: 0.0648, s1.acc: 95.4419, s1.loss_bbox: 0.0939, s2.loss_cls: 0.0319, s2.acc: 95.5226, s2.loss_bbox: 0.0597, loss_mask: 0.2840, loss: 0.8862, grad_norm: 10.0765\n",
      "2021-05-20 13:02:35,726 - mmdet - INFO - Epoch [15][300/655]\tlr: 5.000e-05, eta: 2:09:41, time: 1.183, data_time: 0.021, memory: 7459, loss_rpn_cls: 0.0217, loss_rpn_bbox: 0.0261, loss_glbctx: 0.0532, s0.loss_cls: 0.1576, s0.acc: 94.2598, s0.loss_bbox: 0.1080, s1.loss_cls: 0.0616, s1.acc: 95.5788, s1.loss_bbox: 0.0997, s2.loss_cls: 0.0316, s2.acc: 95.5387, s2.loss_bbox: 0.0647, loss_mask: 0.2939, loss: 0.9181, grad_norm: 10.1615\n",
      "2021-05-20 13:03:34,490 - mmdet - INFO - Epoch [15][350/655]\tlr: 5.000e-05, eta: 2:08:46, time: 1.175, data_time: 0.022, memory: 7459, loss_rpn_cls: 0.0239, loss_rpn_bbox: 0.0335, loss_glbctx: 0.0666, s0.loss_cls: 0.1598, s0.acc: 94.1885, s0.loss_bbox: 0.1077, s1.loss_cls: 0.0675, s1.acc: 95.1498, s1.loss_bbox: 0.0967, s2.loss_cls: 0.0352, s2.acc: 95.0197, s2.loss_bbox: 0.0602, loss_mask: 0.2793, loss: 0.9304, grad_norm: 10.8995\n",
      "2021-05-20 13:04:33,250 - mmdet - INFO - Epoch [15][400/655]\tlr: 5.000e-05, eta: 2:07:52, time: 1.175, data_time: 0.020, memory: 7459, loss_rpn_cls: 0.0185, loss_rpn_bbox: 0.0233, loss_glbctx: 0.0561, s0.loss_cls: 0.1466, s0.acc: 94.6230, s0.loss_bbox: 0.0965, s1.loss_cls: 0.0591, s1.acc: 95.7826, s1.loss_bbox: 0.0885, s2.loss_cls: 0.0301, s2.acc: 95.7279, s2.loss_bbox: 0.0576, loss_mask: 0.2434, loss: 0.8198, grad_norm: 9.5954\n",
      "2021-05-20 13:05:31,875 - mmdet - INFO - Epoch [15][450/655]\tlr: 5.000e-05, eta: 2:06:57, time: 1.173, data_time: 0.020, memory: 7459, loss_rpn_cls: 0.0204, loss_rpn_bbox: 0.0239, loss_glbctx: 0.1074, s0.loss_cls: 0.1545, s0.acc: 94.4590, s0.loss_bbox: 0.1021, s1.loss_cls: 0.0655, s1.acc: 95.3664, s1.loss_bbox: 0.0980, s2.loss_cls: 0.0331, s2.acc: 95.3959, s2.loss_bbox: 0.0640, loss_mask: 0.2660, loss: 0.9348, grad_norm: 12.8173\n",
      "2021-05-20 13:06:32,014 - mmdet - INFO - Epoch [15][500/655]\tlr: 5.000e-05, eta: 2:06:03, time: 1.203, data_time: 0.019, memory: 7459, loss_rpn_cls: 0.0217, loss_rpn_bbox: 0.0233, loss_glbctx: 0.0562, s0.loss_cls: 0.1495, s0.acc: 94.6201, s0.loss_bbox: 0.0977, s1.loss_cls: 0.0625, s1.acc: 95.7452, s1.loss_bbox: 0.0921, s2.loss_cls: 0.0315, s2.acc: 95.6912, s2.loss_bbox: 0.0604, loss_mask: 0.2710, loss: 0.8658, grad_norm: 9.8600\n",
      "2021-05-20 13:07:31,087 - mmdet - INFO - Epoch [15][550/655]\tlr: 5.000e-05, eta: 2:05:09, time: 1.181, data_time: 0.017, memory: 7460, loss_rpn_cls: 0.0177, loss_rpn_bbox: 0.0235, loss_glbctx: 0.0511, s0.loss_cls: 0.1381, s0.acc: 95.0068, s0.loss_bbox: 0.0940, s1.loss_cls: 0.0547, s1.acc: 96.1379, s1.loss_bbox: 0.0809, s2.loss_cls: 0.0272, s2.acc: 96.0599, s2.loss_bbox: 0.0520, loss_mask: 0.2440, loss: 0.7833, grad_norm: 10.0769\n",
      "2021-05-20 13:08:29,302 - mmdet - INFO - Epoch [15][600/655]\tlr: 5.000e-05, eta: 2:04:13, time: 1.164, data_time: 0.018, memory: 7460, loss_rpn_cls: 0.0217, loss_rpn_bbox: 0.0267, loss_glbctx: 0.0391, s0.loss_cls: 0.1455, s0.acc: 94.8691, s0.loss_bbox: 0.1010, s1.loss_cls: 0.0578, s1.acc: 95.9134, s1.loss_bbox: 0.0892, s2.loss_cls: 0.0289, s2.acc: 96.0298, s2.loss_bbox: 0.0575, loss_mask: 0.2411, loss: 0.8086, grad_norm: 8.3801\n",
      "2021-05-20 13:09:28,016 - mmdet - INFO - Epoch [15][650/655]\tlr: 5.000e-05, eta: 2:03:18, time: 1.174, data_time: 0.018, memory: 7460, loss_rpn_cls: 0.0192, loss_rpn_bbox: 0.0254, loss_glbctx: 0.0432, s0.loss_cls: 0.1397, s0.acc: 94.9355, s0.loss_bbox: 0.0965, s1.loss_cls: 0.0535, s1.acc: 96.2552, s1.loss_bbox: 0.0894, s2.loss_cls: 0.0274, s2.acc: 96.3298, s2.loss_bbox: 0.0591, loss_mask: 0.2555, loss: 0.8089, grad_norm: 9.3668\n",
      "2021-05-20 13:09:33,622 - mmdet - INFO - Saving checkpoint at 15 epochs\n"
     ]
    },
    {
     "name": "stdout",
     "output_type": "stream",
     "text": [
      "[>>>>>>>>>>>>>>>>>>>>>>>>>>>>>] 655/655, 4.9 task/s, elapsed: 134s, ETA:     0s"
     ]
    },
    {
     "name": "stderr",
     "output_type": "stream",
     "text": [
      "2021-05-20 13:11:54,324 - mmdet - INFO - Evaluating bbox...\n"
     ]
    },
    {
     "name": "stdout",
     "output_type": "stream",
     "text": [
      "Loading and preparing results...\n",
      "DONE (t=0.61s)\n",
      "creating index...\n",
      "index created!\n",
      "Running per image evaluation...\n",
      "Evaluate annotation type *bbox*\n",
      "DONE (t=6.73s).\n",
      "Accumulating evaluation results...\n"
     ]
    },
    {
     "name": "stderr",
     "output_type": "stream",
     "text": [
      "2021-05-20 13:12:03,134 - mmdet - INFO - Evaluating segm...\n"
     ]
    },
    {
     "name": "stdout",
     "output_type": "stream",
     "text": [
      "DONE (t=1.42s).\n",
      "Average Precision  (AP) @[ IoU=0.50:0.95 | area=   all | maxDets=100 ] = 0.239\n",
      "Average Precision  (AP) @[ IoU=0.50      | area=   all | maxDets=1000 ] = 0.379\n",
      "Average Precision  (AP) @[ IoU=0.75      | area=   all | maxDets=1000 ] = 0.241\n",
      "Average Precision  (AP) @[ IoU=0.50:0.95 | area= small | maxDets=1000 ] = 0.038\n",
      "Average Precision  (AP) @[ IoU=0.50:0.95 | area=medium | maxDets=1000 ] = 0.205\n",
      "Average Precision  (AP) @[ IoU=0.50:0.95 | area= large | maxDets=1000 ] = 0.446\n",
      "Average Recall     (AR) @[ IoU=0.50:0.95 | area=   all | maxDets=100 ] = 0.392\n",
      "Average Recall     (AR) @[ IoU=0.50:0.95 | area=   all | maxDets=300 ] = 0.392\n",
      "Average Recall     (AR) @[ IoU=0.50:0.95 | area=   all | maxDets=1000 ] = 0.392\n",
      "Average Recall     (AR) @[ IoU=0.50:0.95 | area= small | maxDets=1000 ] = 0.118\n",
      "Average Recall     (AR) @[ IoU=0.50:0.95 | area=medium | maxDets=1000 ] = 0.393\n",
      "Average Recall     (AR) @[ IoU=0.50:0.95 | area= large | maxDets=1000 ] = 0.625\n",
      "Loading and preparing results...\n",
      "DONE (t=0.90s)\n",
      "creating index...\n",
      "index created!\n",
      "Running per image evaluation...\n",
      "Evaluate annotation type *segm*\n",
      "DONE (t=7.25s).\n",
      "Accumulating evaluation results...\n"
     ]
    },
    {
     "name": "stderr",
     "output_type": "stream",
     "text": [
      "2021-05-20 13:12:12,725 - mmdet - INFO - Epoch(val) [15][655]\tbbox_mAP: 0.2390, bbox_mAP_50: 0.3790, bbox_mAP_75: 0.2410, bbox_mAP_s: 0.0380, bbox_mAP_m: 0.2050, bbox_mAP_l: 0.4460, bbox_mAP_copypaste: 0.239 0.379 0.241 0.038 0.205 0.446, segm_mAP: 0.2300, segm_mAP_50: 0.3490, segm_mAP_75: 0.2310, segm_mAP_s: 0.0320, segm_mAP_m: 0.1940, segm_mAP_l: 0.4370, segm_mAP_copypaste: 0.230 0.349 0.231 0.032 0.194 0.437\n"
     ]
    },
    {
     "name": "stdout",
     "output_type": "stream",
     "text": [
      "DONE (t=1.21s).\n",
      "Average Precision  (AP) @[ IoU=0.50:0.95 | area=   all | maxDets=100 ] = 0.230\n",
      "Average Precision  (AP) @[ IoU=0.50      | area=   all | maxDets=1000 ] = 0.349\n",
      "Average Precision  (AP) @[ IoU=0.75      | area=   all | maxDets=1000 ] = 0.231\n",
      "Average Precision  (AP) @[ IoU=0.50:0.95 | area= small | maxDets=1000 ] = 0.032\n",
      "Average Precision  (AP) @[ IoU=0.50:0.95 | area=medium | maxDets=1000 ] = 0.194\n",
      "Average Precision  (AP) @[ IoU=0.50:0.95 | area= large | maxDets=1000 ] = 0.437\n",
      "Average Recall     (AR) @[ IoU=0.50:0.95 | area=   all | maxDets=100 ] = 0.375\n",
      "Average Recall     (AR) @[ IoU=0.50:0.95 | area=   all | maxDets=300 ] = 0.375\n",
      "Average Recall     (AR) @[ IoU=0.50:0.95 | area=   all | maxDets=1000 ] = 0.375\n",
      "Average Recall     (AR) @[ IoU=0.50:0.95 | area= small | maxDets=1000 ] = 0.102\n",
      "Average Recall     (AR) @[ IoU=0.50:0.95 | area=medium | maxDets=1000 ] = 0.361\n",
      "Average Recall     (AR) @[ IoU=0.50:0.95 | area= large | maxDets=1000 ] = 0.640\n"
     ]
    },
    {
     "name": "stderr",
     "output_type": "stream",
     "text": [
      "2021-05-20 13:13:14,511 - mmdet - INFO - Epoch [16][50/655]\tlr: 5.000e-05, eta: 2:02:16, time: 1.235, data_time: 0.070, memory: 7460, loss_rpn_cls: 0.0179, loss_rpn_bbox: 0.0256, loss_glbctx: 0.0437, s0.loss_cls: 0.1498, s0.acc: 94.5156, s0.loss_bbox: 0.1000, s1.loss_cls: 0.0595, s1.acc: 95.7066, s1.loss_bbox: 0.0959, s2.loss_cls: 0.0301, s2.acc: 95.9019, s2.loss_bbox: 0.0606, loss_mask: 0.2601, loss: 0.8431, grad_norm: 9.6420\n",
      "2021-05-20 13:14:12,230 - mmdet - INFO - Epoch [16][100/655]\tlr: 5.000e-05, eta: 2:01:21, time: 1.154, data_time: 0.021, memory: 7460, loss_rpn_cls: 0.0170, loss_rpn_bbox: 0.0230, loss_glbctx: 0.0439, s0.loss_cls: 0.1398, s0.acc: 94.9990, s0.loss_bbox: 0.0884, s1.loss_cls: 0.0574, s1.acc: 96.0144, s1.loss_bbox: 0.0796, s2.loss_cls: 0.0275, s2.acc: 96.1759, s2.loss_bbox: 0.0533, loss_mask: 0.2307, loss: 0.7606, grad_norm: 9.2380\n",
      "2021-05-20 13:15:11,243 - mmdet - INFO - Epoch [16][150/655]\tlr: 5.000e-05, eta: 2:00:26, time: 1.180, data_time: 0.021, memory: 7460, loss_rpn_cls: 0.0160, loss_rpn_bbox: 0.0262, loss_glbctx: 0.0503, s0.loss_cls: 0.1471, s0.acc: 94.6797, s0.loss_bbox: 0.1017, s1.loss_cls: 0.0583, s1.acc: 95.8997, s1.loss_bbox: 0.0924, s2.loss_cls: 0.0287, s2.acc: 96.0392, s2.loss_bbox: 0.0592, loss_mask: 0.2723, loss: 0.8522, grad_norm: 10.1996\n",
      "2021-05-20 13:16:11,159 - mmdet - INFO - Epoch [16][200/655]\tlr: 5.000e-05, eta: 1:59:31, time: 1.198, data_time: 0.024, memory: 7460, loss_rpn_cls: 0.0193, loss_rpn_bbox: 0.0239, loss_glbctx: 0.0509, s0.loss_cls: 0.1494, s0.acc: 94.6064, s0.loss_bbox: 0.1018, s1.loss_cls: 0.0592, s1.acc: 95.8659, s1.loss_bbox: 0.0903, s2.loss_cls: 0.0297, s2.acc: 95.8997, s2.loss_bbox: 0.0586, loss_mask: 0.2557, loss: 0.8388, grad_norm: 9.2519\n",
      "2021-05-20 13:17:10,666 - mmdet - INFO - Epoch [16][250/655]\tlr: 5.000e-05, eta: 1:58:37, time: 1.190, data_time: 0.023, memory: 7460, loss_rpn_cls: 0.0182, loss_rpn_bbox: 0.0287, loss_glbctx: 0.0487, s0.loss_cls: 0.1536, s0.acc: 94.4590, s0.loss_bbox: 0.1017, s1.loss_cls: 0.0646, s1.acc: 95.4295, s1.loss_bbox: 0.0959, s2.loss_cls: 0.0321, s2.acc: 95.5183, s2.loss_bbox: 0.0609, loss_mask: 0.2670, loss: 0.8713, grad_norm: 9.9509\n",
      "2021-05-20 13:18:09,214 - mmdet - INFO - Epoch [16][300/655]\tlr: 5.000e-05, eta: 1:57:42, time: 1.171, data_time: 0.022, memory: 7460, loss_rpn_cls: 0.0157, loss_rpn_bbox: 0.0260, loss_glbctx: 0.0615, s0.loss_cls: 0.1278, s0.acc: 95.3447, s0.loss_bbox: 0.0901, s1.loss_cls: 0.0501, s1.acc: 96.4089, s1.loss_bbox: 0.0854, s2.loss_cls: 0.0261, s2.acc: 96.4030, s2.loss_bbox: 0.0572, loss_mask: 0.2443, loss: 0.7841, grad_norm: 10.4838\n",
      "2021-05-20 13:19:06,864 - mmdet - INFO - Epoch [16][350/655]\tlr: 5.000e-05, eta: 1:56:46, time: 1.153, data_time: 0.020, memory: 7460, loss_rpn_cls: 0.0154, loss_rpn_bbox: 0.0261, loss_glbctx: 0.0500, s0.loss_cls: 0.1354, s0.acc: 95.0449, s0.loss_bbox: 0.0911, s1.loss_cls: 0.0536, s1.acc: 96.0395, s1.loss_bbox: 0.0850, s2.loss_cls: 0.0261, s2.acc: 96.3543, s2.loss_bbox: 0.0557, loss_mask: 0.2717, loss: 0.8100, grad_norm: 9.6550\n",
      "2021-05-20 13:20:06,239 - mmdet - INFO - Epoch [16][400/655]\tlr: 5.000e-05, eta: 1:55:51, time: 1.187, data_time: 0.024, memory: 7460, loss_rpn_cls: 0.0204, loss_rpn_bbox: 0.0266, loss_glbctx: 0.0374, s0.loss_cls: 0.1569, s0.acc: 94.3994, s0.loss_bbox: 0.0966, s1.loss_cls: 0.0636, s1.acc: 95.5665, s1.loss_bbox: 0.0902, s2.loss_cls: 0.0325, s2.acc: 95.5620, s2.loss_bbox: 0.0582, loss_mask: 0.2549, loss: 0.8373, grad_norm: 8.7407\n",
      "2021-05-20 13:21:03,925 - mmdet - INFO - Epoch [16][450/655]\tlr: 5.000e-05, eta: 1:54:55, time: 1.154, data_time: 0.021, memory: 7460, loss_rpn_cls: 0.0160, loss_rpn_bbox: 0.0251, loss_glbctx: 0.0324, s0.loss_cls: 0.1340, s0.acc: 95.1318, s0.loss_bbox: 0.0934, s1.loss_cls: 0.0554, s1.acc: 96.0181, s1.loss_bbox: 0.0851, s2.loss_cls: 0.0281, s2.acc: 95.9877, s2.loss_bbox: 0.0530, loss_mask: 0.2448, loss: 0.7673, grad_norm: 8.0814\n",
      "2021-05-20 13:22:01,913 - mmdet - INFO - Epoch [16][500/655]\tlr: 5.000e-05, eta: 1:54:00, time: 1.160, data_time: 0.021, memory: 7460, loss_rpn_cls: 0.0158, loss_rpn_bbox: 0.0226, loss_glbctx: 0.0605, s0.loss_cls: 0.1301, s0.acc: 95.2969, s0.loss_bbox: 0.0913, s1.loss_cls: 0.0520, s1.acc: 96.2553, s1.loss_bbox: 0.0838, s2.loss_cls: 0.0263, s2.acc: 96.2404, s2.loss_bbox: 0.0555, loss_mask: 0.2444, loss: 0.7822, grad_norm: 11.1535\n",
      "2021-05-20 13:23:00,897 - mmdet - INFO - Epoch [16][550/655]\tlr: 5.000e-05, eta: 1:53:05, time: 1.180, data_time: 0.019, memory: 7460, loss_rpn_cls: 0.0179, loss_rpn_bbox: 0.0241, loss_glbctx: 0.0728, s0.loss_cls: 0.1457, s0.acc: 94.6182, s0.loss_bbox: 0.0990, s1.loss_cls: 0.0567, s1.acc: 95.9526, s1.loss_bbox: 0.0879, s2.loss_cls: 0.0297, s2.acc: 95.7920, s2.loss_bbox: 0.0572, loss_mask: 0.2543, loss: 0.8455, grad_norm: 11.0545\n",
      "2021-05-20 13:24:00,664 - mmdet - INFO - Epoch [16][600/655]\tlr: 5.000e-05, eta: 1:52:10, time: 1.195, data_time: 0.020, memory: 7460, loss_rpn_cls: 0.0194, loss_rpn_bbox: 0.0246, loss_glbctx: 0.0750, s0.loss_cls: 0.1546, s0.acc: 94.3926, s0.loss_bbox: 0.1009, s1.loss_cls: 0.0619, s1.acc: 95.7068, s1.loss_bbox: 0.0940, s2.loss_cls: 0.0317, s2.acc: 95.6120, s2.loss_bbox: 0.0611, loss_mask: 0.2500, loss: 0.8732, grad_norm: 11.2769\n",
      "2021-05-20 13:24:59,779 - mmdet - INFO - Epoch [16][650/655]\tlr: 5.000e-05, eta: 1:51:15, time: 1.182, data_time: 0.021, memory: 7460, loss_rpn_cls: 0.0319, loss_rpn_bbox: 0.0302, loss_glbctx: 0.1114, s0.loss_cls: 0.1683, s0.acc: 94.0420, s0.loss_bbox: 0.1075, s1.loss_cls: 0.0696, s1.acc: 95.2335, s1.loss_bbox: 0.0955, s2.loss_cls: 0.0349, s2.acc: 95.3387, s2.loss_bbox: 0.0618, loss_mask: 0.2749, loss: 0.9859, grad_norm: 13.5386\n",
      "2021-05-20 13:25:05,709 - mmdet - INFO - Saving checkpoint at 16 epochs\n"
     ]
    },
    {
     "name": "stdout",
     "output_type": "stream",
     "text": [
      "[>>>>>>>>>>>>>>>>>>>>>>>>>>>>>] 655/655, 4.9 task/s, elapsed: 134s, ETA:     0s"
     ]
    },
    {
     "name": "stderr",
     "output_type": "stream",
     "text": [
      "2021-05-20 13:27:27,828 - mmdet - INFO - Evaluating bbox...\n"
     ]
    },
    {
     "name": "stdout",
     "output_type": "stream",
     "text": [
      "Loading and preparing results...\n",
      "DONE (t=0.62s)\n",
      "creating index...\n",
      "index created!\n",
      "Running per image evaluation...\n",
      "Evaluate annotation type *bbox*\n",
      "DONE (t=7.06s).\n",
      "Accumulating evaluation results...\n"
     ]
    },
    {
     "name": "stderr",
     "output_type": "stream",
     "text": [
      "2021-05-20 13:27:36,834 - mmdet - INFO - Evaluating segm...\n"
     ]
    },
    {
     "name": "stdout",
     "output_type": "stream",
     "text": [
      "DONE (t=1.28s).\n",
      "Average Precision  (AP) @[ IoU=0.50:0.95 | area=   all | maxDets=100 ] = 0.244\n",
      "Average Precision  (AP) @[ IoU=0.50      | area=   all | maxDets=1000 ] = 0.387\n",
      "Average Precision  (AP) @[ IoU=0.75      | area=   all | maxDets=1000 ] = 0.254\n",
      "Average Precision  (AP) @[ IoU=0.50:0.95 | area= small | maxDets=1000 ] = 0.041\n",
      "Average Precision  (AP) @[ IoU=0.50:0.95 | area=medium | maxDets=1000 ] = 0.208\n",
      "Average Precision  (AP) @[ IoU=0.50:0.95 | area= large | maxDets=1000 ] = 0.448\n",
      "Average Recall     (AR) @[ IoU=0.50:0.95 | area=   all | maxDets=100 ] = 0.394\n",
      "Average Recall     (AR) @[ IoU=0.50:0.95 | area=   all | maxDets=300 ] = 0.394\n",
      "Average Recall     (AR) @[ IoU=0.50:0.95 | area=   all | maxDets=1000 ] = 0.394\n",
      "Average Recall     (AR) @[ IoU=0.50:0.95 | area= small | maxDets=1000 ] = 0.128\n",
      "Average Recall     (AR) @[ IoU=0.50:0.95 | area=medium | maxDets=1000 ] = 0.366\n",
      "Average Recall     (AR) @[ IoU=0.50:0.95 | area= large | maxDets=1000 ] = 0.633\n",
      "Loading and preparing results...\n",
      "DONE (t=0.86s)\n",
      "creating index...\n",
      "index created!\n",
      "Running per image evaluation...\n",
      "Evaluate annotation type *segm*\n",
      "DONE (t=7.01s).\n",
      "Accumulating evaluation results...\n"
     ]
    },
    {
     "name": "stderr",
     "output_type": "stream",
     "text": [
      "2021-05-20 13:27:46,213 - mmdet - INFO - Epoch(val) [16][655]\tbbox_mAP: 0.2440, bbox_mAP_50: 0.3870, bbox_mAP_75: 0.2540, bbox_mAP_s: 0.0410, bbox_mAP_m: 0.2080, bbox_mAP_l: 0.4480, bbox_mAP_copypaste: 0.244 0.387 0.254 0.041 0.208 0.448, segm_mAP: 0.2340, segm_mAP_50: 0.3670, segm_mAP_75: 0.2250, segm_mAP_s: 0.0330, segm_mAP_m: 0.1870, segm_mAP_l: 0.4430, segm_mAP_copypaste: 0.234 0.367 0.225 0.033 0.187 0.443\n"
     ]
    },
    {
     "name": "stdout",
     "output_type": "stream",
     "text": [
      "DONE (t=1.27s).\n",
      "Average Precision  (AP) @[ IoU=0.50:0.95 | area=   all | maxDets=100 ] = 0.234\n",
      "Average Precision  (AP) @[ IoU=0.50      | area=   all | maxDets=1000 ] = 0.367\n",
      "Average Precision  (AP) @[ IoU=0.75      | area=   all | maxDets=1000 ] = 0.225\n",
      "Average Precision  (AP) @[ IoU=0.50:0.95 | area= small | maxDets=1000 ] = 0.033\n",
      "Average Precision  (AP) @[ IoU=0.50:0.95 | area=medium | maxDets=1000 ] = 0.187\n",
      "Average Precision  (AP) @[ IoU=0.50:0.95 | area= large | maxDets=1000 ] = 0.443\n",
      "Average Recall     (AR) @[ IoU=0.50:0.95 | area=   all | maxDets=100 ] = 0.369\n",
      "Average Recall     (AR) @[ IoU=0.50:0.95 | area=   all | maxDets=300 ] = 0.369\n",
      "Average Recall     (AR) @[ IoU=0.50:0.95 | area=   all | maxDets=1000 ] = 0.369\n",
      "Average Recall     (AR) @[ IoU=0.50:0.95 | area= small | maxDets=1000 ] = 0.106\n",
      "Average Recall     (AR) @[ IoU=0.50:0.95 | area=medium | maxDets=1000 ] = 0.318\n",
      "Average Recall     (AR) @[ IoU=0.50:0.95 | area= large | maxDets=1000 ] = 0.626\n"
     ]
    },
    {
     "name": "stderr",
     "output_type": "stream",
     "text": [
      "2021-05-20 13:28:46,457 - mmdet - INFO - Epoch [17][50/655]\tlr: 5.000e-06, eta: 1:50:11, time: 1.204, data_time: 0.067, memory: 7460, loss_rpn_cls: 0.0160, loss_rpn_bbox: 0.0216, loss_glbctx: 0.0589, s0.loss_cls: 0.1294, s0.acc: 95.1367, s0.loss_bbox: 0.0876, s1.loss_cls: 0.0513, s1.acc: 96.3307, s1.loss_bbox: 0.0815, s2.loss_cls: 0.0265, s2.acc: 96.2366, s2.loss_bbox: 0.0527, loss_mask: 0.2438, loss: 0.7692, grad_norm: 9.5588\n",
      "2021-05-20 13:29:44,272 - mmdet - INFO - Epoch [17][100/655]\tlr: 5.000e-06, eta: 1:49:15, time: 1.156, data_time: 0.020, memory: 7460, loss_rpn_cls: 0.0143, loss_rpn_bbox: 0.0241, loss_glbctx: 0.0539, s0.loss_cls: 0.1256, s0.acc: 95.3574, s0.loss_bbox: 0.0915, s1.loss_cls: 0.0485, s1.acc: 96.5247, s1.loss_bbox: 0.0815, s2.loss_cls: 0.0248, s2.acc: 96.4101, s2.loss_bbox: 0.0544, loss_mask: 0.2436, loss: 0.7622, grad_norm: 9.5859\n",
      "2021-05-20 13:30:42,894 - mmdet - INFO - Epoch [17][150/655]\tlr: 5.000e-06, eta: 1:48:20, time: 1.172, data_time: 0.022, memory: 7460, loss_rpn_cls: 0.0148, loss_rpn_bbox: 0.0226, loss_glbctx: 0.0379, s0.loss_cls: 0.1318, s0.acc: 95.2373, s0.loss_bbox: 0.0912, s1.loss_cls: 0.0514, s1.acc: 96.3474, s1.loss_bbox: 0.0805, s2.loss_cls: 0.0261, s2.acc: 96.3548, s2.loss_bbox: 0.0521, loss_mask: 0.2353, loss: 0.7436, grad_norm: 7.7005\n",
      "2021-05-20 13:31:41,519 - mmdet - INFO - Epoch [17][200/655]\tlr: 5.000e-06, eta: 1:47:25, time: 1.172, data_time: 0.021, memory: 7460, loss_rpn_cls: 0.0172, loss_rpn_bbox: 0.0232, loss_glbctx: 0.0319, s0.loss_cls: 0.1328, s0.acc: 95.1045, s0.loss_bbox: 0.0927, s1.loss_cls: 0.0531, s1.acc: 96.1621, s1.loss_bbox: 0.0838, s2.loss_cls: 0.0268, s2.acc: 96.1855, s2.loss_bbox: 0.0524, loss_mask: 0.2358, loss: 0.7497, grad_norm: 7.7147\n",
      "2021-05-20 13:32:39,022 - mmdet - INFO - Epoch [17][250/655]\tlr: 5.000e-06, eta: 1:46:28, time: 1.150, data_time: 0.019, memory: 7460, loss_rpn_cls: 0.0141, loss_rpn_bbox: 0.0205, loss_glbctx: 0.0230, s0.loss_cls: 0.1122, s0.acc: 95.7969, s0.loss_bbox: 0.0793, s1.loss_cls: 0.0442, s1.acc: 96.7635, s1.loss_bbox: 0.0742, s2.loss_cls: 0.0220, s2.acc: 96.8571, s2.loss_bbox: 0.0482, loss_mask: 0.2266, loss: 0.6641, grad_norm: 6.8461\n",
      "2021-05-20 13:33:37,916 - mmdet - INFO - Epoch [17][300/655]\tlr: 5.000e-06, eta: 1:45:33, time: 1.178, data_time: 0.021, memory: 7460, loss_rpn_cls: 0.0154, loss_rpn_bbox: 0.0205, loss_glbctx: 0.0338, s0.loss_cls: 0.1198, s0.acc: 95.4512, s0.loss_bbox: 0.0895, s1.loss_cls: 0.0458, s1.acc: 96.6113, s1.loss_bbox: 0.0807, s2.loss_cls: 0.0234, s2.acc: 96.7600, s2.loss_bbox: 0.0532, loss_mask: 0.2288, loss: 0.7109, grad_norm: 7.9783\n",
      "2021-05-20 13:34:37,299 - mmdet - INFO - Epoch [17][350/655]\tlr: 5.000e-06, eta: 1:44:38, time: 1.188, data_time: 0.023, memory: 7460, loss_rpn_cls: 0.0174, loss_rpn_bbox: 0.0265, loss_glbctx: 0.0301, s0.loss_cls: 0.1351, s0.acc: 95.0215, s0.loss_bbox: 0.0913, s1.loss_cls: 0.0551, s1.acc: 96.1451, s1.loss_bbox: 0.0879, s2.loss_cls: 0.0285, s2.acc: 95.8963, s2.loss_bbox: 0.0584, loss_mask: 0.2481, loss: 0.7783, grad_norm: 8.0302\n",
      "2021-05-20 13:35:35,464 - mmdet - INFO - Epoch [17][400/655]\tlr: 5.000e-06, eta: 1:43:42, time: 1.163, data_time: 0.019, memory: 7460, loss_rpn_cls: 0.0145, loss_rpn_bbox: 0.0227, loss_glbctx: 0.0252, s0.loss_cls: 0.1212, s0.acc: 95.6602, s0.loss_bbox: 0.0857, s1.loss_cls: 0.0456, s1.acc: 96.7828, s1.loss_bbox: 0.0768, s2.loss_cls: 0.0239, s2.acc: 96.6648, s2.loss_bbox: 0.0517, loss_mask: 0.2324, loss: 0.6998, grad_norm: 7.6027\n",
      "2021-05-20 13:36:35,540 - mmdet - INFO - Epoch [17][450/655]\tlr: 5.000e-06, eta: 1:42:47, time: 1.201, data_time: 0.024, memory: 7460, loss_rpn_cls: 0.0165, loss_rpn_bbox: 0.0261, loss_glbctx: 0.0292, s0.loss_cls: 0.1428, s0.acc: 94.7012, s0.loss_bbox: 0.0993, s1.loss_cls: 0.0565, s1.acc: 96.0051, s1.loss_bbox: 0.0928, s2.loss_cls: 0.0295, s2.acc: 95.9035, s2.loss_bbox: 0.0601, loss_mask: 0.2572, loss: 0.8099, grad_norm: 7.9499\n",
      "2021-05-20 13:37:33,675 - mmdet - INFO - Epoch [17][500/655]\tlr: 5.000e-06, eta: 1:41:51, time: 1.163, data_time: 0.019, memory: 7460, loss_rpn_cls: 0.0127, loss_rpn_bbox: 0.0218, loss_glbctx: 0.0228, s0.loss_cls: 0.1200, s0.acc: 95.4834, s0.loss_bbox: 0.0817, s1.loss_cls: 0.0465, s1.acc: 96.5671, s1.loss_bbox: 0.0754, s2.loss_cls: 0.0234, s2.acc: 96.7660, s2.loss_bbox: 0.0503, loss_mask: 0.2275, loss: 0.6820, grad_norm: 6.9786\n",
      "2021-05-20 13:38:32,072 - mmdet - INFO - Epoch [17][550/655]\tlr: 5.000e-06, eta: 1:40:55, time: 1.168, data_time: 0.020, memory: 7460, loss_rpn_cls: 0.0122, loss_rpn_bbox: 0.0215, loss_glbctx: 0.0213, s0.loss_cls: 0.1144, s0.acc: 95.6650, s0.loss_bbox: 0.0871, s1.loss_cls: 0.0443, s1.acc: 96.7291, s1.loss_bbox: 0.0804, s2.loss_cls: 0.0228, s2.acc: 96.7115, s2.loss_bbox: 0.0530, loss_mask: 0.2287, loss: 0.6856, grad_norm: 6.9194\n",
      "2021-05-20 13:39:30,406 - mmdet - INFO - Epoch [17][600/655]\tlr: 5.000e-06, eta: 1:40:00, time: 1.167, data_time: 0.022, memory: 7460, loss_rpn_cls: 0.0141, loss_rpn_bbox: 0.0205, loss_glbctx: 0.0243, s0.loss_cls: 0.1267, s0.acc: 95.2979, s0.loss_bbox: 0.0886, s1.loss_cls: 0.0479, s1.acc: 96.5403, s1.loss_bbox: 0.0796, s2.loss_cls: 0.0251, s2.acc: 96.3951, s2.loss_bbox: 0.0527, loss_mask: 0.2288, loss: 0.7083, grad_norm: 7.2301\n",
      "2021-05-20 13:40:28,348 - mmdet - INFO - Epoch [17][650/655]\tlr: 5.000e-06, eta: 1:39:04, time: 1.159, data_time: 0.021, memory: 7460, loss_rpn_cls: 0.0134, loss_rpn_bbox: 0.0208, loss_glbctx: 0.0383, s0.loss_cls: 0.1162, s0.acc: 95.7764, s0.loss_bbox: 0.0801, s1.loss_cls: 0.0446, s1.acc: 96.8984, s1.loss_bbox: 0.0711, s2.loss_cls: 0.0225, s2.acc: 96.9112, s2.loss_bbox: 0.0473, loss_mask: 0.2198, loss: 0.6741, grad_norm: 8.0040\n",
      "2021-05-20 13:40:34,319 - mmdet - INFO - Saving checkpoint at 17 epochs\n"
     ]
    },
    {
     "name": "stdout",
     "output_type": "stream",
     "text": [
      "[>>>>>>>>>>>>>>>>>>>>>>>>>>>>>] 655/655, 5.3 task/s, elapsed: 125s, ETA:     0s"
     ]
    },
    {
     "name": "stderr",
     "output_type": "stream",
     "text": [
      "2021-05-20 13:42:45,997 - mmdet - INFO - Evaluating bbox...\n"
     ]
    },
    {
     "name": "stdout",
     "output_type": "stream",
     "text": [
      "Loading and preparing results...\n",
      "DONE (t=0.58s)\n",
      "creating index...\n",
      "index created!\n",
      "Running per image evaluation...\n",
      "Evaluate annotation type *bbox*\n",
      "DONE (t=6.98s).\n",
      "Accumulating evaluation results...\n"
     ]
    },
    {
     "name": "stderr",
     "output_type": "stream",
     "text": [
      "2021-05-20 13:42:54,690 - mmdet - INFO - Evaluating segm...\n"
     ]
    },
    {
     "name": "stdout",
     "output_type": "stream",
     "text": [
      "DONE (t=1.09s).\n",
      "Average Precision  (AP) @[ IoU=0.50:0.95 | area=   all | maxDets=100 ] = 0.255\n",
      "Average Precision  (AP) @[ IoU=0.50      | area=   all | maxDets=1000 ] = 0.399\n",
      "Average Precision  (AP) @[ IoU=0.75      | area=   all | maxDets=1000 ] = 0.254\n",
      "Average Precision  (AP) @[ IoU=0.50:0.95 | area= small | maxDets=1000 ] = 0.042\n",
      "Average Precision  (AP) @[ IoU=0.50:0.95 | area=medium | maxDets=1000 ] = 0.225\n",
      "Average Precision  (AP) @[ IoU=0.50:0.95 | area= large | maxDets=1000 ] = 0.470\n",
      "Average Recall     (AR) @[ IoU=0.50:0.95 | area=   all | maxDets=100 ] = 0.398\n",
      "Average Recall     (AR) @[ IoU=0.50:0.95 | area=   all | maxDets=300 ] = 0.398\n",
      "Average Recall     (AR) @[ IoU=0.50:0.95 | area=   all | maxDets=1000 ] = 0.398\n",
      "Average Recall     (AR) @[ IoU=0.50:0.95 | area= small | maxDets=1000 ] = 0.131\n",
      "Average Recall     (AR) @[ IoU=0.50:0.95 | area=medium | maxDets=1000 ] = 0.378\n",
      "Average Recall     (AR) @[ IoU=0.50:0.95 | area= large | maxDets=1000 ] = 0.647\n",
      "Loading and preparing results...\n",
      "DONE (t=0.30s)\n",
      "creating index...\n",
      "index created!\n",
      "Running per image evaluation...\n",
      "Evaluate annotation type *segm*\n",
      "DONE (t=7.64s).\n",
      "Accumulating evaluation results...\n"
     ]
    },
    {
     "name": "stderr",
     "output_type": "stream",
     "text": [
      "2021-05-20 13:43:04,073 - mmdet - INFO - Epoch(val) [17][655]\tbbox_mAP: 0.2550, bbox_mAP_50: 0.3990, bbox_mAP_75: 0.2540, bbox_mAP_s: 0.0420, bbox_mAP_m: 0.2250, bbox_mAP_l: 0.4700, bbox_mAP_copypaste: 0.255 0.399 0.254 0.042 0.225 0.470, segm_mAP: 0.2410, segm_mAP_50: 0.3850, segm_mAP_75: 0.2380, segm_mAP_s: 0.0340, segm_mAP_m: 0.2080, segm_mAP_l: 0.4550, segm_mAP_copypaste: 0.241 0.385 0.238 0.034 0.208 0.455\n"
     ]
    },
    {
     "name": "stdout",
     "output_type": "stream",
     "text": [
      "DONE (t=1.22s).\n",
      "Average Precision  (AP) @[ IoU=0.50:0.95 | area=   all | maxDets=100 ] = 0.241\n",
      "Average Precision  (AP) @[ IoU=0.50      | area=   all | maxDets=1000 ] = 0.385\n",
      "Average Precision  (AP) @[ IoU=0.75      | area=   all | maxDets=1000 ] = 0.238\n",
      "Average Precision  (AP) @[ IoU=0.50:0.95 | area= small | maxDets=1000 ] = 0.034\n",
      "Average Precision  (AP) @[ IoU=0.50:0.95 | area=medium | maxDets=1000 ] = 0.208\n",
      "Average Precision  (AP) @[ IoU=0.50:0.95 | area= large | maxDets=1000 ] = 0.455\n",
      "Average Recall     (AR) @[ IoU=0.50:0.95 | area=   all | maxDets=100 ] = 0.381\n",
      "Average Recall     (AR) @[ IoU=0.50:0.95 | area=   all | maxDets=300 ] = 0.381\n",
      "Average Recall     (AR) @[ IoU=0.50:0.95 | area=   all | maxDets=1000 ] = 0.381\n",
      "Average Recall     (AR) @[ IoU=0.50:0.95 | area= small | maxDets=1000 ] = 0.110\n",
      "Average Recall     (AR) @[ IoU=0.50:0.95 | area=medium | maxDets=1000 ] = 0.350\n",
      "Average Recall     (AR) @[ IoU=0.50:0.95 | area= large | maxDets=1000 ] = 0.658\n"
     ]
    },
    {
     "name": "stderr",
     "output_type": "stream",
     "text": [
      "2021-05-20 13:44:05,845 - mmdet - INFO - Epoch [18][50/655]\tlr: 5.000e-06, eta: 1:38:01, time: 1.235, data_time: 0.073, memory: 7460, loss_rpn_cls: 0.0141, loss_rpn_bbox: 0.0225, loss_glbctx: 0.0123, s0.loss_cls: 0.1205, s0.acc: 95.5498, s0.loss_bbox: 0.0899, s1.loss_cls: 0.0457, s1.acc: 96.7645, s1.loss_bbox: 0.0787, s2.loss_cls: 0.0238, s2.acc: 96.6718, s2.loss_bbox: 0.0522, loss_mask: 0.2229, loss: 0.6825, grad_norm: 6.0201\n",
      "2021-05-20 13:45:03,764 - mmdet - INFO - Epoch [18][100/655]\tlr: 5.000e-06, eta: 1:37:05, time: 1.158, data_time: 0.022, memory: 7460, loss_rpn_cls: 0.0132, loss_rpn_bbox: 0.0231, loss_glbctx: 0.0150, s0.loss_cls: 0.1159, s0.acc: 95.6885, s0.loss_bbox: 0.0805, s1.loss_cls: 0.0451, s1.acc: 96.7418, s1.loss_bbox: 0.0730, s2.loss_cls: 0.0230, s2.acc: 96.8135, s2.loss_bbox: 0.0483, loss_mask: 0.2254, loss: 0.6625, grad_norm: 6.2536\n",
      "2021-05-20 13:46:01,617 - mmdet - INFO - Epoch [18][150/655]\tlr: 5.000e-06, eta: 1:36:09, time: 1.157, data_time: 0.026, memory: 7460, loss_rpn_cls: 0.0132, loss_rpn_bbox: 0.0228, loss_glbctx: 0.0145, s0.loss_cls: 0.1146, s0.acc: 95.6816, s0.loss_bbox: 0.0834, s1.loss_cls: 0.0448, s1.acc: 96.7958, s1.loss_bbox: 0.0744, s2.loss_cls: 0.0229, s2.acc: 96.6796, s2.loss_bbox: 0.0483, loss_mask: 0.2273, loss: 0.6662, grad_norm: 6.0683\n",
      "2021-05-20 13:46:59,760 - mmdet - INFO - Epoch [18][200/655]\tlr: 5.000e-06, eta: 1:35:13, time: 1.163, data_time: 0.022, memory: 7460, loss_rpn_cls: 0.0122, loss_rpn_bbox: 0.0201, loss_glbctx: 0.0096, s0.loss_cls: 0.1076, s0.acc: 95.9551, s0.loss_bbox: 0.0781, s1.loss_cls: 0.0408, s1.acc: 97.0597, s1.loss_bbox: 0.0707, s2.loss_cls: 0.0211, s2.acc: 97.0618, s2.loss_bbox: 0.0468, loss_mask: 0.2184, loss: 0.6255, grad_norm: 5.6063\n",
      "2021-05-20 13:47:57,076 - mmdet - INFO - Epoch [18][250/655]\tlr: 5.000e-06, eta: 1:34:16, time: 1.146, data_time: 0.018, memory: 7460, loss_rpn_cls: 0.0091, loss_rpn_bbox: 0.0182, loss_glbctx: 0.0119, s0.loss_cls: 0.1048, s0.acc: 96.0967, s0.loss_bbox: 0.0768, s1.loss_cls: 0.0395, s1.acc: 97.1980, s1.loss_bbox: 0.0679, s2.loss_cls: 0.0194, s2.acc: 97.2816, s2.loss_bbox: 0.0459, loss_mask: 0.2181, loss: 0.6116, grad_norm: 5.8759\n",
      "2021-05-20 13:48:55,985 - mmdet - INFO - Epoch [18][300/655]\tlr: 5.000e-06, eta: 1:33:21, time: 1.178, data_time: 0.021, memory: 7460, loss_rpn_cls: 0.0124, loss_rpn_bbox: 0.0223, loss_glbctx: 0.0132, s0.loss_cls: 0.1160, s0.acc: 95.6895, s0.loss_bbox: 0.0846, s1.loss_cls: 0.0452, s1.acc: 96.6951, s1.loss_bbox: 0.0751, s2.loss_cls: 0.0231, s2.acc: 96.7151, s2.loss_bbox: 0.0495, loss_mask: 0.2257, loss: 0.6671, grad_norm: 6.0780\n",
      "2021-05-20 13:49:55,347 - mmdet - INFO - Epoch [18][350/655]\tlr: 5.000e-06, eta: 1:32:25, time: 1.187, data_time: 0.021, memory: 7460, loss_rpn_cls: 0.0136, loss_rpn_bbox: 0.0225, loss_glbctx: 0.0121, s0.loss_cls: 0.1210, s0.acc: 95.5117, s0.loss_bbox: 0.0918, s1.loss_cls: 0.0444, s1.acc: 96.7631, s1.loss_bbox: 0.0811, s2.loss_cls: 0.0230, s2.acc: 96.7312, s2.loss_bbox: 0.0531, loss_mask: 0.2311, loss: 0.6937, grad_norm: 6.0230\n",
      "2021-05-20 13:50:53,933 - mmdet - INFO - Epoch [18][400/655]\tlr: 5.000e-06, eta: 1:31:29, time: 1.172, data_time: 0.020, memory: 7460, loss_rpn_cls: 0.0142, loss_rpn_bbox: 0.0212, loss_glbctx: 0.0131, s0.loss_cls: 0.1107, s0.acc: 95.9053, s0.loss_bbox: 0.0834, s1.loss_cls: 0.0421, s1.acc: 96.9797, s1.loss_bbox: 0.0746, s2.loss_cls: 0.0213, s2.acc: 97.0451, s2.loss_bbox: 0.0492, loss_mask: 0.2244, loss: 0.6541, grad_norm: 6.2935\n",
      "2021-05-20 13:51:52,676 - mmdet - INFO - Epoch [18][450/655]\tlr: 5.000e-06, eta: 1:30:33, time: 1.175, data_time: 0.022, memory: 7460, loss_rpn_cls: 0.0114, loss_rpn_bbox: 0.0197, loss_glbctx: 0.0126, s0.loss_cls: 0.1105, s0.acc: 95.8750, s0.loss_bbox: 0.0822, s1.loss_cls: 0.0402, s1.acc: 97.1257, s1.loss_bbox: 0.0713, s2.loss_cls: 0.0200, s2.acc: 97.1462, s2.loss_bbox: 0.0466, loss_mask: 0.2184, loss: 0.6330, grad_norm: 6.3162\n",
      "2021-05-20 13:52:50,923 - mmdet - INFO - Epoch [18][500/655]\tlr: 5.000e-06, eta: 1:29:37, time: 1.165, data_time: 0.020, memory: 7460, loss_rpn_cls: 0.0135, loss_rpn_bbox: 0.0222, loss_glbctx: 0.0111, s0.loss_cls: 0.1138, s0.acc: 95.7695, s0.loss_bbox: 0.0828, s1.loss_cls: 0.0431, s1.acc: 96.8721, s1.loss_bbox: 0.0749, s2.loss_cls: 0.0224, s2.acc: 96.8110, s2.loss_bbox: 0.0492, loss_mask: 0.2277, loss: 0.6607, grad_norm: 6.3055\n",
      "2021-05-20 13:53:49,991 - mmdet - INFO - Epoch [18][550/655]\tlr: 5.000e-06, eta: 1:28:41, time: 1.181, data_time: 0.020, memory: 7460, loss_rpn_cls: 0.0123, loss_rpn_bbox: 0.0213, loss_glbctx: 0.0142, s0.loss_cls: 0.1143, s0.acc: 95.7432, s0.loss_bbox: 0.0844, s1.loss_cls: 0.0418, s1.acc: 96.9853, s1.loss_bbox: 0.0780, s2.loss_cls: 0.0220, s2.acc: 96.8559, s2.loss_bbox: 0.0505, loss_mask: 0.2324, loss: 0.6711, grad_norm: 7.0528\n",
      "2021-05-20 13:54:47,925 - mmdet - INFO - Epoch [18][600/655]\tlr: 5.000e-06, eta: 1:27:45, time: 1.159, data_time: 0.020, memory: 7460, loss_rpn_cls: 0.0090, loss_rpn_bbox: 0.0188, loss_glbctx: 0.0122, s0.loss_cls: 0.1082, s0.acc: 96.0762, s0.loss_bbox: 0.0791, s1.loss_cls: 0.0408, s1.acc: 97.1490, s1.loss_bbox: 0.0719, s2.loss_cls: 0.0209, s2.acc: 97.1635, s2.loss_bbox: 0.0479, loss_mask: 0.2204, loss: 0.6291, grad_norm: 6.0310\n",
      "2021-05-20 13:55:45,882 - mmdet - INFO - Epoch [18][650/655]\tlr: 5.000e-06, eta: 1:26:49, time: 1.159, data_time: 0.020, memory: 7460, loss_rpn_cls: 0.0126, loss_rpn_bbox: 0.0188, loss_glbctx: 0.0071, s0.loss_cls: 0.1088, s0.acc: 95.8613, s0.loss_bbox: 0.0797, s1.loss_cls: 0.0415, s1.acc: 96.9343, s1.loss_bbox: 0.0745, s2.loss_cls: 0.0212, s2.acc: 96.9401, s2.loss_bbox: 0.0499, loss_mask: 0.2266, loss: 0.6407, grad_norm: 5.9046\n",
      "2021-05-20 13:55:52,201 - mmdet - INFO - Saving checkpoint at 18 epochs\n"
     ]
    },
    {
     "name": "stdout",
     "output_type": "stream",
     "text": [
      "[>>>>>>>>>>>>>>>>>>>>>>>>>>>>>] 655/655, 5.4 task/s, elapsed: 121s, ETA:     0s"
     ]
    },
    {
     "name": "stderr",
     "output_type": "stream",
     "text": [
      "2021-05-20 13:57:59,689 - mmdet - INFO - Evaluating bbox...\n"
     ]
    },
    {
     "name": "stdout",
     "output_type": "stream",
     "text": [
      "Loading and preparing results...\n",
      "DONE (t=0.60s)\n",
      "creating index...\n",
      "index created!\n",
      "Running per image evaluation...\n",
      "Evaluate annotation type *bbox*\n",
      "DONE (t=6.56s).\n",
      "Accumulating evaluation results...\n"
     ]
    },
    {
     "name": "stderr",
     "output_type": "stream",
     "text": [
      "2021-05-20 13:58:07,959 - mmdet - INFO - Evaluating segm...\n"
     ]
    },
    {
     "name": "stdout",
     "output_type": "stream",
     "text": [
      "DONE (t=1.06s).\n",
      "Average Precision  (AP) @[ IoU=0.50:0.95 | area=   all | maxDets=100 ] = 0.253\n",
      "Average Precision  (AP) @[ IoU=0.50      | area=   all | maxDets=1000 ] = 0.397\n",
      "Average Precision  (AP) @[ IoU=0.75      | area=   all | maxDets=1000 ] = 0.250\n",
      "Average Precision  (AP) @[ IoU=0.50:0.95 | area= small | maxDets=1000 ] = 0.042\n",
      "Average Precision  (AP) @[ IoU=0.50:0.95 | area=medium | maxDets=1000 ] = 0.226\n",
      "Average Precision  (AP) @[ IoU=0.50:0.95 | area= large | maxDets=1000 ] = 0.449\n",
      "Average Recall     (AR) @[ IoU=0.50:0.95 | area=   all | maxDets=100 ] = 0.399\n",
      "Average Recall     (AR) @[ IoU=0.50:0.95 | area=   all | maxDets=300 ] = 0.399\n",
      "Average Recall     (AR) @[ IoU=0.50:0.95 | area=   all | maxDets=1000 ] = 0.399\n",
      "Average Recall     (AR) @[ IoU=0.50:0.95 | area= small | maxDets=1000 ] = 0.136\n",
      "Average Recall     (AR) @[ IoU=0.50:0.95 | area=medium | maxDets=1000 ] = 0.377\n",
      "Average Recall     (AR) @[ IoU=0.50:0.95 | area= large | maxDets=1000 ] = 0.627\n",
      "Loading and preparing results...\n",
      "DONE (t=0.77s)\n",
      "creating index...\n",
      "index created!\n",
      "Running per image evaluation...\n",
      "Evaluate annotation type *segm*\n",
      "DONE (t=6.63s).\n",
      "Accumulating evaluation results...\n"
     ]
    },
    {
     "name": "stderr",
     "output_type": "stream",
     "text": [
      "2021-05-20 13:58:16,594 - mmdet - INFO - Epoch(val) [18][655]\tbbox_mAP: 0.2530, bbox_mAP_50: 0.3970, bbox_mAP_75: 0.2500, bbox_mAP_s: 0.0420, bbox_mAP_m: 0.2260, bbox_mAP_l: 0.4490, bbox_mAP_copypaste: 0.253 0.397 0.250 0.042 0.226 0.449, segm_mAP: 0.2360, segm_mAP_50: 0.3670, segm_mAP_75: 0.2330, segm_mAP_s: 0.0330, segm_mAP_m: 0.2060, segm_mAP_l: 0.4420, segm_mAP_copypaste: 0.236 0.367 0.233 0.033 0.206 0.442\n"
     ]
    },
    {
     "name": "stdout",
     "output_type": "stream",
     "text": [
      "DONE (t=1.04s).\n",
      "Average Precision  (AP) @[ IoU=0.50:0.95 | area=   all | maxDets=100 ] = 0.236\n",
      "Average Precision  (AP) @[ IoU=0.50      | area=   all | maxDets=1000 ] = 0.367\n",
      "Average Precision  (AP) @[ IoU=0.75      | area=   all | maxDets=1000 ] = 0.233\n",
      "Average Precision  (AP) @[ IoU=0.50:0.95 | area= small | maxDets=1000 ] = 0.033\n",
      "Average Precision  (AP) @[ IoU=0.50:0.95 | area=medium | maxDets=1000 ] = 0.206\n",
      "Average Precision  (AP) @[ IoU=0.50:0.95 | area= large | maxDets=1000 ] = 0.442\n",
      "Average Recall     (AR) @[ IoU=0.50:0.95 | area=   all | maxDets=100 ] = 0.379\n",
      "Average Recall     (AR) @[ IoU=0.50:0.95 | area=   all | maxDets=300 ] = 0.379\n",
      "Average Recall     (AR) @[ IoU=0.50:0.95 | area=   all | maxDets=1000 ] = 0.379\n",
      "Average Recall     (AR) @[ IoU=0.50:0.95 | area= small | maxDets=1000 ] = 0.111\n",
      "Average Recall     (AR) @[ IoU=0.50:0.95 | area=medium | maxDets=1000 ] = 0.348\n",
      "Average Recall     (AR) @[ IoU=0.50:0.95 | area= large | maxDets=1000 ] = 0.644\n"
     ]
    },
    {
     "name": "stderr",
     "output_type": "stream",
     "text": [
      "2021-05-20 13:59:17,331 - mmdet - INFO - Epoch [19][50/655]\tlr: 5.000e-06, eta: 1:25:46, time: 1.214, data_time: 0.069, memory: 7460, loss_rpn_cls: 0.0116, loss_rpn_bbox: 0.0209, loss_glbctx: 0.0079, s0.loss_cls: 0.1099, s0.acc: 95.8564, s0.loss_bbox: 0.0821, s1.loss_cls: 0.0415, s1.acc: 96.9308, s1.loss_bbox: 0.0730, s2.loss_cls: 0.0213, s2.acc: 96.9519, s2.loss_bbox: 0.0474, loss_mask: 0.2243, loss: 0.6399, grad_norm: 5.5294\n",
      "2021-05-20 14:00:14,617 - mmdet - INFO - Epoch [19][100/655]\tlr: 5.000e-06, eta: 1:24:49, time: 1.146, data_time: 0.021, memory: 7460, loss_rpn_cls: 0.0097, loss_rpn_bbox: 0.0182, loss_glbctx: 0.0067, s0.loss_cls: 0.0967, s0.acc: 96.4131, s0.loss_bbox: 0.0663, s1.loss_cls: 0.0364, s1.acc: 97.3719, s1.loss_bbox: 0.0612, s2.loss_cls: 0.0185, s2.acc: 97.3213, s2.loss_bbox: 0.0414, loss_mask: 0.2050, loss: 0.5602, grad_norm: 5.0209\n",
      "2021-05-20 14:01:12,444 - mmdet - INFO - Epoch [19][150/655]\tlr: 5.000e-06, eta: 1:23:53, time: 1.156, data_time: 0.019, memory: 7460, loss_rpn_cls: 0.0122, loss_rpn_bbox: 0.0207, loss_glbctx: 0.0112, s0.loss_cls: 0.1094, s0.acc: 95.8867, s0.loss_bbox: 0.0798, s1.loss_cls: 0.0409, s1.acc: 97.0856, s1.loss_bbox: 0.0720, s2.loss_cls: 0.0209, s2.acc: 97.1436, s2.loss_bbox: 0.0453, loss_mask: 0.2244, loss: 0.6369, grad_norm: 5.8727\n",
      "2021-05-20 14:02:11,051 - mmdet - INFO - Epoch [19][200/655]\tlr: 5.000e-06, eta: 1:22:57, time: 1.172, data_time: 0.021, memory: 7460, loss_rpn_cls: 0.0107, loss_rpn_bbox: 0.0214, loss_glbctx: 0.0095, s0.loss_cls: 0.1085, s0.acc: 95.9111, s0.loss_bbox: 0.0809, s1.loss_cls: 0.0401, s1.acc: 97.1213, s1.loss_bbox: 0.0713, s2.loss_cls: 0.0206, s2.acc: 97.1412, s2.loss_bbox: 0.0480, loss_mask: 0.2315, loss: 0.6425, grad_norm: 5.8203\n",
      "2021-05-20 14:03:09,844 - mmdet - INFO - Epoch [19][250/655]\tlr: 5.000e-06, eta: 1:22:01, time: 1.176, data_time: 0.022, memory: 7460, loss_rpn_cls: 0.0116, loss_rpn_bbox: 0.0219, loss_glbctx: 0.0091, s0.loss_cls: 0.1165, s0.acc: 95.6689, s0.loss_bbox: 0.0822, s1.loss_cls: 0.0437, s1.acc: 96.8349, s1.loss_bbox: 0.0769, s2.loss_cls: 0.0225, s2.acc: 96.7208, s2.loss_bbox: 0.0502, loss_mask: 0.2269, loss: 0.6616, grad_norm: 6.0745\n",
      "2021-05-20 14:04:06,966 - mmdet - INFO - Epoch [19][300/655]\tlr: 5.000e-06, eta: 1:21:04, time: 1.142, data_time: 0.019, memory: 7460, loss_rpn_cls: 0.0089, loss_rpn_bbox: 0.0163, loss_glbctx: 0.0060, s0.loss_cls: 0.0883, s0.acc: 96.6797, s0.loss_bbox: 0.0654, s1.loss_cls: 0.0315, s1.acc: 97.6827, s1.loss_bbox: 0.0578, s2.loss_cls: 0.0159, s2.acc: 97.7128, s2.loss_bbox: 0.0396, loss_mask: 0.1995, loss: 0.5292, grad_norm: 5.0247\n",
      "2021-05-20 14:05:05,521 - mmdet - INFO - Epoch [19][350/655]\tlr: 5.000e-06, eta: 1:20:08, time: 1.171, data_time: 0.021, memory: 7460, loss_rpn_cls: 0.0124, loss_rpn_bbox: 0.0206, loss_glbctx: 0.0133, s0.loss_cls: 0.1192, s0.acc: 95.5469, s0.loss_bbox: 0.0869, s1.loss_cls: 0.0447, s1.acc: 96.7369, s1.loss_bbox: 0.0790, s2.loss_cls: 0.0229, s2.acc: 96.6550, s2.loss_bbox: 0.0505, loss_mask: 0.2204, loss: 0.6700, grad_norm: 6.5233\n",
      "2021-05-20 14:06:03,800 - mmdet - INFO - Epoch [19][400/655]\tlr: 5.000e-06, eta: 1:19:12, time: 1.166, data_time: 0.021, memory: 7460, loss_rpn_cls: 0.0101, loss_rpn_bbox: 0.0197, loss_glbctx: 0.0065, s0.loss_cls: 0.1039, s0.acc: 96.0645, s0.loss_bbox: 0.0769, s1.loss_cls: 0.0392, s1.acc: 97.1453, s1.loss_bbox: 0.0696, s2.loss_cls: 0.0201, s2.acc: 97.0639, s2.loss_bbox: 0.0471, loss_mask: 0.2181, loss: 0.6112, grad_norm: 5.8661\n",
      "2021-05-20 14:07:02,719 - mmdet - INFO - Epoch [19][450/655]\tlr: 5.000e-06, eta: 1:18:16, time: 1.178, data_time: 0.024, memory: 7460, loss_rpn_cls: 0.0101, loss_rpn_bbox: 0.0210, loss_glbctx: 0.0049, s0.loss_cls: 0.1076, s0.acc: 95.8887, s0.loss_bbox: 0.0843, s1.loss_cls: 0.0402, s1.acc: 96.9291, s1.loss_bbox: 0.0778, s2.loss_cls: 0.0207, s2.acc: 97.0052, s2.loss_bbox: 0.0510, loss_mask: 0.2220, loss: 0.6395, grad_norm: 5.6385\n",
      "2021-05-20 14:08:01,524 - mmdet - INFO - Epoch [19][500/655]\tlr: 5.000e-06, eta: 1:17:20, time: 1.176, data_time: 0.022, memory: 7460, loss_rpn_cls: 0.0128, loss_rpn_bbox: 0.0246, loss_glbctx: 0.0055, s0.loss_cls: 0.1231, s0.acc: 95.4814, s0.loss_bbox: 0.0911, s1.loss_cls: 0.0467, s1.acc: 96.6065, s1.loss_bbox: 0.0810, s2.loss_cls: 0.0240, s2.acc: 96.5214, s2.loss_bbox: 0.0518, loss_mask: 0.2326, loss: 0.6932, grad_norm: 5.5693\n",
      "2021-05-20 14:09:00,770 - mmdet - INFO - Epoch [19][550/655]\tlr: 5.000e-06, eta: 1:16:24, time: 1.185, data_time: 0.022, memory: 7460, loss_rpn_cls: 0.0102, loss_rpn_bbox: 0.0234, loss_glbctx: 0.0047, s0.loss_cls: 0.1158, s0.acc: 95.6807, s0.loss_bbox: 0.0892, s1.loss_cls: 0.0453, s1.acc: 96.7739, s1.loss_bbox: 0.0788, s2.loss_cls: 0.0236, s2.acc: 96.6551, s2.loss_bbox: 0.0512, loss_mask: 0.2374, loss: 0.6796, grad_norm: 5.6726\n",
      "2021-05-20 14:09:58,978 - mmdet - INFO - Epoch [19][600/655]\tlr: 5.000e-06, eta: 1:15:27, time: 1.164, data_time: 0.019, memory: 7460, loss_rpn_cls: 0.0096, loss_rpn_bbox: 0.0151, loss_glbctx: 0.0050, s0.loss_cls: 0.0891, s0.acc: 96.6035, s0.loss_bbox: 0.0675, s1.loss_cls: 0.0324, s1.acc: 97.4922, s1.loss_bbox: 0.0605, s2.loss_cls: 0.0168, s2.acc: 97.4805, s2.loss_bbox: 0.0418, loss_mask: 0.1993, loss: 0.5371, grad_norm: 5.2854\n",
      "2021-05-20 14:10:58,020 - mmdet - INFO - Epoch [19][650/655]\tlr: 5.000e-06, eta: 1:14:31, time: 1.181, data_time: 0.021, memory: 7460, loss_rpn_cls: 0.0114, loss_rpn_bbox: 0.0216, loss_glbctx: 0.0087, s0.loss_cls: 0.1137, s0.acc: 95.7178, s0.loss_bbox: 0.0844, s1.loss_cls: 0.0408, s1.acc: 96.9749, s1.loss_bbox: 0.0721, s2.loss_cls: 0.0208, s2.acc: 97.0787, s2.loss_bbox: 0.0483, loss_mask: 0.2155, loss: 0.6373, grad_norm: 5.9420\n",
      "2021-05-20 14:11:03,771 - mmdet - INFO - Saving checkpoint at 19 epochs\n"
     ]
    },
    {
     "name": "stdout",
     "output_type": "stream",
     "text": [
      "[>>>>>>>>>>>>>>>>>>>>>>>>>>>>>] 655/655, 5.4 task/s, elapsed: 121s, ETA:     0s"
     ]
    },
    {
     "name": "stderr",
     "output_type": "stream",
     "text": [
      "2021-05-20 14:13:11,645 - mmdet - INFO - Evaluating bbox...\n"
     ]
    },
    {
     "name": "stdout",
     "output_type": "stream",
     "text": [
      "Loading and preparing results...\n",
      "DONE (t=0.15s)\n",
      "creating index...\n",
      "index created!\n",
      "Running per image evaluation...\n",
      "Evaluate annotation type *bbox*\n",
      "DONE (t=6.57s).\n",
      "Accumulating evaluation results...\n"
     ]
    },
    {
     "name": "stderr",
     "output_type": "stream",
     "text": [
      "2021-05-20 14:13:19,407 - mmdet - INFO - Evaluating segm...\n"
     ]
    },
    {
     "name": "stdout",
     "output_type": "stream",
     "text": [
      "DONE (t=1.00s).\n",
      "Average Precision  (AP) @[ IoU=0.50:0.95 | area=   all | maxDets=100 ] = 0.264\n",
      "Average Precision  (AP) @[ IoU=0.50      | area=   all | maxDets=1000 ] = 0.407\n",
      "Average Precision  (AP) @[ IoU=0.75      | area=   all | maxDets=1000 ] = 0.256\n",
      "Average Precision  (AP) @[ IoU=0.50:0.95 | area= small | maxDets=1000 ] = 0.043\n",
      "Average Precision  (AP) @[ IoU=0.50:0.95 | area=medium | maxDets=1000 ] = 0.233\n",
      "Average Precision  (AP) @[ IoU=0.50:0.95 | area= large | maxDets=1000 ] = 0.482\n",
      "Average Recall     (AR) @[ IoU=0.50:0.95 | area=   all | maxDets=100 ] = 0.410\n",
      "Average Recall     (AR) @[ IoU=0.50:0.95 | area=   all | maxDets=300 ] = 0.410\n",
      "Average Recall     (AR) @[ IoU=0.50:0.95 | area=   all | maxDets=1000 ] = 0.410\n",
      "Average Recall     (AR) @[ IoU=0.50:0.95 | area= small | maxDets=1000 ] = 0.130\n",
      "Average Recall     (AR) @[ IoU=0.50:0.95 | area=medium | maxDets=1000 ] = 0.385\n",
      "Average Recall     (AR) @[ IoU=0.50:0.95 | area= large | maxDets=1000 ] = 0.661\n",
      "Loading and preparing results...\n",
      "DONE (t=0.26s)\n",
      "creating index...\n",
      "index created!\n",
      "Running per image evaluation...\n",
      "Evaluate annotation type *segm*\n",
      "DONE (t=6.86s).\n",
      "Accumulating evaluation results...\n"
     ]
    },
    {
     "name": "stderr",
     "output_type": "stream",
     "text": [
      "2021-05-20 14:13:27,703 - mmdet - INFO - Epoch(val) [19][655]\tbbox_mAP: 0.2640, bbox_mAP_50: 0.4070, bbox_mAP_75: 0.2560, bbox_mAP_s: 0.0430, bbox_mAP_m: 0.2330, bbox_mAP_l: 0.4820, bbox_mAP_copypaste: 0.264 0.407 0.256 0.043 0.233 0.482, segm_mAP: 0.2510, segm_mAP_50: 0.3920, segm_mAP_75: 0.2450, segm_mAP_s: 0.0360, segm_mAP_m: 0.2170, segm_mAP_l: 0.4730, segm_mAP_copypaste: 0.251 0.392 0.245 0.036 0.217 0.473\n"
     ]
    },
    {
     "name": "stdout",
     "output_type": "stream",
     "text": [
      "DONE (t=0.99s).\n",
      "Average Precision  (AP) @[ IoU=0.50:0.95 | area=   all | maxDets=100 ] = 0.251\n",
      "Average Precision  (AP) @[ IoU=0.50      | area=   all | maxDets=1000 ] = 0.392\n",
      "Average Precision  (AP) @[ IoU=0.75      | area=   all | maxDets=1000 ] = 0.245\n",
      "Average Precision  (AP) @[ IoU=0.50:0.95 | area= small | maxDets=1000 ] = 0.036\n",
      "Average Precision  (AP) @[ IoU=0.50:0.95 | area=medium | maxDets=1000 ] = 0.217\n",
      "Average Precision  (AP) @[ IoU=0.50:0.95 | area= large | maxDets=1000 ] = 0.473\n",
      "Average Recall     (AR) @[ IoU=0.50:0.95 | area=   all | maxDets=100 ] = 0.391\n",
      "Average Recall     (AR) @[ IoU=0.50:0.95 | area=   all | maxDets=300 ] = 0.391\n",
      "Average Recall     (AR) @[ IoU=0.50:0.95 | area=   all | maxDets=1000 ] = 0.391\n",
      "Average Recall     (AR) @[ IoU=0.50:0.95 | area= small | maxDets=1000 ] = 0.112\n",
      "Average Recall     (AR) @[ IoU=0.50:0.95 | area=medium | maxDets=1000 ] = 0.358\n",
      "Average Recall     (AR) @[ IoU=0.50:0.95 | area= large | maxDets=1000 ] = 0.671\n"
     ]
    },
    {
     "name": "stderr",
     "output_type": "stream",
     "text": [
      "2021-05-20 14:14:28,398 - mmdet - INFO - Epoch [20][50/655]\tlr: 5.000e-06, eta: 1:13:28, time: 1.213, data_time: 0.069, memory: 7460, loss_rpn_cls: 0.0111, loss_rpn_bbox: 0.0202, loss_glbctx: 0.0045, s0.loss_cls: 0.1033, s0.acc: 96.0342, s0.loss_bbox: 0.0794, s1.loss_cls: 0.0375, s1.acc: 97.2180, s1.loss_bbox: 0.0686, s2.loss_cls: 0.0195, s2.acc: 97.2364, s2.loss_bbox: 0.0455, loss_mask: 0.2190, loss: 0.6086, grad_norm: 5.0351\n",
      "2021-05-20 14:15:27,296 - mmdet - INFO - Epoch [20][100/655]\tlr: 5.000e-06, eta: 1:12:32, time: 1.178, data_time: 0.022, memory: 7460, loss_rpn_cls: 0.0100, loss_rpn_bbox: 0.0198, loss_glbctx: 0.0058, s0.loss_cls: 0.1028, s0.acc: 96.1006, s0.loss_bbox: 0.0762, s1.loss_cls: 0.0376, s1.acc: 97.2763, s1.loss_bbox: 0.0675, s2.loss_cls: 0.0195, s2.acc: 97.2942, s2.loss_bbox: 0.0456, loss_mask: 0.2153, loss: 0.6001, grad_norm: 5.3183\n",
      "2021-05-20 14:16:25,531 - mmdet - INFO - Epoch [20][150/655]\tlr: 5.000e-06, eta: 1:11:36, time: 1.165, data_time: 0.020, memory: 7460, loss_rpn_cls: 0.0105, loss_rpn_bbox: 0.0201, loss_glbctx: 0.0054, s0.loss_cls: 0.1021, s0.acc: 96.1182, s0.loss_bbox: 0.0800, s1.loss_cls: 0.0376, s1.acc: 97.1959, s1.loss_bbox: 0.0710, s2.loss_cls: 0.0196, s2.acc: 97.1539, s2.loss_bbox: 0.0465, loss_mask: 0.2186, loss: 0.6114, grad_norm: 5.4568\n",
      "2021-05-20 14:17:24,736 - mmdet - INFO - Epoch [20][200/655]\tlr: 5.000e-06, eta: 1:10:39, time: 1.184, data_time: 0.022, memory: 7460, loss_rpn_cls: 0.0107, loss_rpn_bbox: 0.0209, loss_glbctx: 0.0053, s0.loss_cls: 0.1042, s0.acc: 96.0869, s0.loss_bbox: 0.0788, s1.loss_cls: 0.0385, s1.acc: 97.1782, s1.loss_bbox: 0.0711, s2.loss_cls: 0.0200, s2.acc: 97.1329, s2.loss_bbox: 0.0481, loss_mask: 0.2175, loss: 0.6151, grad_norm: 5.5059\n",
      "2021-05-20 14:18:24,354 - mmdet - INFO - Epoch [20][250/655]\tlr: 5.000e-06, eta: 1:09:43, time: 1.192, data_time: 0.023, memory: 7460, loss_rpn_cls: 0.0105, loss_rpn_bbox: 0.0201, loss_glbctx: 0.0052, s0.loss_cls: 0.1078, s0.acc: 95.9648, s0.loss_bbox: 0.0801, s1.loss_cls: 0.0398, s1.acc: 97.0829, s1.loss_bbox: 0.0703, s2.loss_cls: 0.0199, s2.acc: 97.2783, s2.loss_bbox: 0.0467, loss_mask: 0.2140, loss: 0.6145, grad_norm: 5.6534\n",
      "2021-05-20 14:19:22,548 - mmdet - INFO - Epoch [20][300/655]\tlr: 5.000e-06, eta: 1:08:47, time: 1.164, data_time: 0.022, memory: 7460, loss_rpn_cls: 0.0096, loss_rpn_bbox: 0.0184, loss_glbctx: 0.0045, s0.loss_cls: 0.1057, s0.acc: 96.0391, s0.loss_bbox: 0.0747, s1.loss_cls: 0.0387, s1.acc: 97.1729, s1.loss_bbox: 0.0665, s2.loss_cls: 0.0193, s2.acc: 97.2134, s2.loss_bbox: 0.0432, loss_mask: 0.2064, loss: 0.5869, grad_norm: 5.1954\n",
      "2021-05-20 14:20:20,650 - mmdet - INFO - Epoch [20][350/655]\tlr: 5.000e-06, eta: 1:07:50, time: 1.162, data_time: 0.023, memory: 7460, loss_rpn_cls: 0.0095, loss_rpn_bbox: 0.0201, loss_glbctx: 0.0060, s0.loss_cls: 0.0954, s0.acc: 96.3789, s0.loss_bbox: 0.0733, s1.loss_cls: 0.0364, s1.acc: 97.3214, s1.loss_bbox: 0.0652, s2.loss_cls: 0.0180, s2.acc: 97.4290, s2.loss_bbox: 0.0416, loss_mask: 0.2065, loss: 0.5721, grad_norm: 5.4253\n",
      "2021-05-20 14:21:18,651 - mmdet - INFO - Epoch [20][400/655]\tlr: 5.000e-06, eta: 1:06:54, time: 1.160, data_time: 0.021, memory: 7460, loss_rpn_cls: 0.0085, loss_rpn_bbox: 0.0190, loss_glbctx: 0.0082, s0.loss_cls: 0.1006, s0.acc: 96.2031, s0.loss_bbox: 0.0723, s1.loss_cls: 0.0363, s1.acc: 97.2903, s1.loss_bbox: 0.0650, s2.loss_cls: 0.0186, s2.acc: 97.2653, s2.loss_bbox: 0.0450, loss_mask: 0.2028, loss: 0.5761, grad_norm: 5.4660\n",
      "2021-05-20 14:22:16,157 - mmdet - INFO - Epoch [20][450/655]\tlr: 5.000e-06, eta: 1:05:57, time: 1.150, data_time: 0.022, memory: 7460, loss_rpn_cls: 0.0105, loss_rpn_bbox: 0.0211, loss_glbctx: 0.0055, s0.loss_cls: 0.0971, s0.acc: 96.3525, s0.loss_bbox: 0.0733, s1.loss_cls: 0.0370, s1.acc: 97.3466, s1.loss_bbox: 0.0646, s2.loss_cls: 0.0187, s2.acc: 97.3644, s2.loss_bbox: 0.0424, loss_mask: 0.2063, loss: 0.5765, grad_norm: 5.4801\n",
      "2021-05-20 14:23:14,856 - mmdet - INFO - Epoch [20][500/655]\tlr: 5.000e-06, eta: 1:05:01, time: 1.174, data_time: 0.021, memory: 7460, loss_rpn_cls: 0.0074, loss_rpn_bbox: 0.0177, loss_glbctx: 0.0041, s0.loss_cls: 0.0993, s0.acc: 96.1914, s0.loss_bbox: 0.0776, s1.loss_cls: 0.0354, s1.acc: 97.2959, s1.loss_bbox: 0.0696, s2.loss_cls: 0.0191, s2.acc: 97.1840, s2.loss_bbox: 0.0471, loss_mask: 0.2118, loss: 0.5890, grad_norm: 5.3831\n",
      "2021-05-20 14:24:12,223 - mmdet - INFO - Epoch [20][550/655]\tlr: 5.000e-06, eta: 1:04:04, time: 1.147, data_time: 0.020, memory: 7460, loss_rpn_cls: 0.0097, loss_rpn_bbox: 0.0169, loss_glbctx: 0.0042, s0.loss_cls: 0.0967, s0.acc: 96.3320, s0.loss_bbox: 0.0768, s1.loss_cls: 0.0364, s1.acc: 97.3323, s1.loss_bbox: 0.0681, s2.loss_cls: 0.0183, s2.acc: 97.3073, s2.loss_bbox: 0.0437, loss_mask: 0.2169, loss: 0.5877, grad_norm: 5.2619\n",
      "2021-05-20 14:25:10,914 - mmdet - INFO - Epoch [20][600/655]\tlr: 5.000e-06, eta: 1:03:08, time: 1.174, data_time: 0.022, memory: 7460, loss_rpn_cls: 0.0098, loss_rpn_bbox: 0.0211, loss_glbctx: 0.0055, s0.loss_cls: 0.1129, s0.acc: 95.7920, s0.loss_bbox: 0.0821, s1.loss_cls: 0.0429, s1.acc: 96.8920, s1.loss_bbox: 0.0742, s2.loss_cls: 0.0218, s2.acc: 96.8425, s2.loss_bbox: 0.0478, loss_mask: 0.2194, loss: 0.6374, grad_norm: 5.4241\n",
      "2021-05-20 14:26:09,490 - mmdet - INFO - Epoch [20][650/655]\tlr: 5.000e-06, eta: 1:02:11, time: 1.171, data_time: 0.022, memory: 7460, loss_rpn_cls: 0.0117, loss_rpn_bbox: 0.0224, loss_glbctx: 0.0056, s0.loss_cls: 0.1112, s0.acc: 95.8164, s0.loss_bbox: 0.0802, s1.loss_cls: 0.0420, s1.acc: 96.9550, s1.loss_bbox: 0.0699, s2.loss_cls: 0.0205, s2.acc: 97.1000, s2.loss_bbox: 0.0446, loss_mask: 0.2248, loss: 0.6330, grad_norm: 5.5588\n",
      "2021-05-20 14:26:15,559 - mmdet - INFO - Saving checkpoint at 20 epochs\n"
     ]
    },
    {
     "name": "stdout",
     "output_type": "stream",
     "text": [
      "[>>>>>>>>>>>>>>>>>>>>>>>>>>>>>] 655/655, 5.6 task/s, elapsed: 117s, ETA:     0s"
     ]
    },
    {
     "name": "stderr",
     "output_type": "stream",
     "text": [
      "2021-05-20 14:28:18,896 - mmdet - INFO - Evaluating bbox...\n"
     ]
    },
    {
     "name": "stdout",
     "output_type": "stream",
     "text": [
      "Loading and preparing results...\n",
      "DONE (t=0.58s)\n",
      "creating index...\n",
      "index created!\n",
      "Running per image evaluation...\n",
      "Evaluate annotation type *bbox*\n",
      "DONE (t=5.85s).\n",
      "Accumulating evaluation results...\n"
     ]
    },
    {
     "name": "stderr",
     "output_type": "stream",
     "text": [
      "2021-05-20 14:28:26,289 - mmdet - INFO - Evaluating segm...\n"
     ]
    },
    {
     "name": "stdout",
     "output_type": "stream",
     "text": [
      "DONE (t=0.93s).\n",
      "Average Precision  (AP) @[ IoU=0.50:0.95 | area=   all | maxDets=100 ] = 0.264\n",
      "Average Precision  (AP) @[ IoU=0.50      | area=   all | maxDets=1000 ] = 0.416\n",
      "Average Precision  (AP) @[ IoU=0.75      | area=   all | maxDets=1000 ] = 0.252\n",
      "Average Precision  (AP) @[ IoU=0.50:0.95 | area= small | maxDets=1000 ] = 0.043\n",
      "Average Precision  (AP) @[ IoU=0.50:0.95 | area=medium | maxDets=1000 ] = 0.238\n",
      "Average Precision  (AP) @[ IoU=0.50:0.95 | area= large | maxDets=1000 ] = 0.461\n",
      "Average Recall     (AR) @[ IoU=0.50:0.95 | area=   all | maxDets=100 ] = 0.408\n",
      "Average Recall     (AR) @[ IoU=0.50:0.95 | area=   all | maxDets=300 ] = 0.408\n",
      "Average Recall     (AR) @[ IoU=0.50:0.95 | area=   all | maxDets=1000 ] = 0.408\n",
      "Average Recall     (AR) @[ IoU=0.50:0.95 | area= small | maxDets=1000 ] = 0.128\n",
      "Average Recall     (AR) @[ IoU=0.50:0.95 | area=medium | maxDets=1000 ] = 0.393\n",
      "Average Recall     (AR) @[ IoU=0.50:0.95 | area= large | maxDets=1000 ] = 0.649\n",
      "Loading and preparing results...\n",
      "DONE (t=0.79s)\n",
      "creating index...\n",
      "index created!\n",
      "Running per image evaluation...\n",
      "Evaluate annotation type *segm*\n",
      "DONE (t=6.16s).\n",
      "Accumulating evaluation results...\n"
     ]
    },
    {
     "name": "stderr",
     "output_type": "stream",
     "text": [
      "2021-05-20 14:28:34,376 - mmdet - INFO - Epoch(val) [20][655]\tbbox_mAP: 0.2640, bbox_mAP_50: 0.4160, bbox_mAP_75: 0.2520, bbox_mAP_s: 0.0430, bbox_mAP_m: 0.2380, bbox_mAP_l: 0.4610, bbox_mAP_copypaste: 0.264 0.416 0.252 0.043 0.238 0.461, segm_mAP: 0.2520, segm_mAP_50: 0.3920, segm_mAP_75: 0.2500, segm_mAP_s: 0.0360, segm_mAP_m: 0.2180, segm_mAP_l: 0.4640, segm_mAP_copypaste: 0.252 0.392 0.250 0.036 0.218 0.464\n"
     ]
    },
    {
     "name": "stdout",
     "output_type": "stream",
     "text": [
      "DONE (t=0.96s).\n",
      "Average Precision  (AP) @[ IoU=0.50:0.95 | area=   all | maxDets=100 ] = 0.252\n",
      "Average Precision  (AP) @[ IoU=0.50      | area=   all | maxDets=1000 ] = 0.392\n",
      "Average Precision  (AP) @[ IoU=0.75      | area=   all | maxDets=1000 ] = 0.250\n",
      "Average Precision  (AP) @[ IoU=0.50:0.95 | area= small | maxDets=1000 ] = 0.036\n",
      "Average Precision  (AP) @[ IoU=0.50:0.95 | area=medium | maxDets=1000 ] = 0.218\n",
      "Average Precision  (AP) @[ IoU=0.50:0.95 | area= large | maxDets=1000 ] = 0.464\n",
      "Average Recall     (AR) @[ IoU=0.50:0.95 | area=   all | maxDets=100 ] = 0.392\n",
      "Average Recall     (AR) @[ IoU=0.50:0.95 | area=   all | maxDets=300 ] = 0.392\n",
      "Average Recall     (AR) @[ IoU=0.50:0.95 | area=   all | maxDets=1000 ] = 0.392\n",
      "Average Recall     (AR) @[ IoU=0.50:0.95 | area= small | maxDets=1000 ] = 0.109\n",
      "Average Recall     (AR) @[ IoU=0.50:0.95 | area=medium | maxDets=1000 ] = 0.362\n",
      "Average Recall     (AR) @[ IoU=0.50:0.95 | area= large | maxDets=1000 ] = 0.675\n"
     ]
    },
    {
     "name": "stderr",
     "output_type": "stream",
     "text": [
      "2021-05-20 14:29:35,722 - mmdet - INFO - Epoch [21][50/655]\tlr: 5.000e-06, eta: 1:01:08, time: 1.226, data_time: 0.069, memory: 7460, loss_rpn_cls: 0.0109, loss_rpn_bbox: 0.0203, loss_glbctx: 0.0053, s0.loss_cls: 0.1070, s0.acc: 95.9932, s0.loss_bbox: 0.0808, s1.loss_cls: 0.0402, s1.acc: 97.1045, s1.loss_bbox: 0.0686, s2.loss_cls: 0.0203, s2.acc: 97.0605, s2.loss_bbox: 0.0445, loss_mask: 0.2119, loss: 0.6095, grad_norm: 5.3000\n",
      "2021-05-20 14:30:34,299 - mmdet - INFO - Epoch [21][100/655]\tlr: 5.000e-06, eta: 1:00:12, time: 1.172, data_time: 0.021, memory: 7460, loss_rpn_cls: 0.0081, loss_rpn_bbox: 0.0184, loss_glbctx: 0.0038, s0.loss_cls: 0.0976, s0.acc: 96.2451, s0.loss_bbox: 0.0725, s1.loss_cls: 0.0355, s1.acc: 97.3469, s1.loss_bbox: 0.0654, s2.loss_cls: 0.0175, s2.acc: 97.4914, s2.loss_bbox: 0.0420, loss_mask: 0.2020, loss: 0.5631, grad_norm: 5.0288\n",
      "2021-05-20 14:31:32,613 - mmdet - INFO - Epoch [21][150/655]\tlr: 5.000e-06, eta: 0:59:15, time: 1.166, data_time: 0.023, memory: 7460, loss_rpn_cls: 0.0094, loss_rpn_bbox: 0.0206, loss_glbctx: 0.0037, s0.loss_cls: 0.1026, s0.acc: 96.1689, s0.loss_bbox: 0.0751, s1.loss_cls: 0.0368, s1.acc: 97.3157, s1.loss_bbox: 0.0665, s2.loss_cls: 0.0194, s2.acc: 97.2739, s2.loss_bbox: 0.0454, loss_mask: 0.2169, loss: 0.5963, grad_norm: 4.9848\n",
      "2021-05-20 14:32:31,064 - mmdet - INFO - Epoch [21][200/655]\tlr: 5.000e-06, eta: 0:58:19, time: 1.169, data_time: 0.020, memory: 7460, loss_rpn_cls: 0.0076, loss_rpn_bbox: 0.0169, loss_glbctx: 0.0058, s0.loss_cls: 0.0934, s0.acc: 96.4463, s0.loss_bbox: 0.0682, s1.loss_cls: 0.0318, s1.acc: 97.6865, s1.loss_bbox: 0.0590, s2.loss_cls: 0.0164, s2.acc: 97.6488, s2.loss_bbox: 0.0406, loss_mask: 0.1969, loss: 0.5368, grad_norm: 5.3043\n",
      "2021-05-20 14:33:28,850 - mmdet - INFO - Epoch [21][250/655]\tlr: 5.000e-06, eta: 0:57:22, time: 1.156, data_time: 0.020, memory: 7460, loss_rpn_cls: 0.0098, loss_rpn_bbox: 0.0173, loss_glbctx: 0.0033, s0.loss_cls: 0.0900, s0.acc: 96.5879, s0.loss_bbox: 0.0673, s1.loss_cls: 0.0340, s1.acc: 97.4544, s1.loss_bbox: 0.0624, s2.loss_cls: 0.0173, s2.acc: 97.4378, s2.loss_bbox: 0.0411, loss_mask: 0.2024, loss: 0.5448, grad_norm: 5.0474\n",
      "2021-05-20 14:34:27,145 - mmdet - INFO - Epoch [21][300/655]\tlr: 5.000e-06, eta: 0:56:25, time: 1.166, data_time: 0.021, memory: 7460, loss_rpn_cls: 0.0095, loss_rpn_bbox: 0.0189, loss_glbctx: 0.0083, s0.loss_cls: 0.1005, s0.acc: 96.1846, s0.loss_bbox: 0.0724, s1.loss_cls: 0.0361, s1.acc: 97.2759, s1.loss_bbox: 0.0636, s2.loss_cls: 0.0181, s2.acc: 97.3694, s2.loss_bbox: 0.0426, loss_mask: 0.2115, loss: 0.5817, grad_norm: 5.7241\n",
      "2021-05-20 14:35:25,485 - mmdet - INFO - Epoch [21][350/655]\tlr: 5.000e-06, eta: 0:55:29, time: 1.167, data_time: 0.020, memory: 7460, loss_rpn_cls: 0.0092, loss_rpn_bbox: 0.0181, loss_glbctx: 0.0041, s0.loss_cls: 0.1006, s0.acc: 96.2764, s0.loss_bbox: 0.0778, s1.loss_cls: 0.0371, s1.acc: 97.2850, s1.loss_bbox: 0.0677, s2.loss_cls: 0.0185, s2.acc: 97.3773, s2.loss_bbox: 0.0439, loss_mask: 0.2126, loss: 0.5898, grad_norm: 5.2957\n",
      "2021-05-20 14:36:23,748 - mmdet - INFO - Epoch [21][400/655]\tlr: 5.000e-06, eta: 0:54:32, time: 1.165, data_time: 0.022, memory: 7460, loss_rpn_cls: 0.0105, loss_rpn_bbox: 0.0205, loss_glbctx: 0.0056, s0.loss_cls: 0.1027, s0.acc: 96.0713, s0.loss_bbox: 0.0739, s1.loss_cls: 0.0377, s1.acc: 97.2280, s1.loss_bbox: 0.0656, s2.loss_cls: 0.0199, s2.acc: 97.1782, s2.loss_bbox: 0.0437, loss_mask: 0.2112, loss: 0.5912, grad_norm: 5.7433\n",
      "2021-05-20 14:37:22,749 - mmdet - INFO - Epoch [21][450/655]\tlr: 5.000e-06, eta: 0:53:36, time: 1.180, data_time: 0.021, memory: 7460, loss_rpn_cls: 0.0128, loss_rpn_bbox: 0.0250, loss_glbctx: 0.0046, s0.loss_cls: 0.1103, s0.acc: 95.7881, s0.loss_bbox: 0.0830, s1.loss_cls: 0.0424, s1.acc: 96.8049, s1.loss_bbox: 0.0725, s2.loss_cls: 0.0214, s2.acc: 96.8745, s2.loss_bbox: 0.0460, loss_mask: 0.2187, loss: 0.6369, grad_norm: 5.4751\n",
      "2021-05-20 14:38:20,648 - mmdet - INFO - Epoch [21][500/655]\tlr: 5.000e-06, eta: 0:52:39, time: 1.158, data_time: 0.021, memory: 7460, loss_rpn_cls: 0.0095, loss_rpn_bbox: 0.0192, loss_glbctx: 0.0031, s0.loss_cls: 0.0995, s0.acc: 96.2256, s0.loss_bbox: 0.0754, s1.loss_cls: 0.0357, s1.acc: 97.3733, s1.loss_bbox: 0.0659, s2.loss_cls: 0.0182, s2.acc: 97.3646, s2.loss_bbox: 0.0437, loss_mask: 0.2075, loss: 0.5778, grad_norm: 5.3562\n",
      "2021-05-20 14:39:20,114 - mmdet - INFO - Epoch [21][550/655]\tlr: 5.000e-06, eta: 0:51:43, time: 1.189, data_time: 0.021, memory: 7460, loss_rpn_cls: 0.0077, loss_rpn_bbox: 0.0182, loss_glbctx: 0.0033, s0.loss_cls: 0.0974, s0.acc: 96.2295, s0.loss_bbox: 0.0768, s1.loss_cls: 0.0353, s1.acc: 97.3205, s1.loss_bbox: 0.0671, s2.loss_cls: 0.0182, s2.acc: 97.4487, s2.loss_bbox: 0.0456, loss_mask: 0.2121, loss: 0.5818, grad_norm: 5.2676\n",
      "2021-05-20 14:40:17,548 - mmdet - INFO - Epoch [21][600/655]\tlr: 5.000e-06, eta: 0:50:46, time: 1.149, data_time: 0.021, memory: 7460, loss_rpn_cls: 0.0087, loss_rpn_bbox: 0.0183, loss_glbctx: 0.0035, s0.loss_cls: 0.0896, s0.acc: 96.6445, s0.loss_bbox: 0.0651, s1.loss_cls: 0.0322, s1.acc: 97.5909, s1.loss_bbox: 0.0577, s2.loss_cls: 0.0166, s2.acc: 97.7063, s2.loss_bbox: 0.0393, loss_mask: 0.2054, loss: 0.5363, grad_norm: 5.0259\n",
      "2021-05-20 14:41:16,939 - mmdet - INFO - Epoch [21][650/655]\tlr: 5.000e-06, eta: 0:49:49, time: 1.188, data_time: 0.022, memory: 7460, loss_rpn_cls: 0.0097, loss_rpn_bbox: 0.0213, loss_glbctx: 0.0038, s0.loss_cls: 0.1000, s0.acc: 96.1943, s0.loss_bbox: 0.0775, s1.loss_cls: 0.0362, s1.acc: 97.3497, s1.loss_bbox: 0.0693, s2.loss_cls: 0.0187, s2.acc: 97.3362, s2.loss_bbox: 0.0465, loss_mask: 0.2175, loss: 0.6006, grad_norm: 5.2550\n",
      "2021-05-20 14:41:22,955 - mmdet - INFO - Saving checkpoint at 21 epochs\n"
     ]
    },
    {
     "name": "stdout",
     "output_type": "stream",
     "text": [
      "[>>>>>>>>>>>>>>>>>>>>>>>>>>>>>] 655/655, 5.6 task/s, elapsed: 117s, ETA:     0s"
     ]
    },
    {
     "name": "stderr",
     "output_type": "stream",
     "text": [
      "2021-05-20 14:43:27,052 - mmdet - INFO - Evaluating bbox...\n"
     ]
    },
    {
     "name": "stdout",
     "output_type": "stream",
     "text": [
      "Loading and preparing results...\n",
      "DONE (t=0.57s)\n",
      "creating index...\n",
      "index created!\n",
      "Running per image evaluation...\n",
      "Evaluate annotation type *bbox*\n",
      "DONE (t=5.91s).\n",
      "Accumulating evaluation results...\n"
     ]
    },
    {
     "name": "stderr",
     "output_type": "stream",
     "text": [
      "2021-05-20 14:43:34,520 - mmdet - INFO - Evaluating segm...\n"
     ]
    },
    {
     "name": "stdout",
     "output_type": "stream",
     "text": [
      "DONE (t=0.95s).\n",
      "Average Precision  (AP) @[ IoU=0.50:0.95 | area=   all | maxDets=100 ] = 0.261\n",
      "Average Precision  (AP) @[ IoU=0.50      | area=   all | maxDets=1000 ] = 0.404\n",
      "Average Precision  (AP) @[ IoU=0.75      | area=   all | maxDets=1000 ] = 0.264\n",
      "Average Precision  (AP) @[ IoU=0.50:0.95 | area= small | maxDets=1000 ] = 0.043\n",
      "Average Precision  (AP) @[ IoU=0.50:0.95 | area=medium | maxDets=1000 ] = 0.235\n",
      "Average Precision  (AP) @[ IoU=0.50:0.95 | area= large | maxDets=1000 ] = 0.448\n",
      "Average Recall     (AR) @[ IoU=0.50:0.95 | area=   all | maxDets=100 ] = 0.401\n",
      "Average Recall     (AR) @[ IoU=0.50:0.95 | area=   all | maxDets=300 ] = 0.401\n",
      "Average Recall     (AR) @[ IoU=0.50:0.95 | area=   all | maxDets=1000 ] = 0.401\n",
      "Average Recall     (AR) @[ IoU=0.50:0.95 | area= small | maxDets=1000 ] = 0.133\n",
      "Average Recall     (AR) @[ IoU=0.50:0.95 | area=medium | maxDets=1000 ] = 0.376\n",
      "Average Recall     (AR) @[ IoU=0.50:0.95 | area= large | maxDets=1000 ] = 0.642\n",
      "Loading and preparing results...\n",
      "DONE (t=0.73s)\n",
      "creating index...\n",
      "index created!\n",
      "Running per image evaluation...\n",
      "Evaluate annotation type *segm*\n",
      "DONE (t=6.20s).\n",
      "Accumulating evaluation results...\n"
     ]
    },
    {
     "name": "stderr",
     "output_type": "stream",
     "text": [
      "2021-05-20 14:43:42,605 - mmdet - INFO - Epoch(val) [21][655]\tbbox_mAP: 0.2610, bbox_mAP_50: 0.4040, bbox_mAP_75: 0.2640, bbox_mAP_s: 0.0430, bbox_mAP_m: 0.2350, bbox_mAP_l: 0.4480, bbox_mAP_copypaste: 0.261 0.404 0.264 0.043 0.235 0.448, segm_mAP: 0.2520, segm_mAP_50: 0.3880, segm_mAP_75: 0.2440, segm_mAP_s: 0.0340, segm_mAP_m: 0.2180, segm_mAP_l: 0.4520, segm_mAP_copypaste: 0.252 0.388 0.244 0.034 0.218 0.452\n"
     ]
    },
    {
     "name": "stdout",
     "output_type": "stream",
     "text": [
      "DONE (t=0.98s).\n",
      "Average Precision  (AP) @[ IoU=0.50:0.95 | area=   all | maxDets=100 ] = 0.252\n",
      "Average Precision  (AP) @[ IoU=0.50      | area=   all | maxDets=1000 ] = 0.388\n",
      "Average Precision  (AP) @[ IoU=0.75      | area=   all | maxDets=1000 ] = 0.244\n",
      "Average Precision  (AP) @[ IoU=0.50:0.95 | area= small | maxDets=1000 ] = 0.034\n",
      "Average Precision  (AP) @[ IoU=0.50:0.95 | area=medium | maxDets=1000 ] = 0.218\n",
      "Average Precision  (AP) @[ IoU=0.50:0.95 | area= large | maxDets=1000 ] = 0.452\n",
      "Average Recall     (AR) @[ IoU=0.50:0.95 | area=   all | maxDets=100 ] = 0.385\n",
      "Average Recall     (AR) @[ IoU=0.50:0.95 | area=   all | maxDets=300 ] = 0.385\n",
      "Average Recall     (AR) @[ IoU=0.50:0.95 | area=   all | maxDets=1000 ] = 0.385\n",
      "Average Recall     (AR) @[ IoU=0.50:0.95 | area= small | maxDets=1000 ] = 0.113\n",
      "Average Recall     (AR) @[ IoU=0.50:0.95 | area=medium | maxDets=1000 ] = 0.346\n",
      "Average Recall     (AR) @[ IoU=0.50:0.95 | area= large | maxDets=1000 ] = 0.664\n"
     ]
    },
    {
     "name": "stderr",
     "output_type": "stream",
     "text": [
      "2021-05-20 14:44:44,096 - mmdet - INFO - Epoch [22][50/655]\tlr: 5.000e-06, eta: 0:48:46, time: 1.229, data_time: 0.073, memory: 7460, loss_rpn_cls: 0.0086, loss_rpn_bbox: 0.0196, loss_glbctx: 0.0027, s0.loss_cls: 0.0992, s0.acc: 96.2324, s0.loss_bbox: 0.0726, s1.loss_cls: 0.0367, s1.acc: 97.3250, s1.loss_bbox: 0.0641, s2.loss_cls: 0.0185, s2.acc: 97.4110, s2.loss_bbox: 0.0409, loss_mask: 0.2098, loss: 0.5727, grad_norm: 4.9976\n",
      "2021-05-20 14:45:42,501 - mmdet - INFO - Epoch [22][100/655]\tlr: 5.000e-06, eta: 0:47:50, time: 1.168, data_time: 0.021, memory: 7460, loss_rpn_cls: 0.0080, loss_rpn_bbox: 0.0185, loss_glbctx: 0.0034, s0.loss_cls: 0.0893, s0.acc: 96.4932, s0.loss_bbox: 0.0688, s1.loss_cls: 0.0318, s1.acc: 97.5134, s1.loss_bbox: 0.0608, s2.loss_cls: 0.0162, s2.acc: 97.6439, s2.loss_bbox: 0.0405, loss_mask: 0.1939, loss: 0.5311, grad_norm: 5.1573\n",
      "2021-05-20 14:46:42,038 - mmdet - INFO - Epoch [22][150/655]\tlr: 5.000e-06, eta: 0:46:53, time: 1.191, data_time: 0.022, memory: 7460, loss_rpn_cls: 0.0075, loss_rpn_bbox: 0.0185, loss_glbctx: 0.0037, s0.loss_cls: 0.0984, s0.acc: 96.2061, s0.loss_bbox: 0.0761, s1.loss_cls: 0.0364, s1.acc: 97.2387, s1.loss_bbox: 0.0666, s2.loss_cls: 0.0186, s2.acc: 97.3160, s2.loss_bbox: 0.0442, loss_mask: 0.2044, loss: 0.5744, grad_norm: 5.3176\n",
      "2021-05-20 14:47:40,362 - mmdet - INFO - Epoch [22][200/655]\tlr: 5.000e-06, eta: 0:45:57, time: 1.167, data_time: 0.022, memory: 7460, loss_rpn_cls: 0.0085, loss_rpn_bbox: 0.0168, loss_glbctx: 0.0039, s0.loss_cls: 0.0896, s0.acc: 96.5596, s0.loss_bbox: 0.0673, s1.loss_cls: 0.0311, s1.acc: 97.7652, s1.loss_bbox: 0.0599, s2.loss_cls: 0.0163, s2.acc: 97.6206, s2.loss_bbox: 0.0411, loss_mask: 0.1985, loss: 0.5329, grad_norm: 5.1361\n",
      "2021-05-20 14:48:39,683 - mmdet - INFO - Epoch [22][250/655]\tlr: 5.000e-06, eta: 0:45:00, time: 1.186, data_time: 0.024, memory: 7460, loss_rpn_cls: 0.0097, loss_rpn_bbox: 0.0206, loss_glbctx: 0.0050, s0.loss_cls: 0.1051, s0.acc: 95.9863, s0.loss_bbox: 0.0791, s1.loss_cls: 0.0390, s1.acc: 97.1982, s1.loss_bbox: 0.0715, s2.loss_cls: 0.0206, s2.acc: 97.0971, s2.loss_bbox: 0.0473, loss_mask: 0.2284, loss: 0.6264, grad_norm: 5.7099\n",
      "2021-05-20 14:49:37,543 - mmdet - INFO - Epoch [22][300/655]\tlr: 5.000e-06, eta: 0:44:03, time: 1.157, data_time: 0.020, memory: 7460, loss_rpn_cls: 0.0073, loss_rpn_bbox: 0.0172, loss_glbctx: 0.0043, s0.loss_cls: 0.0866, s0.acc: 96.7422, s0.loss_bbox: 0.0643, s1.loss_cls: 0.0310, s1.acc: 97.7685, s1.loss_bbox: 0.0583, s2.loss_cls: 0.0158, s2.acc: 97.7545, s2.loss_bbox: 0.0401, loss_mask: 0.2041, loss: 0.5291, grad_norm: 4.9645\n",
      "2021-05-20 14:50:36,277 - mmdet - INFO - Epoch [22][350/655]\tlr: 5.000e-06, eta: 0:43:06, time: 1.175, data_time: 0.022, memory: 7460, loss_rpn_cls: 0.0088, loss_rpn_bbox: 0.0187, loss_glbctx: 0.0037, s0.loss_cls: 0.0983, s0.acc: 96.2402, s0.loss_bbox: 0.0748, s1.loss_cls: 0.0359, s1.acc: 97.2877, s1.loss_bbox: 0.0656, s2.loss_cls: 0.0179, s2.acc: 97.3790, s2.loss_bbox: 0.0431, loss_mask: 0.2081, loss: 0.5750, grad_norm: 5.0575\n",
      "2021-05-20 14:51:34,214 - mmdet - INFO - Epoch [22][400/655]\tlr: 5.000e-06, eta: 0:42:10, time: 1.159, data_time: 0.021, memory: 7460, loss_rpn_cls: 0.0073, loss_rpn_bbox: 0.0174, loss_glbctx: 0.0030, s0.loss_cls: 0.0884, s0.acc: 96.5791, s0.loss_bbox: 0.0706, s1.loss_cls: 0.0321, s1.acc: 97.6328, s1.loss_bbox: 0.0597, s2.loss_cls: 0.0162, s2.acc: 97.7173, s2.loss_bbox: 0.0397, loss_mask: 0.2022, loss: 0.5366, grad_norm: 4.9525\n",
      "2021-05-20 14:52:32,036 - mmdet - INFO - Epoch [22][450/655]\tlr: 5.000e-06, eta: 0:41:13, time: 1.156, data_time: 0.021, memory: 7460, loss_rpn_cls: 0.0095, loss_rpn_bbox: 0.0186, loss_glbctx: 0.0035, s0.loss_cls: 0.0941, s0.acc: 96.4590, s0.loss_bbox: 0.0712, s1.loss_cls: 0.0346, s1.acc: 97.5291, s1.loss_bbox: 0.0627, s2.loss_cls: 0.0177, s2.acc: 97.4997, s2.loss_bbox: 0.0408, loss_mask: 0.2110, loss: 0.5637, grad_norm: 5.1288\n",
      "2021-05-20 14:53:29,918 - mmdet - INFO - Epoch [22][500/655]\tlr: 5.000e-06, eta: 0:40:16, time: 1.158, data_time: 0.022, memory: 7460, loss_rpn_cls: 0.0089, loss_rpn_bbox: 0.0200, loss_glbctx: 0.0029, s0.loss_cls: 0.0928, s0.acc: 96.4785, s0.loss_bbox: 0.0713, s1.loss_cls: 0.0346, s1.acc: 97.4172, s1.loss_bbox: 0.0639, s2.loss_cls: 0.0173, s2.acc: 97.5419, s2.loss_bbox: 0.0418, loss_mask: 0.2133, loss: 0.5668, grad_norm: 5.1418\n",
      "2021-05-20 14:54:26,995 - mmdet - INFO - Epoch [22][550/655]\tlr: 5.000e-06, eta: 0:39:19, time: 1.142, data_time: 0.020, memory: 7460, loss_rpn_cls: 0.0077, loss_rpn_bbox: 0.0194, loss_glbctx: 0.0024, s0.loss_cls: 0.0929, s0.acc: 96.4736, s0.loss_bbox: 0.0692, s1.loss_cls: 0.0337, s1.acc: 97.5638, s1.loss_bbox: 0.0623, s2.loss_cls: 0.0172, s2.acc: 97.5393, s2.loss_bbox: 0.0401, loss_mask: 0.2070, loss: 0.5521, grad_norm: 5.0025\n",
      "2021-05-20 14:55:25,785 - mmdet - INFO - Epoch [22][600/655]\tlr: 5.000e-06, eta: 0:38:22, time: 1.176, data_time: 0.021, memory: 7460, loss_rpn_cls: 0.0078, loss_rpn_bbox: 0.0192, loss_glbctx: 0.0031, s0.loss_cls: 0.0953, s0.acc: 96.3926, s0.loss_bbox: 0.0750, s1.loss_cls: 0.0347, s1.acc: 97.4517, s1.loss_bbox: 0.0645, s2.loss_cls: 0.0173, s2.acc: 97.6144, s2.loss_bbox: 0.0428, loss_mask: 0.2086, loss: 0.5683, grad_norm: 5.2039\n",
      "2021-05-20 14:56:24,214 - mmdet - INFO - Epoch [22][650/655]\tlr: 5.000e-06, eta: 0:37:25, time: 1.169, data_time: 0.023, memory: 7460, loss_rpn_cls: 0.0104, loss_rpn_bbox: 0.0208, loss_glbctx: 0.0034, s0.loss_cls: 0.0993, s0.acc: 96.2188, s0.loss_bbox: 0.0750, s1.loss_cls: 0.0374, s1.acc: 97.3053, s1.loss_bbox: 0.0662, s2.loss_cls: 0.0187, s2.acc: 97.3691, s2.loss_bbox: 0.0432, loss_mask: 0.2185, loss: 0.5929, grad_norm: 5.6154\n",
      "2021-05-20 14:56:30,115 - mmdet - INFO - Saving checkpoint at 22 epochs\n"
     ]
    },
    {
     "name": "stdout",
     "output_type": "stream",
     "text": [
      "[>>>>>>>>>>>>>>>>>>>>>>>>>>>>>] 655/655, 5.7 task/s, elapsed: 115s, ETA:     0s"
     ]
    },
    {
     "name": "stderr",
     "output_type": "stream",
     "text": [
      "2021-05-20 14:58:32,038 - mmdet - INFO - Evaluating bbox...\n"
     ]
    },
    {
     "name": "stdout",
     "output_type": "stream",
     "text": [
      "Loading and preparing results...\n",
      "DONE (t=0.14s)\n",
      "creating index...\n",
      "index created!\n",
      "Running per image evaluation...\n",
      "Evaluate annotation type *bbox*\n",
      "DONE (t=6.16s).\n",
      "Accumulating evaluation results...\n"
     ]
    },
    {
     "name": "stderr",
     "output_type": "stream",
     "text": [
      "2021-05-20 14:58:39,299 - mmdet - INFO - Evaluating segm...\n"
     ]
    },
    {
     "name": "stdout",
     "output_type": "stream",
     "text": [
      "DONE (t=0.92s).\n",
      "Average Precision  (AP) @[ IoU=0.50:0.95 | area=   all | maxDets=100 ] = 0.259\n",
      "Average Precision  (AP) @[ IoU=0.50      | area=   all | maxDets=1000 ] = 0.406\n",
      "Average Precision  (AP) @[ IoU=0.75      | area=   all | maxDets=1000 ] = 0.254\n",
      "Average Precision  (AP) @[ IoU=0.50:0.95 | area= small | maxDets=1000 ] = 0.045\n",
      "Average Precision  (AP) @[ IoU=0.50:0.95 | area=medium | maxDets=1000 ] = 0.231\n",
      "Average Precision  (AP) @[ IoU=0.50:0.95 | area= large | maxDets=1000 ] = 0.459\n",
      "Average Recall     (AR) @[ IoU=0.50:0.95 | area=   all | maxDets=100 ] = 0.402\n",
      "Average Recall     (AR) @[ IoU=0.50:0.95 | area=   all | maxDets=300 ] = 0.402\n",
      "Average Recall     (AR) @[ IoU=0.50:0.95 | area=   all | maxDets=1000 ] = 0.402\n",
      "Average Recall     (AR) @[ IoU=0.50:0.95 | area= small | maxDets=1000 ] = 0.131\n",
      "Average Recall     (AR) @[ IoU=0.50:0.95 | area=medium | maxDets=1000 ] = 0.375\n",
      "Average Recall     (AR) @[ IoU=0.50:0.95 | area= large | maxDets=1000 ] = 0.647\n",
      "Loading and preparing results...\n",
      "DONE (t=0.22s)\n",
      "creating index...\n",
      "index created!\n",
      "Running per image evaluation...\n",
      "Evaluate annotation type *segm*\n",
      "DONE (t=6.50s).\n",
      "Accumulating evaluation results...\n"
     ]
    },
    {
     "name": "stderr",
     "output_type": "stream",
     "text": [
      "2021-05-20 14:58:47,104 - mmdet - INFO - Epoch(val) [22][655]\tbbox_mAP: 0.2590, bbox_mAP_50: 0.4060, bbox_mAP_75: 0.2540, bbox_mAP_s: 0.0450, bbox_mAP_m: 0.2310, bbox_mAP_l: 0.4590, bbox_mAP_copypaste: 0.259 0.406 0.254 0.045 0.231 0.459, segm_mAP: 0.2490, segm_mAP_50: 0.3740, segm_mAP_75: 0.2490, segm_mAP_s: 0.0370, segm_mAP_m: 0.2130, segm_mAP_l: 0.4630, segm_mAP_copypaste: 0.249 0.374 0.249 0.037 0.213 0.463\n"
     ]
    },
    {
     "name": "stdout",
     "output_type": "stream",
     "text": [
      "DONE (t=0.91s).\n",
      "Average Precision  (AP) @[ IoU=0.50:0.95 | area=   all | maxDets=100 ] = 0.249\n",
      "Average Precision  (AP) @[ IoU=0.50      | area=   all | maxDets=1000 ] = 0.374\n",
      "Average Precision  (AP) @[ IoU=0.75      | area=   all | maxDets=1000 ] = 0.249\n",
      "Average Precision  (AP) @[ IoU=0.50:0.95 | area= small | maxDets=1000 ] = 0.037\n",
      "Average Precision  (AP) @[ IoU=0.50:0.95 | area=medium | maxDets=1000 ] = 0.213\n",
      "Average Precision  (AP) @[ IoU=0.50:0.95 | area= large | maxDets=1000 ] = 0.463\n",
      "Average Recall     (AR) @[ IoU=0.50:0.95 | area=   all | maxDets=100 ] = 0.387\n",
      "Average Recall     (AR) @[ IoU=0.50:0.95 | area=   all | maxDets=300 ] = 0.387\n",
      "Average Recall     (AR) @[ IoU=0.50:0.95 | area=   all | maxDets=1000 ] = 0.387\n",
      "Average Recall     (AR) @[ IoU=0.50:0.95 | area= small | maxDets=1000 ] = 0.114\n",
      "Average Recall     (AR) @[ IoU=0.50:0.95 | area=medium | maxDets=1000 ] = 0.343\n",
      "Average Recall     (AR) @[ IoU=0.50:0.95 | area= large | maxDets=1000 ] = 0.676\n"
     ]
    },
    {
     "name": "stderr",
     "output_type": "stream",
     "text": [
      "2021-05-20 14:59:47,790 - mmdet - INFO - Epoch [23][50/655]\tlr: 5.000e-07, eta: 0:36:22, time: 1.213, data_time: 0.071, memory: 7460, loss_rpn_cls: 0.0077, loss_rpn_bbox: 0.0203, loss_glbctx: 0.0030, s0.loss_cls: 0.0887, s0.acc: 96.5625, s0.loss_bbox: 0.0659, s1.loss_cls: 0.0316, s1.acc: 97.6029, s1.loss_bbox: 0.0589, s2.loss_cls: 0.0166, s2.acc: 97.6471, s2.loss_bbox: 0.0380, loss_mask: 0.1994, loss: 0.5300, grad_norm: 4.7765\n",
      "2021-05-20 15:00:46,381 - mmdet - INFO - Epoch [23][100/655]\tlr: 5.000e-07, eta: 0:35:26, time: 1.172, data_time: 0.021, memory: 7460, loss_rpn_cls: 0.0072, loss_rpn_bbox: 0.0168, loss_glbctx: 0.0023, s0.loss_cls: 0.0896, s0.acc: 96.5527, s0.loss_bbox: 0.0702, s1.loss_cls: 0.0307, s1.acc: 97.7220, s1.loss_bbox: 0.0615, s2.loss_cls: 0.0157, s2.acc: 97.7309, s2.loss_bbox: 0.0399, loss_mask: 0.2008, loss: 0.5347, grad_norm: 4.7250\n",
      "2021-05-20 15:01:44,409 - mmdet - INFO - Epoch [23][150/655]\tlr: 5.000e-07, eta: 0:34:29, time: 1.161, data_time: 0.023, memory: 7460, loss_rpn_cls: 0.0072, loss_rpn_bbox: 0.0173, loss_glbctx: 0.0023, s0.loss_cls: 0.0875, s0.acc: 96.6602, s0.loss_bbox: 0.0692, s1.loss_cls: 0.0305, s1.acc: 97.7063, s1.loss_bbox: 0.0589, s2.loss_cls: 0.0158, s2.acc: 97.7167, s2.loss_bbox: 0.0378, loss_mask: 0.2014, loss: 0.5280, grad_norm: 4.6468\n",
      "2021-05-20 15:02:42,675 - mmdet - INFO - Epoch [23][200/655]\tlr: 5.000e-07, eta: 0:33:32, time: 1.165, data_time: 0.023, memory: 7460, loss_rpn_cls: 0.0094, loss_rpn_bbox: 0.0203, loss_glbctx: 0.0030, s0.loss_cls: 0.1005, s0.acc: 96.2031, s0.loss_bbox: 0.0771, s1.loss_cls: 0.0368, s1.acc: 97.2824, s1.loss_bbox: 0.0663, s2.loss_cls: 0.0190, s2.acc: 97.3369, s2.loss_bbox: 0.0440, loss_mask: 0.2135, loss: 0.5899, grad_norm: 5.0196\n",
      "2021-05-20 15:03:41,256 - mmdet - INFO - Epoch [23][250/655]\tlr: 5.000e-07, eta: 0:32:35, time: 1.172, data_time: 0.023, memory: 7460, loss_rpn_cls: 0.0089, loss_rpn_bbox: 0.0192, loss_glbctx: 0.0027, s0.loss_cls: 0.0951, s0.acc: 96.4043, s0.loss_bbox: 0.0699, s1.loss_cls: 0.0348, s1.acc: 97.3889, s1.loss_bbox: 0.0622, s2.loss_cls: 0.0180, s2.acc: 97.3946, s2.loss_bbox: 0.0407, loss_mask: 0.2014, loss: 0.5530, grad_norm: 4.7975\n",
      "2021-05-20 15:04:39,719 - mmdet - INFO - Epoch [23][300/655]\tlr: 5.000e-07, eta: 0:31:38, time: 1.169, data_time: 0.022, memory: 7460, loss_rpn_cls: 0.0085, loss_rpn_bbox: 0.0203, loss_glbctx: 0.0024, s0.loss_cls: 0.0947, s0.acc: 96.3408, s0.loss_bbox: 0.0756, s1.loss_cls: 0.0349, s1.acc: 97.4583, s1.loss_bbox: 0.0650, s2.loss_cls: 0.0177, s2.acc: 97.4714, s2.loss_bbox: 0.0410, loss_mask: 0.2063, loss: 0.5664, grad_norm: 4.9307\n",
      "2021-05-20 15:05:38,214 - mmdet - INFO - Epoch [23][350/655]\tlr: 5.000e-07, eta: 0:30:41, time: 1.170, data_time: 0.024, memory: 7460, loss_rpn_cls: 0.0090, loss_rpn_bbox: 0.0207, loss_glbctx: 0.0023, s0.loss_cls: 0.1001, s0.acc: 96.2012, s0.loss_bbox: 0.0721, s1.loss_cls: 0.0355, s1.acc: 97.4072, s1.loss_bbox: 0.0649, s2.loss_cls: 0.0183, s2.acc: 97.4919, s2.loss_bbox: 0.0438, loss_mask: 0.2088, loss: 0.5754, grad_norm: 4.8693\n",
      "2021-05-20 15:06:36,943 - mmdet - INFO - Epoch [23][400/655]\tlr: 5.000e-07, eta: 0:29:45, time: 1.175, data_time: 0.021, memory: 7460, loss_rpn_cls: 0.0072, loss_rpn_bbox: 0.0176, loss_glbctx: 0.0022, s0.loss_cls: 0.0876, s0.acc: 96.6270, s0.loss_bbox: 0.0697, s1.loss_cls: 0.0308, s1.acc: 97.7077, s1.loss_bbox: 0.0619, s2.loss_cls: 0.0158, s2.acc: 97.6479, s2.loss_bbox: 0.0420, loss_mask: 0.2094, loss: 0.5443, grad_norm: 4.8371\n",
      "2021-05-20 15:07:34,473 - mmdet - INFO - Epoch [23][450/655]\tlr: 5.000e-07, eta: 0:28:48, time: 1.151, data_time: 0.021, memory: 7460, loss_rpn_cls: 0.0080, loss_rpn_bbox: 0.0173, loss_glbctx: 0.0025, s0.loss_cls: 0.0875, s0.acc: 96.6611, s0.loss_bbox: 0.0695, s1.loss_cls: 0.0320, s1.acc: 97.6080, s1.loss_bbox: 0.0603, s2.loss_cls: 0.0160, s2.acc: 97.5782, s2.loss_bbox: 0.0391, loss_mask: 0.2083, loss: 0.5405, grad_norm: 5.0039\n",
      "2021-05-20 15:08:31,677 - mmdet - INFO - Epoch [23][500/655]\tlr: 5.000e-07, eta: 0:27:51, time: 1.144, data_time: 0.020, memory: 7460, loss_rpn_cls: 0.0075, loss_rpn_bbox: 0.0157, loss_glbctx: 0.0033, s0.loss_cls: 0.0807, s0.acc: 97.0039, s0.loss_bbox: 0.0598, s1.loss_cls: 0.0282, s1.acc: 97.9275, s1.loss_bbox: 0.0509, s2.loss_cls: 0.0146, s2.acc: 97.9596, s2.loss_bbox: 0.0346, loss_mask: 0.1914, loss: 0.4866, grad_norm: 4.7072\n",
      "2021-05-20 15:09:30,320 - mmdet - INFO - Epoch [23][550/655]\tlr: 5.000e-07, eta: 0:26:54, time: 1.173, data_time: 0.020, memory: 7460, loss_rpn_cls: 0.0061, loss_rpn_bbox: 0.0162, loss_glbctx: 0.0024, s0.loss_cls: 0.0820, s0.acc: 96.8232, s0.loss_bbox: 0.0630, s1.loss_cls: 0.0283, s1.acc: 97.8218, s1.loss_bbox: 0.0554, s2.loss_cls: 0.0147, s2.acc: 97.8783, s2.loss_bbox: 0.0369, loss_mask: 0.1918, loss: 0.4968, grad_norm: 4.3904\n",
      "2021-05-20 15:10:28,889 - mmdet - INFO - Epoch [23][600/655]\tlr: 5.000e-07, eta: 0:25:57, time: 1.171, data_time: 0.022, memory: 7460, loss_rpn_cls: 0.0087, loss_rpn_bbox: 0.0190, loss_glbctx: 0.0027, s0.loss_cls: 0.0939, s0.acc: 96.4541, s0.loss_bbox: 0.0752, s1.loss_cls: 0.0342, s1.acc: 97.4172, s1.loss_bbox: 0.0639, s2.loss_cls: 0.0175, s2.acc: 97.4691, s2.loss_bbox: 0.0427, loss_mask: 0.2149, loss: 0.5726, grad_norm: 5.2337\n",
      "2021-05-20 15:11:26,993 - mmdet - INFO - Epoch [23][650/655]\tlr: 5.000e-07, eta: 0:25:00, time: 1.162, data_time: 0.021, memory: 7460, loss_rpn_cls: 0.0077, loss_rpn_bbox: 0.0172, loss_glbctx: 0.0027, s0.loss_cls: 0.0861, s0.acc: 96.6523, s0.loss_bbox: 0.0691, s1.loss_cls: 0.0297, s1.acc: 97.7553, s1.loss_bbox: 0.0587, s2.loss_cls: 0.0152, s2.acc: 97.8073, s2.loss_bbox: 0.0399, loss_mask: 0.2005, loss: 0.5269, grad_norm: 4.9069\n",
      "2021-05-20 15:11:32,873 - mmdet - INFO - Saving checkpoint at 23 epochs\n"
     ]
    },
    {
     "name": "stdout",
     "output_type": "stream",
     "text": [
      "[>>>>>>>>>>>>>>>>>>>>>>>>>>>>>] 655/655, 5.8 task/s, elapsed: 113s, ETA:     0s"
     ]
    },
    {
     "name": "stderr",
     "output_type": "stream",
     "text": [
      "2021-05-20 15:13:32,675 - mmdet - INFO - Evaluating bbox...\n"
     ]
    },
    {
     "name": "stdout",
     "output_type": "stream",
     "text": [
      "Loading and preparing results...\n",
      "DONE (t=0.13s)\n",
      "creating index...\n",
      "index created!\n",
      "Running per image evaluation...\n",
      "Evaluate annotation type *bbox*\n",
      "DONE (t=6.09s).\n",
      "Accumulating evaluation results...\n"
     ]
    },
    {
     "name": "stderr",
     "output_type": "stream",
     "text": [
      "2021-05-20 15:13:39,822 - mmdet - INFO - Evaluating segm...\n"
     ]
    },
    {
     "name": "stdout",
     "output_type": "stream",
     "text": [
      "DONE (t=0.89s).\n",
      "Average Precision  (AP) @[ IoU=0.50:0.95 | area=   all | maxDets=100 ] = 0.262\n",
      "Average Precision  (AP) @[ IoU=0.50      | area=   all | maxDets=1000 ] = 0.407\n",
      "Average Precision  (AP) @[ IoU=0.75      | area=   all | maxDets=1000 ] = 0.249\n",
      "Average Precision  (AP) @[ IoU=0.50:0.95 | area= small | maxDets=1000 ] = 0.042\n",
      "Average Precision  (AP) @[ IoU=0.50:0.95 | area=medium | maxDets=1000 ] = 0.233\n",
      "Average Precision  (AP) @[ IoU=0.50:0.95 | area= large | maxDets=1000 ] = 0.456\n",
      "Average Recall     (AR) @[ IoU=0.50:0.95 | area=   all | maxDets=100 ] = 0.400\n",
      "Average Recall     (AR) @[ IoU=0.50:0.95 | area=   all | maxDets=300 ] = 0.400\n",
      "Average Recall     (AR) @[ IoU=0.50:0.95 | area=   all | maxDets=1000 ] = 0.400\n",
      "Average Recall     (AR) @[ IoU=0.50:0.95 | area= small | maxDets=1000 ] = 0.129\n",
      "Average Recall     (AR) @[ IoU=0.50:0.95 | area=medium | maxDets=1000 ] = 0.366\n",
      "Average Recall     (AR) @[ IoU=0.50:0.95 | area= large | maxDets=1000 ] = 0.651\n",
      "Loading and preparing results...\n",
      "DONE (t=0.22s)\n",
      "creating index...\n",
      "index created!\n",
      "Running per image evaluation...\n",
      "Evaluate annotation type *segm*\n",
      "DONE (t=6.56s).\n",
      "Accumulating evaluation results...\n"
     ]
    },
    {
     "name": "stderr",
     "output_type": "stream",
     "text": [
      "2021-05-20 15:13:47,675 - mmdet - INFO - Epoch(val) [23][655]\tbbox_mAP: 0.2620, bbox_mAP_50: 0.4070, bbox_mAP_75: 0.2490, bbox_mAP_s: 0.0420, bbox_mAP_m: 0.2330, bbox_mAP_l: 0.4560, bbox_mAP_copypaste: 0.262 0.407 0.249 0.042 0.233 0.456, segm_mAP: 0.2520, segm_mAP_50: 0.3920, segm_mAP_75: 0.2490, segm_mAP_s: 0.0360, segm_mAP_m: 0.2160, segm_mAP_l: 0.4580, segm_mAP_copypaste: 0.252 0.392 0.249 0.036 0.216 0.458\n"
     ]
    },
    {
     "name": "stdout",
     "output_type": "stream",
     "text": [
      "DONE (t=0.91s).\n",
      "Average Precision  (AP) @[ IoU=0.50:0.95 | area=   all | maxDets=100 ] = 0.252\n",
      "Average Precision  (AP) @[ IoU=0.50      | area=   all | maxDets=1000 ] = 0.392\n",
      "Average Precision  (AP) @[ IoU=0.75      | area=   all | maxDets=1000 ] = 0.249\n",
      "Average Precision  (AP) @[ IoU=0.50:0.95 | area= small | maxDets=1000 ] = 0.036\n",
      "Average Precision  (AP) @[ IoU=0.50:0.95 | area=medium | maxDets=1000 ] = 0.216\n",
      "Average Precision  (AP) @[ IoU=0.50:0.95 | area= large | maxDets=1000 ] = 0.458\n",
      "Average Recall     (AR) @[ IoU=0.50:0.95 | area=   all | maxDets=100 ] = 0.386\n",
      "Average Recall     (AR) @[ IoU=0.50:0.95 | area=   all | maxDets=300 ] = 0.386\n",
      "Average Recall     (AR) @[ IoU=0.50:0.95 | area=   all | maxDets=1000 ] = 0.386\n",
      "Average Recall     (AR) @[ IoU=0.50:0.95 | area= small | maxDets=1000 ] = 0.112\n",
      "Average Recall     (AR) @[ IoU=0.50:0.95 | area=medium | maxDets=1000 ] = 0.336\n",
      "Average Recall     (AR) @[ IoU=0.50:0.95 | area= large | maxDets=1000 ] = 0.674\n"
     ]
    },
    {
     "name": "stderr",
     "output_type": "stream",
     "text": [
      "2021-05-20 15:14:48,267 - mmdet - INFO - Epoch [24][50/655]\tlr: 5.000e-07, eta: 0:23:57, time: 1.211, data_time: 0.067, memory: 7460, loss_rpn_cls: 0.0069, loss_rpn_bbox: 0.0157, loss_glbctx: 0.0032, s0.loss_cls: 0.0855, s0.acc: 96.6699, s0.loss_bbox: 0.0668, s1.loss_cls: 0.0286, s1.acc: 97.8779, s1.loss_bbox: 0.0573, s2.loss_cls: 0.0151, s2.acc: 97.8336, s2.loss_bbox: 0.0388, loss_mask: 0.1973, loss: 0.5150, grad_norm: 4.6163\n",
      "2021-05-20 15:15:45,985 - mmdet - INFO - Epoch [24][100/655]\tlr: 5.000e-07, eta: 0:23:00, time: 1.154, data_time: 0.021, memory: 7460, loss_rpn_cls: 0.0065, loss_rpn_bbox: 0.0161, loss_glbctx: 0.0031, s0.loss_cls: 0.0831, s0.acc: 96.7959, s0.loss_bbox: 0.0643, s1.loss_cls: 0.0290, s1.acc: 97.8572, s1.loss_bbox: 0.0596, s2.loss_cls: 0.0150, s2.acc: 97.8097, s2.loss_bbox: 0.0401, loss_mask: 0.1993, loss: 0.5160, grad_norm: 5.0083\n",
      "2021-05-20 15:16:42,082 - mmdet - INFO - Epoch [24][150/655]\tlr: 5.000e-07, eta: 0:22:03, time: 1.122, data_time: 0.019, memory: 7460, loss_rpn_cls: 0.0063, loss_rpn_bbox: 0.0151, loss_glbctx: 0.0016, s0.loss_cls: 0.0702, s0.acc: 97.2891, s0.loss_bbox: 0.0556, s1.loss_cls: 0.0242, s1.acc: 98.1302, s1.loss_bbox: 0.0495, s2.loss_cls: 0.0123, s2.acc: 98.1438, s2.loss_bbox: 0.0324, loss_mask: 0.1844, loss: 0.4516, grad_norm: 4.3818\n",
      "2021-05-20 15:17:40,712 - mmdet - INFO - Epoch [24][200/655]\tlr: 5.000e-07, eta: 0:21:06, time: 1.173, data_time: 0.023, memory: 7460, loss_rpn_cls: 0.0076, loss_rpn_bbox: 0.0187, loss_glbctx: 0.0024, s0.loss_cls: 0.0905, s0.acc: 96.5156, s0.loss_bbox: 0.0688, s1.loss_cls: 0.0316, s1.acc: 97.6088, s1.loss_bbox: 0.0579, s2.loss_cls: 0.0156, s2.acc: 97.8033, s2.loss_bbox: 0.0377, loss_mask: 0.1921, loss: 0.5229, grad_norm: 4.7380\n",
      "2021-05-20 15:18:38,322 - mmdet - INFO - Epoch [24][250/655]\tlr: 5.000e-07, eta: 0:20:09, time: 1.152, data_time: 0.020, memory: 7460, loss_rpn_cls: 0.0075, loss_rpn_bbox: 0.0148, loss_glbctx: 0.0023, s0.loss_cls: 0.0785, s0.acc: 97.0049, s0.loss_bbox: 0.0645, s1.loss_cls: 0.0288, s1.acc: 97.7841, s1.loss_bbox: 0.0571, s2.loss_cls: 0.0148, s2.acc: 97.8334, s2.loss_bbox: 0.0379, loss_mask: 0.1933, loss: 0.4994, grad_norm: 4.6582\n",
      "2021-05-20 15:19:36,348 - mmdet - INFO - Epoch [24][300/655]\tlr: 5.000e-07, eta: 0:19:12, time: 1.160, data_time: 0.021, memory: 7460, loss_rpn_cls: 0.0068, loss_rpn_bbox: 0.0169, loss_glbctx: 0.0030, s0.loss_cls: 0.0833, s0.acc: 96.7852, s0.loss_bbox: 0.0651, s1.loss_cls: 0.0286, s1.acc: 97.8666, s1.loss_bbox: 0.0560, s2.loss_cls: 0.0147, s2.acc: 97.9138, s2.loss_bbox: 0.0386, loss_mask: 0.1993, loss: 0.5123, grad_norm: 4.8724\n",
      "2021-05-20 15:20:36,396 - mmdet - INFO - Epoch [24][350/655]\tlr: 5.000e-07, eta: 0:18:15, time: 1.201, data_time: 0.025, memory: 7460, loss_rpn_cls: 0.0087, loss_rpn_bbox: 0.0213, loss_glbctx: 0.0026, s0.loss_cls: 0.1020, s0.acc: 96.0762, s0.loss_bbox: 0.0800, s1.loss_cls: 0.0370, s1.acc: 97.3283, s1.loss_bbox: 0.0715, s2.loss_cls: 0.0198, s2.acc: 97.1503, s2.loss_bbox: 0.0471, loss_mask: 0.2103, loss: 0.6003, grad_norm: 5.0544\n",
      "2021-05-20 15:21:35,349 - mmdet - INFO - Epoch [24][400/655]\tlr: 5.000e-07, eta: 0:17:18, time: 1.179, data_time: 0.024, memory: 7460, loss_rpn_cls: 0.0094, loss_rpn_bbox: 0.0209, loss_glbctx: 0.0031, s0.loss_cls: 0.1026, s0.acc: 96.0752, s0.loss_bbox: 0.0786, s1.loss_cls: 0.0363, s1.acc: 97.3263, s1.loss_bbox: 0.0684, s2.loss_cls: 0.0196, s2.acc: 97.1813, s2.loss_bbox: 0.0448, loss_mask: 0.2096, loss: 0.5933, grad_norm: 5.0606\n",
      "2021-05-20 15:22:33,670 - mmdet - INFO - Epoch [24][450/655]\tlr: 5.000e-07, eta: 0:16:21, time: 1.166, data_time: 0.024, memory: 7460, loss_rpn_cls: 0.0090, loss_rpn_bbox: 0.0180, loss_glbctx: 0.0024, s0.loss_cls: 0.0909, s0.acc: 96.5352, s0.loss_bbox: 0.0675, s1.loss_cls: 0.0339, s1.acc: 97.5082, s1.loss_bbox: 0.0569, s2.loss_cls: 0.0169, s2.acc: 97.5689, s2.loss_bbox: 0.0386, loss_mask: 0.1987, loss: 0.5330, grad_norm: 4.7389\n",
      "2021-05-20 15:23:32,827 - mmdet - INFO - Epoch [24][500/655]\tlr: 5.000e-07, eta: 0:15:24, time: 1.183, data_time: 0.023, memory: 7460, loss_rpn_cls: 0.0086, loss_rpn_bbox: 0.0199, loss_glbctx: 0.0028, s0.loss_cls: 0.1019, s0.acc: 96.2324, s0.loss_bbox: 0.0756, s1.loss_cls: 0.0366, s1.acc: 97.3729, s1.loss_bbox: 0.0656, s2.loss_cls: 0.0183, s2.acc: 97.4520, s2.loss_bbox: 0.0426, loss_mask: 0.2011, loss: 0.5728, grad_norm: 5.0320\n",
      "2021-05-20 15:24:30,944 - mmdet - INFO - Epoch [24][550/655]\tlr: 5.000e-07, eta: 0:14:27, time: 1.162, data_time: 0.023, memory: 7460, loss_rpn_cls: 0.0081, loss_rpn_bbox: 0.0190, loss_glbctx: 0.0026, s0.loss_cls: 0.0928, s0.acc: 96.4668, s0.loss_bbox: 0.0697, s1.loss_cls: 0.0331, s1.acc: 97.5196, s1.loss_bbox: 0.0609, s2.loss_cls: 0.0172, s2.acc: 97.5974, s2.loss_bbox: 0.0406, loss_mask: 0.2135, loss: 0.5576, grad_norm: 4.7605\n",
      "2021-05-20 15:25:29,406 - mmdet - INFO - Epoch [24][600/655]\tlr: 5.000e-07, eta: 0:13:30, time: 1.169, data_time: 0.022, memory: 7460, loss_rpn_cls: 0.0086, loss_rpn_bbox: 0.0177, loss_glbctx: 0.0022, s0.loss_cls: 0.0940, s0.acc: 96.4355, s0.loss_bbox: 0.0683, s1.loss_cls: 0.0339, s1.acc: 97.4633, s1.loss_bbox: 0.0611, s2.loss_cls: 0.0170, s2.acc: 97.5380, s2.loss_bbox: 0.0400, loss_mask: 0.2052, loss: 0.5480, grad_norm: 4.7432\n",
      "2021-05-20 15:26:27,867 - mmdet - INFO - Epoch [24][650/655]\tlr: 5.000e-07, eta: 0:12:33, time: 1.169, data_time: 0.025, memory: 7460, loss_rpn_cls: 0.0087, loss_rpn_bbox: 0.0232, loss_glbctx: 0.0039, s0.loss_cls: 0.1047, s0.acc: 96.0391, s0.loss_bbox: 0.0788, s1.loss_cls: 0.0383, s1.acc: 97.1150, s1.loss_bbox: 0.0657, s2.loss_cls: 0.0194, s2.acc: 97.2812, s2.loss_bbox: 0.0412, loss_mask: 0.2122, loss: 0.5960, grad_norm: 5.0861\n",
      "2021-05-20 15:26:33,496 - mmdet - INFO - Saving checkpoint at 24 epochs\n"
     ]
    },
    {
     "name": "stdout",
     "output_type": "stream",
     "text": [
      "[>>>>>>>>>>>>>>>>>>>>>>>>>>>>>] 655/655, 5.8 task/s, elapsed: 113s, ETA:     0s"
     ]
    },
    {
     "name": "stderr",
     "output_type": "stream",
     "text": [
      "2021-05-20 15:28:33,550 - mmdet - INFO - Evaluating bbox...\n"
     ]
    },
    {
     "name": "stdout",
     "output_type": "stream",
     "text": [
      "Loading and preparing results...\n",
      "DONE (t=0.57s)\n",
      "creating index...\n",
      "index created!\n",
      "Running per image evaluation...\n",
      "Evaluate annotation type *bbox*\n",
      "DONE (t=5.65s).\n",
      "Accumulating evaluation results...\n"
     ]
    },
    {
     "name": "stderr",
     "output_type": "stream",
     "text": [
      "2021-05-20 15:28:40,715 - mmdet - INFO - Evaluating segm...\n"
     ]
    },
    {
     "name": "stdout",
     "output_type": "stream",
     "text": [
      "DONE (t=0.92s).\n",
      "Average Precision  (AP) @[ IoU=0.50:0.95 | area=   all | maxDets=100 ] = 0.258\n",
      "Average Precision  (AP) @[ IoU=0.50      | area=   all | maxDets=1000 ] = 0.403\n",
      "Average Precision  (AP) @[ IoU=0.75      | area=   all | maxDets=1000 ] = 0.250\n",
      "Average Precision  (AP) @[ IoU=0.50:0.95 | area= small | maxDets=1000 ] = 0.042\n",
      "Average Precision  (AP) @[ IoU=0.50:0.95 | area=medium | maxDets=1000 ] = 0.231\n",
      "Average Precision  (AP) @[ IoU=0.50:0.95 | area= large | maxDets=1000 ] = 0.461\n",
      "Average Recall     (AR) @[ IoU=0.50:0.95 | area=   all | maxDets=100 ] = 0.399\n",
      "Average Recall     (AR) @[ IoU=0.50:0.95 | area=   all | maxDets=300 ] = 0.399\n",
      "Average Recall     (AR) @[ IoU=0.50:0.95 | area=   all | maxDets=1000 ] = 0.399\n",
      "Average Recall     (AR) @[ IoU=0.50:0.95 | area= small | maxDets=1000 ] = 0.123\n",
      "Average Recall     (AR) @[ IoU=0.50:0.95 | area=medium | maxDets=1000 ] = 0.370\n",
      "Average Recall     (AR) @[ IoU=0.50:0.95 | area= large | maxDets=1000 ] = 0.659\n",
      "Loading and preparing results...\n",
      "DONE (t=0.76s)\n",
      "creating index...\n",
      "index created!\n",
      "Running per image evaluation...\n",
      "Evaluate annotation type *segm*\n",
      "DONE (t=6.15s).\n",
      "Accumulating evaluation results...\n"
     ]
    },
    {
     "name": "stderr",
     "output_type": "stream",
     "text": [
      "2021-05-20 15:28:48,693 - mmdet - INFO - Epoch(val) [24][655]\tbbox_mAP: 0.2580, bbox_mAP_50: 0.4030, bbox_mAP_75: 0.2500, bbox_mAP_s: 0.0420, bbox_mAP_m: 0.2310, bbox_mAP_l: 0.4610, bbox_mAP_copypaste: 0.258 0.403 0.250 0.042 0.231 0.461, segm_mAP: 0.2410, segm_mAP_50: 0.3670, segm_mAP_75: 0.2410, segm_mAP_s: 0.0350, segm_mAP_m: 0.2120, segm_mAP_l: 0.4540, segm_mAP_copypaste: 0.241 0.367 0.241 0.035 0.212 0.454\n"
     ]
    },
    {
     "name": "stdout",
     "output_type": "stream",
     "text": [
      "DONE (t=0.89s).\n",
      "Average Precision  (AP) @[ IoU=0.50:0.95 | area=   all | maxDets=100 ] = 0.241\n",
      "Average Precision  (AP) @[ IoU=0.50      | area=   all | maxDets=1000 ] = 0.367\n",
      "Average Precision  (AP) @[ IoU=0.75      | area=   all | maxDets=1000 ] = 0.241\n",
      "Average Precision  (AP) @[ IoU=0.50:0.95 | area= small | maxDets=1000 ] = 0.035\n",
      "Average Precision  (AP) @[ IoU=0.50:0.95 | area=medium | maxDets=1000 ] = 0.212\n",
      "Average Precision  (AP) @[ IoU=0.50:0.95 | area= large | maxDets=1000 ] = 0.454\n",
      "Average Recall     (AR) @[ IoU=0.50:0.95 | area=   all | maxDets=100 ] = 0.381\n",
      "Average Recall     (AR) @[ IoU=0.50:0.95 | area=   all | maxDets=300 ] = 0.381\n",
      "Average Recall     (AR) @[ IoU=0.50:0.95 | area=   all | maxDets=1000 ] = 0.381\n",
      "Average Recall     (AR) @[ IoU=0.50:0.95 | area= small | maxDets=1000 ] = 0.106\n",
      "Average Recall     (AR) @[ IoU=0.50:0.95 | area=medium | maxDets=1000 ] = 0.342\n",
      "Average Recall     (AR) @[ IoU=0.50:0.95 | area= large | maxDets=1000 ] = 0.670\n"
     ]
    },
    {
     "name": "stderr",
     "output_type": "stream",
     "text": [
      "2021-05-20 15:29:51,080 - mmdet - INFO - Epoch [25][50/655]\tlr: 5.000e-07, eta: 0:11:30, time: 1.247, data_time: 0.073, memory: 7460, loss_rpn_cls: 0.0104, loss_rpn_bbox: 0.0215, loss_glbctx: 0.0031, s0.loss_cls: 0.1017, s0.acc: 96.0479, s0.loss_bbox: 0.0772, s1.loss_cls: 0.0371, s1.acc: 97.2854, s1.loss_bbox: 0.0677, s2.loss_cls: 0.0192, s2.acc: 97.2951, s2.loss_bbox: 0.0441, loss_mask: 0.2078, loss: 0.5899, grad_norm: 5.3380\n",
      "2021-05-20 15:30:49,943 - mmdet - INFO - Epoch [25][100/655]\tlr: 5.000e-07, eta: 0:10:33, time: 1.177, data_time: 0.023, memory: 7460, loss_rpn_cls: 0.0084, loss_rpn_bbox: 0.0194, loss_glbctx: 0.0040, s0.loss_cls: 0.0933, s0.acc: 96.4375, s0.loss_bbox: 0.0706, s1.loss_cls: 0.0331, s1.acc: 97.5484, s1.loss_bbox: 0.0633, s2.loss_cls: 0.0172, s2.acc: 97.5226, s2.loss_bbox: 0.0414, loss_mask: 0.2069, loss: 0.5575, grad_norm: 5.0567\n",
      "2021-05-20 15:31:48,213 - mmdet - INFO - Epoch [25][150/655]\tlr: 5.000e-07, eta: 0:09:36, time: 1.165, data_time: 0.020, memory: 7460, loss_rpn_cls: 0.0076, loss_rpn_bbox: 0.0172, loss_glbctx: 0.0019, s0.loss_cls: 0.0866, s0.acc: 96.6201, s0.loss_bbox: 0.0685, s1.loss_cls: 0.0309, s1.acc: 97.6397, s1.loss_bbox: 0.0589, s2.loss_cls: 0.0159, s2.acc: 97.7254, s2.loss_bbox: 0.0403, loss_mask: 0.2009, loss: 0.5289, grad_norm: 4.7970\n",
      "2021-05-20 15:32:45,832 - mmdet - INFO - Epoch [25][200/655]\tlr: 5.000e-07, eta: 0:08:39, time: 1.152, data_time: 0.021, memory: 7460, loss_rpn_cls: 0.0075, loss_rpn_bbox: 0.0184, loss_glbctx: 0.0022, s0.loss_cls: 0.0820, s0.acc: 96.8838, s0.loss_bbox: 0.0624, s1.loss_cls: 0.0286, s1.acc: 97.9023, s1.loss_bbox: 0.0523, s2.loss_cls: 0.0141, s2.acc: 97.9902, s2.loss_bbox: 0.0347, loss_mask: 0.1868, loss: 0.4891, grad_norm: 4.4300\n",
      "2021-05-20 15:33:42,789 - mmdet - INFO - Epoch [25][250/655]\tlr: 5.000e-07, eta: 0:07:42, time: 1.139, data_time: 0.022, memory: 7460, loss_rpn_cls: 0.0076, loss_rpn_bbox: 0.0169, loss_glbctx: 0.0033, s0.loss_cls: 0.0836, s0.acc: 96.9346, s0.loss_bbox: 0.0597, s1.loss_cls: 0.0297, s1.acc: 97.8128, s1.loss_bbox: 0.0530, s2.loss_cls: 0.0154, s2.acc: 97.8361, s2.loss_bbox: 0.0373, loss_mask: 0.2010, loss: 0.5074, grad_norm: 4.9790\n",
      "2021-05-20 15:34:40,849 - mmdet - INFO - Epoch [25][300/655]\tlr: 5.000e-07, eta: 0:06:45, time: 1.161, data_time: 0.022, memory: 7460, loss_rpn_cls: 0.0078, loss_rpn_bbox: 0.0177, loss_glbctx: 0.0024, s0.loss_cls: 0.0952, s0.acc: 96.3896, s0.loss_bbox: 0.0700, s1.loss_cls: 0.0344, s1.acc: 97.4753, s1.loss_bbox: 0.0610, s2.loss_cls: 0.0175, s2.acc: 97.5105, s2.loss_bbox: 0.0390, loss_mask: 0.1952, loss: 0.5401, grad_norm: 4.6689\n",
      "2021-05-20 15:35:39,181 - mmdet - INFO - Epoch [25][350/655]\tlr: 5.000e-07, eta: 0:05:48, time: 1.167, data_time: 0.021, memory: 7460, loss_rpn_cls: 0.0071, loss_rpn_bbox: 0.0156, loss_glbctx: 0.0027, s0.loss_cls: 0.0876, s0.acc: 96.6670, s0.loss_bbox: 0.0662, s1.loss_cls: 0.0302, s1.acc: 97.7535, s1.loss_bbox: 0.0576, s2.loss_cls: 0.0151, s2.acc: 97.9397, s2.loss_bbox: 0.0379, loss_mask: 0.1958, loss: 0.5157, grad_norm: 4.7470\n",
      "2021-05-20 15:36:37,368 - mmdet - INFO - Epoch [25][400/655]\tlr: 5.000e-07, eta: 0:04:51, time: 1.164, data_time: 0.022, memory: 7460, loss_rpn_cls: 0.0084, loss_rpn_bbox: 0.0179, loss_glbctx: 0.0031, s0.loss_cls: 0.0891, s0.acc: 96.5820, s0.loss_bbox: 0.0700, s1.loss_cls: 0.0319, s1.acc: 97.5930, s1.loss_bbox: 0.0602, s2.loss_cls: 0.0160, s2.acc: 97.6683, s2.loss_bbox: 0.0398, loss_mask: 0.1990, loss: 0.5354, grad_norm: 4.9909\n",
      "2021-05-20 15:37:35,908 - mmdet - INFO - Epoch [25][450/655]\tlr: 5.000e-07, eta: 0:03:54, time: 1.171, data_time: 0.023, memory: 7460, loss_rpn_cls: 0.0077, loss_rpn_bbox: 0.0200, loss_glbctx: 0.0034, s0.loss_cls: 0.0944, s0.acc: 96.3477, s0.loss_bbox: 0.0750, s1.loss_cls: 0.0346, s1.acc: 97.4466, s1.loss_bbox: 0.0661, s2.loss_cls: 0.0179, s2.acc: 97.4281, s2.loss_bbox: 0.0434, loss_mask: 0.2057, loss: 0.5683, grad_norm: 4.9427\n",
      "2021-05-20 15:38:34,677 - mmdet - INFO - Epoch [25][500/655]\tlr: 5.000e-07, eta: 0:02:57, time: 1.175, data_time: 0.023, memory: 7460, loss_rpn_cls: 0.0086, loss_rpn_bbox: 0.0198, loss_glbctx: 0.0023, s0.loss_cls: 0.0950, s0.acc: 96.3721, s0.loss_bbox: 0.0729, s1.loss_cls: 0.0347, s1.acc: 97.4338, s1.loss_bbox: 0.0633, s2.loss_cls: 0.0173, s2.acc: 97.4921, s2.loss_bbox: 0.0402, loss_mask: 0.1974, loss: 0.5516, grad_norm: 4.6500\n",
      "2021-05-20 15:39:32,993 - mmdet - INFO - Epoch [25][550/655]\tlr: 5.000e-07, eta: 0:01:59, time: 1.166, data_time: 0.023, memory: 7460, loss_rpn_cls: 0.0079, loss_rpn_bbox: 0.0161, loss_glbctx: 0.0030, s0.loss_cls: 0.0883, s0.acc: 96.5908, s0.loss_bbox: 0.0667, s1.loss_cls: 0.0302, s1.acc: 97.7702, s1.loss_bbox: 0.0599, s2.loss_cls: 0.0163, s2.acc: 97.6569, s2.loss_bbox: 0.0405, loss_mask: 0.2006, loss: 0.5294, grad_norm: 4.9796\n",
      "2021-05-20 15:40:31,023 - mmdet - INFO - Epoch [25][600/655]\tlr: 5.000e-07, eta: 0:01:02, time: 1.161, data_time: 0.022, memory: 7460, loss_rpn_cls: 0.0082, loss_rpn_bbox: 0.0206, loss_glbctx: 0.0024, s0.loss_cls: 0.0928, s0.acc: 96.4375, s0.loss_bbox: 0.0725, s1.loss_cls: 0.0341, s1.acc: 97.4365, s1.loss_bbox: 0.0630, s2.loss_cls: 0.0183, s2.acc: 97.3014, s2.loss_bbox: 0.0410, loss_mask: 0.2212, loss: 0.5741, grad_norm: 4.9196\n",
      "2021-05-20 15:41:28,886 - mmdet - INFO - Epoch [25][650/655]\tlr: 5.000e-07, eta: 0:00:05, time: 1.157, data_time: 0.020, memory: 7460, loss_rpn_cls: 0.0070, loss_rpn_bbox: 0.0147, loss_glbctx: 0.0020, s0.loss_cls: 0.0802, s0.acc: 96.9199, s0.loss_bbox: 0.0638, s1.loss_cls: 0.0280, s1.acc: 97.9382, s1.loss_bbox: 0.0544, s2.loss_cls: 0.0139, s2.acc: 98.0204, s2.loss_bbox: 0.0363, loss_mask: 0.1849, loss: 0.4853, grad_norm: 4.6202\n",
      "2021-05-20 15:41:34,998 - mmdet - INFO - Saving checkpoint at 25 epochs\n"
     ]
    },
    {
     "name": "stdout",
     "output_type": "stream",
     "text": [
      "[>>>>>>>>>>>>>>>>>>>>>>>>>>>>>] 655/655, 5.8 task/s, elapsed: 114s, ETA:     0s"
     ]
    },
    {
     "name": "stderr",
     "output_type": "stream",
     "text": [
      "2021-05-20 15:43:35,635 - mmdet - INFO - Evaluating bbox...\n"
     ]
    },
    {
     "name": "stdout",
     "output_type": "stream",
     "text": [
      "Loading and preparing results...\n",
      "DONE (t=0.57s)\n",
      "creating index...\n",
      "index created!\n",
      "Running per image evaluation...\n",
      "Evaluate annotation type *bbox*\n",
      "DONE (t=5.71s).\n",
      "Accumulating evaluation results...\n"
     ]
    },
    {
     "name": "stderr",
     "output_type": "stream",
     "text": [
      "2021-05-20 15:43:42,849 - mmdet - INFO - Evaluating segm...\n"
     ]
    },
    {
     "name": "stdout",
     "output_type": "stream",
     "text": [
      "DONE (t=0.90s).\n",
      "Average Precision  (AP) @[ IoU=0.50:0.95 | area=   all | maxDets=100 ] = 0.255\n",
      "Average Precision  (AP) @[ IoU=0.50      | area=   all | maxDets=1000 ] = 0.398\n",
      "Average Precision  (AP) @[ IoU=0.75      | area=   all | maxDets=1000 ] = 0.248\n",
      "Average Precision  (AP) @[ IoU=0.50:0.95 | area= small | maxDets=1000 ] = 0.042\n",
      "Average Precision  (AP) @[ IoU=0.50:0.95 | area=medium | maxDets=1000 ] = 0.231\n",
      "Average Precision  (AP) @[ IoU=0.50:0.95 | area= large | maxDets=1000 ] = 0.444\n",
      "Average Recall     (AR) @[ IoU=0.50:0.95 | area=   all | maxDets=100 ] = 0.397\n",
      "Average Recall     (AR) @[ IoU=0.50:0.95 | area=   all | maxDets=300 ] = 0.397\n",
      "Average Recall     (AR) @[ IoU=0.50:0.95 | area=   all | maxDets=1000 ] = 0.397\n",
      "Average Recall     (AR) @[ IoU=0.50:0.95 | area= small | maxDets=1000 ] = 0.129\n",
      "Average Recall     (AR) @[ IoU=0.50:0.95 | area=medium | maxDets=1000 ] = 0.376\n",
      "Average Recall     (AR) @[ IoU=0.50:0.95 | area= large | maxDets=1000 ] = 0.603\n",
      "Loading and preparing results...\n",
      "DONE (t=0.73s)\n",
      "creating index...\n",
      "index created!\n",
      "Running per image evaluation...\n",
      "Evaluate annotation type *segm*\n",
      "DONE (t=6.04s).\n",
      "Accumulating evaluation results...\n"
     ]
    },
    {
     "name": "stderr",
     "output_type": "stream",
     "text": [
      "2021-05-20 15:43:50,679 - mmdet - INFO - Epoch(val) [25][655]\tbbox_mAP: 0.2550, bbox_mAP_50: 0.3980, bbox_mAP_75: 0.2480, bbox_mAP_s: 0.0420, bbox_mAP_m: 0.2310, bbox_mAP_l: 0.4440, bbox_mAP_copypaste: 0.255 0.398 0.248 0.042 0.231 0.444, segm_mAP: 0.2430, segm_mAP_50: 0.3710, segm_mAP_75: 0.2400, segm_mAP_s: 0.0350, segm_mAP_m: 0.2170, segm_mAP_l: 0.4410, segm_mAP_copypaste: 0.243 0.371 0.240 0.035 0.217 0.441\n"
     ]
    },
    {
     "name": "stdout",
     "output_type": "stream",
     "text": [
      "DONE (t=0.90s).\n",
      "Average Precision  (AP) @[ IoU=0.50:0.95 | area=   all | maxDets=100 ] = 0.243\n",
      "Average Precision  (AP) @[ IoU=0.50      | area=   all | maxDets=1000 ] = 0.371\n",
      "Average Precision  (AP) @[ IoU=0.75      | area=   all | maxDets=1000 ] = 0.240\n",
      "Average Precision  (AP) @[ IoU=0.50:0.95 | area= small | maxDets=1000 ] = 0.035\n",
      "Average Precision  (AP) @[ IoU=0.50:0.95 | area=medium | maxDets=1000 ] = 0.217\n",
      "Average Precision  (AP) @[ IoU=0.50:0.95 | area= large | maxDets=1000 ] = 0.441\n",
      "Average Recall     (AR) @[ IoU=0.50:0.95 | area=   all | maxDets=100 ] = 0.384\n",
      "Average Recall     (AR) @[ IoU=0.50:0.95 | area=   all | maxDets=300 ] = 0.384\n",
      "Average Recall     (AR) @[ IoU=0.50:0.95 | area=   all | maxDets=1000 ] = 0.384\n",
      "Average Recall     (AR) @[ IoU=0.50:0.95 | area= small | maxDets=1000 ] = 0.110\n",
      "Average Recall     (AR) @[ IoU=0.50:0.95 | area=medium | maxDets=1000 ] = 0.350\n",
      "Average Recall     (AR) @[ IoU=0.50:0.95 | area= large | maxDets=1000 ] = 0.604\n"
     ]
    },
    {
     "data": {
      "text/html": [
       "<br/>Waiting for W&B process to finish, PID 27613<br/>Program ended successfully."
      ],
      "text/plain": [
       "<IPython.core.display.HTML object>"
      ]
     },
     "metadata": {},
     "output_type": "display_data"
    },
    {
     "data": {
      "application/vnd.jupyter.widget-view+json": {
       "model_id": "",
       "version_major": 2,
       "version_minor": 0
      },
      "text/plain": [
       "VBox(children=(Label(value=' 0.00MB of 0.00MB uploaded (0.00MB deduped)\\r'), FloatProgress(value=1.0, max=1.0)…"
      ]
     },
     "metadata": {},
     "output_type": "display_data"
    },
    {
     "data": {
      "text/html": [
       "Find user logs for this run at: <code>/opt/ml/code/mmdetection_trash/wandb/run-20210520_092244-3madwr7r/logs/debug.log</code>"
      ],
      "text/plain": [
       "<IPython.core.display.HTML object>"
      ]
     },
     "metadata": {},
     "output_type": "display_data"
    },
    {
     "data": {
      "text/html": [
       "Find internal logs for this run at: <code>/opt/ml/code/mmdetection_trash/wandb/run-20210520_092244-3madwr7r/logs/debug-internal.log</code>"
      ],
      "text/plain": [
       "<IPython.core.display.HTML object>"
      ]
     },
     "metadata": {},
     "output_type": "display_data"
    },
    {
     "data": {
      "text/html": [
       "<h3>Run summary:</h3><br/><style>\n",
       "    table.wandb td:nth-child(1) { padding: 0 10px; text-align: right }\n",
       "    </style><table class=\"wandb\">\n",
       "<tr><td>train/loss_rpn_cls</td><td>0.00695</td></tr><tr><td>train/loss_rpn_bbox</td><td>0.0147</td></tr><tr><td>train/loss_glbctx</td><td>0.00201</td></tr><tr><td>train/s0.loss_cls</td><td>0.08021</td></tr><tr><td>train/s0.acc</td><td>96.91992</td></tr><tr><td>train/s0.loss_bbox</td><td>0.06382</td></tr><tr><td>train/s1.loss_cls</td><td>0.02805</td></tr><tr><td>train/s1.acc</td><td>97.93816</td></tr><tr><td>train/s1.loss_bbox</td><td>0.05442</td></tr><tr><td>train/s2.loss_cls</td><td>0.01393</td></tr><tr><td>train/s2.acc</td><td>98.02045</td></tr><tr><td>train/s2.loss_bbox</td><td>0.03632</td></tr><tr><td>train/loss_mask</td><td>0.18486</td></tr><tr><td>train/loss</td><td>0.48526</td></tr><tr><td>train/grad_norm</td><td>4.62025</td></tr><tr><td>learning_rate</td><td>0.0</td></tr><tr><td>momentum</td><td>0.9</td></tr><tr><td>_runtime</td><td>22866</td></tr><tr><td>_timestamp</td><td>1621525430</td></tr><tr><td>_step</td><td>16376</td></tr><tr><td>val/bbox_mAP</td><td>0.255</td></tr><tr><td>val/bbox_mAP_50</td><td>0.398</td></tr><tr><td>val/bbox_mAP_75</td><td>0.248</td></tr><tr><td>val/bbox_mAP_s</td><td>0.042</td></tr><tr><td>val/bbox_mAP_m</td><td>0.231</td></tr><tr><td>val/bbox_mAP_l</td><td>0.444</td></tr><tr><td>val/segm_mAP</td><td>0.243</td></tr><tr><td>val/segm_mAP_50</td><td>0.371</td></tr><tr><td>val/segm_mAP_75</td><td>0.24</td></tr><tr><td>val/segm_mAP_s</td><td>0.035</td></tr><tr><td>val/segm_mAP_m</td><td>0.217</td></tr><tr><td>val/segm_mAP_l</td><td>0.441</td></tr></table>"
      ],
      "text/plain": [
       "<IPython.core.display.HTML object>"
      ]
     },
     "metadata": {},
     "output_type": "display_data"
    },
    {
     "data": {
      "text/html": [
       "<h3>Run history:</h3><br/><style>\n",
       "    table.wandb td:nth-child(1) { padding: 0 10px; text-align: right }\n",
       "    </style><table class=\"wandb\">\n",
       "<tr><td>train/loss_rpn_cls</td><td>█▄▃▃▃▂▂▂▂▂▂▂▂▂▂▂▁▁▁▁▁▁▁▁▁▂▁▁▁▁▁▁▁▁▁▁▁▁▁▁</td></tr><tr><td>train/loss_rpn_bbox</td><td>█▆▆▅▅▄▄▃▄▄▄▄▃▄▃▃▃▃▃▃▃▃▃▂▃▃▂▂▂▁▂▂▁▁▁▁▁▁▂▂</td></tr><tr><td>train/loss_glbctx</td><td>█▆▆▆▅▅▅▄▄▃▃▂▂▂▂▂▂▁▂▂▂▁▁▁▁▂▁▁▁▁▁▁▁▁▁▁▁▁▁▁</td></tr><tr><td>train/s0.loss_cls</td><td>▇▇█▇▆▆▅▅▅▅▅▄▄▄▄▄▃▃▃▃▃▃▃▂▃▃▂▂▂▁▂▁▁▁▁▁▁▁▂▁</td></tr><tr><td>train/s0.acc</td><td>▃▂▁▂▃▃▃▄▃▃▄▄▅▄▅▅▅▅▆▅▅▅▆▆▆▆▇▇▇█▇▇██▇███▇█</td></tr><tr><td>train/s0.loss_bbox</td><td>▆▇█▆▅▅▅▄▅▅▄▄▄▄▃▃▃▃▃▃▃▃▃▂▂▃▂▂▂▁▂▁▁▁▂▁▁▁▂▁</td></tr><tr><td>train/s1.loss_cls</td><td>▅▆█▇▇▆▆▅▆▅▅▄▄▄▄▄▄▃▃▄▃▃▃▃▃▃▂▂▂▁▁▁▁▁▁▁▁▁▁▁</td></tr><tr><td>train/s1.acc</td><td>▆▄▁▂▂▂▂▃▂▃▃▄▄▄▄▄▅▅▅▅▅▅▅▆▆▆▇▇▇█▇▇██▇███▇█</td></tr><tr><td>train/s1.loss_bbox</td><td>▂▅█▇▇▆▆▅▆▆▅▅▅▅▄▄▄▄▄▄▄▄▄▃▃▃▂▂▂▁▂▂▁▁▂▂▁▁▂▂</td></tr><tr><td>train/s2.loss_cls</td><td>▄▅██▇▇▇▆▇▆▆▅▅▅▅▅▄▄▃▄▄▄▄▃▃▄▂▂▂▁▂▂▁▁▁▁▁▁▂▁</td></tr><tr><td>train/s2.acc</td><td>█▆▁▁▁▁▁▃▁▂▂▃▃▃▄▃▄▄▅▄▄▄▅▅▅▅▆▆▇█▇▇██▇███▇▇</td></tr><tr><td>train/s2.loss_bbox</td><td>▁▃█████████▇▇█▇▇▇▇▆▇▇▆▆▆▆▆▅▅▅▄▅▄▄▄▄▄▄▄▄▄</td></tr><tr><td>train/loss_mask</td><td>█▄▃▂▂▂▂▂▂▂▂▁▂▁▁▂▁▁▁▁▁▁▁▁▁▁▁▁▁▁▁▁▁▁▁▁▁▁▁▁</td></tr><tr><td>train/loss</td><td>█▅▅▄▄▄▄▃▃▃▃▂▂▂▂▂▂▂▂▂▂▂▂▂▂▂▁▁▁▁▁▁▁▁▁▁▁▁▁▁</td></tr><tr><td>train/grad_norm</td><td>█▃▂▂▂▂▂▂▂▂▂▂▂▂▂▂▂▂▂▂▂▂▂▂▂▂▁▁▁▁▁▁▁▁▁▁▁▁▁▁</td></tr><tr><td>learning_rate</td><td>▄█████████████████████████▂▂▂▂▂▂▂▂▂▁▁▁▁▁</td></tr><tr><td>momentum</td><td>▁▁▁▁▁▁▁▁▁▁▁▁▁▁▁▁▁▁▁▁▁▁▁▁▁▁▁▁▁▁▁▁▁▁▁▁▁▁▁▁</td></tr><tr><td>_runtime</td><td>▁▁▁▁▂▂▂▂▂▃▃▃▃▃▃▄▄▄▄▄▅▅▅▅▅▆▆▆▆▆▆▇▇▇▇▇▇███</td></tr><tr><td>_timestamp</td><td>▁▁▁▁▂▂▂▂▂▃▃▃▃▃▃▄▄▄▄▄▅▅▅▅▅▆▆▆▆▆▆▇▇▇▇▇▇███</td></tr><tr><td>_step</td><td>▁▁▁▁▂▂▂▂▂▃▃▃▃▃▃▄▄▄▄▄▅▅▅▅▅▅▆▆▆▆▆▇▇▇▇▇▇███</td></tr><tr><td>val/bbox_mAP</td><td>▁▃▄▆▆▇▇▇▇▇▇▇▇▇▇▇█████████</td></tr><tr><td>val/bbox_mAP_50</td><td>▁▃▅▆▇▇▇▇▇▇▇▇▇▇▇▇█████████</td></tr><tr><td>val/bbox_mAP_75</td><td>▁▃▄▆▇▇▇▇▇▇▇▇██▇██████████</td></tr><tr><td>val/bbox_mAP_s</td><td>▁▃▄▇▅▆▆▆▆▆█▆▇▇▆▇▇▇▇▇▇▇▇▇▇</td></tr><tr><td>val/bbox_mAP_m</td><td>▁▃▄▅▆▆▆▆▇▇▇▇▇▇▇▇█████████</td></tr><tr><td>val/bbox_mAP_l</td><td>▁▄▅▇▆▇▇▇▇▇▇▇▇▇▇▇█▇██▇███▇</td></tr><tr><td>val/segm_mAP</td><td>▁▃▄▆▆▆▇▆▇▇▇▇██▇▇█▇███████</td></tr><tr><td>val/segm_mAP_50</td><td>▁▃▄▆▆▇▇▇▇▇▇▇▇▇▇▇█▇█████▇█</td></tr><tr><td>val/segm_mAP_75</td><td>▁▃▄▆▆▆▇▇▇▇▇▇██▇▇█▇███████</td></tr><tr><td>val/segm_mAP_s</td><td>▁▃▄▆▅▅▆▆▆▆█▆▇▇▆▇▇▇▇▇▇▇▇▇▇</td></tr><tr><td>val/segm_mAP_m</td><td>▁▃▄▅▆▆▆▆▇▇▇▇▇█▇▇█████████</td></tr><tr><td>val/segm_mAP_l</td><td>▁▄▅▇▆▆█▆▇▇▇▇▇▇▇▇█▇██████▇</td></tr></table><br/>"
      ],
      "text/plain": [
       "<IPython.core.display.HTML object>"
      ]
     },
     "metadata": {},
     "output_type": "display_data"
    },
    {
     "data": {
      "text/html": [
       "Synced 5 W&B file(s), 0 media file(s), 0 artifact file(s) and 0 other file(s)"
      ],
      "text/plain": [
       "<IPython.core.display.HTML object>"
      ]
     },
     "metadata": {},
     "output_type": "display_data"
    },
    {
     "data": {
      "text/html": [
       "\n",
       "                    <br/>Synced <strong style=\"color:#cdcd00\">scnet_s101_pan_carafe_1x_coco</strong>: <a href=\"https://wandb.ai/pingbby/mmdetection/runs/3madwr7r\" target=\"_blank\">https://wandb.ai/pingbby/mmdetection/runs/3madwr7r</a><br/>\n",
       "                "
      ],
      "text/plain": [
       "<IPython.core.display.HTML object>"
      ]
     },
     "metadata": {},
     "output_type": "display_data"
    }
   ],
   "source": [
    "train_detector(model, datasets[0], cfg, distributed=False, validate=True)"
   ]
  },
  {
   "cell_type": "code",
   "execution_count": null,
   "metadata": {},
   "outputs": [],
   "source": []
  }
 ],
 "metadata": {
  "kernelspec": {
   "display_name": "Python 3",
   "language": "python",
   "name": "python3"
  },
  "language_info": {
   "codemirror_mode": {
    "name": "ipython",
    "version": 3
   },
   "file_extension": ".py",
   "mimetype": "text/x-python",
   "name": "python",
   "nbconvert_exporter": "python",
   "pygments_lexer": "ipython3",
   "version": "3.7.7"
  },
  "pycharm": {
   "stem_cell": {
    "cell_type": "raw",
    "metadata": {
     "collapsed": false
    },
    "source": []
   }
  }
 },
 "nbformat": 4,
 "nbformat_minor": 4
}
