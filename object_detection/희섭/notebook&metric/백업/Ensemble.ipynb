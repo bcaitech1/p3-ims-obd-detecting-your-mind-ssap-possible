{
 "cells": [
  {
   "cell_type": "code",
   "execution_count": 1,
   "id": "1b7b179a-47e5-4f33-818a-cf452c6aed53",
   "metadata": {},
   "outputs": [],
   "source": [
    "# !pip install ensemble_boxes"
   ]
  },
  {
   "cell_type": "code",
   "execution_count": 1,
   "id": "ad2d861d-aa7a-43da-8975-2a769957adf9",
   "metadata": {},
   "outputs": [
    {
     "name": "stdout",
     "output_type": "stream",
     "text": [
      "823218\n",
      "798474\n"
     ]
    }
   ],
   "source": [
    "import pandas as pd\n",
    "from ensemble_boxes import *\n",
    "import numpy as np\n",
    "from pycocotools.coco import COCO\n",
    "\n",
    "from os.path import getsize\n",
    "print(getsize('/opt/ml/code/Swin-Transformer-Object-Detection/work_dirs/swin.csv'))\n",
    "print(getsize('/opt/ml/code/Swin-Transformer-Object-Detection/work_dirs/swin_TTA.csv'))"
   ]
  },
  {
   "cell_type": "code",
   "execution_count": 3,
   "id": "8eb44bb6-deed-4cda-aeef-048f15344c0e",
   "metadata": {},
   "outputs": [],
   "source": [
    "# ensemble csv files\n",
    "submission_files = ['/opt/ml/code/Swin-Transformer-Object-Detection/work_dirs/swin.csv',\n",
    "                    '/opt/ml/code/Swin-Transformer-Object-Detection/work_dirs/swin_TTA.csv']\n",
    "submission_df = [pd.read_csv(file) for file in submission_files]"
   ]
  },
  {
   "cell_type": "code",
   "execution_count": 4,
   "id": "9e1aa652-4bd1-4540-93a3-7bea1c1dac3e",
   "metadata": {},
   "outputs": [
    {
     "data": {
      "text/html": [
       "<div>\n",
       "<style scoped>\n",
       "    .dataframe tbody tr th:only-of-type {\n",
       "        vertical-align: middle;\n",
       "    }\n",
       "\n",
       "    .dataframe tbody tr th {\n",
       "        vertical-align: top;\n",
       "    }\n",
       "\n",
       "    .dataframe thead th {\n",
       "        text-align: right;\n",
       "    }\n",
       "</style>\n",
       "<table border=\"1\" class=\"dataframe\">\n",
       "  <thead>\n",
       "    <tr style=\"text-align: right;\">\n",
       "      <th></th>\n",
       "      <th>PredictionString</th>\n",
       "      <th>image_id</th>\n",
       "    </tr>\n",
       "  </thead>\n",
       "  <tbody>\n",
       "    <tr>\n",
       "      <th>0</th>\n",
       "      <td>6 0.08392282 184.24693 365.6062 210.95854 398....</td>\n",
       "      <td>batch_01_vt/0021.jpg</td>\n",
       "    </tr>\n",
       "    <tr>\n",
       "      <th>1</th>\n",
       "      <td>1 0.7738614 4.44707 246.07396 307.3681 456.791...</td>\n",
       "      <td>batch_01_vt/0028.jpg</td>\n",
       "    </tr>\n",
       "    <tr>\n",
       "      <th>2</th>\n",
       "      <td>1 0.9999099 69.92787 166.90848 379.1483 379.9666</td>\n",
       "      <td>batch_01_vt/0031.jpg</td>\n",
       "    </tr>\n",
       "    <tr>\n",
       "      <th>3</th>\n",
       "      <td>1 0.09910974 296.37112 159.159 363.94086 226.8...</td>\n",
       "      <td>batch_01_vt/0032.jpg</td>\n",
       "    </tr>\n",
       "    <tr>\n",
       "      <th>4</th>\n",
       "      <td>0 0.27640808 37.842575 459.38425 84.2498 474.1...</td>\n",
       "      <td>batch_01_vt/0070.jpg</td>\n",
       "    </tr>\n",
       "  </tbody>\n",
       "</table>\n",
       "</div>"
      ],
      "text/plain": [
       "                                    PredictionString              image_id\n",
       "0  6 0.08392282 184.24693 365.6062 210.95854 398....  batch_01_vt/0021.jpg\n",
       "1  1 0.7738614 4.44707 246.07396 307.3681 456.791...  batch_01_vt/0028.jpg\n",
       "2  1 0.9999099 69.92787 166.90848 379.1483 379.9666   batch_01_vt/0031.jpg\n",
       "3  1 0.09910974 296.37112 159.159 363.94086 226.8...  batch_01_vt/0032.jpg\n",
       "4  0 0.27640808 37.842575 459.38425 84.2498 474.1...  batch_01_vt/0070.jpg"
      ]
     },
     "execution_count": 4,
     "metadata": {},
     "output_type": "execute_result"
    }
   ],
   "source": [
    "submission_df[0].head()"
   ]
  },
  {
   "cell_type": "code",
   "execution_count": 5,
   "id": "58e954f9-f497-4fbe-855c-6e2e8375098d",
   "metadata": {},
   "outputs": [],
   "source": [
    "image_ids = submission_df[0]['image_id'].tolist()"
   ]
  },
  {
   "cell_type": "code",
   "execution_count": 6,
   "id": "f31b914d-83dc-4b04-a1fc-5ae942f112c4",
   "metadata": {},
   "outputs": [
    {
     "name": "stdout",
     "output_type": "stream",
     "text": [
      "loading annotations into memory...\n",
      "Done (t=0.01s)\n",
      "creating index...\n",
      "index created!\n"
     ]
    }
   ],
   "source": [
    "annotation = '/opt/ml/input/data/test.json'\n",
    "coco = COCO(annotation)"
   ]
  },
  {
   "cell_type": "code",
   "execution_count": 7,
   "id": "41bde1d7-d86f-4077-abb8-e8f5149e91a0",
   "metadata": {},
   "outputs": [],
   "source": [
    "prediction_strings = []\n",
    "file_names = []\n",
    "iou_thr = 0.6\n",
    "skip_box_thr = 0.0001\n",
    "\n",
    "weights = [4, 1] # 모델 가중치\n",
    "\n",
    "for i, image_id in enumerate(image_ids):\n",
    "    prediction_string = ''\n",
    "    boxes_list = []\n",
    "    scores_list = []\n",
    "    labels_list = []\n",
    "    image_info = coco.loadImgs(i)[0]\n",
    "    for df in submission_df:\n",
    "        predict_string = df[df['image_id'] == image_id]['PredictionString'].tolist()[0]\n",
    "        predict_list = str(predict_string).split()\n",
    "        if len(predict_list)==0 or len(predict_list)==1:\n",
    "            continue\n",
    "        predict_list = np.reshape(predict_list, (-1, 6))\n",
    "        box_list = []\n",
    "        for box in predict_list[:, 2:6].tolist():\n",
    "            box[0] = float(box[0]) / image_info['width']\n",
    "            box[1] = float(box[1]) / image_info['height']\n",
    "            box[2] = float(box[2]) / image_info['width']\n",
    "            box[3] = float(box[3]) / image_info['height']\n",
    "            box_list.append(box)\n",
    "        boxes_list.append(box_list)\n",
    "        scores_list.append(list(map(float, predict_list[:, 1].tolist())))\n",
    "        labels_list.append(list(map(int, predict_list[:, 0].tolist())))\n",
    "    \n",
    "    if len(boxes_list):\n",
    "        boxes, scores, labels = weighted_boxes_fusion(boxes_list, scores_list, labels_list, weights=weights, iou_thr=iou_thr, skip_box_thr=skip_box_thr)\n",
    "        for box, score, label in zip(boxes, scores, labels):\n",
    "            prediction_string += str(int(label)) + ' ' + str(score) + ' ' + str(box[0] * image_info['width']) + ' ' + str(box[1] * image_info['height']) + ' ' + str(box[2] * image_info['width']) + ' ' + str(box[3] * image_info['height']) + ' '\n",
    "    \n",
    "    prediction_strings.append(prediction_string)\n",
    "    file_names.append(image_id)"
   ]
  },
  {
   "cell_type": "code",
   "execution_count": 8,
   "id": "cca5b63e-fba0-45fb-be54-0f5f0185fb32",
   "metadata": {},
   "outputs": [],
   "source": [
    "# submission = pd.DataFrame()\n",
    "# submission['PredictionString'] = prediction_strings\n",
    "# submission['image_id'] = file_names\n",
    "# submission.to_csv('/opt/ml/output/submission_ensemble.csv')\n",
    "\n",
    "# submission.head()"
   ]
  },
  {
   "cell_type": "code",
   "execution_count": 9,
   "id": "5de60b39-6e3d-459d-b3bf-010073a3190a",
   "metadata": {},
   "outputs": [
    {
     "data": {
      "text/html": [
       "<div>\n",
       "<style scoped>\n",
       "    .dataframe tbody tr th:only-of-type {\n",
       "        vertical-align: middle;\n",
       "    }\n",
       "\n",
       "    .dataframe tbody tr th {\n",
       "        vertical-align: top;\n",
       "    }\n",
       "\n",
       "    .dataframe thead th {\n",
       "        text-align: right;\n",
       "    }\n",
       "</style>\n",
       "<table border=\"1\" class=\"dataframe\">\n",
       "  <thead>\n",
       "    <tr style=\"text-align: right;\">\n",
       "      <th></th>\n",
       "      <th>PredictionString</th>\n",
       "      <th>image_id</th>\n",
       "    </tr>\n",
       "  </thead>\n",
       "  <tbody>\n",
       "    <tr>\n",
       "      <th>0</th>\n",
       "      <td>8 0.9999874830245972 173.00685119628906 233.86...</td>\n",
       "      <td>batch_01_vt/0021.jpg</td>\n",
       "    </tr>\n",
       "    <tr>\n",
       "      <th>1</th>\n",
       "      <td>8 0.9992231130599976 160.72933959960938 62.590...</td>\n",
       "      <td>batch_01_vt/0028.jpg</td>\n",
       "    </tr>\n",
       "    <tr>\n",
       "      <th>2</th>\n",
       "      <td>1 0.999903678894043 69.87248229980469 166.9575...</td>\n",
       "      <td>batch_01_vt/0031.jpg</td>\n",
       "    </tr>\n",
       "    <tr>\n",
       "      <th>3</th>\n",
       "      <td>8 0.9978682 25.327510833740234 143.09451293945...</td>\n",
       "      <td>batch_01_vt/0032.jpg</td>\n",
       "    </tr>\n",
       "    <tr>\n",
       "      <th>4</th>\n",
       "      <td>8 0.9999496340751648 150.7216033935547 2.01026...</td>\n",
       "      <td>batch_01_vt/0070.jpg</td>\n",
       "    </tr>\n",
       "  </tbody>\n",
       "</table>\n",
       "</div>"
      ],
      "text/plain": [
       "                                    PredictionString              image_id\n",
       "0  8 0.9999874830245972 173.00685119628906 233.86...  batch_01_vt/0021.jpg\n",
       "1  8 0.9992231130599976 160.72933959960938 62.590...  batch_01_vt/0028.jpg\n",
       "2  1 0.999903678894043 69.87248229980469 166.9575...  batch_01_vt/0031.jpg\n",
       "3  8 0.9978682 25.327510833740234 143.09451293945...  batch_01_vt/0032.jpg\n",
       "4  8 0.9999496340751648 150.7216033935547 2.01026...  batch_01_vt/0070.jpg"
      ]
     },
     "execution_count": 9,
     "metadata": {},
     "output_type": "execute_result"
    }
   ],
   "source": [
    "submission = pd.DataFrame()\n",
    "submission['PredictionString'] = prediction_strings\n",
    "submission['image_id'] = file_names\n",
    "submission.to_csv('/opt/ml/code/Swin-Transformer-Object-Detection/work_dirs/submission_ensemble.csv')\n",
    "\n",
    "submission.head()"
   ]
  },
  {
   "cell_type": "code",
   "execution_count": null,
   "id": "85364aac-3524-48de-a968-48a19d1182d4",
   "metadata": {},
   "outputs": [],
   "source": []
  }
 ],
 "metadata": {
  "kernelspec": {
   "display_name": "Python 3",
   "language": "python",
   "name": "python3"
  },
  "language_info": {
   "codemirror_mode": {
    "name": "ipython",
    "version": 3
   },
   "file_extension": ".py",
   "mimetype": "text/x-python",
   "name": "python",
   "nbconvert_exporter": "python",
   "pygments_lexer": "ipython3",
   "version": "3.7.7"
  }
 },
 "nbformat": 4,
 "nbformat_minor": 5
}
