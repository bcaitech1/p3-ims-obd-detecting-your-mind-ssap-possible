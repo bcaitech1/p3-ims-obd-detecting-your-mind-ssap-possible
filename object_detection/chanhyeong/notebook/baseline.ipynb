{
 "cells": [
  {
   "cell_type": "code",
   "execution_count": 3,
   "metadata": {
    "pycharm": {
     "name": "#%%\n"
    }
   },
   "outputs": [],
   "source": [
    "from mmcv import Config\n",
    "from mmdet.datasets import build_dataset\n",
    "from mmdet.models import build_detector\n",
    "from mmdet.apis import train_detector\n",
    "from mmdet.datasets import (build_dataloader, build_dataset,\n",
    "                            replace_ImageToTensor)"
   ]
  },
  {
   "cell_type": "code",
   "execution_count": 2,
   "metadata": {},
   "outputs": [
    {
     "name": "stdout",
     "output_type": "stream",
     "text": [
      "Requirement already satisfied: ipywidgets in /opt/conda/lib/python3.7/site-packages (7.6.3)\n",
      "Requirement already satisfied: widgetsnbextension~=3.5.0 in /opt/conda/lib/python3.7/site-packages (from ipywidgets) (3.5.1)\n",
      "Requirement already satisfied: traitlets>=4.3.1 in /opt/conda/lib/python3.7/site-packages (from ipywidgets) (4.3.3)\n",
      "Requirement already satisfied: ipykernel>=4.5.1 in /opt/conda/lib/python3.7/site-packages (from ipywidgets) (5.5.4)\n",
      "Requirement already satisfied: nbformat>=4.2.0 in /opt/conda/lib/python3.7/site-packages (from ipywidgets) (5.1.3)\n",
      "Requirement already satisfied: ipython>=4.0.0; python_version >= \"3.3\" in /opt/conda/lib/python3.7/site-packages (from ipywidgets) (7.16.1)\n",
      "Requirement already satisfied: jupyterlab-widgets>=1.0.0; python_version >= \"3.6\" in /opt/conda/lib/python3.7/site-packages (from ipywidgets) (1.0.0)\n",
      "Requirement already satisfied: notebook>=4.4.1 in /opt/conda/lib/python3.7/site-packages (from widgetsnbextension~=3.5.0->ipywidgets) (6.3.0)\n",
      "Requirement already satisfied: decorator in /opt/conda/lib/python3.7/site-packages (from traitlets>=4.3.1->ipywidgets) (4.4.2)\n",
      "Requirement already satisfied: six in /opt/conda/lib/python3.7/site-packages (from traitlets>=4.3.1->ipywidgets) (1.14.0)\n",
      "Requirement already satisfied: ipython-genutils in /opt/conda/lib/python3.7/site-packages (from traitlets>=4.3.1->ipywidgets) (0.2.0)\n",
      "Requirement already satisfied: tornado>=4.2 in /opt/conda/lib/python3.7/site-packages (from ipykernel>=4.5.1->ipywidgets) (6.1)\n",
      "Requirement already satisfied: jupyter-client in /opt/conda/lib/python3.7/site-packages (from ipykernel>=4.5.1->ipywidgets) (6.1.12)\n",
      "Requirement already satisfied: jupyter-core in /opt/conda/lib/python3.7/site-packages (from nbformat>=4.2.0->ipywidgets) (4.7.1)\n",
      "Requirement already satisfied: jsonschema!=2.5.0,>=2.4 in /opt/conda/lib/python3.7/site-packages (from nbformat>=4.2.0->ipywidgets) (3.2.0)\n",
      "Requirement already satisfied: pickleshare in /opt/conda/lib/python3.7/site-packages (from ipython>=4.0.0; python_version >= \"3.3\"->ipywidgets) (0.7.5)\n",
      "Requirement already satisfied: prompt-toolkit!=3.0.0,!=3.0.1,<3.1.0,>=2.0.0 in /opt/conda/lib/python3.7/site-packages (from ipython>=4.0.0; python_version >= \"3.3\"->ipywidgets) (3.0.5)\n",
      "Requirement already satisfied: setuptools>=18.5 in /opt/conda/lib/python3.7/site-packages (from ipython>=4.0.0; python_version >= \"3.3\"->ipywidgets) (46.4.0.post20200518)\n",
      "Requirement already satisfied: jedi>=0.10 in /opt/conda/lib/python3.7/site-packages (from ipython>=4.0.0; python_version >= \"3.3\"->ipywidgets) (0.17.1)\n",
      "Requirement already satisfied: pygments in /opt/conda/lib/python3.7/site-packages (from ipython>=4.0.0; python_version >= \"3.3\"->ipywidgets) (2.6.1)\n",
      "Requirement already satisfied: backcall in /opt/conda/lib/python3.7/site-packages (from ipython>=4.0.0; python_version >= \"3.3\"->ipywidgets) (0.2.0)\n",
      "Requirement already satisfied: pexpect; sys_platform != \"win32\" in /opt/conda/lib/python3.7/site-packages (from ipython>=4.0.0; python_version >= \"3.3\"->ipywidgets) (4.8.0)\n",
      "Requirement already satisfied: argon2-cffi in /opt/conda/lib/python3.7/site-packages (from notebook>=4.4.1->widgetsnbextension~=3.5.0->ipywidgets) (20.1.0)\n",
      "Requirement already satisfied: prometheus-client in /opt/conda/lib/python3.7/site-packages (from notebook>=4.4.1->widgetsnbextension~=3.5.0->ipywidgets) (0.10.1)\n",
      "Requirement already satisfied: terminado>=0.8.3 in /opt/conda/lib/python3.7/site-packages (from notebook>=4.4.1->widgetsnbextension~=3.5.0->ipywidgets) (0.9.4)\n",
      "Requirement already satisfied: jinja2 in /opt/conda/lib/python3.7/site-packages (from notebook>=4.4.1->widgetsnbextension~=3.5.0->ipywidgets) (2.11.2)\n",
      "Requirement already satisfied: nbconvert in /opt/conda/lib/python3.7/site-packages (from notebook>=4.4.1->widgetsnbextension~=3.5.0->ipywidgets) (6.0.7)\n",
      "Requirement already satisfied: pyzmq>=17 in /opt/conda/lib/python3.7/site-packages (from notebook>=4.4.1->widgetsnbextension~=3.5.0->ipywidgets) (22.0.3)\n",
      "Requirement already satisfied: Send2Trash>=1.5.0 in /opt/conda/lib/python3.7/site-packages (from notebook>=4.4.1->widgetsnbextension~=3.5.0->ipywidgets) (1.5.0)\n",
      "Requirement already satisfied: python-dateutil>=2.1 in /opt/conda/lib/python3.7/site-packages (from jupyter-client->ipykernel>=4.5.1->ipywidgets) (2.8.1)\n",
      "Requirement already satisfied: pyrsistent>=0.14.0 in /opt/conda/lib/python3.7/site-packages (from jsonschema!=2.5.0,>=2.4->nbformat>=4.2.0->ipywidgets) (0.17.3)\n",
      "Requirement already satisfied: attrs>=17.4.0 in /opt/conda/lib/python3.7/site-packages (from jsonschema!=2.5.0,>=2.4->nbformat>=4.2.0->ipywidgets) (21.2.0)\n",
      "Requirement already satisfied: importlib-metadata; python_version < \"3.8\" in /opt/conda/lib/python3.7/site-packages (from jsonschema!=2.5.0,>=2.4->nbformat>=4.2.0->ipywidgets) (4.0.1)\n",
      "Requirement already satisfied: wcwidth in /opt/conda/lib/python3.7/site-packages (from prompt-toolkit!=3.0.0,!=3.0.1,<3.1.0,>=2.0.0->ipython>=4.0.0; python_version >= \"3.3\"->ipywidgets) (0.2.5)\n",
      "Requirement already satisfied: parso<0.8.0,>=0.7.0 in /opt/conda/lib/python3.7/site-packages (from jedi>=0.10->ipython>=4.0.0; python_version >= \"3.3\"->ipywidgets) (0.7.0)\n",
      "Requirement already satisfied: ptyprocess>=0.5 in /opt/conda/lib/python3.7/site-packages (from pexpect; sys_platform != \"win32\"->ipython>=4.0.0; python_version >= \"3.3\"->ipywidgets) (0.6.0)\n",
      "Requirement already satisfied: cffi>=1.0.0 in /opt/conda/lib/python3.7/site-packages (from argon2-cffi->notebook>=4.4.1->widgetsnbextension~=3.5.0->ipywidgets) (1.14.0)\n",
      "Requirement already satisfied: MarkupSafe>=0.23 in /opt/conda/lib/python3.7/site-packages (from jinja2->notebook>=4.4.1->widgetsnbextension~=3.5.0->ipywidgets) (1.1.1)\n",
      "Requirement already satisfied: pandocfilters>=1.4.1 in /opt/conda/lib/python3.7/site-packages (from nbconvert->notebook>=4.4.1->widgetsnbextension~=3.5.0->ipywidgets) (1.4.3)\n",
      "Requirement already satisfied: testpath in /opt/conda/lib/python3.7/site-packages (from nbconvert->notebook>=4.4.1->widgetsnbextension~=3.5.0->ipywidgets) (0.4.4)\n",
      "Requirement already satisfied: entrypoints>=0.2.2 in /opt/conda/lib/python3.7/site-packages (from nbconvert->notebook>=4.4.1->widgetsnbextension~=3.5.0->ipywidgets) (0.3)\n",
      "Requirement already satisfied: jupyterlab-pygments in /opt/conda/lib/python3.7/site-packages (from nbconvert->notebook>=4.4.1->widgetsnbextension~=3.5.0->ipywidgets) (0.1.2)\n",
      "Requirement already satisfied: mistune<2,>=0.8.1 in /opt/conda/lib/python3.7/site-packages (from nbconvert->notebook>=4.4.1->widgetsnbextension~=3.5.0->ipywidgets) (0.8.4)\n",
      "Requirement already satisfied: bleach in /opt/conda/lib/python3.7/site-packages (from nbconvert->notebook>=4.4.1->widgetsnbextension~=3.5.0->ipywidgets) (3.3.0)\n",
      "Requirement already satisfied: defusedxml in /opt/conda/lib/python3.7/site-packages (from nbconvert->notebook>=4.4.1->widgetsnbextension~=3.5.0->ipywidgets) (0.7.1)\n",
      "Requirement already satisfied: nbclient<0.6.0,>=0.5.0 in /opt/conda/lib/python3.7/site-packages (from nbconvert->notebook>=4.4.1->widgetsnbextension~=3.5.0->ipywidgets) (0.5.3)\n",
      "Requirement already satisfied: zipp>=0.5 in /opt/conda/lib/python3.7/site-packages (from importlib-metadata; python_version < \"3.8\"->jsonschema!=2.5.0,>=2.4->nbformat>=4.2.0->ipywidgets) (3.4.1)\n",
      "Requirement already satisfied: typing-extensions>=3.6.4; python_version < \"3.8\" in /opt/conda/lib/python3.7/site-packages (from importlib-metadata; python_version < \"3.8\"->jsonschema!=2.5.0,>=2.4->nbformat>=4.2.0->ipywidgets) (3.10.0.0)\n",
      "Requirement already satisfied: pycparser in /opt/conda/lib/python3.7/site-packages (from cffi>=1.0.0->argon2-cffi->notebook>=4.4.1->widgetsnbextension~=3.5.0->ipywidgets) (2.20)\n",
      "Requirement already satisfied: packaging in /opt/conda/lib/python3.7/site-packages (from bleach->nbconvert->notebook>=4.4.1->widgetsnbextension~=3.5.0->ipywidgets) (20.9)\n",
      "Requirement already satisfied: webencodings in /opt/conda/lib/python3.7/site-packages (from bleach->nbconvert->notebook>=4.4.1->widgetsnbextension~=3.5.0->ipywidgets) (0.5.1)\n",
      "Requirement already satisfied: async-generator in /opt/conda/lib/python3.7/site-packages (from nbclient<0.6.0,>=0.5.0->nbconvert->notebook>=4.4.1->widgetsnbextension~=3.5.0->ipywidgets) (1.10)\n",
      "Requirement already satisfied: nest-asyncio in /opt/conda/lib/python3.7/site-packages (from nbclient<0.6.0,>=0.5.0->nbconvert->notebook>=4.4.1->widgetsnbextension~=3.5.0->ipywidgets) (1.5.1)\n",
      "Requirement already satisfied: pyparsing>=2.0.2 in /opt/conda/lib/python3.7/site-packages (from packaging->bleach->nbconvert->notebook>=4.4.1->widgetsnbextension~=3.5.0->ipywidgets) (2.4.7)\n",
      "Enabling notebook extension jupyter-js-widgets/extension...\n",
      "      - Validating: \u001b[32mOK\u001b[0m\n"
     ]
    }
   ],
   "source": [
    "!pip install ipywidgets\n",
    "!jupyter nbextension enable --py widgetsnbextension\n"
   ]
  },
  {
   "cell_type": "code",
   "execution_count": 4,
   "metadata": {
    "pycharm": {
     "name": "#%%\n"
    }
   },
   "outputs": [],
   "source": [
    "classes = (\"UNKNOWN\", \"General trash\", \"Paper\", \"Paper pack\", \"Metal\", \"Glass\", \n",
    "           \"Plastic\", \"Styrofoam\", \"Plastic bag\", \"Battery\", \"Clothing\")\n",
    "# config file 들고오기\n",
    "cfg = Config.fromfile('./configs/faster_rcnn/faster_rcnn_r50_fpn_1x_coco.py')\n",
    "\n",
    "PREFIX = '../../input/data/'\n",
    "\n",
    "\n",
    "# dataset 바꾸기\n",
    "cfg.data.train.classes = classes\n",
    "cfg.data.train.img_prefix = PREFIX\n",
    "cfg.data.train.ann_file = PREFIX + 'train.json'\n",
    "cfg.data.train.pipeline[2]['img_scale'] = (512, 512)\n",
    "\n",
    "cfg.data.val.classes = classes\n",
    "cfg.data.val.img_prefix = PREFIX\n",
    "cfg.data.val.ann_file = PREFIX + 'val.json'\n",
    "cfg.data.val.pipeline[1]['img_scale'] = (512, 512)\n",
    "\n",
    "cfg.data.test.classes = classes\n",
    "cfg.data.test.img_prefix = PREFIX\n",
    "cfg.data.test.ann_file = PREFIX + 'test.json'\n",
    "cfg.data.test.pipeline[1]['img_scale'] = (512, 512)\n",
    "\n",
    "cfg.data.samples_per_gpu = 4\n",
    "\n",
    "cfg.seed=2020\n",
    "cfg.gpu_ids = [0]\n",
    "cfg.work_dir = './work_dirs/faster_rcnn_r50_fpn_1x_trash'\n",
    "\n",
    "cfg.model.roi_head.bbox_head.num_classes = 11\n",
    "\n",
    "cfg.optimizer_config.grad_clip = dict(max_norm=35, norm_type=2)"
   ]
  },
  {
   "cell_type": "code",
   "execution_count": 5,
   "metadata": {
    "pycharm": {
     "name": "#%%\n"
    }
   },
   "outputs": [
    {
     "name": "stderr",
     "output_type": "stream",
     "text": [
      "2021-05-10 02:14:51,412 - mmdet - INFO - load model from: torchvision://resnet50\n",
      "2021-05-10 02:14:51,413 - mmdet - INFO - Use load_from_torchvision loader\n",
      "2021-05-10 02:14:51,665 - mmdet - WARNING - The model and loaded state dict do not match exactly\n",
      "\n",
      "unexpected key in source state_dict: fc.weight, fc.bias\n",
      "\n"
     ]
    }
   ],
   "source": [
    "model = build_detector(cfg.model)"
   ]
  },
  {
   "cell_type": "code",
   "execution_count": 6,
   "metadata": {
    "pycharm": {
     "name": "#%%\n"
    }
   },
   "outputs": [
    {
     "name": "stdout",
     "output_type": "stream",
     "text": [
      "loading annotations into memory...\n",
      "Done (t=3.50s)\n",
      "creating index...\n",
      "index created!\n"
     ]
    }
   ],
   "source": [
    "datasets = [build_dataset(cfg.data.train)]"
   ]
  },
  {
   "cell_type": "code",
   "execution_count": 7,
   "metadata": {
    "pycharm": {
     "name": "#%%\n"
    }
   },
   "outputs": [
    {
     "name": "stdout",
     "output_type": "stream",
     "text": [
      "loading annotations into memory...\n"
     ]
    },
    {
     "name": "stderr",
     "output_type": "stream",
     "text": [
      "2021-05-10 02:15:01,660 - mmdet - INFO - Start running, host: root@29fb76f7ce2f, work_dir: /opt/ml/code/mmdetection_trash/work_dirs/faster_rcnn_r50_fpn_1x_trash\n",
      "2021-05-10 02:15:01,661 - mmdet - INFO - workflow: [('train', 1)], max: 12 epochs\n"
     ]
    },
    {
     "name": "stdout",
     "output_type": "stream",
     "text": [
      "Done (t=1.21s)\n",
      "creating index...\n",
      "index created!\n"
     ]
    },
    {
     "name": "stderr",
     "output_type": "stream",
     "text": [
      "2021-05-10 02:15:19,810 - mmdet - INFO - Epoch [1][50/655]\tlr: 1.978e-03, eta: 0:47:14, time: 0.363, data_time: 0.050, memory: 2097, loss_rpn_cls: 0.4922, loss_rpn_bbox: 0.0797, loss_cls: 0.6289, acc: 88.2285, loss_bbox: 0.1120, loss: 1.3127, grad_norm: 6.6686\n",
      "2021-05-10 02:15:35,993 - mmdet - INFO - Epoch [1][100/655]\tlr: 3.976e-03, eta: 0:44:23, time: 0.324, data_time: 0.006, memory: 2097, loss_rpn_cls: 0.2378, loss_rpn_bbox: 0.0874, loss_cls: 0.4275, acc: 90.7373, loss_bbox: 0.3405, loss: 1.0932, grad_norm: 3.0445\n",
      "2021-05-10 02:15:51,799 - mmdet - INFO - Epoch [1][150/655]\tlr: 5.974e-03, eta: 0:42:56, time: 0.316, data_time: 0.006, memory: 2097, loss_rpn_cls: 0.2037, loss_rpn_bbox: 0.0851, loss_cls: 0.4361, acc: 89.9375, loss_bbox: 0.3754, loss: 1.1003, grad_norm: 2.8083\n",
      "2021-05-10 02:16:07,472 - mmdet - INFO - Epoch [1][200/655]\tlr: 7.972e-03, eta: 0:42:00, time: 0.313, data_time: 0.006, memory: 2097, loss_rpn_cls: 0.1606, loss_rpn_bbox: 0.0731, loss_cls: 0.4139, acc: 89.8564, loss_bbox: 0.3935, loss: 1.0411, grad_norm: 3.0763\n",
      "2021-05-10 02:16:23,112 - mmdet - INFO - Epoch [1][250/655]\tlr: 9.970e-03, eta: 0:41:19, time: 0.313, data_time: 0.006, memory: 2097, loss_rpn_cls: 0.1604, loss_rpn_bbox: 0.0693, loss_cls: 0.4302, acc: 89.5918, loss_bbox: 0.3834, loss: 1.0433, grad_norm: 3.5563\n",
      "2021-05-10 02:16:38,851 - mmdet - INFO - Epoch [1][300/655]\tlr: 1.197e-02, eta: 0:40:49, time: 0.315, data_time: 0.006, memory: 2097, loss_rpn_cls: 0.1764, loss_rpn_bbox: 0.0805, loss_cls: 0.4646, acc: 88.9043, loss_bbox: 0.4088, loss: 1.1302, grad_norm: 3.1802\n",
      "2021-05-10 02:16:54,683 - mmdet - INFO - Epoch [1][350/655]\tlr: 1.397e-02, eta: 0:40:24, time: 0.317, data_time: 0.006, memory: 2097, loss_rpn_cls: 0.1785, loss_rpn_bbox: 0.0970, loss_cls: 0.4799, acc: 87.9033, loss_bbox: 0.4451, loss: 1.2005, grad_norm: 3.2497\n",
      "2021-05-10 02:17:10,298 - mmdet - INFO - Epoch [1][400/655]\tlr: 1.596e-02, eta: 0:39:58, time: 0.312, data_time: 0.006, memory: 2098, loss_rpn_cls: 0.1527, loss_rpn_bbox: 0.0796, loss_cls: 0.4566, acc: 88.2451, loss_bbox: 0.4251, loss: 1.1141, grad_norm: 2.8695\n",
      "2021-05-10 02:17:25,909 - mmdet - INFO - Epoch [1][450/655]\tlr: 1.796e-02, eta: 0:39:35, time: 0.312, data_time: 0.006, memory: 2098, loss_rpn_cls: 0.1491, loss_rpn_bbox: 0.0673, loss_cls: 0.4598, acc: 89.2656, loss_bbox: 0.3783, loss: 1.0545, grad_norm: 3.0894\n",
      "2021-05-10 02:17:41,309 - mmdet - INFO - Epoch [1][500/655]\tlr: 1.996e-02, eta: 0:39:09, time: 0.308, data_time: 0.006, memory: 2098, loss_rpn_cls: 0.1379, loss_rpn_bbox: 0.0684, loss_cls: 0.4439, acc: 89.0723, loss_bbox: 0.3779, loss: 1.0282, grad_norm: 2.8616\n",
      "2021-05-10 02:17:56,726 - mmdet - INFO - Epoch [1][550/655]\tlr: 2.000e-02, eta: 0:38:46, time: 0.308, data_time: 0.006, memory: 2098, loss_rpn_cls: 0.1577, loss_rpn_bbox: 0.0846, loss_cls: 0.4919, acc: 87.7666, loss_bbox: 0.4177, loss: 1.1519, grad_norm: 2.7958\n",
      "2021-05-10 02:18:12,224 - mmdet - INFO - Epoch [1][600/655]\tlr: 2.000e-02, eta: 0:38:25, time: 0.310, data_time: 0.006, memory: 2098, loss_rpn_cls: 0.1417, loss_rpn_bbox: 0.0852, loss_cls: 0.4628, acc: 88.2480, loss_bbox: 0.4015, loss: 1.0912, grad_norm: 2.4218\n",
      "2021-05-10 02:18:27,744 - mmdet - INFO - Epoch [1][650/655]\tlr: 2.000e-02, eta: 0:38:05, time: 0.310, data_time: 0.006, memory: 2098, loss_rpn_cls: 0.1407, loss_rpn_bbox: 0.0751, loss_cls: 0.4355, acc: 88.7930, loss_bbox: 0.3733, loss: 1.0245, grad_norm: 2.5331\n",
      "2021-05-10 02:18:29,348 - mmdet - INFO - Saving checkpoint at 1 epochs\n"
     ]
    },
    {
     "name": "stdout",
     "output_type": "stream",
     "text": [
      "[>>>>>>>>>>>>>>>>>>>>>>>>>>>>>] 655/655, 23.6 task/s, elapsed: 28s, ETA:     0s"
     ]
    },
    {
     "name": "stderr",
     "output_type": "stream",
     "text": [
      "2021-05-10 02:19:00,159 - mmdet - INFO - Evaluating bbox...\n"
     ]
    },
    {
     "name": "stdout",
     "output_type": "stream",
     "text": [
      "Loading and preparing results...\n",
      "DONE (t=1.13s)\n",
      "creating index...\n",
      "index created!\n",
      "Running per image evaluation...\n",
      "Evaluate annotation type *bbox*\n",
      "DONE (t=7.18s).\n",
      "Accumulating evaluation results...\n"
     ]
    },
    {
     "name": "stderr",
     "output_type": "stream",
     "text": [
      "2021-05-10 02:19:09,983 - mmdet - INFO - Epoch(val) [1][655]\tbbox_mAP: 0.0350, bbox_mAP_50: 0.0860, bbox_mAP_75: 0.0220, bbox_mAP_s: 0.0060, bbox_mAP_m: 0.0430, bbox_mAP_l: 0.0650, bbox_mAP_copypaste: 0.035 0.086 0.022 0.006 0.043 0.065\n"
     ]
    },
    {
     "name": "stdout",
     "output_type": "stream",
     "text": [
      "DONE (t=1.40s).\n",
      "Average Precision  (AP) @[ IoU=0.50:0.95 | area=   all | maxDets=100 ] = 0.035\n",
      "Average Precision  (AP) @[ IoU=0.50      | area=   all | maxDets=1000 ] = 0.086\n",
      "Average Precision  (AP) @[ IoU=0.75      | area=   all | maxDets=1000 ] = 0.022\n",
      "Average Precision  (AP) @[ IoU=0.50:0.95 | area= small | maxDets=1000 ] = 0.006\n",
      "Average Precision  (AP) @[ IoU=0.50:0.95 | area=medium | maxDets=1000 ] = 0.043\n",
      "Average Precision  (AP) @[ IoU=0.50:0.95 | area= large | maxDets=1000 ] = 0.065\n",
      "Average Recall     (AR) @[ IoU=0.50:0.95 | area=   all | maxDets=100 ] = 0.120\n",
      "Average Recall     (AR) @[ IoU=0.50:0.95 | area=   all | maxDets=300 ] = 0.120\n",
      "Average Recall     (AR) @[ IoU=0.50:0.95 | area=   all | maxDets=1000 ] = 0.120\n",
      "Average Recall     (AR) @[ IoU=0.50:0.95 | area= small | maxDets=1000 ] = 0.027\n",
      "Average Recall     (AR) @[ IoU=0.50:0.95 | area=medium | maxDets=1000 ] = 0.106\n",
      "Average Recall     (AR) @[ IoU=0.50:0.95 | area= large | maxDets=1000 ] = 0.244\n"
     ]
    },
    {
     "name": "stderr",
     "output_type": "stream",
     "text": [
      "2021-05-10 02:19:27,472 - mmdet - INFO - Epoch [2][50/655]\tlr: 2.000e-02, eta: 0:37:48, time: 0.350, data_time: 0.050, memory: 2098, loss_rpn_cls: 0.1167, loss_rpn_bbox: 0.0702, loss_cls: 0.3793, acc: 89.8545, loss_bbox: 0.3553, loss: 0.9216, grad_norm: 2.2115\n",
      "2021-05-10 02:19:42,928 - mmdet - INFO - Epoch [2][100/655]\tlr: 2.000e-02, eta: 0:37:29, time: 0.309, data_time: 0.006, memory: 2098, loss_rpn_cls: 0.1179, loss_rpn_bbox: 0.0718, loss_cls: 0.4390, acc: 88.2314, loss_bbox: 0.3923, loss: 1.0210, grad_norm: 2.2026\n",
      "2021-05-10 02:19:58,358 - mmdet - INFO - Epoch [2][150/655]\tlr: 2.000e-02, eta: 0:37:09, time: 0.309, data_time: 0.006, memory: 2098, loss_rpn_cls: 0.1123, loss_rpn_bbox: 0.0812, loss_cls: 0.4199, acc: 88.4395, loss_bbox: 0.3882, loss: 1.0016, grad_norm: 2.2993\n",
      "2021-05-10 02:20:13,617 - mmdet - INFO - Epoch [2][200/655]\tlr: 2.000e-02, eta: 0:36:49, time: 0.305, data_time: 0.006, memory: 2098, loss_rpn_cls: 0.1024, loss_rpn_bbox: 0.0636, loss_cls: 0.4117, acc: 89.2227, loss_bbox: 0.3522, loss: 0.9299, grad_norm: 2.1743\n",
      "2021-05-10 02:20:28,934 - mmdet - INFO - Epoch [2][250/655]\tlr: 2.000e-02, eta: 0:36:30, time: 0.306, data_time: 0.006, memory: 2098, loss_rpn_cls: 0.1152, loss_rpn_bbox: 0.0748, loss_cls: 0.4354, acc: 88.4336, loss_bbox: 0.3904, loss: 1.0158, grad_norm: 2.4078\n",
      "2021-05-10 02:20:44,245 - mmdet - INFO - Epoch [2][300/655]\tlr: 2.000e-02, eta: 0:36:11, time: 0.306, data_time: 0.006, memory: 2098, loss_rpn_cls: 0.1164, loss_rpn_bbox: 0.0707, loss_cls: 0.4289, acc: 88.4043, loss_bbox: 0.3852, loss: 1.0012, grad_norm: 2.1872\n",
      "2021-05-10 02:20:59,598 - mmdet - INFO - Epoch [2][350/655]\tlr: 2.000e-02, eta: 0:35:53, time: 0.307, data_time: 0.006, memory: 2098, loss_rpn_cls: 0.0905, loss_rpn_bbox: 0.0554, loss_cls: 0.4011, acc: 89.3604, loss_bbox: 0.3443, loss: 0.8912, grad_norm: 2.0317\n",
      "2021-05-10 02:21:15,144 - mmdet - INFO - Epoch [2][400/655]\tlr: 2.000e-02, eta: 0:35:36, time: 0.311, data_time: 0.006, memory: 2098, loss_rpn_cls: 0.0964, loss_rpn_bbox: 0.0721, loss_cls: 0.4135, acc: 88.8486, loss_bbox: 0.3706, loss: 0.9525, grad_norm: 2.0465\n",
      "2021-05-10 02:21:30,548 - mmdet - INFO - Epoch [2][450/655]\tlr: 2.000e-02, eta: 0:35:18, time: 0.308, data_time: 0.006, memory: 2098, loss_rpn_cls: 0.1146, loss_rpn_bbox: 0.0747, loss_cls: 0.4802, acc: 87.0771, loss_bbox: 0.4113, loss: 1.0808, grad_norm: 2.3022\n",
      "2021-05-10 02:21:45,791 - mmdet - INFO - Epoch [2][500/655]\tlr: 2.000e-02, eta: 0:35:00, time: 0.305, data_time: 0.006, memory: 2098, loss_rpn_cls: 0.1078, loss_rpn_bbox: 0.0685, loss_cls: 0.4146, acc: 88.5322, loss_bbox: 0.3637, loss: 0.9545, grad_norm: 2.3141\n",
      "2021-05-10 02:22:01,158 - mmdet - INFO - Epoch [2][550/655]\tlr: 2.000e-02, eta: 0:34:43, time: 0.307, data_time: 0.006, memory: 2098, loss_rpn_cls: 0.1100, loss_rpn_bbox: 0.0752, loss_cls: 0.3924, acc: 89.1953, loss_bbox: 0.3617, loss: 0.9393, grad_norm: 2.0724\n",
      "2021-05-10 02:22:16,630 - mmdet - INFO - Epoch [2][600/655]\tlr: 2.000e-02, eta: 0:34:26, time: 0.309, data_time: 0.006, memory: 2098, loss_rpn_cls: 0.1014, loss_rpn_bbox: 0.0571, loss_cls: 0.3932, acc: 89.1133, loss_bbox: 0.3418, loss: 0.8935, grad_norm: 2.2430\n",
      "2021-05-10 02:22:31,990 - mmdet - INFO - Epoch [2][650/655]\tlr: 2.000e-02, eta: 0:34:09, time: 0.307, data_time: 0.006, memory: 2098, loss_rpn_cls: 0.1165, loss_rpn_bbox: 0.0725, loss_cls: 0.4355, acc: 88.4238, loss_bbox: 0.3685, loss: 0.9930, grad_norm: 2.1350\n",
      "2021-05-10 02:22:33,600 - mmdet - INFO - Saving checkpoint at 2 epochs\n"
     ]
    },
    {
     "name": "stdout",
     "output_type": "stream",
     "text": [
      "[>>>>>>>>>>>>>>>>>>>>>>>>>>>>>] 655/655, 22.6 task/s, elapsed: 29s, ETA:     0s"
     ]
    },
    {
     "name": "stderr",
     "output_type": "stream",
     "text": [
      "2021-05-10 02:23:05,675 - mmdet - INFO - Evaluating bbox...\n"
     ]
    },
    {
     "name": "stdout",
     "output_type": "stream",
     "text": [
      "Loading and preparing results...\n",
      "DONE (t=0.61s)\n",
      "creating index...\n",
      "index created!\n",
      "Running per image evaluation...\n",
      "Evaluate annotation type *bbox*\n",
      "DONE (t=6.77s).\n",
      "Accumulating evaluation results...\n"
     ]
    },
    {
     "name": "stderr",
     "output_type": "stream",
     "text": [
      "2021-05-10 02:23:14,230 - mmdet - INFO - Epoch(val) [2][655]\tbbox_mAP: 0.0640, bbox_mAP_50: 0.1270, bbox_mAP_75: 0.0590, bbox_mAP_s: 0.0120, bbox_mAP_m: 0.0620, bbox_mAP_l: 0.1290, bbox_mAP_copypaste: 0.064 0.127 0.059 0.012 0.062 0.129\n"
     ]
    },
    {
     "name": "stdout",
     "output_type": "stream",
     "text": [
      "DONE (t=1.08s).\n",
      "Average Precision  (AP) @[ IoU=0.50:0.95 | area=   all | maxDets=100 ] = 0.064\n",
      "Average Precision  (AP) @[ IoU=0.50      | area=   all | maxDets=1000 ] = 0.127\n",
      "Average Precision  (AP) @[ IoU=0.75      | area=   all | maxDets=1000 ] = 0.059\n",
      "Average Precision  (AP) @[ IoU=0.50:0.95 | area= small | maxDets=1000 ] = 0.012\n",
      "Average Precision  (AP) @[ IoU=0.50:0.95 | area=medium | maxDets=1000 ] = 0.062\n",
      "Average Precision  (AP) @[ IoU=0.50:0.95 | area= large | maxDets=1000 ] = 0.129\n",
      "Average Recall     (AR) @[ IoU=0.50:0.95 | area=   all | maxDets=100 ] = 0.171\n",
      "Average Recall     (AR) @[ IoU=0.50:0.95 | area=   all | maxDets=300 ] = 0.171\n",
      "Average Recall     (AR) @[ IoU=0.50:0.95 | area=   all | maxDets=1000 ] = 0.171\n",
      "Average Recall     (AR) @[ IoU=0.50:0.95 | area= small | maxDets=1000 ] = 0.049\n",
      "Average Recall     (AR) @[ IoU=0.50:0.95 | area=medium | maxDets=1000 ] = 0.147\n",
      "Average Recall     (AR) @[ IoU=0.50:0.95 | area= large | maxDets=1000 ] = 0.338\n"
     ]
    },
    {
     "name": "stderr",
     "output_type": "stream",
     "text": [
      "2021-05-10 02:23:31,839 - mmdet - INFO - Epoch [3][50/655]\tlr: 2.000e-02, eta: 0:33:54, time: 0.352, data_time: 0.050, memory: 2098, loss_rpn_cls: 0.1014, loss_rpn_bbox: 0.0628, loss_cls: 0.3940, acc: 88.9326, loss_bbox: 0.3616, loss: 0.9197, grad_norm: 2.3133\n",
      "2021-05-10 02:23:47,216 - mmdet - INFO - Epoch [3][100/655]\tlr: 2.000e-02, eta: 0:33:37, time: 0.308, data_time: 0.006, memory: 2098, loss_rpn_cls: 0.0962, loss_rpn_bbox: 0.0655, loss_cls: 0.4055, acc: 88.5898, loss_bbox: 0.3574, loss: 0.9245, grad_norm: 2.2846\n",
      "2021-05-10 02:24:02,713 - mmdet - INFO - Epoch [3][150/655]\tlr: 2.000e-02, eta: 0:33:21, time: 0.310, data_time: 0.006, memory: 2098, loss_rpn_cls: 0.1028, loss_rpn_bbox: 0.0711, loss_cls: 0.4370, acc: 88.0498, loss_bbox: 0.3785, loss: 0.9894, grad_norm: 2.1345\n",
      "2021-05-10 02:24:18,064 - mmdet - INFO - Epoch [3][200/655]\tlr: 2.000e-02, eta: 0:33:04, time: 0.307, data_time: 0.006, memory: 2098, loss_rpn_cls: 0.0875, loss_rpn_bbox: 0.0679, loss_cls: 0.4095, acc: 88.3740, loss_bbox: 0.3724, loss: 0.9373, grad_norm: 2.1199\n",
      "2021-05-10 02:24:33,493 - mmdet - INFO - Epoch [3][250/655]\tlr: 2.000e-02, eta: 0:32:48, time: 0.309, data_time: 0.006, memory: 2098, loss_rpn_cls: 0.0888, loss_rpn_bbox: 0.0624, loss_cls: 0.3745, acc: 89.1689, loss_bbox: 0.3554, loss: 0.8811, grad_norm: 2.2073\n",
      "2021-05-10 02:24:48,906 - mmdet - INFO - Epoch [3][300/655]\tlr: 2.000e-02, eta: 0:32:31, time: 0.308, data_time: 0.006, memory: 2098, loss_rpn_cls: 0.0850, loss_rpn_bbox: 0.0626, loss_cls: 0.3670, acc: 89.5840, loss_bbox: 0.3295, loss: 0.8440, grad_norm: 2.0556\n",
      "2021-05-10 02:25:04,239 - mmdet - INFO - Epoch [3][350/655]\tlr: 2.000e-02, eta: 0:32:14, time: 0.307, data_time: 0.006, memory: 2098, loss_rpn_cls: 0.0852, loss_rpn_bbox: 0.0630, loss_cls: 0.3843, acc: 89.2266, loss_bbox: 0.3424, loss: 0.8749, grad_norm: 1.9938\n",
      "2021-05-10 02:25:19,401 - mmdet - INFO - Epoch [3][400/655]\tlr: 2.000e-02, eta: 0:31:57, time: 0.303, data_time: 0.006, memory: 2098, loss_rpn_cls: 0.0772, loss_rpn_bbox: 0.0579, loss_cls: 0.3993, acc: 89.1064, loss_bbox: 0.3395, loss: 0.8739, grad_norm: 2.1000\n",
      "2021-05-10 02:25:34,575 - mmdet - INFO - Epoch [3][450/655]\tlr: 2.000e-02, eta: 0:31:40, time: 0.303, data_time: 0.006, memory: 2098, loss_rpn_cls: 0.0810, loss_rpn_bbox: 0.0579, loss_cls: 0.3636, acc: 89.9600, loss_bbox: 0.3218, loss: 0.8243, grad_norm: 2.0248\n",
      "2021-05-10 02:25:49,843 - mmdet - INFO - Epoch [3][500/655]\tlr: 2.000e-02, eta: 0:31:24, time: 0.305, data_time: 0.006, memory: 2098, loss_rpn_cls: 0.0885, loss_rpn_bbox: 0.0625, loss_cls: 0.3786, acc: 89.3574, loss_bbox: 0.3385, loss: 0.8681, grad_norm: 2.0172\n",
      "2021-05-10 02:26:05,022 - mmdet - INFO - Epoch [3][550/655]\tlr: 2.000e-02, eta: 0:31:07, time: 0.304, data_time: 0.006, memory: 2098, loss_rpn_cls: 0.0917, loss_rpn_bbox: 0.0631, loss_cls: 0.3959, acc: 89.0840, loss_bbox: 0.3405, loss: 0.8912, grad_norm: 2.0303\n",
      "2021-05-10 02:26:20,289 - mmdet - INFO - Epoch [3][600/655]\tlr: 2.000e-02, eta: 0:30:50, time: 0.305, data_time: 0.006, memory: 2098, loss_rpn_cls: 0.0895, loss_rpn_bbox: 0.0632, loss_cls: 0.3860, acc: 89.3428, loss_bbox: 0.3433, loss: 0.8820, grad_norm: 2.0499\n",
      "2021-05-10 02:26:35,482 - mmdet - INFO - Epoch [3][650/655]\tlr: 2.000e-02, eta: 0:30:34, time: 0.304, data_time: 0.005, memory: 2098, loss_rpn_cls: 0.1014, loss_rpn_bbox: 0.0664, loss_cls: 0.3877, acc: 88.8486, loss_bbox: 0.3620, loss: 0.9174, grad_norm: 2.0945\n",
      "2021-05-10 02:26:37,054 - mmdet - INFO - Saving checkpoint at 3 epochs\n"
     ]
    },
    {
     "name": "stdout",
     "output_type": "stream",
     "text": [
      "[>>>>>>>>>>>>>>>>>>>>>>>>>>>>>] 655/655, 22.9 task/s, elapsed: 29s, ETA:     0s"
     ]
    },
    {
     "name": "stderr",
     "output_type": "stream",
     "text": [
      "2021-05-10 02:27:08,963 - mmdet - INFO - Evaluating bbox...\n"
     ]
    },
    {
     "name": "stdout",
     "output_type": "stream",
     "text": [
      "Loading and preparing results...\n",
      "DONE (t=0.67s)\n",
      "creating index...\n",
      "index created!\n",
      "Running per image evaluation...\n",
      "Evaluate annotation type *bbox*\n",
      "DONE (t=7.47s).\n",
      "Accumulating evaluation results...\n"
     ]
    },
    {
     "name": "stderr",
     "output_type": "stream",
     "text": [
      "2021-05-10 02:27:18,508 - mmdet - INFO - Epoch(val) [3][655]\tbbox_mAP: 0.0700, bbox_mAP_50: 0.1420, bbox_mAP_75: 0.0630, bbox_mAP_s: 0.0150, bbox_mAP_m: 0.0680, bbox_mAP_l: 0.1300, bbox_mAP_copypaste: 0.070 0.142 0.063 0.015 0.068 0.130\n"
     ]
    },
    {
     "name": "stdout",
     "output_type": "stream",
     "text": [
      "DONE (t=1.29s).\n",
      "Average Precision  (AP) @[ IoU=0.50:0.95 | area=   all | maxDets=100 ] = 0.070\n",
      "Average Precision  (AP) @[ IoU=0.50      | area=   all | maxDets=1000 ] = 0.142\n",
      "Average Precision  (AP) @[ IoU=0.75      | area=   all | maxDets=1000 ] = 0.063\n",
      "Average Precision  (AP) @[ IoU=0.50:0.95 | area= small | maxDets=1000 ] = 0.015\n",
      "Average Precision  (AP) @[ IoU=0.50:0.95 | area=medium | maxDets=1000 ] = 0.068\n",
      "Average Precision  (AP) @[ IoU=0.50:0.95 | area= large | maxDets=1000 ] = 0.130\n",
      "Average Recall     (AR) @[ IoU=0.50:0.95 | area=   all | maxDets=100 ] = 0.196\n",
      "Average Recall     (AR) @[ IoU=0.50:0.95 | area=   all | maxDets=300 ] = 0.196\n",
      "Average Recall     (AR) @[ IoU=0.50:0.95 | area=   all | maxDets=1000 ] = 0.196\n",
      "Average Recall     (AR) @[ IoU=0.50:0.95 | area= small | maxDets=1000 ] = 0.075\n",
      "Average Recall     (AR) @[ IoU=0.50:0.95 | area=medium | maxDets=1000 ] = 0.195\n",
      "Average Recall     (AR) @[ IoU=0.50:0.95 | area= large | maxDets=1000 ] = 0.332\n"
     ]
    },
    {
     "name": "stderr",
     "output_type": "stream",
     "text": [
      "2021-05-10 02:27:36,093 - mmdet - INFO - Epoch [4][50/655]\tlr: 2.000e-02, eta: 0:30:18, time: 0.352, data_time: 0.050, memory: 2098, loss_rpn_cls: 0.0804, loss_rpn_bbox: 0.0581, loss_cls: 0.3527, acc: 90.1348, loss_bbox: 0.3094, loss: 0.8006, grad_norm: 2.1210\n",
      "2021-05-10 02:27:51,502 - mmdet - INFO - Epoch [4][100/655]\tlr: 2.000e-02, eta: 0:30:02, time: 0.308, data_time: 0.006, memory: 2098, loss_rpn_cls: 0.0815, loss_rpn_bbox: 0.0626, loss_cls: 0.3822, acc: 89.0166, loss_bbox: 0.3384, loss: 0.8647, grad_norm: 2.1152\n",
      "2021-05-10 02:28:06,915 - mmdet - INFO - Epoch [4][150/655]\tlr: 2.000e-02, eta: 0:29:46, time: 0.308, data_time: 0.006, memory: 2098, loss_rpn_cls: 0.0785, loss_rpn_bbox: 0.0663, loss_cls: 0.3748, acc: 89.2266, loss_bbox: 0.3427, loss: 0.8623, grad_norm: 2.0500\n",
      "2021-05-10 02:28:22,255 - mmdet - INFO - Epoch [4][200/655]\tlr: 2.000e-02, eta: 0:29:30, time: 0.307, data_time: 0.006, memory: 2098, loss_rpn_cls: 0.0628, loss_rpn_bbox: 0.0524, loss_cls: 0.3363, acc: 90.3555, loss_bbox: 0.3037, loss: 0.7553, grad_norm: 1.9427\n",
      "2021-05-10 02:28:37,793 - mmdet - INFO - Epoch [4][250/655]\tlr: 2.000e-02, eta: 0:29:14, time: 0.311, data_time: 0.006, memory: 2098, loss_rpn_cls: 0.0856, loss_rpn_bbox: 0.0619, loss_cls: 0.3792, acc: 89.3691, loss_bbox: 0.3460, loss: 0.8728, grad_norm: 2.2510\n",
      "2021-05-10 02:28:53,343 - mmdet - INFO - Epoch [4][300/655]\tlr: 2.000e-02, eta: 0:28:59, time: 0.311, data_time: 0.006, memory: 2098, loss_rpn_cls: 0.0728, loss_rpn_bbox: 0.0635, loss_cls: 0.3804, acc: 88.9355, loss_bbox: 0.3451, loss: 0.8618, grad_norm: 2.0997\n",
      "2021-05-10 02:29:08,800 - mmdet - INFO - Epoch [4][350/655]\tlr: 2.000e-02, eta: 0:28:43, time: 0.309, data_time: 0.006, memory: 2098, loss_rpn_cls: 0.0935, loss_rpn_bbox: 0.0707, loss_cls: 0.4062, acc: 88.1084, loss_bbox: 0.3756, loss: 0.9460, grad_norm: 2.3038\n",
      "2021-05-10 02:29:24,293 - mmdet - INFO - Epoch [4][400/655]\tlr: 2.000e-02, eta: 0:28:27, time: 0.310, data_time: 0.006, memory: 2098, loss_rpn_cls: 0.0917, loss_rpn_bbox: 0.0635, loss_cls: 0.3928, acc: 88.8682, loss_bbox: 0.3446, loss: 0.8927, grad_norm: 2.1188\n",
      "2021-05-10 02:29:39,692 - mmdet - INFO - Epoch [4][450/655]\tlr: 2.000e-02, eta: 0:28:12, time: 0.308, data_time: 0.006, memory: 2098, loss_rpn_cls: 0.0816, loss_rpn_bbox: 0.0601, loss_cls: 0.3552, acc: 89.7598, loss_bbox: 0.3203, loss: 0.8173, grad_norm: 2.1027\n",
      "2021-05-10 02:29:55,114 - mmdet - INFO - Epoch [4][500/655]\tlr: 2.000e-02, eta: 0:27:56, time: 0.308, data_time: 0.006, memory: 2098, loss_rpn_cls: 0.0875, loss_rpn_bbox: 0.0655, loss_cls: 0.4069, acc: 88.4268, loss_bbox: 0.3561, loss: 0.9161, grad_norm: 2.0951\n",
      "2021-05-10 02:30:10,624 - mmdet - INFO - Epoch [4][550/655]\tlr: 2.000e-02, eta: 0:27:40, time: 0.310, data_time: 0.006, memory: 2098, loss_rpn_cls: 0.0858, loss_rpn_bbox: 0.0643, loss_cls: 0.3892, acc: 89.1963, loss_bbox: 0.3340, loss: 0.8732, grad_norm: 2.0786\n",
      "2021-05-10 02:30:26,000 - mmdet - INFO - Epoch [4][600/655]\tlr: 2.000e-02, eta: 0:27:24, time: 0.308, data_time: 0.006, memory: 2098, loss_rpn_cls: 0.0881, loss_rpn_bbox: 0.0632, loss_cls: 0.3903, acc: 88.9766, loss_bbox: 0.3533, loss: 0.8948, grad_norm: 2.1231\n",
      "2021-05-10 02:30:41,440 - mmdet - INFO - Epoch [4][650/655]\tlr: 2.000e-02, eta: 0:27:09, time: 0.309, data_time: 0.006, memory: 2098, loss_rpn_cls: 0.0669, loss_rpn_bbox: 0.0497, loss_cls: 0.3433, acc: 90.3057, loss_bbox: 0.3132, loss: 0.7730, grad_norm: 2.1027\n",
      "2021-05-10 02:30:43,028 - mmdet - INFO - Saving checkpoint at 4 epochs\n"
     ]
    },
    {
     "name": "stdout",
     "output_type": "stream",
     "text": [
      "[>>>>>>>>>>>>>>>>>>>>>>>>>>>>>] 655/655, 22.9 task/s, elapsed: 29s, ETA:     0s"
     ]
    },
    {
     "name": "stderr",
     "output_type": "stream",
     "text": [
      "2021-05-10 02:31:14,232 - mmdet - INFO - Evaluating bbox...\n"
     ]
    },
    {
     "name": "stdout",
     "output_type": "stream",
     "text": [
      "Loading and preparing results...\n",
      "DONE (t=0.61s)\n",
      "creating index...\n",
      "index created!\n",
      "Running per image evaluation...\n",
      "Evaluate annotation type *bbox*\n",
      "DONE (t=6.00s).\n",
      "Accumulating evaluation results...\n"
     ]
    },
    {
     "name": "stderr",
     "output_type": "stream",
     "text": [
      "2021-05-10 02:31:22,025 - mmdet - INFO - Epoch(val) [4][655]\tbbox_mAP: 0.0850, bbox_mAP_50: 0.1650, bbox_mAP_75: 0.0830, bbox_mAP_s: 0.0230, bbox_mAP_m: 0.0930, bbox_mAP_l: 0.1550, bbox_mAP_copypaste: 0.085 0.165 0.083 0.023 0.093 0.155\n"
     ]
    },
    {
     "name": "stdout",
     "output_type": "stream",
     "text": [
      "DONE (t=1.08s).\n",
      "Average Precision  (AP) @[ IoU=0.50:0.95 | area=   all | maxDets=100 ] = 0.085\n",
      "Average Precision  (AP) @[ IoU=0.50      | area=   all | maxDets=1000 ] = 0.165\n",
      "Average Precision  (AP) @[ IoU=0.75      | area=   all | maxDets=1000 ] = 0.083\n",
      "Average Precision  (AP) @[ IoU=0.50:0.95 | area= small | maxDets=1000 ] = 0.023\n",
      "Average Precision  (AP) @[ IoU=0.50:0.95 | area=medium | maxDets=1000 ] = 0.093\n",
      "Average Precision  (AP) @[ IoU=0.50:0.95 | area= large | maxDets=1000 ] = 0.155\n",
      "Average Recall     (AR) @[ IoU=0.50:0.95 | area=   all | maxDets=100 ] = 0.219\n",
      "Average Recall     (AR) @[ IoU=0.50:0.95 | area=   all | maxDets=300 ] = 0.219\n",
      "Average Recall     (AR) @[ IoU=0.50:0.95 | area=   all | maxDets=1000 ] = 0.219\n",
      "Average Recall     (AR) @[ IoU=0.50:0.95 | area= small | maxDets=1000 ] = 0.063\n",
      "Average Recall     (AR) @[ IoU=0.50:0.95 | area=medium | maxDets=1000 ] = 0.218\n",
      "Average Recall     (AR) @[ IoU=0.50:0.95 | area= large | maxDets=1000 ] = 0.391\n"
     ]
    },
    {
     "name": "stderr",
     "output_type": "stream",
     "text": [
      "2021-05-10 02:31:39,678 - mmdet - INFO - Epoch [5][50/655]\tlr: 2.000e-02, eta: 0:26:53, time: 0.353, data_time: 0.051, memory: 2098, loss_rpn_cls: 0.0677, loss_rpn_bbox: 0.0573, loss_cls: 0.3605, acc: 89.3955, loss_bbox: 0.3299, loss: 0.8154, grad_norm: 2.0896\n",
      "2021-05-10 02:31:55,170 - mmdet - INFO - Epoch [5][100/655]\tlr: 2.000e-02, eta: 0:26:37, time: 0.310, data_time: 0.006, memory: 2098, loss_rpn_cls: 0.0756, loss_rpn_bbox: 0.0610, loss_cls: 0.3771, acc: 89.0283, loss_bbox: 0.3433, loss: 0.8570, grad_norm: 2.2634\n",
      "2021-05-10 02:32:10,629 - mmdet - INFO - Epoch [5][150/655]\tlr: 2.000e-02, eta: 0:26:21, time: 0.309, data_time: 0.006, memory: 2098, loss_rpn_cls: 0.0798, loss_rpn_bbox: 0.0663, loss_cls: 0.3818, acc: 89.2354, loss_bbox: 0.3321, loss: 0.8600, grad_norm: 2.0532\n",
      "2021-05-10 02:32:26,048 - mmdet - INFO - Epoch [5][200/655]\tlr: 2.000e-02, eta: 0:26:06, time: 0.308, data_time: 0.006, memory: 2098, loss_rpn_cls: 0.0598, loss_rpn_bbox: 0.0449, loss_cls: 0.3323, acc: 90.3398, loss_bbox: 0.2968, loss: 0.7337, grad_norm: 2.1069\n",
      "2021-05-10 02:32:41,367 - mmdet - INFO - Epoch [5][250/655]\tlr: 2.000e-02, eta: 0:25:50, time: 0.306, data_time: 0.006, memory: 2098, loss_rpn_cls: 0.0689, loss_rpn_bbox: 0.0585, loss_cls: 0.3253, acc: 90.2812, loss_bbox: 0.3099, loss: 0.7625, grad_norm: 2.1208\n",
      "2021-05-10 02:32:56,614 - mmdet - INFO - Epoch [5][300/655]\tlr: 2.000e-02, eta: 0:25:34, time: 0.305, data_time: 0.006, memory: 2098, loss_rpn_cls: 0.0761, loss_rpn_bbox: 0.0565, loss_cls: 0.3545, acc: 89.9033, loss_bbox: 0.3184, loss: 0.8055, grad_norm: 2.2949\n",
      "2021-05-10 02:33:12,024 - mmdet - INFO - Epoch [5][350/655]\tlr: 2.000e-02, eta: 0:25:18, time: 0.308, data_time: 0.006, memory: 2098, loss_rpn_cls: 0.0828, loss_rpn_bbox: 0.0614, loss_cls: 0.4004, acc: 88.7832, loss_bbox: 0.3558, loss: 0.9003, grad_norm: 2.3753\n",
      "2021-05-10 02:33:27,356 - mmdet - INFO - Epoch [5][400/655]\tlr: 2.000e-02, eta: 0:25:02, time: 0.307, data_time: 0.006, memory: 2098, loss_rpn_cls: 0.0773, loss_rpn_bbox: 0.0523, loss_cls: 0.3499, acc: 89.9863, loss_bbox: 0.2988, loss: 0.7784, grad_norm: 2.1176\n",
      "2021-05-10 02:33:42,761 - mmdet - INFO - Epoch [5][450/655]\tlr: 2.000e-02, eta: 0:24:46, time: 0.308, data_time: 0.006, memory: 2098, loss_rpn_cls: 0.0752, loss_rpn_bbox: 0.0732, loss_cls: 0.3894, acc: 88.4697, loss_bbox: 0.3760, loss: 0.9137, grad_norm: 2.1981\n",
      "2021-05-10 02:33:58,091 - mmdet - INFO - Epoch [5][500/655]\tlr: 2.000e-02, eta: 0:24:31, time: 0.307, data_time: 0.006, memory: 2098, loss_rpn_cls: 0.0651, loss_rpn_bbox: 0.0453, loss_cls: 0.3448, acc: 90.0762, loss_bbox: 0.2987, loss: 0.7539, grad_norm: 2.0727\n",
      "2021-05-10 02:34:13,492 - mmdet - INFO - Epoch [5][550/655]\tlr: 2.000e-02, eta: 0:24:15, time: 0.308, data_time: 0.006, memory: 2098, loss_rpn_cls: 0.0785, loss_rpn_bbox: 0.0616, loss_cls: 0.3466, acc: 89.7939, loss_bbox: 0.3059, loss: 0.7926, grad_norm: 2.0956\n",
      "2021-05-10 02:34:28,868 - mmdet - INFO - Epoch [5][600/655]\tlr: 2.000e-02, eta: 0:23:59, time: 0.308, data_time: 0.006, memory: 2098, loss_rpn_cls: 0.0783, loss_rpn_bbox: 0.0624, loss_cls: 0.3730, acc: 89.1865, loss_bbox: 0.3499, loss: 0.8636, grad_norm: 2.1178\n",
      "2021-05-10 02:34:44,255 - mmdet - INFO - Epoch [5][650/655]\tlr: 2.000e-02, eta: 0:23:43, time: 0.308, data_time: 0.006, memory: 2098, loss_rpn_cls: 0.0751, loss_rpn_bbox: 0.0604, loss_cls: 0.3772, acc: 89.2861, loss_bbox: 0.3329, loss: 0.8457, grad_norm: 2.0958\n",
      "2021-05-10 02:34:45,820 - mmdet - INFO - Saving checkpoint at 5 epochs\n"
     ]
    },
    {
     "name": "stdout",
     "output_type": "stream",
     "text": [
      "[>>>>>>>>>>>>>>>>>>>>>>>>>>>>>] 655/655, 22.8 task/s, elapsed: 29s, ETA:     0s"
     ]
    },
    {
     "name": "stderr",
     "output_type": "stream",
     "text": [
      "2021-05-10 02:35:17,541 - mmdet - INFO - Evaluating bbox...\n"
     ]
    },
    {
     "name": "stdout",
     "output_type": "stream",
     "text": [
      "Loading and preparing results...\n",
      "DONE (t=0.58s)\n",
      "creating index...\n",
      "index created!\n",
      "Running per image evaluation...\n",
      "Evaluate annotation type *bbox*\n",
      "DONE (t=5.79s).\n",
      "Accumulating evaluation results...\n"
     ]
    },
    {
     "name": "stderr",
     "output_type": "stream",
     "text": [
      "2021-05-10 02:35:24,917 - mmdet - INFO - Epoch(val) [5][655]\tbbox_mAP: 0.0940, bbox_mAP_50: 0.1790, bbox_mAP_75: 0.0910, bbox_mAP_s: 0.0250, bbox_mAP_m: 0.0960, bbox_mAP_l: 0.1750, bbox_mAP_copypaste: 0.094 0.179 0.091 0.025 0.096 0.175\n"
     ]
    },
    {
     "name": "stdout",
     "output_type": "stream",
     "text": [
      "DONE (t=0.92s).\n",
      "Average Precision  (AP) @[ IoU=0.50:0.95 | area=   all | maxDets=100 ] = 0.094\n",
      "Average Precision  (AP) @[ IoU=0.50      | area=   all | maxDets=1000 ] = 0.179\n",
      "Average Precision  (AP) @[ IoU=0.75      | area=   all | maxDets=1000 ] = 0.091\n",
      "Average Precision  (AP) @[ IoU=0.50:0.95 | area= small | maxDets=1000 ] = 0.025\n",
      "Average Precision  (AP) @[ IoU=0.50:0.95 | area=medium | maxDets=1000 ] = 0.096\n",
      "Average Precision  (AP) @[ IoU=0.50:0.95 | area= large | maxDets=1000 ] = 0.175\n",
      "Average Recall     (AR) @[ IoU=0.50:0.95 | area=   all | maxDets=100 ] = 0.224\n",
      "Average Recall     (AR) @[ IoU=0.50:0.95 | area=   all | maxDets=300 ] = 0.224\n",
      "Average Recall     (AR) @[ IoU=0.50:0.95 | area=   all | maxDets=1000 ] = 0.224\n",
      "Average Recall     (AR) @[ IoU=0.50:0.95 | area= small | maxDets=1000 ] = 0.067\n",
      "Average Recall     (AR) @[ IoU=0.50:0.95 | area=medium | maxDets=1000 ] = 0.218\n",
      "Average Recall     (AR) @[ IoU=0.50:0.95 | area= large | maxDets=1000 ] = 0.408\n"
     ]
    },
    {
     "name": "stderr",
     "output_type": "stream",
     "text": [
      "2021-05-10 02:35:42,567 - mmdet - INFO - Epoch [6][50/655]\tlr: 2.000e-02, eta: 0:23:27, time: 0.353, data_time: 0.051, memory: 2098, loss_rpn_cls: 0.0558, loss_rpn_bbox: 0.0468, loss_cls: 0.3140, acc: 90.5342, loss_bbox: 0.2980, loss: 0.7146, grad_norm: 2.0846\n",
      "2021-05-10 02:35:57,841 - mmdet - INFO - Epoch [6][100/655]\tlr: 2.000e-02, eta: 0:23:11, time: 0.305, data_time: 0.006, memory: 2098, loss_rpn_cls: 0.0621, loss_rpn_bbox: 0.0503, loss_cls: 0.3455, acc: 89.7725, loss_bbox: 0.3170, loss: 0.7748, grad_norm: 2.1374\n",
      "2021-05-10 02:36:12,966 - mmdet - INFO - Epoch [6][150/655]\tlr: 2.000e-02, eta: 0:22:55, time: 0.303, data_time: 0.006, memory: 2098, loss_rpn_cls: 0.0663, loss_rpn_bbox: 0.0546, loss_cls: 0.3619, acc: 89.6816, loss_bbox: 0.3192, loss: 0.8021, grad_norm: 2.1998\n",
      "2021-05-10 02:36:28,098 - mmdet - INFO - Epoch [6][200/655]\tlr: 2.000e-02, eta: 0:22:39, time: 0.303, data_time: 0.006, memory: 2098, loss_rpn_cls: 0.0568, loss_rpn_bbox: 0.0593, loss_cls: 0.3634, acc: 89.3262, loss_bbox: 0.3272, loss: 0.8066, grad_norm: 2.1030\n",
      "2021-05-10 02:36:43,293 - mmdet - INFO - Epoch [6][250/655]\tlr: 2.000e-02, eta: 0:22:23, time: 0.304, data_time: 0.006, memory: 2098, loss_rpn_cls: 0.0631, loss_rpn_bbox: 0.0580, loss_cls: 0.3667, acc: 89.1660, loss_bbox: 0.3280, loss: 0.8158, grad_norm: 2.1924\n",
      "2021-05-10 02:36:58,561 - mmdet - INFO - Epoch [6][300/655]\tlr: 2.000e-02, eta: 0:22:08, time: 0.305, data_time: 0.006, memory: 2098, loss_rpn_cls: 0.0572, loss_rpn_bbox: 0.0528, loss_cls: 0.3471, acc: 89.8516, loss_bbox: 0.3112, loss: 0.7684, grad_norm: 2.2270\n",
      "2021-05-10 02:37:13,886 - mmdet - INFO - Epoch [6][350/655]\tlr: 2.000e-02, eta: 0:21:52, time: 0.306, data_time: 0.006, memory: 2098, loss_rpn_cls: 0.0668, loss_rpn_bbox: 0.0652, loss_cls: 0.3443, acc: 89.5117, loss_bbox: 0.3442, loss: 0.8206, grad_norm: 2.1444\n",
      "2021-05-10 02:37:29,035 - mmdet - INFO - Epoch [6][400/655]\tlr: 2.000e-02, eta: 0:21:36, time: 0.303, data_time: 0.006, memory: 2098, loss_rpn_cls: 0.0681, loss_rpn_bbox: 0.0677, loss_cls: 0.3645, acc: 89.1787, loss_bbox: 0.3312, loss: 0.8315, grad_norm: 2.2205\n",
      "2021-05-10 02:37:44,175 - mmdet - INFO - Epoch [6][450/655]\tlr: 2.000e-02, eta: 0:21:20, time: 0.303, data_time: 0.006, memory: 2098, loss_rpn_cls: 0.0612, loss_rpn_bbox: 0.0517, loss_cls: 0.3189, acc: 90.5596, loss_bbox: 0.2840, loss: 0.7157, grad_norm: 2.0092\n",
      "2021-05-10 02:37:59,419 - mmdet - INFO - Epoch [6][500/655]\tlr: 2.000e-02, eta: 0:21:04, time: 0.305, data_time: 0.006, memory: 2098, loss_rpn_cls: 0.0857, loss_rpn_bbox: 0.0702, loss_cls: 0.3771, acc: 89.0498, loss_bbox: 0.3480, loss: 0.8810, grad_norm: 2.3353\n",
      "2021-05-10 02:38:14,492 - mmdet - INFO - Epoch [6][550/655]\tlr: 2.000e-02, eta: 0:20:49, time: 0.301, data_time: 0.006, memory: 2098, loss_rpn_cls: 0.0581, loss_rpn_bbox: 0.0474, loss_cls: 0.3233, acc: 90.5459, loss_bbox: 0.2966, loss: 0.7254, grad_norm: 2.0236\n",
      "2021-05-10 02:38:29,868 - mmdet - INFO - Epoch [6][600/655]\tlr: 2.000e-02, eta: 0:20:33, time: 0.308, data_time: 0.006, memory: 2098, loss_rpn_cls: 0.0689, loss_rpn_bbox: 0.0535, loss_cls: 0.3481, acc: 89.8906, loss_bbox: 0.3031, loss: 0.7736, grad_norm: 2.1978\n",
      "2021-05-10 02:38:45,327 - mmdet - INFO - Epoch [6][650/655]\tlr: 2.000e-02, eta: 0:20:17, time: 0.309, data_time: 0.006, memory: 2098, loss_rpn_cls: 0.0696, loss_rpn_bbox: 0.0634, loss_cls: 0.3731, acc: 89.2871, loss_bbox: 0.3367, loss: 0.8428, grad_norm: 2.2803\n",
      "2021-05-10 02:38:46,942 - mmdet - INFO - Saving checkpoint at 6 epochs\n"
     ]
    },
    {
     "name": "stdout",
     "output_type": "stream",
     "text": [
      "[>>>>>>>>>>>>>>>>>>>>>>>>>>>>>] 655/655, 22.7 task/s, elapsed: 29s, ETA:     0s"
     ]
    },
    {
     "name": "stderr",
     "output_type": "stream",
     "text": [
      "2021-05-10 02:39:18,974 - mmdet - INFO - Evaluating bbox...\n"
     ]
    },
    {
     "name": "stdout",
     "output_type": "stream",
     "text": [
      "Loading and preparing results...\n",
      "DONE (t=0.60s)\n",
      "creating index...\n",
      "index created!\n",
      "Running per image evaluation...\n",
      "Evaluate annotation type *bbox*\n",
      "DONE (t=5.97s).\n",
      "Accumulating evaluation results...\n"
     ]
    },
    {
     "name": "stderr",
     "output_type": "stream",
     "text": [
      "2021-05-10 02:39:26,770 - mmdet - INFO - Epoch(val) [6][655]\tbbox_mAP: 0.0960, bbox_mAP_50: 0.1780, bbox_mAP_75: 0.0960, bbox_mAP_s: 0.0260, bbox_mAP_m: 0.0990, bbox_mAP_l: 0.1800, bbox_mAP_copypaste: 0.096 0.178 0.096 0.026 0.099 0.180\n"
     ]
    },
    {
     "name": "stdout",
     "output_type": "stream",
     "text": [
      "DONE (t=1.12s).\n",
      "Average Precision  (AP) @[ IoU=0.50:0.95 | area=   all | maxDets=100 ] = 0.096\n",
      "Average Precision  (AP) @[ IoU=0.50      | area=   all | maxDets=1000 ] = 0.178\n",
      "Average Precision  (AP) @[ IoU=0.75      | area=   all | maxDets=1000 ] = 0.096\n",
      "Average Precision  (AP) @[ IoU=0.50:0.95 | area= small | maxDets=1000 ] = 0.026\n",
      "Average Precision  (AP) @[ IoU=0.50:0.95 | area=medium | maxDets=1000 ] = 0.099\n",
      "Average Precision  (AP) @[ IoU=0.50:0.95 | area= large | maxDets=1000 ] = 0.180\n",
      "Average Recall     (AR) @[ IoU=0.50:0.95 | area=   all | maxDets=100 ] = 0.249\n",
      "Average Recall     (AR) @[ IoU=0.50:0.95 | area=   all | maxDets=300 ] = 0.249\n",
      "Average Recall     (AR) @[ IoU=0.50:0.95 | area=   all | maxDets=1000 ] = 0.249\n",
      "Average Recall     (AR) @[ IoU=0.50:0.95 | area= small | maxDets=1000 ] = 0.082\n",
      "Average Recall     (AR) @[ IoU=0.50:0.95 | area=medium | maxDets=1000 ] = 0.242\n",
      "Average Recall     (AR) @[ IoU=0.50:0.95 | area= large | maxDets=1000 ] = 0.427\n"
     ]
    },
    {
     "name": "stderr",
     "output_type": "stream",
     "text": [
      "2021-05-10 02:39:44,321 - mmdet - INFO - Epoch [7][50/655]\tlr: 2.000e-02, eta: 0:20:01, time: 0.351, data_time: 0.050, memory: 2098, loss_rpn_cls: 0.0563, loss_rpn_bbox: 0.0537, loss_cls: 0.3358, acc: 89.8574, loss_bbox: 0.3100, loss: 0.7558, grad_norm: 2.1020\n",
      "2021-05-10 02:39:59,377 - mmdet - INFO - Epoch [7][100/655]\tlr: 2.000e-02, eta: 0:19:45, time: 0.301, data_time: 0.006, memory: 2098, loss_rpn_cls: 0.0533, loss_rpn_bbox: 0.0471, loss_cls: 0.3102, acc: 90.6006, loss_bbox: 0.2852, loss: 0.6959, grad_norm: 2.1960\n",
      "2021-05-10 02:40:14,635 - mmdet - INFO - Epoch [7][150/655]\tlr: 2.000e-02, eta: 0:19:29, time: 0.305, data_time: 0.006, memory: 2098, loss_rpn_cls: 0.0543, loss_rpn_bbox: 0.0485, loss_cls: 0.3311, acc: 90.0811, loss_bbox: 0.3037, loss: 0.7377, grad_norm: 2.2198\n",
      "2021-05-10 02:40:29,898 - mmdet - INFO - Epoch [7][200/655]\tlr: 2.000e-02, eta: 0:19:14, time: 0.305, data_time: 0.006, memory: 2098, loss_rpn_cls: 0.0569, loss_rpn_bbox: 0.0571, loss_cls: 0.3311, acc: 90.2100, loss_bbox: 0.3032, loss: 0.7483, grad_norm: 2.0546\n",
      "2021-05-10 02:40:45,206 - mmdet - INFO - Epoch [7][250/655]\tlr: 2.000e-02, eta: 0:18:58, time: 0.306, data_time: 0.006, memory: 2098, loss_rpn_cls: 0.0584, loss_rpn_bbox: 0.0616, loss_cls: 0.3508, acc: 89.3975, loss_bbox: 0.3356, loss: 0.8064, grad_norm: 2.1561\n",
      "2021-05-10 02:41:00,740 - mmdet - INFO - Epoch [7][300/655]\tlr: 2.000e-02, eta: 0:18:43, time: 0.311, data_time: 0.006, memory: 2098, loss_rpn_cls: 0.0633, loss_rpn_bbox: 0.0618, loss_cls: 0.3418, acc: 89.6582, loss_bbox: 0.3326, loss: 0.7996, grad_norm: 2.1819\n",
      "2021-05-10 02:41:16,062 - mmdet - INFO - Epoch [7][350/655]\tlr: 2.000e-02, eta: 0:18:27, time: 0.306, data_time: 0.006, memory: 2098, loss_rpn_cls: 0.0547, loss_rpn_bbox: 0.0567, loss_cls: 0.3212, acc: 90.1221, loss_bbox: 0.3088, loss: 0.7414, grad_norm: 2.1925\n",
      "2021-05-10 02:41:31,372 - mmdet - INFO - Epoch [7][400/655]\tlr: 2.000e-02, eta: 0:18:11, time: 0.306, data_time: 0.006, memory: 2098, loss_rpn_cls: 0.0546, loss_rpn_bbox: 0.0533, loss_cls: 0.3366, acc: 89.9541, loss_bbox: 0.3261, loss: 0.7705, grad_norm: 2.2281\n",
      "2021-05-10 02:41:46,500 - mmdet - INFO - Epoch [7][450/655]\tlr: 2.000e-02, eta: 0:17:56, time: 0.303, data_time: 0.006, memory: 2098, loss_rpn_cls: 0.0650, loss_rpn_bbox: 0.0480, loss_cls: 0.2998, acc: 91.1455, loss_bbox: 0.2806, loss: 0.6934, grad_norm: 2.1387\n",
      "2021-05-10 02:42:01,823 - mmdet - INFO - Epoch [7][500/655]\tlr: 2.000e-02, eta: 0:17:40, time: 0.306, data_time: 0.006, memory: 2098, loss_rpn_cls: 0.0610, loss_rpn_bbox: 0.0568, loss_cls: 0.3284, acc: 90.0928, loss_bbox: 0.3051, loss: 0.7513, grad_norm: 2.2599\n",
      "2021-05-10 02:42:17,154 - mmdet - INFO - Epoch [7][550/655]\tlr: 2.000e-02, eta: 0:17:25, time: 0.307, data_time: 0.006, memory: 2098, loss_rpn_cls: 0.0681, loss_rpn_bbox: 0.0643, loss_cls: 0.3629, acc: 89.3906, loss_bbox: 0.3423, loss: 0.8376, grad_norm: 2.3458\n",
      "2021-05-10 02:42:32,487 - mmdet - INFO - Epoch [7][600/655]\tlr: 2.000e-02, eta: 0:17:09, time: 0.307, data_time: 0.006, memory: 2098, loss_rpn_cls: 0.0583, loss_rpn_bbox: 0.0566, loss_cls: 0.3353, acc: 90.1201, loss_bbox: 0.3060, loss: 0.7563, grad_norm: 2.2230\n",
      "2021-05-10 02:42:47,754 - mmdet - INFO - Epoch [7][650/655]\tlr: 2.000e-02, eta: 0:16:53, time: 0.305, data_time: 0.006, memory: 2098, loss_rpn_cls: 0.0589, loss_rpn_bbox: 0.0541, loss_cls: 0.3240, acc: 90.5664, loss_bbox: 0.3052, loss: 0.7423, grad_norm: 2.1160\n",
      "2021-05-10 02:42:49,357 - mmdet - INFO - Saving checkpoint at 7 epochs\n"
     ]
    },
    {
     "name": "stdout",
     "output_type": "stream",
     "text": [
      "[>>>>>>>>>>>>>>>>>>>>>>>>>>>>>] 655/655, 22.8 task/s, elapsed: 29s, ETA:     0s"
     ]
    },
    {
     "name": "stderr",
     "output_type": "stream",
     "text": [
      "2021-05-10 02:43:20,710 - mmdet - INFO - Evaluating bbox...\n"
     ]
    },
    {
     "name": "stdout",
     "output_type": "stream",
     "text": [
      "Loading and preparing results...\n",
      "DONE (t=1.01s)\n",
      "creating index...\n",
      "index created!\n",
      "Running per image evaluation...\n",
      "Evaluate annotation type *bbox*\n",
      "DONE (t=5.86s).\n",
      "Accumulating evaluation results...\n"
     ]
    },
    {
     "name": "stderr",
     "output_type": "stream",
     "text": [
      "2021-05-10 02:43:28,624 - mmdet - INFO - Epoch(val) [7][655]\tbbox_mAP: 0.1190, bbox_mAP_50: 0.2180, bbox_mAP_75: 0.1210, bbox_mAP_s: 0.0260, bbox_mAP_m: 0.1080, bbox_mAP_l: 0.2470, bbox_mAP_copypaste: 0.119 0.218 0.121 0.026 0.108 0.247\n"
     ]
    },
    {
     "name": "stdout",
     "output_type": "stream",
     "text": [
      "DONE (t=0.95s).\n",
      "Average Precision  (AP) @[ IoU=0.50:0.95 | area=   all | maxDets=100 ] = 0.119\n",
      "Average Precision  (AP) @[ IoU=0.50      | area=   all | maxDets=1000 ] = 0.218\n",
      "Average Precision  (AP) @[ IoU=0.75      | area=   all | maxDets=1000 ] = 0.121\n",
      "Average Precision  (AP) @[ IoU=0.50:0.95 | area= small | maxDets=1000 ] = 0.026\n",
      "Average Precision  (AP) @[ IoU=0.50:0.95 | area=medium | maxDets=1000 ] = 0.108\n",
      "Average Precision  (AP) @[ IoU=0.50:0.95 | area= large | maxDets=1000 ] = 0.247\n",
      "Average Recall     (AR) @[ IoU=0.50:0.95 | area=   all | maxDets=100 ] = 0.253\n",
      "Average Recall     (AR) @[ IoU=0.50:0.95 | area=   all | maxDets=300 ] = 0.253\n",
      "Average Recall     (AR) @[ IoU=0.50:0.95 | area=   all | maxDets=1000 ] = 0.253\n",
      "Average Recall     (AR) @[ IoU=0.50:0.95 | area= small | maxDets=1000 ] = 0.083\n",
      "Average Recall     (AR) @[ IoU=0.50:0.95 | area=medium | maxDets=1000 ] = 0.239\n",
      "Average Recall     (AR) @[ IoU=0.50:0.95 | area= large | maxDets=1000 ] = 0.461\n"
     ]
    },
    {
     "name": "stderr",
     "output_type": "stream",
     "text": [
      "2021-05-10 02:43:46,328 - mmdet - INFO - Epoch [8][50/655]\tlr: 2.000e-02, eta: 0:16:37, time: 0.354, data_time: 0.051, memory: 2098, loss_rpn_cls: 0.0475, loss_rpn_bbox: 0.0472, loss_cls: 0.3174, acc: 90.4414, loss_bbox: 0.2860, loss: 0.6981, grad_norm: 2.2205\n",
      "2021-05-10 02:44:01,744 - mmdet - INFO - Epoch [8][100/655]\tlr: 2.000e-02, eta: 0:16:21, time: 0.308, data_time: 0.006, memory: 2098, loss_rpn_cls: 0.0573, loss_rpn_bbox: 0.0596, loss_cls: 0.3179, acc: 90.3535, loss_bbox: 0.3117, loss: 0.7465, grad_norm: 2.1919\n",
      "2021-05-10 02:44:17,181 - mmdet - INFO - Epoch [8][150/655]\tlr: 2.000e-02, eta: 0:16:06, time: 0.309, data_time: 0.006, memory: 2098, loss_rpn_cls: 0.0600, loss_rpn_bbox: 0.0616, loss_cls: 0.3447, acc: 89.4570, loss_bbox: 0.3338, loss: 0.8001, grad_norm: 2.2149\n",
      "2021-05-10 02:44:32,593 - mmdet - INFO - Epoch [8][200/655]\tlr: 2.000e-02, eta: 0:15:50, time: 0.308, data_time: 0.006, memory: 2098, loss_rpn_cls: 0.0499, loss_rpn_bbox: 0.0537, loss_cls: 0.3151, acc: 90.3750, loss_bbox: 0.3101, loss: 0.7288, grad_norm: 2.1668\n",
      "2021-05-10 02:44:47,918 - mmdet - INFO - Epoch [8][250/655]\tlr: 2.000e-02, eta: 0:15:35, time: 0.306, data_time: 0.006, memory: 2098, loss_rpn_cls: 0.0548, loss_rpn_bbox: 0.0556, loss_cls: 0.3202, acc: 90.3594, loss_bbox: 0.2943, loss: 0.7249, grad_norm: 2.2266\n",
      "2021-05-10 02:45:03,177 - mmdet - INFO - Epoch [8][300/655]\tlr: 2.000e-02, eta: 0:15:19, time: 0.305, data_time: 0.006, memory: 2098, loss_rpn_cls: 0.0472, loss_rpn_bbox: 0.0497, loss_cls: 0.3082, acc: 90.6426, loss_bbox: 0.2921, loss: 0.6972, grad_norm: 2.1947\n",
      "2021-05-10 02:45:18,432 - mmdet - INFO - Epoch [8][350/655]\tlr: 2.000e-02, eta: 0:15:04, time: 0.305, data_time: 0.006, memory: 2098, loss_rpn_cls: 0.0535, loss_rpn_bbox: 0.0510, loss_cls: 0.3374, acc: 89.5977, loss_bbox: 0.3196, loss: 0.7615, grad_norm: 2.3289\n",
      "2021-05-10 02:45:33,834 - mmdet - INFO - Epoch [8][400/655]\tlr: 2.000e-02, eta: 0:14:48, time: 0.308, data_time: 0.006, memory: 2098, loss_rpn_cls: 0.0604, loss_rpn_bbox: 0.0586, loss_cls: 0.3359, acc: 89.9805, loss_bbox: 0.3284, loss: 0.7833, grad_norm: 2.2213\n",
      "2021-05-10 02:45:48,985 - mmdet - INFO - Epoch [8][450/655]\tlr: 2.000e-02, eta: 0:14:33, time: 0.303, data_time: 0.006, memory: 2098, loss_rpn_cls: 0.0492, loss_rpn_bbox: 0.0470, loss_cls: 0.3042, acc: 90.7852, loss_bbox: 0.2853, loss: 0.6857, grad_norm: 2.1016\n",
      "2021-05-10 02:46:04,325 - mmdet - INFO - Epoch [8][500/655]\tlr: 2.000e-02, eta: 0:14:17, time: 0.307, data_time: 0.006, memory: 2098, loss_rpn_cls: 0.0548, loss_rpn_bbox: 0.0543, loss_cls: 0.3331, acc: 90.1143, loss_bbox: 0.3000, loss: 0.7422, grad_norm: 2.2860\n",
      "2021-05-10 02:46:19,586 - mmdet - INFO - Epoch [8][550/655]\tlr: 2.000e-02, eta: 0:14:02, time: 0.305, data_time: 0.006, memory: 2098, loss_rpn_cls: 0.0556, loss_rpn_bbox: 0.0519, loss_cls: 0.3147, acc: 90.3164, loss_bbox: 0.3000, loss: 0.7223, grad_norm: 2.3312\n",
      "2021-05-10 02:46:34,862 - mmdet - INFO - Epoch [8][600/655]\tlr: 2.000e-02, eta: 0:13:46, time: 0.306, data_time: 0.006, memory: 2098, loss_rpn_cls: 0.0563, loss_rpn_bbox: 0.0626, loss_cls: 0.3490, acc: 89.3975, loss_bbox: 0.3278, loss: 0.7957, grad_norm: 2.3424\n",
      "2021-05-10 02:46:50,255 - mmdet - INFO - Epoch [8][650/655]\tlr: 2.000e-02, eta: 0:13:31, time: 0.308, data_time: 0.006, memory: 2098, loss_rpn_cls: 0.0481, loss_rpn_bbox: 0.0518, loss_cls: 0.3071, acc: 90.7666, loss_bbox: 0.2872, loss: 0.6943, grad_norm: 2.2689\n",
      "2021-05-10 02:46:51,843 - mmdet - INFO - Saving checkpoint at 8 epochs\n"
     ]
    },
    {
     "name": "stdout",
     "output_type": "stream",
     "text": [
      "[>>>>>>>>>>>>>>>>>>>>>>>>>>>>>] 655/655, 22.3 task/s, elapsed: 29s, ETA:     0s"
     ]
    },
    {
     "name": "stderr",
     "output_type": "stream",
     "text": [
      "2021-05-10 02:47:24,198 - mmdet - INFO - Evaluating bbox...\n"
     ]
    },
    {
     "name": "stdout",
     "output_type": "stream",
     "text": [
      "Loading and preparing results...\n",
      "DONE (t=0.58s)\n",
      "creating index...\n",
      "index created!\n",
      "Running per image evaluation...\n",
      "Evaluate annotation type *bbox*\n",
      "DONE (t=6.07s).\n",
      "Accumulating evaluation results...\n"
     ]
    },
    {
     "name": "stderr",
     "output_type": "stream",
     "text": [
      "2021-05-10 02:47:31,824 - mmdet - INFO - Epoch(val) [8][655]\tbbox_mAP: 0.1070, bbox_mAP_50: 0.1950, bbox_mAP_75: 0.1070, bbox_mAP_s: 0.0210, bbox_mAP_m: 0.1050, bbox_mAP_l: 0.2060, bbox_mAP_copypaste: 0.107 0.195 0.107 0.021 0.105 0.206\n"
     ]
    },
    {
     "name": "stdout",
     "output_type": "stream",
     "text": [
      "DONE (t=0.90s).\n",
      "Average Precision  (AP) @[ IoU=0.50:0.95 | area=   all | maxDets=100 ] = 0.107\n",
      "Average Precision  (AP) @[ IoU=0.50      | area=   all | maxDets=1000 ] = 0.195\n",
      "Average Precision  (AP) @[ IoU=0.75      | area=   all | maxDets=1000 ] = 0.107\n",
      "Average Precision  (AP) @[ IoU=0.50:0.95 | area= small | maxDets=1000 ] = 0.021\n",
      "Average Precision  (AP) @[ IoU=0.50:0.95 | area=medium | maxDets=1000 ] = 0.105\n",
      "Average Precision  (AP) @[ IoU=0.50:0.95 | area= large | maxDets=1000 ] = 0.206\n",
      "Average Recall     (AR) @[ IoU=0.50:0.95 | area=   all | maxDets=100 ] = 0.225\n",
      "Average Recall     (AR) @[ IoU=0.50:0.95 | area=   all | maxDets=300 ] = 0.225\n",
      "Average Recall     (AR) @[ IoU=0.50:0.95 | area=   all | maxDets=1000 ] = 0.225\n",
      "Average Recall     (AR) @[ IoU=0.50:0.95 | area= small | maxDets=1000 ] = 0.070\n",
      "Average Recall     (AR) @[ IoU=0.50:0.95 | area=medium | maxDets=1000 ] = 0.212\n",
      "Average Recall     (AR) @[ IoU=0.50:0.95 | area= large | maxDets=1000 ] = 0.396\n"
     ]
    },
    {
     "name": "stderr",
     "output_type": "stream",
     "text": [
      "2021-05-10 02:47:49,387 - mmdet - INFO - Epoch [9][50/655]\tlr: 2.000e-03, eta: 0:13:14, time: 0.351, data_time: 0.050, memory: 2098, loss_rpn_cls: 0.0425, loss_rpn_bbox: 0.0492, loss_cls: 0.3071, acc: 90.6758, loss_bbox: 0.2970, loss: 0.6959, grad_norm: 1.9999\n",
      "2021-05-10 02:48:04,704 - mmdet - INFO - Epoch [9][100/655]\tlr: 2.000e-03, eta: 0:12:58, time: 0.306, data_time: 0.006, memory: 2098, loss_rpn_cls: 0.0358, loss_rpn_bbox: 0.0424, loss_cls: 0.2609, acc: 91.7139, loss_bbox: 0.2680, loss: 0.6071, grad_norm: 1.9020\n",
      "2021-05-10 02:48:19,980 - mmdet - INFO - Epoch [9][150/655]\tlr: 2.000e-03, eta: 0:12:43, time: 0.306, data_time: 0.006, memory: 2098, loss_rpn_cls: 0.0423, loss_rpn_bbox: 0.0505, loss_cls: 0.2889, acc: 90.7793, loss_bbox: 0.2994, loss: 0.6812, grad_norm: 2.0383\n",
      "2021-05-10 02:48:35,188 - mmdet - INFO - Epoch [9][200/655]\tlr: 2.000e-03, eta: 0:12:27, time: 0.304, data_time: 0.006, memory: 2098, loss_rpn_cls: 0.0371, loss_rpn_bbox: 0.0412, loss_cls: 0.2616, acc: 91.7354, loss_bbox: 0.2678, loss: 0.6077, grad_norm: 1.9028\n",
      "2021-05-10 02:48:50,494 - mmdet - INFO - Epoch [9][250/655]\tlr: 2.000e-03, eta: 0:12:12, time: 0.306, data_time: 0.006, memory: 2098, loss_rpn_cls: 0.0336, loss_rpn_bbox: 0.0451, loss_cls: 0.2727, acc: 91.3828, loss_bbox: 0.2797, loss: 0.6311, grad_norm: 1.9333\n",
      "2021-05-10 02:49:05,780 - mmdet - INFO - Epoch [9][300/655]\tlr: 2.000e-03, eta: 0:11:56, time: 0.306, data_time: 0.006, memory: 2098, loss_rpn_cls: 0.0348, loss_rpn_bbox: 0.0459, loss_cls: 0.2667, acc: 91.6387, loss_bbox: 0.2830, loss: 0.6304, grad_norm: 1.9122\n",
      "2021-05-10 02:49:20,994 - mmdet - INFO - Epoch [9][350/655]\tlr: 2.000e-03, eta: 0:11:41, time: 0.304, data_time: 0.006, memory: 2098, loss_rpn_cls: 0.0350, loss_rpn_bbox: 0.0448, loss_cls: 0.2823, acc: 90.9316, loss_bbox: 0.2893, loss: 0.6514, grad_norm: 2.0150\n",
      "2021-05-10 02:49:36,241 - mmdet - INFO - Epoch [9][400/655]\tlr: 2.000e-03, eta: 0:11:25, time: 0.305, data_time: 0.006, memory: 2098, loss_rpn_cls: 0.0303, loss_rpn_bbox: 0.0379, loss_cls: 0.2614, acc: 92.0410, loss_bbox: 0.2532, loss: 0.5827, grad_norm: 1.8977\n",
      "2021-05-10 02:49:51,439 - mmdet - INFO - Epoch [9][450/655]\tlr: 2.000e-03, eta: 0:11:10, time: 0.304, data_time: 0.006, memory: 2098, loss_rpn_cls: 0.0341, loss_rpn_bbox: 0.0462, loss_cls: 0.2705, acc: 91.4414, loss_bbox: 0.2837, loss: 0.6345, grad_norm: 1.9747\n",
      "2021-05-10 02:50:06,684 - mmdet - INFO - Epoch [9][500/655]\tlr: 2.000e-03, eta: 0:10:54, time: 0.305, data_time: 0.006, memory: 2098, loss_rpn_cls: 0.0336, loss_rpn_bbox: 0.0461, loss_cls: 0.2525, acc: 92.0547, loss_bbox: 0.2635, loss: 0.5956, grad_norm: 1.9694\n",
      "2021-05-10 02:50:21,851 - mmdet - INFO - Epoch [9][550/655]\tlr: 2.000e-03, eta: 0:10:39, time: 0.303, data_time: 0.006, memory: 2098, loss_rpn_cls: 0.0284, loss_rpn_bbox: 0.0398, loss_cls: 0.2376, acc: 92.2236, loss_bbox: 0.2619, loss: 0.5678, grad_norm: 1.8975\n",
      "2021-05-10 02:50:37,088 - mmdet - INFO - Epoch [9][600/655]\tlr: 2.000e-03, eta: 0:10:23, time: 0.305, data_time: 0.006, memory: 2098, loss_rpn_cls: 0.0349, loss_rpn_bbox: 0.0474, loss_cls: 0.2728, acc: 91.3965, loss_bbox: 0.2704, loss: 0.6255, grad_norm: 2.0200\n",
      "2021-05-10 02:50:52,367 - mmdet - INFO - Epoch [9][650/655]\tlr: 2.000e-03, eta: 0:10:08, time: 0.306, data_time: 0.006, memory: 2098, loss_rpn_cls: 0.0337, loss_rpn_bbox: 0.0502, loss_cls: 0.2644, acc: 91.2822, loss_bbox: 0.2910, loss: 0.6393, grad_norm: 2.0615\n",
      "2021-05-10 02:50:53,985 - mmdet - INFO - Saving checkpoint at 9 epochs\n"
     ]
    },
    {
     "name": "stdout",
     "output_type": "stream",
     "text": [
      "[>>>>>>>>>>>>>>>>>>>>>>>>>>>>>] 655/655, 22.5 task/s, elapsed: 29s, ETA:     0s"
     ]
    },
    {
     "name": "stderr",
     "output_type": "stream",
     "text": [
      "2021-05-10 02:51:25,566 - mmdet - INFO - Evaluating bbox...\n"
     ]
    },
    {
     "name": "stdout",
     "output_type": "stream",
     "text": [
      "Loading and preparing results...\n",
      "DONE (t=0.59s)\n",
      "creating index...\n",
      "index created!\n",
      "Running per image evaluation...\n",
      "Evaluate annotation type *bbox*\n",
      "DONE (t=5.96s).\n",
      "Accumulating evaluation results...\n"
     ]
    },
    {
     "name": "stderr",
     "output_type": "stream",
     "text": [
      "2021-05-10 02:51:33,024 - mmdet - INFO - Epoch(val) [9][655]\tbbox_mAP: 0.1480, bbox_mAP_50: 0.2670, bbox_mAP_75: 0.1410, bbox_mAP_s: 0.0360, bbox_mAP_m: 0.1380, bbox_mAP_l: 0.2790, bbox_mAP_copypaste: 0.148 0.267 0.141 0.036 0.138 0.279\n"
     ]
    },
    {
     "name": "stdout",
     "output_type": "stream",
     "text": [
      "DONE (t=0.83s).\n",
      "Average Precision  (AP) @[ IoU=0.50:0.95 | area=   all | maxDets=100 ] = 0.148\n",
      "Average Precision  (AP) @[ IoU=0.50      | area=   all | maxDets=1000 ] = 0.267\n",
      "Average Precision  (AP) @[ IoU=0.75      | area=   all | maxDets=1000 ] = 0.141\n",
      "Average Precision  (AP) @[ IoU=0.50:0.95 | area= small | maxDets=1000 ] = 0.036\n",
      "Average Precision  (AP) @[ IoU=0.50:0.95 | area=medium | maxDets=1000 ] = 0.138\n",
      "Average Precision  (AP) @[ IoU=0.50:0.95 | area= large | maxDets=1000 ] = 0.279\n",
      "Average Recall     (AR) @[ IoU=0.50:0.95 | area=   all | maxDets=100 ] = 0.293\n",
      "Average Recall     (AR) @[ IoU=0.50:0.95 | area=   all | maxDets=300 ] = 0.293\n",
      "Average Recall     (AR) @[ IoU=0.50:0.95 | area=   all | maxDets=1000 ] = 0.293\n",
      "Average Recall     (AR) @[ IoU=0.50:0.95 | area= small | maxDets=1000 ] = 0.104\n",
      "Average Recall     (AR) @[ IoU=0.50:0.95 | area=medium | maxDets=1000 ] = 0.273\n",
      "Average Recall     (AR) @[ IoU=0.50:0.95 | area= large | maxDets=1000 ] = 0.520\n"
     ]
    },
    {
     "name": "stderr",
     "output_type": "stream",
     "text": [
      "2021-05-10 02:51:50,634 - mmdet - INFO - Epoch [10][50/655]\tlr: 2.000e-03, eta: 0:09:51, time: 0.352, data_time: 0.050, memory: 2098, loss_rpn_cls: 0.0338, loss_rpn_bbox: 0.0477, loss_cls: 0.2633, acc: 91.3438, loss_bbox: 0.2907, loss: 0.6354, grad_norm: 2.0512\n",
      "2021-05-10 02:52:05,915 - mmdet - INFO - Epoch [10][100/655]\tlr: 2.000e-03, eta: 0:09:35, time: 0.306, data_time: 0.006, memory: 2098, loss_rpn_cls: 0.0304, loss_rpn_bbox: 0.0461, loss_cls: 0.2519, acc: 91.9316, loss_bbox: 0.2730, loss: 0.6014, grad_norm: 1.9448\n",
      "2021-05-10 02:52:21,119 - mmdet - INFO - Epoch [10][150/655]\tlr: 2.000e-03, eta: 0:09:20, time: 0.304, data_time: 0.006, memory: 2098, loss_rpn_cls: 0.0302, loss_rpn_bbox: 0.0413, loss_cls: 0.2565, acc: 91.9473, loss_bbox: 0.2705, loss: 0.5984, grad_norm: 2.0116\n",
      "2021-05-10 02:52:36,465 - mmdet - INFO - Epoch [10][200/655]\tlr: 2.000e-03, eta: 0:09:04, time: 0.307, data_time: 0.006, memory: 2098, loss_rpn_cls: 0.0280, loss_rpn_bbox: 0.0384, loss_cls: 0.2532, acc: 91.9395, loss_bbox: 0.2686, loss: 0.5882, grad_norm: 2.0506\n",
      "2021-05-10 02:52:52,796 - mmdet - INFO - Epoch [10][250/655]\tlr: 2.000e-03, eta: 0:08:49, time: 0.327, data_time: 0.006, memory: 2098, loss_rpn_cls: 0.0290, loss_rpn_bbox: 0.0423, loss_cls: 0.2594, acc: 91.7100, loss_bbox: 0.2637, loss: 0.5944, grad_norm: 2.0386\n",
      "2021-05-10 02:53:09,095 - mmdet - INFO - Epoch [10][300/655]\tlr: 2.000e-03, eta: 0:08:34, time: 0.326, data_time: 0.006, memory: 2098, loss_rpn_cls: 0.0279, loss_rpn_bbox: 0.0436, loss_cls: 0.2498, acc: 91.7812, loss_bbox: 0.2646, loss: 0.5858, grad_norm: 1.9988\n",
      "2021-05-10 02:53:25,389 - mmdet - INFO - Epoch [10][350/655]\tlr: 2.000e-03, eta: 0:08:19, time: 0.326, data_time: 0.006, memory: 2098, loss_rpn_cls: 0.0307, loss_rpn_bbox: 0.0497, loss_cls: 0.2718, acc: 91.4375, loss_bbox: 0.2807, loss: 0.6329, grad_norm: 2.0434\n",
      "2021-05-10 02:53:41,712 - mmdet - INFO - Epoch [10][400/655]\tlr: 2.000e-03, eta: 0:08:03, time: 0.326, data_time: 0.006, memory: 2098, loss_rpn_cls: 0.0294, loss_rpn_bbox: 0.0423, loss_cls: 0.2387, acc: 92.4561, loss_bbox: 0.2437, loss: 0.5541, grad_norm: 1.9662\n",
      "2021-05-10 02:53:58,081 - mmdet - INFO - Epoch [10][450/655]\tlr: 2.000e-03, eta: 0:07:48, time: 0.327, data_time: 0.006, memory: 2098, loss_rpn_cls: 0.0314, loss_rpn_bbox: 0.0433, loss_cls: 0.2420, acc: 92.0518, loss_bbox: 0.2747, loss: 0.5914, grad_norm: 2.1033\n",
      "2021-05-10 02:54:14,356 - mmdet - INFO - Epoch [10][500/655]\tlr: 2.000e-03, eta: 0:07:33, time: 0.325, data_time: 0.006, memory: 2098, loss_rpn_cls: 0.0286, loss_rpn_bbox: 0.0364, loss_cls: 0.2456, acc: 92.0303, loss_bbox: 0.2689, loss: 0.5795, grad_norm: 2.0927\n",
      "2021-05-10 02:54:30,653 - mmdet - INFO - Epoch [10][550/655]\tlr: 2.000e-03, eta: 0:07:18, time: 0.326, data_time: 0.006, memory: 2098, loss_rpn_cls: 0.0273, loss_rpn_bbox: 0.0436, loss_cls: 0.2533, acc: 91.9346, loss_bbox: 0.2623, loss: 0.5865, grad_norm: 1.9700\n",
      "2021-05-10 02:54:46,976 - mmdet - INFO - Epoch [10][600/655]\tlr: 2.000e-03, eta: 0:07:02, time: 0.326, data_time: 0.006, memory: 2098, loss_rpn_cls: 0.0262, loss_rpn_bbox: 0.0378, loss_cls: 0.2306, acc: 92.6006, loss_bbox: 0.2446, loss: 0.5391, grad_norm: 1.9385\n",
      "2021-05-10 02:55:03,320 - mmdet - INFO - Epoch [10][650/655]\tlr: 2.000e-03, eta: 0:06:47, time: 0.327, data_time: 0.006, memory: 2098, loss_rpn_cls: 0.0298, loss_rpn_bbox: 0.0482, loss_cls: 0.2684, acc: 91.2910, loss_bbox: 0.2888, loss: 0.6352, grad_norm: 2.1044\n",
      "2021-05-10 02:55:05,014 - mmdet - INFO - Saving checkpoint at 10 epochs\n"
     ]
    },
    {
     "name": "stdout",
     "output_type": "stream",
     "text": [
      "[>>>>>>>>>>>>>>>>>>>>>>>>>>>>>] 655/655, 21.7 task/s, elapsed: 30s, ETA:     0s"
     ]
    },
    {
     "name": "stderr",
     "output_type": "stream",
     "text": [
      "2021-05-10 02:55:37,692 - mmdet - INFO - Evaluating bbox...\n"
     ]
    },
    {
     "name": "stdout",
     "output_type": "stream",
     "text": [
      "Loading and preparing results...\n",
      "DONE (t=0.56s)\n",
      "creating index...\n",
      "index created!\n",
      "Running per image evaluation...\n",
      "Evaluate annotation type *bbox*\n",
      "DONE (t=5.83s).\n",
      "Accumulating evaluation results...\n"
     ]
    },
    {
     "name": "stderr",
     "output_type": "stream",
     "text": [
      "2021-05-10 02:55:45,022 - mmdet - INFO - Epoch(val) [10][655]\tbbox_mAP: 0.1540, bbox_mAP_50: 0.2740, bbox_mAP_75: 0.1470, bbox_mAP_s: 0.0360, bbox_mAP_m: 0.1390, bbox_mAP_l: 0.2970, bbox_mAP_copypaste: 0.154 0.274 0.147 0.036 0.139 0.297\n"
     ]
    },
    {
     "name": "stdout",
     "output_type": "stream",
     "text": [
      "DONE (t=0.86s).\n",
      "Average Precision  (AP) @[ IoU=0.50:0.95 | area=   all | maxDets=100 ] = 0.154\n",
      "Average Precision  (AP) @[ IoU=0.50      | area=   all | maxDets=1000 ] = 0.274\n",
      "Average Precision  (AP) @[ IoU=0.75      | area=   all | maxDets=1000 ] = 0.147\n",
      "Average Precision  (AP) @[ IoU=0.50:0.95 | area= small | maxDets=1000 ] = 0.036\n",
      "Average Precision  (AP) @[ IoU=0.50:0.95 | area=medium | maxDets=1000 ] = 0.139\n",
      "Average Precision  (AP) @[ IoU=0.50:0.95 | area= large | maxDets=1000 ] = 0.297\n",
      "Average Recall     (AR) @[ IoU=0.50:0.95 | area=   all | maxDets=100 ] = 0.301\n",
      "Average Recall     (AR) @[ IoU=0.50:0.95 | area=   all | maxDets=300 ] = 0.301\n",
      "Average Recall     (AR) @[ IoU=0.50:0.95 | area=   all | maxDets=1000 ] = 0.301\n",
      "Average Recall     (AR) @[ IoU=0.50:0.95 | area= small | maxDets=1000 ] = 0.108\n",
      "Average Recall     (AR) @[ IoU=0.50:0.95 | area=medium | maxDets=1000 ] = 0.277\n",
      "Average Recall     (AR) @[ IoU=0.50:0.95 | area= large | maxDets=1000 ] = 0.548\n"
     ]
    },
    {
     "name": "stderr",
     "output_type": "stream",
     "text": [
      "2021-05-10 02:56:02,615 - mmdet - INFO - Epoch [11][50/655]\tlr: 2.000e-03, eta: 0:06:30, time: 0.352, data_time: 0.050, memory: 2098, loss_rpn_cls: 0.0299, loss_rpn_bbox: 0.0450, loss_cls: 0.2499, acc: 91.8623, loss_bbox: 0.2811, loss: 0.6059, grad_norm: 2.0202\n",
      "2021-05-10 02:56:17,964 - mmdet - INFO - Epoch [11][100/655]\tlr: 2.000e-03, eta: 0:06:15, time: 0.307, data_time: 0.006, memory: 2098, loss_rpn_cls: 0.0229, loss_rpn_bbox: 0.0372, loss_cls: 0.2296, acc: 92.6279, loss_bbox: 0.2478, loss: 0.5376, grad_norm: 2.0112\n",
      "2021-05-10 02:56:33,424 - mmdet - INFO - Epoch [11][150/655]\tlr: 2.000e-03, eta: 0:05:59, time: 0.309, data_time: 0.006, memory: 2098, loss_rpn_cls: 0.0231, loss_rpn_bbox: 0.0371, loss_cls: 0.2274, acc: 92.6416, loss_bbox: 0.2468, loss: 0.5344, grad_norm: 1.9888\n",
      "2021-05-10 02:56:48,722 - mmdet - INFO - Epoch [11][200/655]\tlr: 2.000e-03, eta: 0:05:44, time: 0.306, data_time: 0.006, memory: 2098, loss_rpn_cls: 0.0306, loss_rpn_bbox: 0.0437, loss_cls: 0.2471, acc: 91.9346, loss_bbox: 0.2749, loss: 0.5964, grad_norm: 2.0911\n",
      "2021-05-10 02:57:04,156 - mmdet - INFO - Epoch [11][250/655]\tlr: 2.000e-03, eta: 0:05:28, time: 0.309, data_time: 0.006, memory: 2098, loss_rpn_cls: 0.0224, loss_rpn_bbox: 0.0418, loss_cls: 0.2332, acc: 92.3311, loss_bbox: 0.2572, loss: 0.5546, grad_norm: 2.0050\n",
      "2021-05-10 02:57:19,523 - mmdet - INFO - Epoch [11][300/655]\tlr: 2.000e-03, eta: 0:05:12, time: 0.307, data_time: 0.006, memory: 2098, loss_rpn_cls: 0.0308, loss_rpn_bbox: 0.0463, loss_cls: 0.2423, acc: 92.1670, loss_bbox: 0.2659, loss: 0.5853, grad_norm: 2.0571\n",
      "2021-05-10 02:57:34,927 - mmdet - INFO - Epoch [11][350/655]\tlr: 2.000e-03, eta: 0:04:57, time: 0.308, data_time: 0.006, memory: 2098, loss_rpn_cls: 0.0261, loss_rpn_bbox: 0.0450, loss_cls: 0.2523, acc: 91.9199, loss_bbox: 0.2739, loss: 0.5974, grad_norm: 2.1675\n",
      "2021-05-10 02:57:50,295 - mmdet - INFO - Epoch [11][400/655]\tlr: 2.000e-03, eta: 0:04:41, time: 0.307, data_time: 0.006, memory: 2098, loss_rpn_cls: 0.0262, loss_rpn_bbox: 0.0407, loss_cls: 0.2338, acc: 92.4375, loss_bbox: 0.2589, loss: 0.5596, grad_norm: 2.0404\n",
      "2021-05-10 02:58:05,945 - mmdet - INFO - Epoch [11][450/655]\tlr: 2.000e-03, eta: 0:04:26, time: 0.313, data_time: 0.006, memory: 2098, loss_rpn_cls: 0.0254, loss_rpn_bbox: 0.0416, loss_cls: 0.2286, acc: 92.2783, loss_bbox: 0.2598, loss: 0.5554, grad_norm: 2.0879\n",
      "2021-05-10 02:58:21,316 - mmdet - INFO - Epoch [11][500/655]\tlr: 2.000e-03, eta: 0:04:10, time: 0.307, data_time: 0.006, memory: 2098, loss_rpn_cls: 0.0287, loss_rpn_bbox: 0.0481, loss_cls: 0.2539, acc: 91.7451, loss_bbox: 0.2750, loss: 0.6057, grad_norm: 2.1319\n",
      "2021-05-10 02:58:36,733 - mmdet - INFO - Epoch [11][550/655]\tlr: 2.000e-03, eta: 0:03:55, time: 0.308, data_time: 0.006, memory: 2098, loss_rpn_cls: 0.0268, loss_rpn_bbox: 0.0440, loss_cls: 0.2499, acc: 92.1064, loss_bbox: 0.2666, loss: 0.5873, grad_norm: 2.1021\n",
      "2021-05-10 02:58:52,150 - mmdet - INFO - Epoch [11][600/655]\tlr: 2.000e-03, eta: 0:03:39, time: 0.308, data_time: 0.006, memory: 2098, loss_rpn_cls: 0.0271, loss_rpn_bbox: 0.0402, loss_cls: 0.2327, acc: 92.3809, loss_bbox: 0.2511, loss: 0.5511, grad_norm: 2.1294\n",
      "2021-05-10 02:59:07,659 - mmdet - INFO - Epoch [11][650/655]\tlr: 2.000e-03, eta: 0:03:24, time: 0.310, data_time: 0.006, memory: 2098, loss_rpn_cls: 0.0212, loss_rpn_bbox: 0.0361, loss_cls: 0.2289, acc: 92.6836, loss_bbox: 0.2411, loss: 0.5273, grad_norm: 2.0850\n",
      "2021-05-10 02:59:09,239 - mmdet - INFO - Saving checkpoint at 11 epochs\n"
     ]
    },
    {
     "name": "stdout",
     "output_type": "stream",
     "text": [
      "[>>>>>>>>>>>>>>>>>>>>>>>>>>>>>] 655/655, 22.7 task/s, elapsed: 29s, ETA:     0s"
     ]
    },
    {
     "name": "stderr",
     "output_type": "stream",
     "text": [
      "2021-05-10 02:59:40,574 - mmdet - INFO - Evaluating bbox...\n"
     ]
    },
    {
     "name": "stdout",
     "output_type": "stream",
     "text": [
      "Loading and preparing results...\n",
      "DONE (t=0.10s)\n",
      "creating index...\n",
      "index created!\n",
      "Running per image evaluation...\n",
      "Evaluate annotation type *bbox*\n",
      "DONE (t=5.63s).\n",
      "Accumulating evaluation results...\n"
     ]
    },
    {
     "name": "stderr",
     "output_type": "stream",
     "text": [
      "2021-05-10 02:59:47,184 - mmdet - INFO - Epoch(val) [11][655]\tbbox_mAP: 0.1640, bbox_mAP_50: 0.2900, bbox_mAP_75: 0.1550, bbox_mAP_s: 0.0340, bbox_mAP_m: 0.1460, bbox_mAP_l: 0.3040, bbox_mAP_copypaste: 0.164 0.290 0.155 0.034 0.146 0.304\n"
     ]
    },
    {
     "name": "stdout",
     "output_type": "stream",
     "text": [
      "DONE (t=0.80s).\n",
      "Average Precision  (AP) @[ IoU=0.50:0.95 | area=   all | maxDets=100 ] = 0.164\n",
      "Average Precision  (AP) @[ IoU=0.50      | area=   all | maxDets=1000 ] = 0.290\n",
      "Average Precision  (AP) @[ IoU=0.75      | area=   all | maxDets=1000 ] = 0.155\n",
      "Average Precision  (AP) @[ IoU=0.50:0.95 | area= small | maxDets=1000 ] = 0.034\n",
      "Average Precision  (AP) @[ IoU=0.50:0.95 | area=medium | maxDets=1000 ] = 0.146\n",
      "Average Precision  (AP) @[ IoU=0.50:0.95 | area= large | maxDets=1000 ] = 0.304\n",
      "Average Recall     (AR) @[ IoU=0.50:0.95 | area=   all | maxDets=100 ] = 0.315\n",
      "Average Recall     (AR) @[ IoU=0.50:0.95 | area=   all | maxDets=300 ] = 0.315\n",
      "Average Recall     (AR) @[ IoU=0.50:0.95 | area=   all | maxDets=1000 ] = 0.315\n",
      "Average Recall     (AR) @[ IoU=0.50:0.95 | area= small | maxDets=1000 ] = 0.102\n",
      "Average Recall     (AR) @[ IoU=0.50:0.95 | area=medium | maxDets=1000 ] = 0.288\n",
      "Average Recall     (AR) @[ IoU=0.50:0.95 | area= large | maxDets=1000 ] = 0.545\n"
     ]
    },
    {
     "name": "stderr",
     "output_type": "stream",
     "text": [
      "2021-05-10 03:01:52,808 - mmdet - INFO - Epoch [12][400/655]\tlr: 2.000e-04, eta: 0:01:19, time: 0.306, data_time: 0.006, memory: 2098, loss_rpn_cls: 0.0246, loss_rpn_bbox: 0.0407, loss_cls: 0.2313, acc: 92.5381, loss_bbox: 0.2496, loss: 0.5462, grad_norm: 2.0619\n",
      "2021-05-10 03:02:08,028 - mmdet - INFO - Epoch [12][450/655]\tlr: 2.000e-04, eta: 0:01:03, time: 0.304, data_time: 0.006, memory: 2098, loss_rpn_cls: 0.0245, loss_rpn_bbox: 0.0388, loss_cls: 0.2106, acc: 93.1738, loss_bbox: 0.2447, loss: 0.5186, grad_norm: 1.9309\n",
      "2021-05-10 03:02:23,274 - mmdet - INFO - Epoch [12][500/655]\tlr: 2.000e-04, eta: 0:00:48, time: 0.305, data_time: 0.006, memory: 2098, loss_rpn_cls: 0.0269, loss_rpn_bbox: 0.0423, loss_cls: 0.2276, acc: 92.5791, loss_bbox: 0.2575, loss: 0.5544, grad_norm: 1.9643\n",
      "2021-05-10 03:02:38,487 - mmdet - INFO - Epoch [12][550/655]\tlr: 2.000e-04, eta: 0:00:32, time: 0.304, data_time: 0.006, memory: 2098, loss_rpn_cls: 0.0208, loss_rpn_bbox: 0.0406, loss_cls: 0.2244, acc: 92.5820, loss_bbox: 0.2485, loss: 0.5343, grad_norm: 1.9654\n",
      "2021-05-10 03:02:53,790 - mmdet - INFO - Epoch [12][600/655]\tlr: 2.000e-04, eta: 0:00:17, time: 0.306, data_time: 0.006, memory: 2098, loss_rpn_cls: 0.0227, loss_rpn_bbox: 0.0346, loss_cls: 0.2132, acc: 92.9277, loss_bbox: 0.2388, loss: 0.5093, grad_norm: 1.9421\n",
      "2021-05-10 03:03:09,108 - mmdet - INFO - Epoch [12][650/655]\tlr: 2.000e-04, eta: 0:00:01, time: 0.306, data_time: 0.006, memory: 2098, loss_rpn_cls: 0.0237, loss_rpn_bbox: 0.0456, loss_cls: 0.2362, acc: 92.1055, loss_bbox: 0.2740, loss: 0.5796, grad_norm: 2.1002\n",
      "2021-05-10 03:03:10,713 - mmdet - INFO - Saving checkpoint at 12 epochs\n"
     ]
    },
    {
     "name": "stdout",
     "output_type": "stream",
     "text": [
      "[>>>>>>>>>>>>>>>>>>>>>>>>>>>>>] 655/655, 23.0 task/s, elapsed: 28s, ETA:     0s"
     ]
    },
    {
     "name": "stderr",
     "output_type": "stream",
     "text": [
      "2021-05-10 03:03:42,031 - mmdet - INFO - Evaluating bbox...\n"
     ]
    },
    {
     "name": "stdout",
     "output_type": "stream",
     "text": [
      "Loading and preparing results...\n",
      "DONE (t=0.52s)\n",
      "creating index...\n",
      "index created!\n",
      "Running per image evaluation...\n",
      "Evaluate annotation type *bbox*\n",
      "DONE (t=5.02s).\n",
      "Accumulating evaluation results...\n"
     ]
    },
    {
     "name": "stderr",
     "output_type": "stream",
     "text": [
      "2021-05-10 03:03:48,421 - mmdet - INFO - Epoch(val) [12][655]\tbbox_mAP: 0.1600, bbox_mAP_50: 0.2840, bbox_mAP_75: 0.1540, bbox_mAP_s: 0.0370, bbox_mAP_m: 0.1480, bbox_mAP_l: 0.3080, bbox_mAP_copypaste: 0.160 0.284 0.154 0.037 0.148 0.308\n"
     ]
    },
    {
     "name": "stdout",
     "output_type": "stream",
     "text": [
      "DONE (t=0.78s).\n",
      "Average Precision  (AP) @[ IoU=0.50:0.95 | area=   all | maxDets=100 ] = 0.160\n",
      "Average Precision  (AP) @[ IoU=0.50      | area=   all | maxDets=1000 ] = 0.284\n",
      "Average Precision  (AP) @[ IoU=0.75      | area=   all | maxDets=1000 ] = 0.154\n",
      "Average Precision  (AP) @[ IoU=0.50:0.95 | area= small | maxDets=1000 ] = 0.037\n",
      "Average Precision  (AP) @[ IoU=0.50:0.95 | area=medium | maxDets=1000 ] = 0.148\n",
      "Average Precision  (AP) @[ IoU=0.50:0.95 | area= large | maxDets=1000 ] = 0.308\n",
      "Average Recall     (AR) @[ IoU=0.50:0.95 | area=   all | maxDets=100 ] = 0.311\n",
      "Average Recall     (AR) @[ IoU=0.50:0.95 | area=   all | maxDets=300 ] = 0.311\n",
      "Average Recall     (AR) @[ IoU=0.50:0.95 | area=   all | maxDets=1000 ] = 0.311\n",
      "Average Recall     (AR) @[ IoU=0.50:0.95 | area= small | maxDets=1000 ] = 0.104\n",
      "Average Recall     (AR) @[ IoU=0.50:0.95 | area=medium | maxDets=1000 ] = 0.284\n",
      "Average Recall     (AR) @[ IoU=0.50:0.95 | area= large | maxDets=1000 ] = 0.537\n"
     ]
    }
   ],
   "source": [
    "train_detector(model, datasets[0], cfg, distributed=False, validate=True)"
   ]
  }
 ],
 "metadata": {
  "kernelspec": {
   "display_name": "Python 3",
   "language": "python",
   "name": "python3"
  },
  "language_info": {
   "codemirror_mode": {
    "name": "ipython",
    "version": 3
   },
   "file_extension": ".py",
   "mimetype": "text/x-python",
   "name": "python",
   "nbconvert_exporter": "python",
   "pygments_lexer": "ipython3",
   "version": "3.7.7"
  },
  "pycharm": {
   "stem_cell": {
    "cell_type": "raw",
    "metadata": {
     "collapsed": false
    },
    "source": []
   }
  }
 },
 "nbformat": 4,
 "nbformat_minor": 4
}
